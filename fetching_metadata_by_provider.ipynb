{
 "cells": [
  {
   "cell_type": "code",
   "execution_count": 1,
   "metadata": {},
   "outputs": [],
   "source": [
    "import json\n",
    "import os"
   ]
  },
  {
   "cell_type": "code",
   "execution_count": 9,
   "metadata": {},
   "outputs": [],
   "source": [
    "def read_datasets():\n",
    "    datasets_json_path = '/Users/sophierand/RichContextMetadata/datasets.json'\n",
    "    with open(datasets_json_path) as json_file:\n",
    "        datasets_json = json.load(json_file)\n",
    "    return datasets_json"
   ]
  },
  {
   "cell_type": "code",
   "execution_count": 10,
   "metadata": {},
   "outputs": [],
   "source": [
    "datasets = read_datasets()"
   ]
  },
  {
   "cell_type": "code",
   "execution_count": 12,
   "metadata": {},
   "outputs": [],
   "source": [
    "owner_list = ['Deutsche Bundesbank',\"United States Department of Agriculture (USDA)\"]\n",
    "bb_usda_datasets = []\n",
    "for d in datasets:\n",
    "    try:\n",
    "        owner = d['data_steward']\n",
    "        if owner in owner_list:\n",
    "            bb_usda_datasets.append(d)\n",
    "    except:\n",
    "        try:\n",
    "            owner = d['data_provider']\n",
    "            if owner in owner_list:\n",
    "                bb_usda_datasets.append(d)\n",
    "        except:\n",
    "            pass"
   ]
  },
  {
   "cell_type": "code",
   "execution_count": 14,
   "metadata": {},
   "outputs": [
    {
     "data": {
      "text/plain": [
       "15"
      ]
     },
     "execution_count": 14,
     "metadata": {},
     "output_type": "execute_result"
    }
   ],
   "source": [
    "len(bb_usda_datasets)"
   ]
  },
  {
   "cell_type": "code",
   "execution_count": 17,
   "metadata": {},
   "outputs": [
    {
     "data": {
      "text/plain": [
       "{'access_requirements': 'OnSite',\n",
       " 'source_url': nan,\n",
       " 'data_classification': 'Restricted',\n",
       " 'data_provider': 'Deutsche Bundesbank, Statistics Department (S), Monetary and financial statistics (S 1), External positions of banks (S 12)',\n",
       " 'data_steward': 'Deutsche Bundesbank',\n",
       " 'adrf_id': nan,\n",
       " 'geographical_coverage': 'Worldwide',\n",
       " 'geographical_unit': nan,\n",
       " 'category': 'BalanceSheet,BanksDepositoryInstitutions,InternationalBusiness',\n",
       " 'temporal_coverage_end': '2016-12',\n",
       " 'dataset_citation': 'Deutsche Bundesbank 2017. External Position of Banks. https://www.bundesbank.de/Redaktion/EN/Standardartikel/Bundesbank/Research_Centre/research_data_micro_data_external_position.html, 1 [Version].',\n",
       " 'external_id': 'inexda.4.1',\n",
       " 'data_usage_policy': nan,\n",
       " 'filenames': nan,\n",
       " 'access_actions_required': nan,\n",
       " 'reference_url': 'https://www.bundesbank.de/Redaktion/EN/Standardartikel/Bundesbank/Research_Centre/research_data_micro_data_external_position.html',\n",
       " 'data_steward_org': 'Deutsche Bundesbank, Statistics Department (S), Monetary and financial statistics (S 1), External positions of banks (S 12)',\n",
       " 'keywords': 'MFI,banks,loans,External position of banks',\n",
       " 'temporal_coverage_start': '2002-03',\n",
       " 'title': 'External Position of Banks',\n",
       " 'dataset_version': 1,\n",
       " 'old_alias': 'AUSTA',\n",
       " 'alias': 'AUSTA',\n",
       " 'dataset_documentation': nan,\n",
       " 'dataset_header_desc': nan,\n",
       " 'description': 'The external position of banks shows the assets and liabilities of banks in Germany and their foreign branches and subsidiaries vis-à-vis non-residents. The microdatabase is based on the individual monthly reports of all German banks dating back to January 2003.',\n",
       " 'related_articles': nan,\n",
       " 'source_archive': 'Deutsche Bundesbank Research Data Centre',\n",
       " 'dataset_id': 'dataset-ce94635bb2109ddf8f24',\n",
       " 'dataset_id_metadata': {'dataset_id': 'dataset-ce94635bb2109ddf8f24',\n",
       "  'hashed_columns': ['data_provider', 'data_steward', 'title'],\n",
       "  'date_created': '2019-09-01'}}"
      ]
     },
     "execution_count": 17,
     "metadata": {},
     "output_type": "execute_result"
    }
   ],
   "source": [
    "bb_usda_datasets[0]"
   ]
  },
  {
   "cell_type": "code",
   "execution_count": null,
   "metadata": {},
   "outputs": [],
   "source": []
  },
  {
   "cell_type": "code",
   "execution_count": null,
   "metadata": {},
   "outputs": [],
   "source": []
  },
  {
   "cell_type": "code",
   "execution_count": null,
   "metadata": {},
   "outputs": [],
   "source": []
  },
  {
   "cell_type": "code",
   "execution_count": 6,
   "metadata": {},
   "outputs": [],
   "source": [
    "def read_publications():\n",
    "    publication_json_path = '/Users/sophierand/RichContextMetadata/publications.json'\n",
    "#     publication_json_path = '/Users/sophierand/RichContextMetadata/publications_lim.json'\n",
    "    with open(publication_json_path) as json_file:\n",
    "        publications_json = json.load(json_file)\n",
    "    return publications_json"
   ]
  },
  {
   "cell_type": "code",
   "execution_count": 7,
   "metadata": {},
   "outputs": [],
   "source": [
    "publications = read_publications()"
   ]
  },
  {
   "cell_type": "code",
   "execution_count": 9,
   "metadata": {},
   "outputs": [
    {
     "data": {
      "text/plain": [
       "dict_keys(['title', 'research_org_state_names', 'volume', 'type', 'year', 'pages', 'open_access_categories', 'research_orgs', 'journal_lists', 'doi', 'pmid', 'journal', 'reference_ids', 'references', 'funder_countries', 'terms', 'concepts', 'research_org_cities', 'date', 'category_bra', 'FOR_first', 'date_inserted', 'category_hra', 'funders', 'publisher', 'author_affiliations', 'category_for', 'issn', 'issue', 'id', 'altmetric', 'altmetric_id', 'research_org_state_codes', 'research_org_countries', 'research_org_country_names', 'FOR', 'related_dataset', 'pub_id'])"
      ]
     },
     "execution_count": 9,
     "metadata": {},
     "output_type": "execute_result"
    }
   ],
   "source": [
    "publications[0].keys()"
   ]
  },
  {
   "cell_type": "code",
   "execution_count": 15,
   "metadata": {},
   "outputs": [
    {
     "data": {
      "text/plain": [
       "dict_keys(['first_name', 'last_name', 'orcid', 'current_organization_id', 'researcher_id', 'affiliations'])"
      ]
     },
     "execution_count": 15,
     "metadata": {},
     "output_type": "execute_result"
    }
   ],
   "source": [
    "publications[0]['author_affiliations'][0][0].keys()"
   ]
  },
  {
   "cell_type": "code",
   "execution_count": 5,
   "metadata": {},
   "outputs": [],
   "source": [
    "datasets = read_datasets()"
   ]
  },
  {
   "cell_type": "code",
   "execution_count": 16,
   "metadata": {},
   "outputs": [],
   "source": [
    "bb_datasets = []\n",
    "for d in datasets:\n",
    "    try:\n",
    "        d['data_steward']\n",
    "        if d['data_steward'] == 'Deutsche Bundesbank':\n",
    "            bb_datasets.append(d['dataset_id'])\n",
    "    except:\n",
    "        pass\n",
    "bb_datasets = list(set(bb_datasets))\n",
    "# bb_datasets = [d for d in datasets if d['data_steward'] == 'Deutsche Bundesbank']"
   ]
  },
  {
   "cell_type": "code",
   "execution_count": 18,
   "metadata": {},
   "outputs": [],
   "source": [
    "# bb_datasets"
   ]
  },
  {
   "cell_type": "code",
   "execution_count": 25,
   "metadata": {},
   "outputs": [],
   "source": [
    "bb_pubs =list(set([(p['pub_id'],p['title']) for p in publications if p['related_dataset'] in bb_datasets]))"
   ]
  },
  {
   "cell_type": "code",
   "execution_count": 26,
   "metadata": {},
   "outputs": [
    {
     "data": {
      "text/plain": [
       "264"
      ]
     },
     "execution_count": 26,
     "metadata": {},
     "output_type": "execute_result"
    }
   ],
   "source": [
    "len(bb_pubs)"
   ]
  },
  {
   "cell_type": "code",
   "execution_count": null,
   "metadata": {},
   "outputs": [],
   "source": [
    "dataset.json\n",
    "publications_lim.json\n",
    "\n",
    "datasets = \n"
   ]
  }
 ],
 "metadata": {
  "kernelspec": {
   "display_name": "Python 3",
   "language": "python",
   "name": "python3"
  },
  "language_info": {
   "codemirror_mode": {
    "name": "ipython",
    "version": 3
   },
   "file_extension": ".py",
   "mimetype": "text/x-python",
   "name": "python",
   "nbconvert_exporter": "python",
   "pygments_lexer": "ipython3",
   "version": "3.7.3"
  }
 },
 "nbformat": 4,
 "nbformat_minor": 2
}
