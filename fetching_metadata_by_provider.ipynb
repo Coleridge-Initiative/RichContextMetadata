{
 "cells": [
  {
   "cell_type": "code",
   "execution_count": 1,
   "metadata": {},
   "outputs": [],
   "source": [
    "import json\n",
    "import os"
   ]
  },
  {
   "cell_type": "code",
   "execution_count": 4,
   "metadata": {},
   "outputs": [],
   "source": [
    "def read_datasets():\n",
    "    datasets_json_path = '/Users/sophierand/RichContextMetadata/datasets.json'\n",
    "    with open(datasets_json_path) as json_file:\n",
    "        datasets_json = json.load(json_file)\n",
    "    return datasets_json"
   ]
  },
  {
   "cell_type": "code",
   "execution_count": 2,
   "metadata": {},
   "outputs": [],
   "source": [
    "def read_publications():\n",
    "    publication_json_path = '/Users/sophierand/RichContextMetadata/publications_lim.json'\n",
    "    with open(publication_json_path) as json_file:\n",
    "        publications_json = json.load(json_file)\n",
    "    return publications_json"
   ]
  },
  {
   "cell_type": "code",
   "execution_count": 3,
   "metadata": {},
   "outputs": [],
   "source": [
    "publications = read_publications()"
   ]
  },
  {
   "cell_type": "code",
   "execution_count": 5,
   "metadata": {},
   "outputs": [],
   "source": [
    "datasets = read_datasets()"
   ]
  },
  {
   "cell_type": "code",
   "execution_count": 16,
   "metadata": {},
   "outputs": [],
   "source": [
    "bb_datasets = []\n",
    "for d in datasets:\n",
    "    try:\n",
    "        d['data_steward']\n",
    "        if d['data_steward'] == 'Deutsche Bundesbank':\n",
    "            bb_datasets.append(d['dataset_id'])\n",
    "    except:\n",
    "        pass\n",
    "bb_datasets = list(set(bb_datasets))\n",
    "# bb_datasets = [d for d in datasets if d['data_steward'] == 'Deutsche Bundesbank']"
   ]
  },
  {
   "cell_type": "code",
   "execution_count": 18,
   "metadata": {},
   "outputs": [],
   "source": [
    "# bb_datasets"
   ]
  },
  {
   "cell_type": "code",
   "execution_count": 25,
   "metadata": {},
   "outputs": [],
   "source": [
    "bb_pubs =list(set([(p['pub_id'],p['title']) for p in publications if p['related_dataset'] in bb_datasets]))"
   ]
  },
  {
   "cell_type": "code",
   "execution_count": 26,
   "metadata": {},
   "outputs": [
    {
     "data": {
      "text/plain": [
       "264"
      ]
     },
     "execution_count": 26,
     "metadata": {},
     "output_type": "execute_result"
    }
   ],
   "source": [
    "len(bb_pubs)"
   ]
  },
  {
   "cell_type": "code",
   "execution_count": null,
   "metadata": {},
   "outputs": [],
   "source": [
    "dataset.json\n",
    "publications_lim.json\n",
    "\n",
    "datasets = \n"
   ]
  }
 ],
 "metadata": {
  "kernelspec": {
   "display_name": "Python 3",
   "language": "python",
   "name": "python3"
  },
  "language_info": {
   "codemirror_mode": {
    "name": "ipython",
    "version": 3
   },
   "file_extension": ".py",
   "mimetype": "text/x-python",
   "name": "python",
   "nbconvert_exporter": "python",
   "pygments_lexer": "ipython3",
   "version": "3.7.3"
  }
 },
 "nbformat": 4,
 "nbformat_minor": 2
}
