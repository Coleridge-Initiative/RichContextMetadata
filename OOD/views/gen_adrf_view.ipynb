{
 "cells": [
  {
   "cell_type": "code",
   "execution_count": 1,
   "metadata": {},
   "outputs": [],
   "source": [
    "import metadata_funs\n",
    "import os\n",
    "import importlib\n",
    "importlib.reload(metadata_funs)\n",
    "import numpy as np\n",
    "import pandas as pd\n",
    "import json\n",
    "import datetime"
   ]
  },
  {
   "cell_type": "code",
   "execution_count": 2,
   "metadata": {},
   "outputs": [],
   "source": [
    "publications = metadata_funs.read_pubs()\n",
    "publications_df = pd.DataFrame(publications)\n",
    "publications_df = publications_df.rename(columns = {'pubs':'pub_id'})\n",
    "publications_df = publications_df[['doi','journal','pub_id','title']].drop_duplicates()\n",
    "publications_df.to_csv('views/publications.tsv',sep='\\t',index=False,header=True)\n",
    "publications_df.to_csv('views/publications.csv',sep=',',index=False,header=True)"
   ]
  },
  {
   "cell_type": "code",
   "execution_count": 3,
   "metadata": {},
   "outputs": [],
   "source": [
    "datasets = metadata_funs.read_datasets()\n",
    "datasets_df = pd.DataFrame(datasets)\n",
    "datasets_df = datasets_df[['dataset_id','adrf_id','title']]\n",
    "datasets_df.to_csv('views/datasets.tsv',sep='\\t',index=False,header=True)\n",
    "datasets_df.to_csv('views/datasets.csv',sep=',',index=False,header=True)"
   ]
  },
  {
   "cell_type": "code",
   "execution_count": 4,
   "metadata": {},
   "outputs": [],
   "source": [
    "publications = metadata_funs.read_pubs()\n",
    "relationships_df = pd.DataFrame(publications)\n",
    "relationships_df = relationships_df.rename(columns = {'pubs':'pub_id'})\n",
    "relationships_df = relationships_df[['pub_id','related_dataset']]\n",
    "relationships_df.to_csv('views/relationships.tsv',sep='\\t',index=False,header=True)\n",
    "relationships_df.to_csv('views/relationships.csv',sep=',',index=False,header=True)"
   ]
  },
  {
   "cell_type": "markdown",
   "metadata": {},
   "source": [
    "1. generate publications.csv without dataset id\n",
    "2. generate datasets.csv \n",
    "3. generate a relationships table"
   ]
  },
  {
   "cell_type": "markdown",
   "metadata": {},
   "source": [
    "### workplan\n",
    "1. spin up alloy but without any data\n",
    "2. write script to ingest the pubs/datasets etc"
   ]
  },
  {
   "cell_type": "code",
   "execution_count": null,
   "metadata": {},
   "outputs": [],
   "source": []
  }
 ],
 "metadata": {
  "kernelspec": {
   "display_name": "Python 3",
   "language": "python",
   "name": "python3"
  },
  "language_info": {
   "codemirror_mode": {
    "name": "ipython",
    "version": 3
   },
   "file_extension": ".py",
   "mimetype": "text/x-python",
   "name": "python",
   "nbconvert_exporter": "python",
   "pygments_lexer": "ipython3",
   "version": "3.7.3"
  }
 },
 "nbformat": 4,
 "nbformat_minor": 2
}
