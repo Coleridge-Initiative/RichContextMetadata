{
 "cells": [
  {
   "cell_type": "code",
   "execution_count": 1,
   "metadata": {},
   "outputs": [],
   "source": [
    "import metadata_funs"
   ]
  },
  {
   "cell_type": "code",
   "execution_count": null,
   "metadata": {},
   "outputs": [],
   "source": [
    "pub_paths = os.path.join(os.getcwd(),'publications_lim.json')\n",
    "\n",
    "\n",
    "with open(pub_paths) as json_file:\n",
    "    data = json.load(json_file)"
   ]
  },
  {
   "cell_type": "code",
   "execution_count": 13,
   "metadata": {},
   "outputs": [],
   "source": [
    "doi = \"10.1177/0042098017740285\"\n",
    "title = \"The healthfulness of food and beverage purchases after the federal food package revisions: The case of two New England states\"\n",
    "journal = \"Urban Studies\""
   ]
  },
  {
   "cell_type": "code",
   "execution_count": 19,
   "metadata": {},
   "outputs": [],
   "source": [
    "doi = \"10.1080/10454446.2018.1428259\"\n",
    "title = \"A comparative analysis of hedonic models of nutrition information and health claims on food products: An application to soup products\"\n",
    "journal = \"Journal of Food Products Marketing\""
   ]
  },
  {
   "cell_type": "code",
   "execution_count": 20,
   "metadata": {},
   "outputs": [],
   "source": [
    "a = metadata_funs.get_hash((doi,title,journal))"
   ]
  },
  {
   "cell_type": "code",
   "execution_count": 21,
   "metadata": {},
   "outputs": [],
   "source": [
    "b = metadata_funs.get_hash((doi,title,journal))"
   ]
  },
  {
   "cell_type": "code",
   "execution_count": 22,
   "metadata": {},
   "outputs": [
    {
     "data": {
      "text/plain": [
       "True"
      ]
     },
     "execution_count": 22,
     "metadata": {},
     "output_type": "execute_result"
    }
   ],
   "source": [
    "a == b"
   ]
  },
  {
   "cell_type": "code",
   "execution_count": 23,
   "metadata": {},
   "outputs": [],
   "source": [
    "import datetime\n",
    "\n",
    "now = datetime.datetime.now()"
   ]
  },
  {
   "cell_type": "code",
   "execution_count": 25,
   "metadata": {},
   "outputs": [
    {
     "data": {
      "text/plain": [
       "'2019-08-07'"
      ]
     },
     "execution_count": 25,
     "metadata": {},
     "output_type": "execute_result"
    }
   ],
   "source": [
    "now.strftime(\"%Y-%m-%d\")"
   ]
  },
  {
   "cell_type": "code",
   "execution_count": 35,
   "metadata": {},
   "outputs": [],
   "source": [
    "import os\n",
    "search_path = os.getcwd() + '/metadata'"
   ]
  },
  {
   "cell_type": "code",
   "execution_count": 32,
   "metadata": {},
   "outputs": [
    {
     "data": {
      "text/plain": [
       "'/Users/sophierand/RichContextMetadata'"
      ]
     },
     "execution_count": 32,
     "metadata": {},
     "output_type": "execute_result"
    }
   ],
   "source": [
    "os.getcwd()\n",
    "# os.path.join(os.getcwd(),\"/metadata\")"
   ]
  },
  {
   "cell_type": "code",
   "execution_count": 36,
   "metadata": {},
   "outputs": [
    {
     "data": {
      "text/plain": [
       "'/Users/sophierand/RichContextMetadata/metadata'"
      ]
     },
     "execution_count": 36,
     "metadata": {},
     "output_type": "execute_result"
    }
   ],
   "source": [
    "search_path"
   ]
  },
  {
   "cell_type": "code",
   "execution_count": 38,
   "metadata": {},
   "outputs": [],
   "source": [
    "pub_paths = [f for f in os.listdir(search_path) if f.endswith(\"pubs.json\")]"
   ]
  },
  {
   "cell_type": "code",
   "execution_count": 39,
   "metadata": {},
   "outputs": [
    {
     "data": {
      "text/plain": [
       "['20190807manually_curated_pubs.json', '20190807stringsearch_pubs.json']"
      ]
     },
     "execution_count": 39,
     "metadata": {},
     "output_type": "execute_result"
    }
   ],
   "source": [
    "a"
   ]
  },
  {
   "cell_type": "code",
   "execution_count": null,
   "metadata": {},
   "outputs": [],
   "source": []
  },
  {
   "cell_type": "code",
   "execution_count": 37,
   "metadata": {},
   "outputs": [
    {
     "name": "stdout",
     "output_type": "stream",
     "text": [
      "/Users/sophierand/RichContextMetadata/metadata/20190807manually_curated_pubs.json\n",
      "/Users/sophierand/RichContextMetadata/metadata/20190807stringsearch_pubs.json\n"
     ]
    }
   ],
   "source": [
    "for file in os.listdir(search_path):\n",
    "    if file.endswith(\"pubs.json\"):\n",
    "        print(os.path.join(search_path, file))"
   ]
  },
  {
   "cell_type": "code",
   "execution_count": 40,
   "metadata": {},
   "outputs": [],
   "source": [
    "now = datetime.datetime.now()"
   ]
  },
  {
   "cell_type": "code",
   "execution_count": 47,
   "metadata": {},
   "outputs": [
    {
     "data": {
      "text/plain": [
       "'4c5e643e341a714ebe2d'"
      ]
     },
     "execution_count": 47,
     "metadata": {},
     "output_type": "execute_result"
    }
   ],
   "source": [
    "now = str(datetime.datetime.now())\n",
    "metadata_funs.get_hash(str(datetime.datetime.now()))"
   ]
  },
  {
   "cell_type": "code",
   "execution_count": 46,
   "metadata": {},
   "outputs": [
    {
     "data": {
      "text/plain": [
       "'bce22ba3b64720ee4683'"
      ]
     },
     "execution_count": 46,
     "metadata": {},
     "output_type": "execute_result"
    }
   ],
   "source": [
    "now = str(datetime.datetime.now())\n",
    "metadata_funs.get_hash(now)"
   ]
  },
  {
   "cell_type": "code",
   "execution_count": 48,
   "metadata": {},
   "outputs": [
    {
     "data": {
      "text/plain": [
       "'/Users/sophierand/RichContextMetadata/metadata/e7e213b80248e04d1a50manually_curated_pubs.json'"
      ]
     },
     "execution_count": 48,
     "metadata": {},
     "output_type": "execute_result"
    }
   ],
   "source": [
    "os.path.join(os.getcwd(),'metadata/{}manually_curated_pubs.json'.format(metadata_funs.get_hash(str(datetime.datetime.now()))))\n",
    "\n"
   ]
  },
  {
   "cell_type": "code",
   "execution_count": 49,
   "metadata": {},
   "outputs": [],
   "source": [
    "search_path = '/Users/sophierand/RichContextMetadata/metadata'\n",
    "pub_paths = [f for f in os.listdir(search_path) if f.endswith(\"pubs.json\")]\n"
   ]
  },
  {
   "cell_type": "code",
   "execution_count": 52,
   "metadata": {},
   "outputs": [
    {
     "data": {
      "text/plain": [
       "['/Users/sophierand/RichContextMetadata/e91cc53a23d1f751218cmanually_curated_pubs.json',\n",
       " '/Users/sophierand/RichContextMetadata/8020556fae9ad47eff59stringsearch_pubs.json']"
      ]
     },
     "execution_count": 52,
     "metadata": {},
     "output_type": "execute_result"
    }
   ],
   "source": [
    "pub_paths"
   ]
  },
  {
   "cell_type": "code",
   "execution_count": 51,
   "metadata": {},
   "outputs": [],
   "source": [
    "pub_paths = [os.path.join(os.getcwd(),f) for f in os.listdir(search_path) if f.endswith(\"pubs.json\")]"
   ]
  },
  {
   "cell_type": "code",
   "execution_count": 53,
   "metadata": {},
   "outputs": [],
   "source": [
    "import pandas as pd"
   ]
  },
  {
   "cell_type": "code",
   "execution_count": 54,
   "metadata": {},
   "outputs": [
    {
     "data": {
      "text/plain": [
       "['dimensions_search_api_client.py',\n",
       " 'stringsearch_publications.py',\n",
       " '.DS_Store',\n",
       " 'append_linkages.ipynb',\n",
       " 'scratch.ipynb',\n",
       " 'test.csv',\n",
       " 'example_data',\n",
       " '__pycache__',\n",
       " 'gen_adrf_view.ipynb',\n",
       " 'README.md',\n",
       " 'usda',\n",
       " 'gen_publication_linkages.py',\n",
       " 'test.xlsx',\n",
       " '.gitignore',\n",
       " 'gen_publications.py',\n",
       " 'scrap',\n",
       " '.ipynb_checkpoints',\n",
       " 'gen_datasets.py',\n",
       " '.git',\n",
       " 'manually_curated_publications.py',\n",
       " 'metadata_funs.py',\n",
       " 'metadata',\n",
       " 'openaire']"
      ]
     },
     "execution_count": 54,
     "metadata": {},
     "output_type": "execute_result"
    }
   ],
   "source": [
    "os.listdir(os.getcwd())"
   ]
  },
  {
   "cell_type": "code",
   "execution_count": 55,
   "metadata": {},
   "outputs": [],
   "source": [
    "data_dictionary = pd.read_csv('test.csv', sep=',')"
   ]
  },
  {
   "cell_type": "code",
   "execution_count": 57,
   "metadata": {},
   "outputs": [
    {
     "data": {
      "text/html": [
       "<div>\n",
       "<style scoped>\n",
       "    .dataframe tbody tr th:only-of-type {\n",
       "        vertical-align: middle;\n",
       "    }\n",
       "\n",
       "    .dataframe tbody tr th {\n",
       "        vertical-align: top;\n",
       "    }\n",
       "\n",
       "    .dataframe thead th {\n",
       "        text-align: right;\n",
       "    }\n",
       "</style>\n",
       "<table border=\"1\" class=\"dataframe\">\n",
       "  <thead>\n",
       "    <tr style=\"text-align: right;\">\n",
       "      <th></th>\n",
       "      <th>Title</th>\n",
       "      <th>Related Datasets</th>\n",
       "      <th>DOI</th>\n",
       "    </tr>\n",
       "  </thead>\n",
       "  <tbody>\n",
       "    <tr>\n",
       "      <th>0</th>\n",
       "      <td>Incarceration Length, Employment, and Earnings</td>\n",
       "      <td>1;2;3;36;55</td>\n",
       "      <td>10.3386/w12003</td>\n",
       "    </tr>\n",
       "    <tr>\n",
       "      <th>1</th>\n",
       "      <td>Prison-based Education and Re-entry into the M...</td>\n",
       "      <td>1;2;36;55</td>\n",
       "      <td>10.3386/w12114</td>\n",
       "    </tr>\n",
       "    <tr>\n",
       "      <th>2</th>\n",
       "      <td>Moving to Opportunity in Boston: Early Results...</td>\n",
       "      <td>34</td>\n",
       "      <td>doi: 10.1162/00335530151144113</td>\n",
       "    </tr>\n",
       "    <tr>\n",
       "      <th>3</th>\n",
       "      <td>Neighborhoods, Race, and Recidivism: The Commu...</td>\n",
       "      <td>1;2;5;6;36;55</td>\n",
       "      <td>doi:10.1177/0307920107073250</td>\n",
       "    </tr>\n",
       "    <tr>\n",
       "      <th>4</th>\n",
       "      <td>The Effect of Education on Crime: Evidence fro...</td>\n",
       "      <td>5;6</td>\n",
       "      <td>10.1257/000282804322970751</td>\n",
       "    </tr>\n",
       "    <tr>\n",
       "      <th>5</th>\n",
       "      <td>Neighborhood Effects On Crime For Female And M...</td>\n",
       "      <td>4;37</td>\n",
       "      <td>doi:10.1162/0033553053327470</td>\n",
       "    </tr>\n",
       "    <tr>\n",
       "      <th>6</th>\n",
       "      <td>Urban Poverty and Juvenile Crime: Evidence fro...</td>\n",
       "      <td>4;37</td>\n",
       "      <td>doi:10.1162/00335530151144122</td>\n",
       "    </tr>\n",
       "    <tr>\n",
       "      <th>7</th>\n",
       "      <td>Escaping Low Earnings: The Role of Employer Ch...</td>\n",
       "      <td>3;8;9</td>\n",
       "      <td>10.2307/4126683</td>\n",
       "    </tr>\n",
       "    <tr>\n",
       "      <th>8</th>\n",
       "      <td>National Estimates of Gross Employment and Job...</td>\n",
       "      <td>3;5;6;34</td>\n",
       "      <td>10.1016/j.jeconom.2010.09.008</td>\n",
       "    </tr>\n",
       "    <tr>\n",
       "      <th>9</th>\n",
       "      <td>Does Federally-Funded Job Training Work? Nonex...</td>\n",
       "      <td>3;8;9</td>\n",
       "      <td>10.3386/w19446</td>\n",
       "    </tr>\n",
       "    <tr>\n",
       "      <th>10</th>\n",
       "      <td>Temporary Help Agencies and the Advancement Pr...</td>\n",
       "      <td>3;5;6;8;9;10;11</td>\n",
       "      <td>10.3386/w13434</td>\n",
       "    </tr>\n",
       "  </tbody>\n",
       "</table>\n",
       "</div>"
      ],
      "text/plain": [
       "                                                Title Related Datasets  \\\n",
       "0      Incarceration Length, Employment, and Earnings      1;2;3;36;55   \n",
       "1   Prison-based Education and Re-entry into the M...        1;2;36;55   \n",
       "2   Moving to Opportunity in Boston: Early Results...               34   \n",
       "3   Neighborhoods, Race, and Recidivism: The Commu...    1;2;5;6;36;55   \n",
       "4   The Effect of Education on Crime: Evidence fro...              5;6   \n",
       "5   Neighborhood Effects On Crime For Female And M...             4;37   \n",
       "6   Urban Poverty and Juvenile Crime: Evidence fro...             4;37   \n",
       "7   Escaping Low Earnings: The Role of Employer Ch...            3;8;9   \n",
       "8   National Estimates of Gross Employment and Job...         3;5;6;34   \n",
       "9   Does Federally-Funded Job Training Work? Nonex...            3;8;9   \n",
       "10  Temporary Help Agencies and the Advancement Pr...  3;5;6;8;9;10;11   \n",
       "\n",
       "                               DOI  \n",
       "0                   10.3386/w12003  \n",
       "1                   10.3386/w12114  \n",
       "2   doi: 10.1162/00335530151144113  \n",
       "3     doi:10.1177/0307920107073250  \n",
       "4       10.1257/000282804322970751  \n",
       "5     doi:10.1162/0033553053327470  \n",
       "6    doi:10.1162/00335530151144122  \n",
       "7                  10.2307/4126683  \n",
       "8    10.1016/j.jeconom.2010.09.008  \n",
       "9                   10.3386/w19446  \n",
       "10                  10.3386/w13434  "
      ]
     },
     "execution_count": 57,
     "metadata": {},
     "output_type": "execute_result"
    }
   ],
   "source": [
    "data_dictionary\n",
    "data_dictionary.join(s.apply(lambda x: Series(x.split(':'))))"
   ]
  },
  {
   "cell_type": "code",
   "execution_count": 60,
   "metadata": {},
   "outputs": [],
   "source": [
    "split_df = pd.concat([pd.Series(row['Title'], row['Related Datasets'].split(',')) for _, row in data_dictionary.iterrows()])\n",
    "\n"
   ]
  },
  {
   "cell_type": "code",
   "execution_count": 61,
   "metadata": {},
   "outputs": [
    {
     "data": {
      "text/plain": [
       "1;2;3;36;55           Incarceration Length, Employment, and Earnings\n",
       "1;2;36;55          Prison-based Education and Re-entry into the M...\n",
       "34                 Moving to Opportunity in Boston: Early Results...\n",
       "1;2;5;6;36;55      Neighborhoods, Race, and Recidivism: The Commu...\n",
       "5;6                The Effect of Education on Crime: Evidence fro...\n",
       "4;37               Neighborhood Effects On Crime For Female And M...\n",
       "4;37               Urban Poverty and Juvenile Crime: Evidence fro...\n",
       "3;8;9              Escaping Low Earnings: The Role of Employer Ch...\n",
       "3;5;6;34           National Estimates of Gross Employment and Job...\n",
       "3;8;9              Does Federally-Funded Job Training Work? Nonex...\n",
       "3;5;6;8;9;10;11    Temporary Help Agencies and the Advancement Pr...\n",
       "dtype: object"
      ]
     },
     "execution_count": 61,
     "metadata": {},
     "output_type": "execute_result"
    }
   ],
   "source": [
    "split_df"
   ]
  },
  {
   "cell_type": "code",
   "execution_count": 62,
   "metadata": {},
   "outputs": [],
   "source": [
    "df = data_dictionary"
   ]
  },
  {
   "cell_type": "code",
   "execution_count": 63,
   "metadata": {},
   "outputs": [],
   "source": [
    "s = df['Related Datasets'].str.split(',').apply(pd.Series,1).stack()\n",
    "s.index = s.index.droplevel(-1)\n",
    "# s.name = \"Genes\""
   ]
  },
  {
   "cell_type": "code",
   "execution_count": 64,
   "metadata": {},
   "outputs": [
    {
     "data": {
      "text/plain": [
       "0         1;2;3;36;55\n",
       "1           1;2;36;55\n",
       "2                  34\n",
       "3       1;2;5;6;36;55\n",
       "4                 5;6\n",
       "5                4;37\n",
       "6                4;37\n",
       "7               3;8;9\n",
       "8            3;5;6;34\n",
       "9               3;8;9\n",
       "10    3;5;6;8;9;10;11\n",
       "dtype: object"
      ]
     },
     "execution_count": 64,
     "metadata": {},
     "output_type": "execute_result"
    }
   ],
   "source": [
    "s"
   ]
  },
  {
   "cell_type": "code",
   "execution_count": 74,
   "metadata": {},
   "outputs": [],
   "source": [
    "from pandas import DataFrame\n",
    "new = pd.concat([pd.Series(row['Title'], row['Related Datasets'].split(';')) for _, row in df.iterrows()]).reset_index()\n",
    "new = new.rename(columns={\"index\": \"dataset_id\", 0: \"Title\"})\n",
    "newer = pd.merge(df,new,how = 'left',on = 'Title')"
   ]
  },
  {
   "cell_type": "code",
   "execution_count": 76,
   "metadata": {},
   "outputs": [],
   "source": [
    "newer_export = newer[['Title','DOI','dataset_id']]"
   ]
  },
  {
   "cell_type": "code",
   "execution_count": 80,
   "metadata": {},
   "outputs": [],
   "source": [
    "newer_export.to_csv('tanf.csv')"
   ]
  },
  {
   "cell_type": "code",
   "execution_count": 84,
   "metadata": {},
   "outputs": [
    {
     "data": {
      "text/plain": [
       "<module 'gen_datasets' from '/Users/sophierand/RichContextMetadata/gen_datasets.py'>"
      ]
     },
     "execution_count": 84,
     "metadata": {},
     "output_type": "execute_result"
    }
   ],
   "source": [
    "import gen_datasets\n",
    "import importlib\n",
    "importlib.reload(gen_datasets)"
   ]
  },
  {
   "cell_type": "code",
   "execution_count": 87,
   "metadata": {},
   "outputs": [],
   "source": [
    "lim_excel_df_sheets  = gen_datasets.read_data_dictionary()\n",
    "dd_df = gen_datasets.gen_data_dictionary(lim_excel_df_sheets)\n",
    "dd_df_lim = dd_df[['adrf_id','title']]"
   ]
  },
  {
   "cell_type": "code",
   "execution_count": 88,
   "metadata": {},
   "outputs": [
    {
     "data": {
      "text/html": [
       "<div>\n",
       "<style scoped>\n",
       "    .dataframe tbody tr th:only-of-type {\n",
       "        vertical-align: middle;\n",
       "    }\n",
       "\n",
       "    .dataframe tbody tr th {\n",
       "        vertical-align: top;\n",
       "    }\n",
       "\n",
       "    .dataframe thead th {\n",
       "        text-align: right;\n",
       "    }\n",
       "</style>\n",
       "<table border=\"1\" class=\"dataframe\">\n",
       "  <thead>\n",
       "    <tr style=\"text-align: right;\">\n",
       "      <th></th>\n",
       "      <th>adrf_id</th>\n",
       "      <th>title</th>\n",
       "    </tr>\n",
       "  </thead>\n",
       "  <tbody>\n",
       "    <tr>\n",
       "      <th>0</th>\n",
       "      <td>adrf-000001</td>\n",
       "      <td>Illinois Department of Corrections (DOC) Inmat...</td>\n",
       "    </tr>\n",
       "    <tr>\n",
       "      <th>1</th>\n",
       "      <td>adrf-000002</td>\n",
       "      <td>Illinois Department of Corrections (DOC) Inmat...</td>\n",
       "    </tr>\n",
       "    <tr>\n",
       "      <th>2</th>\n",
       "      <td>adrf-000003</td>\n",
       "      <td>Illinois Department of Employment Security (ID...</td>\n",
       "    </tr>\n",
       "    <tr>\n",
       "      <th>3</th>\n",
       "      <td>adrf-000004</td>\n",
       "      <td>US Department of Housing and Urban Development...</td>\n",
       "    </tr>\n",
       "    <tr>\n",
       "      <th>4</th>\n",
       "      <td>adrf-000034</td>\n",
       "      <td>Illinois Department of Employment Security (ID...</td>\n",
       "    </tr>\n",
       "  </tbody>\n",
       "</table>\n",
       "</div>"
      ],
      "text/plain": [
       "       adrf_id                                              title\n",
       "0  adrf-000001  Illinois Department of Corrections (DOC) Inmat...\n",
       "1  adrf-000002  Illinois Department of Corrections (DOC) Inmat...\n",
       "2  adrf-000003  Illinois Department of Employment Security (ID...\n",
       "3  adrf-000004  US Department of Housing and Urban Development...\n",
       "4  adrf-000034  Illinois Department of Employment Security (ID..."
      ]
     },
     "execution_count": 88,
     "metadata": {},
     "output_type": "execute_result"
    }
   ],
   "source": [
    "dd_df_lim.head()"
   ]
  },
  {
   "cell_type": "code",
   "execution_count": 92,
   "metadata": {},
   "outputs": [
    {
     "data": {
      "text/html": [
       "<div>\n",
       "<style scoped>\n",
       "    .dataframe tbody tr th:only-of-type {\n",
       "        vertical-align: middle;\n",
       "    }\n",
       "\n",
       "    .dataframe tbody tr th {\n",
       "        vertical-align: top;\n",
       "    }\n",
       "\n",
       "    .dataframe thead th {\n",
       "        text-align: right;\n",
       "    }\n",
       "</style>\n",
       "<table border=\"1\" class=\"dataframe\">\n",
       "  <thead>\n",
       "    <tr style=\"text-align: right;\">\n",
       "      <th></th>\n",
       "      <th>Title</th>\n",
       "      <th>DOI</th>\n",
       "      <th>dataset_id</th>\n",
       "    </tr>\n",
       "  </thead>\n",
       "  <tbody>\n",
       "    <tr>\n",
       "      <th>0</th>\n",
       "      <td>Incarceration Length, Employment, and Earnings</td>\n",
       "      <td>10.3386/w12003</td>\n",
       "      <td>1</td>\n",
       "    </tr>\n",
       "    <tr>\n",
       "      <th>1</th>\n",
       "      <td>Incarceration Length, Employment, and Earnings</td>\n",
       "      <td>10.3386/w12003</td>\n",
       "      <td>2</td>\n",
       "    </tr>\n",
       "    <tr>\n",
       "      <th>2</th>\n",
       "      <td>Incarceration Length, Employment, and Earnings</td>\n",
       "      <td>10.3386/w12003</td>\n",
       "      <td>3</td>\n",
       "    </tr>\n",
       "    <tr>\n",
       "      <th>3</th>\n",
       "      <td>Incarceration Length, Employment, and Earnings</td>\n",
       "      <td>10.3386/w12003</td>\n",
       "      <td>36</td>\n",
       "    </tr>\n",
       "    <tr>\n",
       "      <th>4</th>\n",
       "      <td>Incarceration Length, Employment, and Earnings</td>\n",
       "      <td>10.3386/w12003</td>\n",
       "      <td>55</td>\n",
       "    </tr>\n",
       "  </tbody>\n",
       "</table>\n",
       "</div>"
      ],
      "text/plain": [
       "                                            Title             DOI dataset_id\n",
       "0  Incarceration Length, Employment, and Earnings  10.3386/w12003          1\n",
       "1  Incarceration Length, Employment, and Earnings  10.3386/w12003          2\n",
       "2  Incarceration Length, Employment, and Earnings  10.3386/w12003          3\n",
       "3  Incarceration Length, Employment, and Earnings  10.3386/w12003         36\n",
       "4  Incarceration Length, Employment, and Earnings  10.3386/w12003         55"
      ]
     },
     "execution_count": 92,
     "metadata": {},
     "output_type": "execute_result"
    }
   ],
   "source": [
    "newer_export.head()"
   ]
  },
  {
   "cell_type": "code",
   "execution_count": 97,
   "metadata": {},
   "outputs": [
    {
     "data": {
      "text/html": [
       "<div>\n",
       "<style scoped>\n",
       "    .dataframe tbody tr th:only-of-type {\n",
       "        vertical-align: middle;\n",
       "    }\n",
       "\n",
       "    .dataframe tbody tr th {\n",
       "        vertical-align: top;\n",
       "    }\n",
       "\n",
       "    .dataframe thead th {\n",
       "        text-align: right;\n",
       "    }\n",
       "</style>\n",
       "<table border=\"1\" class=\"dataframe\">\n",
       "  <thead>\n",
       "    <tr style=\"text-align: right;\">\n",
       "      <th></th>\n",
       "      <th>Unnamed: 0</th>\n",
       "      <th>Title</th>\n",
       "      <th>DOI</th>\n",
       "      <th>adrf_id</th>\n",
       "    </tr>\n",
       "  </thead>\n",
       "  <tbody>\n",
       "    <tr>\n",
       "      <th>0</th>\n",
       "      <td>0</td>\n",
       "      <td>Incarceration Length, Employment, and Earnings</td>\n",
       "      <td>10.3386/w12003</td>\n",
       "      <td>adrf-000001</td>\n",
       "    </tr>\n",
       "    <tr>\n",
       "      <th>1</th>\n",
       "      <td>1</td>\n",
       "      <td>Incarceration Length, Employment, and Earnings</td>\n",
       "      <td>10.3386/w12003</td>\n",
       "      <td>adrf-000002</td>\n",
       "    </tr>\n",
       "    <tr>\n",
       "      <th>2</th>\n",
       "      <td>2</td>\n",
       "      <td>Incarceration Length, Employment, and Earnings</td>\n",
       "      <td>10.3386/w12003</td>\n",
       "      <td>adrf-000003</td>\n",
       "    </tr>\n",
       "    <tr>\n",
       "      <th>3</th>\n",
       "      <td>3</td>\n",
       "      <td>Incarceration Length, Employment, and Earnings</td>\n",
       "      <td>10.3386/w12003</td>\n",
       "      <td>adrf-000036</td>\n",
       "    </tr>\n",
       "    <tr>\n",
       "      <th>4</th>\n",
       "      <td>4</td>\n",
       "      <td>Incarceration Length, Employment, and Earnings</td>\n",
       "      <td>10.3386/w12003</td>\n",
       "      <td>adrf-000055</td>\n",
       "    </tr>\n",
       "  </tbody>\n",
       "</table>\n",
       "</div>"
      ],
      "text/plain": [
       "   Unnamed: 0                                           Title             DOI  \\\n",
       "0           0  Incarceration Length, Employment, and Earnings  10.3386/w12003   \n",
       "1           1  Incarceration Length, Employment, and Earnings  10.3386/w12003   \n",
       "2           2  Incarceration Length, Employment, and Earnings  10.3386/w12003   \n",
       "3           3  Incarceration Length, Employment, and Earnings  10.3386/w12003   \n",
       "4           4  Incarceration Length, Employment, and Earnings  10.3386/w12003   \n",
       "\n",
       "       adrf_id  \n",
       "0  adrf-000001  \n",
       "1  adrf-000002  \n",
       "2  adrf-000003  \n",
       "3  adrf-000036  \n",
       "4  adrf-000055  "
      ]
     },
     "execution_count": 97,
     "metadata": {},
     "output_type": "execute_result"
    }
   ],
   "source": [
    "tanf_df = pd.read_csv('tanf.csv')\n",
    "# newer_export.head()\n",
    "tanf_df.head()"
   ]
  },
  {
   "cell_type": "code",
   "execution_count": 94,
   "metadata": {},
   "outputs": [],
   "source": [
    "joined_df = pd.merge(tanf_df,dd_df_lim,how = 'inner', on = 'adrf_id')"
   ]
  },
  {
   "cell_type": "code",
   "execution_count": 95,
   "metadata": {},
   "outputs": [
    {
     "data": {
      "text/html": [
       "<div>\n",
       "<style scoped>\n",
       "    .dataframe tbody tr th:only-of-type {\n",
       "        vertical-align: middle;\n",
       "    }\n",
       "\n",
       "    .dataframe tbody tr th {\n",
       "        vertical-align: top;\n",
       "    }\n",
       "\n",
       "    .dataframe thead th {\n",
       "        text-align: right;\n",
       "    }\n",
       "</style>\n",
       "<table border=\"1\" class=\"dataframe\">\n",
       "  <thead>\n",
       "    <tr style=\"text-align: right;\">\n",
       "      <th></th>\n",
       "      <th>Title</th>\n",
       "      <th>DOI</th>\n",
       "      <th>adrf_id</th>\n",
       "      <th>title</th>\n",
       "    </tr>\n",
       "  </thead>\n",
       "  <tbody>\n",
       "    <tr>\n",
       "      <th>0</th>\n",
       "      <td>Incarceration Length, Employment, and Earnings</td>\n",
       "      <td>10.3386/w12003</td>\n",
       "      <td>adrf-000001</td>\n",
       "      <td>Illinois Department of Corrections (DOC) Inmat...</td>\n",
       "    </tr>\n",
       "    <tr>\n",
       "      <th>1</th>\n",
       "      <td>Prison-based Education and Re-entry into the M...</td>\n",
       "      <td>10.3386/w12114</td>\n",
       "      <td>adrf-000001</td>\n",
       "      <td>Illinois Department of Corrections (DOC) Inmat...</td>\n",
       "    </tr>\n",
       "    <tr>\n",
       "      <th>2</th>\n",
       "      <td>Neighborhoods, Race, and Recidivism: The Commu...</td>\n",
       "      <td>doi:10.1177/0307920107073250</td>\n",
       "      <td>adrf-000001</td>\n",
       "      <td>Illinois Department of Corrections (DOC) Inmat...</td>\n",
       "    </tr>\n",
       "    <tr>\n",
       "      <th>3</th>\n",
       "      <td>Incarceration Length, Employment, and Earnings</td>\n",
       "      <td>10.3386/w12003</td>\n",
       "      <td>adrf-000002</td>\n",
       "      <td>Illinois Department of Corrections (DOC) Inmat...</td>\n",
       "    </tr>\n",
       "    <tr>\n",
       "      <th>4</th>\n",
       "      <td>Prison-based Education and Re-entry into the M...</td>\n",
       "      <td>10.3386/w12114</td>\n",
       "      <td>adrf-000002</td>\n",
       "      <td>Illinois Department of Corrections (DOC) Inmat...</td>\n",
       "    </tr>\n",
       "  </tbody>\n",
       "</table>\n",
       "</div>"
      ],
      "text/plain": [
       "                                               Title  \\\n",
       "0     Incarceration Length, Employment, and Earnings   \n",
       "1  Prison-based Education and Re-entry into the M...   \n",
       "2  Neighborhoods, Race, and Recidivism: The Commu...   \n",
       "3     Incarceration Length, Employment, and Earnings   \n",
       "4  Prison-based Education and Re-entry into the M...   \n",
       "\n",
       "                            DOI      adrf_id  \\\n",
       "0                10.3386/w12003  adrf-000001   \n",
       "1                10.3386/w12114  adrf-000001   \n",
       "2  doi:10.1177/0307920107073250  adrf-000001   \n",
       "3                10.3386/w12003  adrf-000002   \n",
       "4                10.3386/w12114  adrf-000002   \n",
       "\n",
       "                                               title  \n",
       "0  Illinois Department of Corrections (DOC) Inmat...  \n",
       "1  Illinois Department of Corrections (DOC) Inmat...  \n",
       "2  Illinois Department of Corrections (DOC) Inmat...  \n",
       "3  Illinois Department of Corrections (DOC) Inmat...  \n",
       "4  Illinois Department of Corrections (DOC) Inmat...  "
      ]
     },
     "execution_count": 95,
     "metadata": {},
     "output_type": "execute_result"
    }
   ],
   "source": [
    "joined_df.head()"
   ]
  },
  {
   "cell_type": "code",
   "execution_count": 96,
   "metadata": {},
   "outputs": [],
   "source": [
    "joined_df.to_csv('tanf_joined.csv')"
   ]
  },
  {
   "cell_type": "code",
   "execution_count": null,
   "metadata": {},
   "outputs": [],
   "source": []
  }
 ],
 "metadata": {
  "kernelspec": {
   "display_name": "Python 3",
   "language": "python",
   "name": "python3"
  },
  "language_info": {
   "codemirror_mode": {
    "name": "ipython",
    "version": 3
   },
   "file_extension": ".py",
   "mimetype": "text/x-python",
   "name": "python",
   "nbconvert_exporter": "python",
   "pygments_lexer": "ipython3",
   "version": "3.7.3"
  }
 },
 "nbformat": 4,
 "nbformat_minor": 2
}
