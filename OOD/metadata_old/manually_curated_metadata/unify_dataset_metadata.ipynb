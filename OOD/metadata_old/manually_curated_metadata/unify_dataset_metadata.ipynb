{
 "cells": [
  {
   "cell_type": "code",
   "execution_count": 7,
   "metadata": {},
   "outputs": [],
   "source": [
    "# import unicodedata\n",
    "# import datetime\n",
    "import os\n",
    "import json\n",
    "from os import listdir\n",
    "import pandas as pd\n",
    "pd.set_option('display.width', 10000)\n",
    "# import dateutil.parser\n",
    "# import metadata_funs\n",
    "# import xlrd\n",
    "# import datetime\n",
    "from os.path import isfile, join\n",
    "# import ntpath\n",
    "# import uuid\n",
    "import re"
   ]
  },
  {
   "cell_type": "code",
   "execution_count": 15,
   "metadata": {},
   "outputs": [],
   "source": [
    "def read_dataset_excel():\n",
    "#     ex_data_path = os.path.join(os.getcwd(),'metadata/manually_curated_metadata/ADRF Dataset Metadata_clean.xlsx')\n",
    "    ex_data_path = '/Users/sophierand/RichContextMetadata/metadata/raw_data/ADRF Dataset Metadata_clean.xlsx'\n",
    "    xls = pd.ExcelFile(ex_data_path)\n",
    "    dataset_workbook = pd.read_excel(ex_data_path, sheet_name=None)\n",
    "    return dataset_workbook\n",
    "\n",
    "def read_class_metadata(dataset_workbook):\n",
    "    uniform_sheets = ['course1-datasets','course2-datasets' ,'kcmo-datasets', 'in_data_2019-datasets'\n",
    "    , 'mo_data_2019-datasets', 'usda-datasets']\n",
    "    new_df_list = []\n",
    "    for i in range(len(uniform_sheets)):\n",
    "        a = dataset_workbook[uniform_sheets[i]]\n",
    "        new_df_list.append(a)\n",
    "    classes_df = pd.concat(new_df_list, sort = False).drop_duplicates()\n",
    "    pattern = re.compile('([^\\sa-zA-Z]|_)+')\n",
    "    classes_df['alias'] = classes_df['title'].apply(lambda x: pattern.sub('',x).strip())\n",
    "    classes_df['alias'] = classes_df['alias'].apply(lambda x: re.sub(' +', ' ',x))\n",
    "    return classes_df\n",
    "\n",
    "def read_bb_metadata(dataset_workbook):\n",
    "    bb_df = dataset_workbook['bundesbank-rc']\n",
    "    bb_df['alias'] = bb_df['dataset_join_id']\n",
    "    return bb_df\n",
    "\n",
    "def gen_dataset_metadata(bb_df,classes_df):\n",
    "    common_fields = list(set(classes_df.columns.values) & set(bb_df.columns.values))\n",
    "    bb_df_lim = bb_df[common_fields]\n",
    "    classes_df_lim = classes_df[common_fields]\n",
    "    final_df = pd.concat(list((bb_df_lim,classes_df_lim)), sort = False).drop_duplicates()\n",
    "    return final_df\n"
   ]
  },
  {
   "cell_type": "code",
   "execution_count": 16,
   "metadata": {},
   "outputs": [],
   "source": [
    "dataset_workbook = read_dataset_excel()\n",
    "a = read_class_metadata(dataset_workbook)\n",
    "b = read_bb_metadata(dataset_workbook)\n",
    "f = gen_dataset_metadata(bb_df = b, classes_df = a)"
   ]
  },
  {
   "cell_type": "code",
   "execution_count": 14,
   "metadata": {},
   "outputs": [],
   "source": [
    "adrf_metadata_path  =  '/Users/sophierand/RichContextMetadata/metadata/manually_curated_metadata/adrf_metadata.csv'\n",
    "f.to_csv(adrf_metadata_path,header = True, index = False, sep = ',')"
   ]
  },
  {
   "cell_type": "code",
   "execution_count": null,
   "metadata": {},
   "outputs": [],
   "source": []
  }
 ],
 "metadata": {
  "kernelspec": {
   "display_name": "Python 3",
   "language": "python",
   "name": "python3"
  },
  "language_info": {
   "codemirror_mode": {
    "name": "ipython",
    "version": 3
   },
   "file_extension": ".py",
   "mimetype": "text/x-python",
   "name": "python",
   "nbconvert_exporter": "python",
   "pygments_lexer": "ipython3",
   "version": "3.7.3"
  }
 },
 "nbformat": 4,
 "nbformat_minor": 2
}
