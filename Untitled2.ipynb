{
 "cells": [
  {
   "cell_type": "code",
   "execution_count": 51,
   "metadata": {},
   "outputs": [],
   "source": [
    "import json\n",
    "import os\n",
    "from os import listdir\n",
    "import metadata_funs\n",
    "import datetime\n",
    "from os.path import isfile, join\n",
    "from gen_datasets import convert_date"
   ]
  },
  {
   "cell_type": "code",
   "execution_count": 52,
   "metadata": {},
   "outputs": [],
   "source": [
    "def read_datasets():\n",
    "    datasets_json_path = '/Users/sophierand/RichContextMetadata/new_metadata/datasets_lim.json'\n",
    "    with open(datasets_json_path) as json_file:\n",
    "        datasets_json = json.load(json_file)\n",
    "    return datasets_json\n",
    "\n",
    "def assign_id(dataset_entry,fields_to_hash):\n",
    "    hash_vals = [(v) for k,v in dataset_entry.items() if k in fields_to_hash]\n",
    "    dataset_entry['dataset_id'] = \"dataset-\" + metadata_funs.get_hash(hash_vals)\n",
    "    dataset_entry['dataset_id_metadata'] = {'dataset_id':dataset_entry['dataset_id']\n",
    "                                            ,'hashed_columns':fields_to_hash\n",
    "                                            ,'date_created':convert_date(datetime.datetime.now())}\n",
    "    return dataset_entry"
   ]
  },
  {
   "cell_type": "code",
   "execution_count": 53,
   "metadata": {},
   "outputs": [],
   "source": [
    "my_path = os.path.join(os.getcwd(),'new_metadata')\n",
    "if 'datasets_lim.json' in listdir(my_path):\n",
    "    datasets_arch = read_datasets()"
   ]
  },
  {
   "cell_type": "code",
   "execution_count": 54,
   "metadata": {},
   "outputs": [],
   "source": [
    "fail_list = []\n",
    "try_list = []\n",
    "for d in datasets_arch:\n",
    "    try:\n",
    "        d['data_steward']\n",
    "        updated_id = assign_id(d,fields_to_hash=['title','data_steward'])\n",
    "        try_list.append(updated_id)\n",
    "    except:\n",
    "        updated_id = assign_id(d,fields_to_hash=['title','data_steward'])\n",
    "        fail_list.append(updated_id)"
   ]
  },
  {
   "cell_type": "code",
   "execution_count": 56,
   "metadata": {},
   "outputs": [
    {
     "data": {
      "text/plain": [
       "{'title': 'Temporary Assistance for Needy Families',\n",
       " 'alias': ['TANF',\n",
       "  'TANF data',\n",
       "  'Temporary Assistance for Needy Families data'],\n",
       " 'dataset_id': 'dataset-ed7ac640546d7e7d9dcc',\n",
       " 'dataset_id_metadata': {'dataset_id': 'dataset-ed7ac640546d7e7d9dcc',\n",
       "  'hashed_columns': ['title', 'data_steward'],\n",
       "  'date_created': '2019-08-29'},\n",
       " 'dataset_id_history': [{'dataset_id': 'dataset-ed7ac640546d7e7d9dcc',\n",
       "   'date_archived': '2019-08-29',\n",
       "   'hashed_columns': ['title'],\n",
       "   'date_created': '2019-08-29',\n",
       "   'in_use': True}]}"
      ]
     },
     "execution_count": 56,
     "metadata": {},
     "output_type": "execute_result"
    }
   ],
   "source": [
    "fail_list[0]"
   ]
  },
  {
   "cell_type": "code",
   "execution_count": 57,
   "metadata": {},
   "outputs": [
    {
     "data": {
      "text/plain": [
       "{'data_steward': 'Deutsche Bundesbank',\n",
       " 'title': 'External Position of Banks',\n",
       " 'alias': 'AUSTA',\n",
       " 'dataset_id': 'dataset-8f9a21ab1e7d2124dfef',\n",
       " 'dataset_id_metadata': {'dataset_id': 'dataset-8f9a21ab1e7d2124dfef',\n",
       "  'hashed_columns': ['title', 'data_steward'],\n",
       "  'date_created': '2019-08-29'},\n",
       " 'dataset_id_history': [{'dataset_id': 'dataset-90a10f22212fad2801b2',\n",
       "   'date_archived': '2019-08-29',\n",
       "   'hashed_columns': ['title'],\n",
       "   'date_created': '2019-08-29',\n",
       "   'in_use': True}]}"
      ]
     },
     "execution_count": 57,
     "metadata": {},
     "output_type": "execute_result"
    }
   ],
   "source": [
    "try_list[0]"
   ]
  },
  {
   "cell_type": "code",
   "execution_count": 35,
   "metadata": {},
   "outputs": [],
   "source": [
    "a = datasets_arch[0]"
   ]
  },
  {
   "cell_type": "code",
   "execution_count": 25,
   "metadata": {},
   "outputs": [
    {
     "data": {
      "text/plain": [
       "'/Users/sophierand/RichContextMetadata/new_metadata/datasets.json'"
      ]
     },
     "execution_count": 25,
     "metadata": {},
     "output_type": "execute_result"
    }
   ],
   "source": [
    "my_path"
   ]
  },
  {
   "cell_type": "code",
   "execution_count": 34,
   "metadata": {},
   "outputs": [],
   "source": []
  },
  {
   "cell_type": "code",
   "execution_count": 36,
   "metadata": {},
   "outputs": [
    {
     "ename": "NameError",
     "evalue": "name 'metadata_funs' is not defined",
     "output_type": "error",
     "traceback": [
      "\u001b[0;31m---------------------------------------------------------------------------\u001b[0m",
      "\u001b[0;31mNameError\u001b[0m                                 Traceback (most recent call last)",
      "\u001b[0;32m<ipython-input-36-9b60d1e821c7>\u001b[0m in \u001b[0;36m<module>\u001b[0;34m\u001b[0m\n\u001b[0;32m----> 1\u001b[0;31m \u001b[0massign_id\u001b[0m\u001b[0;34m(\u001b[0m\u001b[0mdataset_entry\u001b[0m\u001b[0;34m=\u001b[0m\u001b[0ma\u001b[0m\u001b[0;34m,\u001b[0m\u001b[0mfields_to_hash\u001b[0m\u001b[0;34m=\u001b[0m\u001b[0;34m[\u001b[0m\u001b[0;34m'title'\u001b[0m\u001b[0;34m,\u001b[0m\u001b[0;34m'data_steward'\u001b[0m\u001b[0;34m]\u001b[0m\u001b[0;34m)\u001b[0m\u001b[0;34m\u001b[0m\u001b[0;34m\u001b[0m\u001b[0m\n\u001b[0m",
      "\u001b[0;32m<ipython-input-34-c3facc436ed4>\u001b[0m in \u001b[0;36massign_id\u001b[0;34m(dataset_entry, fields_to_hash)\u001b[0m\n\u001b[1;32m      1\u001b[0m \u001b[0;32mdef\u001b[0m \u001b[0massign_id\u001b[0m\u001b[0;34m(\u001b[0m\u001b[0mdataset_entry\u001b[0m\u001b[0;34m,\u001b[0m\u001b[0mfields_to_hash\u001b[0m\u001b[0;34m)\u001b[0m\u001b[0;34m:\u001b[0m\u001b[0;34m\u001b[0m\u001b[0;34m\u001b[0m\u001b[0m\n\u001b[1;32m      2\u001b[0m     \u001b[0mhash_vals\u001b[0m \u001b[0;34m=\u001b[0m \u001b[0;34m[\u001b[0m\u001b[0;34m(\u001b[0m\u001b[0mv\u001b[0m\u001b[0;34m)\u001b[0m \u001b[0;32mfor\u001b[0m \u001b[0mk\u001b[0m\u001b[0;34m,\u001b[0m\u001b[0mv\u001b[0m \u001b[0;32min\u001b[0m \u001b[0mdataset_entry\u001b[0m\u001b[0;34m.\u001b[0m\u001b[0mitems\u001b[0m\u001b[0;34m(\u001b[0m\u001b[0;34m)\u001b[0m \u001b[0;32mif\u001b[0m \u001b[0mk\u001b[0m \u001b[0;32min\u001b[0m \u001b[0mfields_to_hash\u001b[0m\u001b[0;34m]\u001b[0m\u001b[0;34m\u001b[0m\u001b[0;34m\u001b[0m\u001b[0m\n\u001b[0;32m----> 3\u001b[0;31m     \u001b[0mdataset_entry\u001b[0m\u001b[0;34m[\u001b[0m\u001b[0;34m'dataset_id'\u001b[0m\u001b[0;34m]\u001b[0m \u001b[0;34m=\u001b[0m \u001b[0;34m\"dataset-\"\u001b[0m \u001b[0;34m+\u001b[0m \u001b[0mmetadata_funs\u001b[0m\u001b[0;34m.\u001b[0m\u001b[0mget_hash\u001b[0m\u001b[0;34m(\u001b[0m\u001b[0mhash_vals\u001b[0m\u001b[0;34m)\u001b[0m\u001b[0;34m\u001b[0m\u001b[0;34m\u001b[0m\u001b[0m\n\u001b[0m\u001b[1;32m      4\u001b[0m     dataset_entry['dataset_id_metadata'] = {'dataset_id':dataset_entry['dataset_id']\n\u001b[1;32m      5\u001b[0m                                             \u001b[0;34m,\u001b[0m\u001b[0;34m'hashed_columns'\u001b[0m\u001b[0;34m:\u001b[0m\u001b[0mfields_to_hash\u001b[0m\u001b[0;34m\u001b[0m\u001b[0;34m\u001b[0m\u001b[0m\n",
      "\u001b[0;31mNameError\u001b[0m: name 'metadata_funs' is not defined"
     ]
    }
   ],
   "source": [
    "assign_id(dataset_entry=a,fields_to_hash=['title','data_steward'])"
   ]
  },
  {
   "cell_type": "code",
   "execution_count": null,
   "metadata": {},
   "outputs": [],
   "source": []
  }
 ],
 "metadata": {
  "kernelspec": {
   "display_name": "Python 3",
   "language": "python",
   "name": "python3"
  },
  "language_info": {
   "codemirror_mode": {
    "name": "ipython",
    "version": 3
   },
   "file_extension": ".py",
   "mimetype": "text/x-python",
   "name": "python",
   "nbconvert_exporter": "python",
   "pygments_lexer": "ipython3",
   "version": "3.7.3"
  }
 },
 "nbformat": 4,
 "nbformat_minor": 2
}
