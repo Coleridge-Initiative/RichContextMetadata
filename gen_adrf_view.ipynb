{
 "cells": [
  {
   "cell_type": "code",
   "execution_count": 98,
   "metadata": {},
   "outputs": [],
   "source": [
    "import metadata_funs\n",
    "import os\n",
    "import importlib\n",
    "importlib.reload(metadata_funs)\n",
    "import numpy as np\n",
    "import pandas as pd\n",
    "import json\n",
    "import datetime"
   ]
  },
  {
   "cell_type": "code",
   "execution_count": 20,
   "metadata": {},
   "outputs": [
    {
     "name": "stdout",
     "output_type": "stream",
     "text": [
      "2019-08-06\n"
     ]
    }
   ],
   "source": [
    "\n",
    "currentDT = datetime.datetime.now()\n",
    "\n",
    "print (currentDT.strftime(\"%Y-%m-%d\"))"
   ]
  },
  {
   "cell_type": "code",
   "execution_count": 179,
   "metadata": {},
   "outputs": [],
   "source": [
    "dataset_json = metadata_funs.read_datasets()\n",
    "for b in dataset_json:\n",
    "    b['data_steward_organization'] = b.pop('data_steward_org')\n",
    "    val = b['filenames']\n",
    "    if pd.isnull(val):\n",
    "        pass\n",
    "    if not pd.isnull(val) and str(val).find(',') != -1:\n",
    "        new_val = str(val).split(\",\")\n",
    "        files_total = len(new_val)\n",
    "    if not pd.isnull(val) and str(val).find(',') == -1:\n",
    "        new_val = [val]\n",
    "        files_total = 1\n",
    "    b.update({'filenames':new_val,'files_total':files_total})\n",
    "    b['file_names'] = b.pop('filenames')\n",
    "    b['dataset_version_date'], 'created_at' =  \"2019-04-04 14:41:26\", 'updated_at' =  \"2019-04-04 14:41:26\""
   ]
  },
  {
   "cell_type": "code",
   "execution_count": 184,
   "metadata": {},
   "outputs": [
    {
     "data": {
      "text/plain": [
       "{'index': 0,\n",
       " 'dataset_documentation': 'ILPARD_codebook_and_ERD.pdf,IDHS-data_for_appliedda_class.pdf',\n",
       " 'dataset_header_desc': 'adrf-000061-assistance_case.csv:adrf-000061-assistance_case_dd.csv,adrf-000061-member.csv:adrf-000061-member_dd.csv,adrf-000061-case_geocode.csv:adrf-000061-case_geocode_dd.csv,adrf-000061-member_info.csv:adrf-000061-member_info_dd.csv,adrf-000061-case_social.csv:adrf-000061-case_social_dd.csv,adrf-000061-member_relation.csv:adrf-000061-member_relation_dd.csv\\n',\n",
       " 'related_articles': nan,\n",
       " 'data_classification': 'Restricted',\n",
       " 'title': 'Illinois Department of Human Services (IDHS) Point-In-Time Files: Time Invariant Characteristics',\n",
       " 'dataset_citation': 'Illinois Department of Human Services (IDHS), Chapin Hall at the University of Chicago, 2017, \"Illinois Department of Human Services (IDHS) Point-In-Time Files: Time Invariant Characteristics\", Applied Data Analytics Course [Distributor], 1 [Version]',\n",
       " 'source_url': nan,\n",
       " 'reference_url': 'https://enclave.chapinhall.org/?q=node/952',\n",
       " 'access_actions_required': 'This is ADRF course data. In order to access, you must have signed the appropriate NDA and agreed to the ADRF terms of usage. These data are located in the course database.',\n",
       " 'temporal_coverage_end': '2017-02-28',\n",
       " 'data_steward': 'Julia Lane',\n",
       " 'geographical_unit': 'State,County,Census Tract,Point',\n",
       " 'external_id': nan,\n",
       " 'keywords': 'welfare,public assistance,tanf,food stamps,human services,socioeconomics,medicaid,demographics',\n",
       " 'dataset_version': 1,\n",
       " 'access_requirements': 'You must be enrolled in an ADRF class to access these data.',\n",
       " 'data_provider': 'Illinois Department of Human Services (IDHS), Chapin Hall at the University of Chicago',\n",
       " 'geographical_coverage': 'Illinois',\n",
       " 'category': 'Health and Human Services',\n",
       " 'data_usage_policy': 'This dataset is restricted to ADRF course participants who have approval and have agreed to the terms of use provided by the Illinois Department of Human Services (IDHS) and the ADRF. The user shall not attempt to re-identify individuals represented in the data and agree to not disclose any data contained therein to any unauthorized parties. Users of these data also agree to comply with all applicable Federal and State laws and regulations and with all applicable policies and procedures as set by the State of Illinois, including, but not limited to, the Illinois Public Aid Code (305 ILCS 5/1 et seq.), the Health Insurance Portability and Accountability Act (45 CFR Parts 160, 162, and 164), IRS Code (26 U.S.C. 1 et seq.), and other applicable state and federal laws. Any analyses and data products derived from the data must be reviewed by IDHS before export from this system. When access to the data is no longer required, the user agrees that they will not access or attempt to access any IDHS confidential information, or any confidential information in IDHS systems or other sources to which I have been given access. They agree also to return any and all reports, notes, memoranda, notebooks, drawings, and other confidential information or Data developed, received, compiled by or delivered to them in order to carry out functions under the contract or subcontract, regardless of the source of the confidential information or Data.\\n',\n",
       " 'description': 'The point-in-time files are extracts from Chapin Hall’s Illinois Public Assistance Research Database (ILPARD). This database is compiled from sequential monthly point-in-time extracts from DHS. They cover participation in a number of public assistance programs including Temporary Assistance to Needy Families (TANF) and specific TANF initiatives (e.g., Work Pays), Medicaid, KidCare, Food Stamps, Transitional Assistance, Aid to the Aged, Blind, and Disabled (AABD), and Family Assistance. The data are mainly cross-sectional but contain one historical component, an indicator of public assistance receipt for the preceding 24 months. The most recent version of the data is stored in the main tables and each table has an accompanying change history. Because the spell files contain the time-varying history of benefits receipt for individuals and cases, only the most recent version of these tables is presented. \\xa0As such, this data is presented as time-invariant, with one record of each characteristic for a given individual or case, even though some characteristics (like case addresses) obviously do vary over time.\\n\\n\\nYou will find the complete data in the class database under the tables: idhs.assistance_case, idhs.case_geocode, idhs.case_social, idhs.member, idhs.member_info, idhs.member_relation\\n\\n\\n\\n',\n",
       " 'temporal_coverage_start': '1989-02-01',\n",
       " 'source_archive': 'Illinois Public Assistance Research Database',\n",
       " 'adrf_id': 'adrf-000061',\n",
       " 'dataset_id': 'dataset-fa29529d061e1e30ed07',\n",
       " 'data_steward_organization': 'Center for Urban Science and Progress (CUSP), NYU',\n",
       " 'files_total': 6,\n",
       " 'file_names': ['adrf-000061-assistance_case.csv',\n",
       "  'adrf-000061-member.csv',\n",
       "  'adrf-000061-case_geocode.csv',\n",
       "  'adrf-000061-member_info.csv',\n",
       "  'adrf-000061-case_social.csv',\n",
       "  'adrf-000061-member_relation.csv']}"
      ]
     },
     "execution_count": 184,
     "metadata": {},
     "output_type": "execute_result"
    }
   ],
   "source": [
    "dataset_json[11]"
   ]
  },
  {
   "cell_type": "code",
   "execution_count": 183,
   "metadata": {},
   "outputs": [
    {
     "data": {
      "text/plain": [
       "['files', 'dataset_version_date', 'created_at', 'updated_at']"
      ]
     },
     "execution_count": 183,
     "metadata": {},
     "output_type": "execute_result"
    }
   ],
   "source": [
    "b = dataset_json[10]\n",
    "# alist = list(graham.keys())\n",
    "afieldslist = graham[1]['fields'].keys()\n",
    "blist = list(b.keys())\n",
    "[a for a in alist if a not in blist]\n",
    "[a for a in afieldslist if a not in blist]"
   ]
  },
  {
   "cell_type": "code",
   "execution_count": 171,
   "metadata": {},
   "outputs": [
    {
     "data": {
      "text/plain": [
       "{'index': 10,\n",
       " 'dataset_documentation': nan,\n",
       " 'dataset_header_desc': 'adrf-000085-person.csv:adrf-000085-person_dd.csv',\n",
       " 'related_articles': nan,\n",
       " 'data_classification': 'Restricted',\n",
       " 'title': 'Illinois Department of Corrections Person Relation Table',\n",
       " 'dataset_citation': 'Illinois Department of Corrections, 2016, \"Illinois Department of Corrections Person Relation Table\", Applied Data Analytics Course [Distributor], 1 [Version]',\n",
       " 'source_url': nan,\n",
       " 'reference_url': 'https://www.illinois.gov/idoc/Pages/default.aspx',\n",
       " 'access_actions_required': 'This is ADRF course data. In order to access, you must have signed the appropriate NDA and agreed to the ADRF terms of usage. These data are located in the course database. Field specific metadata are a sample only.',\n",
       " 'temporal_coverage_end': 2015,\n",
       " 'data_steward': 'Julia Lane',\n",
       " 'geographical_unit': 'State',\n",
       " 'external_id': nan,\n",
       " 'keywords': 'criminal justice system,inmates,jail,correctional facilities,health,employment,demographics,offenses',\n",
       " 'dataset_version': 1,\n",
       " 'access_requirements': 'You must be enrolled in an ADRF class to access these data.',\n",
       " 'data_provider': 'Illinois Department of Corrections',\n",
       " 'geographical_coverage': 'Illinois',\n",
       " 'category': 'Inmate Populations',\n",
       " 'data_usage_policy': 'This dataset is restricted to ADRF course participants who have approval and have agreed to the terms of use provided by the Illinois Department of Corrections (IDOC). The user shall not attempt to re-identify individuals represented in the data and agree to not disclose any data contained here to any unauthorized parties. Any analyses and data products derived from the data must be reviewed by IDOC before export from this system.',\n",
       " 'description': 'A relationship table to be used with Illinois Department of Corrections (ILDOC) Admission and Exit tables which join hashed names, hashed ssns, birthyear, race, sex, and ILDOC doc number for the purposes of easier matches across tables. Each unique doc number has a row in the person table. The docnbr is the unique identifier of record for a given person who is a part of the IL corrections system. The other fields in person are aggregated from all records in admits and/or exits (depending on where the value is present - SSN is only in admits, for example) with a given docnbr.  All the other fields in person (including SSN) are populated by looking at that field’s value across all records for a given docnbr. If all of the rows either contain the same value, or contain the same value or are empty, then that value is pulled up into the person record for that docnbr.  If there are either 1) no values or 2) different values for a given docnbr, no value is placed in person. It is found in the database at: ildoc.person\\n',\n",
       " 'temporal_coverage_start': 1990,\n",
       " 'source_archive': nan,\n",
       " 'adrf_id': 'adrf-000085',\n",
       " 'filenames': 'adrf-000085-person.csv',\n",
       " 'dataset_id': 'dataset-bba637a470944165d789',\n",
       " 'data_steward_organization': 'Center for Urban Science and Progress (CUSP), NYU',\n",
       " 'files_total': 1}"
      ]
     },
     "execution_count": 171,
     "metadata": {},
     "output_type": "execute_result"
    }
   ],
   "source": [
    "b"
   ]
  },
  {
   "cell_type": "code",
   "execution_count": 168,
   "metadata": {},
   "outputs": [
    {
     "data": {
      "text/plain": [
       "{'model': 'ds.dataset',\n",
       " 'pk': 115,\n",
       " 'fields': {'temporal_coverage_end': '2014',\n",
       "  'files_total': 1,\n",
       "  'data_classification': 'Public',\n",
       "  'access_actions_required': 'No further actions required to access this dataset',\n",
       "  'geographical_coverage': ['United States'],\n",
       "  'keywords': [76, 106, 7, 27],\n",
       "  'dataset_id': 'adrf-000115',\n",
       "  'category': 'Economic Characteristics',\n",
       "  'dataset_version': 1,\n",
       "  'title': 'Illinois Department of Labor (IDOL) Illinois Minimum Wage',\n",
       "  'data_usage_policy': 'This dataset is intended for public access and use.',\n",
       "  'data_steward_organization': 'Center for Urban Science and Progress (CUSP), NYU',\n",
       "  'data_steward': 1,\n",
       "  'files': [{'file_name': 'adrf-000115-il_minimum_wage_by_year.csv',\n",
       "    'columns_metadata': {'rate': {'provided-type': 'numeric',\n",
       "      'description': 'Illinois hourly minimum wage rate',\n",
       "      'categories': []},\n",
       "     'year': {'provided-type': 'integer',\n",
       "      'description': 'Year',\n",
       "      'categories': []}}}],\n",
       "  'access_requirements': 'No access restrictions on this dataset',\n",
       "  'description': 'Illinois state minimum wage hourly rates for workers 18 years of age and older from 1972 to 2014.',\n",
       "  'source_url': 'https://data.illinois.gov/dataset/307idol_illinois_minimum_wage/resource/a288abda-51e7-44bb-8066-361bb5f50ab0',\n",
       "  'geographical_unit': ['State'],\n",
       "  'related_articles': [],\n",
       "  'data_provider': 1,\n",
       "  'dataset_documentation': [''],\n",
       "  'dataset_version_date': 1540416410,\n",
       "  'source_archive': 'State of Illinois Data Portal',\n",
       "  'dataset_citation': 'Illinois Department of Labor (IDOL), 2017, \"Illinois Department of Labor (IDOL) Illinois Minimum Wage\", https://data.illinois.gov/dataset/307idol_illinois_minimum_wage/resource/a288abda-51e7-44bb-8066-361bb5f50ab0, Illinois Department of Labor [Distributor], 1 [Version]',\n",
       "  'reference_url': 'https://data.illinois.gov/dataset/307idol_illinois_minimum_wage',\n",
       "  'temporal_coverage_start': '1972',\n",
       "  'file_names': ['adrf-000115-il_minimum_wage_by_year.csv'],\n",
       "  'created_at': '2019-04-04 14:41:26',\n",
       "  'updated_at': '2019-04-04 14:41:26'}}"
      ]
     },
     "execution_count": 168,
     "metadata": {},
     "output_type": "execute_result"
    }
   ],
   "source": [
    "graham[1]"
   ]
  },
  {
   "cell_type": "code",
   "execution_count": 165,
   "metadata": {},
   "outputs": [],
   "source": [
    "graham = [{\"model\": \"ds.dataset\",\"pk\": 54,\n",
    "    \"fields\": {\n",
    "      \"temporal_coverage_end\": \"2015\",\n",
    "      \"files_total\": 1,\n",
    "      \"data_classification\": \"Public\",\n",
    "      \"access_actions_required\": \"No further actions required to access this dataset\",\n",
    "      \"geographical_coverage\": [\n",
    "        \"Chicago\"\n",
    "      ],\n",
    "      \"keywords\": [\n",
    "        40,\n",
    "        33,\n",
    "        122,\n",
    "        72,\n",
    "        96,\n",
    "        26,\n",
    "        15,\n",
    "        87,\n",
    "        71,\n",
    "        101\n",
    "      ],\n",
    "      \"dataset_id\": \"adrf-000054\",\n",
    "      \"category\": \"Health and Human Services\",\n",
    "      \"dataset_version\": 1,\n",
    "      \"title\": \"Family and Support Services Delegate Agencies\",\n",
    "      \"data_usage_policy\": \"This dataset is intended for public access and use.\",\n",
    "      \"data_steward_organization\": \"Center for Urban Science and Progress (CUSP)\",\n",
    "      \"data_steward\": 1,\n",
    "      \"files\": [],\n",
    "      \"access_requirements\": \"No access restrictions on this dataset\",\n",
    "      \"description\": \"A list of the delegate agencies with which the Department of Family and Support Services has contracted to provide services to residents of Chicago.\",\n",
    "      \"source_url\": \"https://data.cityofchicago.org/resource/jmw7-ijg5\",\n",
    "      \"geographical_unit\": [\n",
    "        \"City\"\n",
    "      ],\n",
    "      \"data_provider\": 1,\n",
    "      \"dataset_documentation\": [\n",
    "        \"\"\n",
    "      ],\n",
    "      \"dataset_version_date\": 1487948041,\n",
    "      \"source_archive\": \"City of Chicago Open Data Portal\",\n",
    "      \"dataset_citation\": \"City of Chicago, 2015, \\\"Family and Support Services Delegate Agencies\\\", https://data.cityofchicago.org/resource/jmw7-ijg5, City of Chicago Open Data Portal [Distributor], 1 [Version]\",\n",
    "      \"reference_url\": \"http://www.cityofchicago.org/city/en/depts/fss.html\",\n",
    "      \"temporal_coverage_start\": \"2015\",\n",
    "      \"file_names\": [\n",
    "        \"adrf-000054.csv\"\n",
    "      ],\n",
    "      \"created_at\": \"2019-04-04 14:41:26\",\n",
    "      \"updated_at\": \"2019-04-04 14:41:26\"\n",
    "    }},\n",
    "{\"model\": \"ds.dataset\",\n",
    "    \"pk\": 115,\n",
    "    \"fields\": {\n",
    "      \"temporal_coverage_end\": \"2014\",\n",
    "      \"files_total\": 1,\n",
    "      \"data_classification\": \"Public\",\n",
    "      \"access_actions_required\": \"No further actions required to access this dataset\",\n",
    "      \"geographical_coverage\": [\n",
    "        \"United States\"\n",
    "      ],\n",
    "      \"keywords\": [\n",
    "        76,\n",
    "        106,\n",
    "        7,\n",
    "        27\n",
    "      ],\n",
    "      \"dataset_id\": \"adrf-000115\",\n",
    "      \"category\": \"Economic Characteristics\",\n",
    "      \"dataset_version\": 1,\n",
    "      \"title\": \"Illinois Department of Labor (IDOL) Illinois Minimum Wage\",\n",
    "      \"data_usage_policy\": \"This dataset is intended for public access and use.\",\n",
    "      \"data_steward_organization\": \"Center for Urban Science and Progress (CUSP), NYU\",\n",
    "      \"data_steward\": 1,\n",
    "      \"files\": [\n",
    "        {\n",
    "          \"file_name\": \"adrf-000115-il_minimum_wage_by_year.csv\",\n",
    "          \"columns_metadata\": {\n",
    "            \"rate\": {\n",
    "              \"provided-type\": \"numeric\",\n",
    "              \"description\": \"Illinois hourly minimum wage rate\",\n",
    "              \"categories\": []\n",
    "#                 ,\n",
    "#               \"categorical\": false\n",
    "            },\n",
    "            \"year\": {\n",
    "              \"provided-type\": \"integer\",\n",
    "              \"description\": \"Year\",\n",
    "              \"categories\": []\n",
    "#                 ,\n",
    "#               \"categorical\": false\n",
    "            }\n",
    "          }\n",
    "        }\n",
    "      ],\n",
    "      \"access_requirements\": \"No access restrictions on this dataset\",\n",
    "      \"description\": \"Illinois state minimum wage hourly rates for workers 18 years of age and older from 1972 to 2014.\",\n",
    "      \"source_url\": \"https://data.illinois.gov/dataset/307idol_illinois_minimum_wage/resource/a288abda-51e7-44bb-8066-361bb5f50ab0\",\n",
    "      \"geographical_unit\": [\n",
    "        \"State\"\n",
    "      ],\n",
    "      \"related_articles\": [],\n",
    "      \"data_provider\": 1,\n",
    "      \"dataset_documentation\": [\n",
    "        \"\"\n",
    "      ],\n",
    "      \"dataset_version_date\": 1540416410,\n",
    "      \"source_archive\": \"State of Illinois Data Portal\",\n",
    "      \"dataset_citation\": \"Illinois Department of Labor (IDOL), 2017, \\\"Illinois Department of Labor (IDOL) Illinois Minimum Wage\\\", https://data.illinois.gov/dataset/307idol_illinois_minimum_wage/resource/a288abda-51e7-44bb-8066-361bb5f50ab0, Illinois Department of Labor [Distributor], 1 [Version]\",\n",
    "      \"reference_url\": \"https://data.illinois.gov/dataset/307idol_illinois_minimum_wage\",\n",
    "      \"temporal_coverage_start\": \"1972\",\n",
    "      \"file_names\": [\n",
    "        \"adrf-000115-il_minimum_wage_by_year.csv\"\n",
    "      ],\n",
    "      \"created_at\": \"2019-04-04 14:41:26\",\n",
    "      \"updated_at\": \"2019-04-04 14:41:26\"\n",
    "    }}]"
   ]
  },
  {
   "cell_type": "code",
   "execution_count": null,
   "metadata": {},
   "outputs": [],
   "source": []
  }
 ],
 "metadata": {
  "kernelspec": {
   "display_name": "Python 3",
   "language": "python",
   "name": "python3"
  },
  "language_info": {
   "codemirror_mode": {
    "name": "ipython",
    "version": 3
   },
   "file_extension": ".py",
   "mimetype": "text/x-python",
   "name": "python",
   "nbconvert_exporter": "python",
   "pygments_lexer": "ipython3",
   "version": "3.7.3"
  }
 },
 "nbformat": 4,
 "nbformat_minor": 2
}
