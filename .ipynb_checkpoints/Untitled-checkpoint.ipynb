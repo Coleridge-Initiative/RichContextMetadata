{
 "cells": [
  {
   "cell_type": "code",
   "execution_count": 37,
   "metadata": {},
   "outputs": [],
   "source": [
    "import os\n",
    "import json\n",
    "from os import listdir\n",
    "import metadata_funs\n",
    "from os.path import isfile, join\n",
    "import ntpath\n",
    "# onlyfiles = [f for f in listdir(mypath) if isfile(join(mypath, f))]"
   ]
  },
  {
   "cell_type": "code",
   "execution_count": 15,
   "metadata": {},
   "outputs": [],
   "source": [
    "cwd = os.getcwd()\n",
    "ex_data_path = '/home/sophierand/RichContextMetadata/example_data'\n",
    "ds_json_files = [os.path.join(ex_data_path, f) for f in listdir(ex_data_path)]"
   ]
  },
  {
   "cell_type": "code",
   "execution_count": 16,
   "metadata": {},
   "outputs": [
    {
     "data": {
      "text/plain": [
       "['/home/sophierand/RichContextMetadata/example_data/datasets.json',\n",
       " '/home/sophierand/RichContextMetadata/example_data/tag.json',\n",
       " '/home/sophierand/RichContextMetadata/example_data/publication.json']"
      ]
     },
     "execution_count": 16,
     "metadata": {},
     "output_type": "execute_result"
    }
   ],
   "source": [
    "ds_json_files"
   ]
  },
  {
   "cell_type": "code",
   "execution_count": 18,
   "metadata": {},
   "outputs": [
    {
     "ename": "AttributeError",
     "evalue": "'str' object has no attribute 'read'",
     "output_type": "error",
     "traceback": [
      "\u001b[0;31m---------------------------------------------------------------------------\u001b[0m",
      "\u001b[0;31mAttributeError\u001b[0m                            Traceback (most recent call last)",
      "\u001b[0;32m<ipython-input-18-c8b343d6b64e>\u001b[0m in \u001b[0;36m<module>\u001b[0;34m\u001b[0m\n\u001b[0;32m----> 1\u001b[0;31m \u001b[0mjson\u001b[0m\u001b[0;34m.\u001b[0m\u001b[0mload\u001b[0m\u001b[0;34m(\u001b[0m\u001b[0mds_json_files\u001b[0m\u001b[0;34m[\u001b[0m\u001b[0;36m0\u001b[0m\u001b[0;34m]\u001b[0m\u001b[0;34m)\u001b[0m\u001b[0;34m\u001b[0m\u001b[0;34m\u001b[0m\u001b[0m\n\u001b[0m",
      "\u001b[0;32m/usr/lib/python3.6/json/__init__.py\u001b[0m in \u001b[0;36mload\u001b[0;34m(fp, cls, object_hook, parse_float, parse_int, parse_constant, object_pairs_hook, **kw)\u001b[0m\n\u001b[1;32m    294\u001b[0m \u001b[0;34m\u001b[0m\u001b[0m\n\u001b[1;32m    295\u001b[0m     \"\"\"\n\u001b[0;32m--> 296\u001b[0;31m     return loads(fp.read(),\n\u001b[0m\u001b[1;32m    297\u001b[0m         \u001b[0mcls\u001b[0m\u001b[0;34m=\u001b[0m\u001b[0mcls\u001b[0m\u001b[0;34m,\u001b[0m \u001b[0mobject_hook\u001b[0m\u001b[0;34m=\u001b[0m\u001b[0mobject_hook\u001b[0m\u001b[0;34m,\u001b[0m\u001b[0;34m\u001b[0m\u001b[0;34m\u001b[0m\u001b[0m\n\u001b[1;32m    298\u001b[0m         \u001b[0mparse_float\u001b[0m\u001b[0;34m=\u001b[0m\u001b[0mparse_float\u001b[0m\u001b[0;34m,\u001b[0m \u001b[0mparse_int\u001b[0m\u001b[0;34m=\u001b[0m\u001b[0mparse_int\u001b[0m\u001b[0;34m,\u001b[0m\u001b[0;34m\u001b[0m\u001b[0;34m\u001b[0m\u001b[0m\n",
      "\u001b[0;31mAttributeError\u001b[0m: 'str' object has no attribute 'read'"
     ]
    }
   ],
   "source": [
    "json.load(ds_json_files[0])"
   ]
  },
  {
   "cell_type": "code",
   "execution_count": 40,
   "metadata": {},
   "outputs": [],
   "source": [
    "json_list = []\n",
    "for p in ds_json_files:\n",
    "    with open(p) as json_file:\n",
    "        data = json.load(json_file)\n",
    "        json_list.append(data)"
   ]
  },
  {
   "cell_type": "code",
   "execution_count": 57,
   "metadata": {},
   "outputs": [
    {
     "data": {
      "text/plain": [
       "[{'model': 'ds.tag', 'pk': 1, 'fields': {'tag': ''}},\n",
       " {'model': 'ds.tag', 'pk': 2, 'fields': {'tag': 'college completions'}},\n",
       " {'model': 'ds.tag', 'pk': 3, 'fields': {'tag': 'DC'}},\n",
       " {'model': 'ds.tag', 'pk': 4, 'fields': {'tag': 'vital statistics'}},\n",
       " {'model': 'ds.tag', 'pk': 5, 'fields': {'tag': 'classification'}},\n",
       " {'model': 'ds.tag', 'pk': 6, 'fields': {'tag': 'entry type'}},\n",
       " {'model': 'ds.tag', 'pk': 7, 'fields': {'tag': 'minimum wage'}},\n",
       " {'model': 'ds.tag', 'pk': 8, 'fields': {'tag': 'employer counts'}},\n",
       " {'model': 'ds.tag', 'pk': 9, 'fields': {'tag': 'Geography'}},\n",
       " {'model': 'ds.tag', 'pk': 10, 'fields': {'tag': 'homeless shelter'}},\n",
       " {'model': 'ds.tag', 'pk': 11, 'fields': {'tag': 'forclosures'}},\n",
       " {'model': 'ds.tag', 'pk': 12, 'fields': {'tag': 'economy'}},\n",
       " {'model': 'ds.tag', 'pk': 13, 'fields': {'tag': 'business'}},\n",
       " {'model': 'ds.tag', 'pk': 14, 'fields': {'tag': 'economics'}},\n",
       " {'model': 'ds.tag', 'pk': 15, 'fields': {'tag': 'seniors'}},\n",
       " {'model': 'ds.tag', 'pk': 16, 'fields': {'tag': 'family and support'}},\n",
       " {'model': 'ds.tag', 'pk': 17, 'fields': {'tag': 'education'}},\n",
       " {'model': 'ds.tag', 'pk': 18, 'fields': {'tag': 'sample'}},\n",
       " {'model': 'ds.tag', 'pk': 19, 'fields': {'tag': 'registration'}},\n",
       " {'model': 'ds.tag', 'pk': 20, 'fields': {'tag': 'households'}},\n",
       " {'model': 'ds.tag', 'pk': 21, 'fields': {'tag': 'health'}},\n",
       " {'model': 'ds.tag', 'pk': 22, 'fields': {'tag': 'police'}},\n",
       " {'model': 'ds.tag', 'pk': 23, 'fields': {'tag': 'tif'}},\n",
       " {'model': 'ds.tag', 'pk': 24, 'fields': {'tag': 'park'}},\n",
       " {'model': 'ds.tag', 'pk': 25, 'fields': {'tag': 'training programs'}},\n",
       " {'model': 'ds.tag', 'pk': 26, 'fields': {'tag': 'youth'}},\n",
       " {'model': 'ds.tag', 'pk': 27, 'fields': {'tag': 'labor'}},\n",
       " {'model': 'ds.tag', 'pk': 28, 'fields': {'tag': 'charity'}},\n",
       " {'model': 'ds.tag', 'pk': 29, 'fields': {'tag': 'crosswalk'}},\n",
       " {'model': 'ds.tag', 'pk': 30, 'fields': {'tag': 'small business'}},\n",
       " {'model': 'ds.tag', 'pk': 31, 'fields': {'tag': 'county'}},\n",
       " {'model': 'ds.tag', 'pk': 32, 'fields': {'tag': 'mental health'}},\n",
       " {'model': 'ds.tag', 'pk': 33, 'fields': {'tag': 'children'}},\n",
       " {'model': 'ds.tag', 'pk': 34, 'fields': {'tag': 'finance'}},\n",
       " {'model': 'ds.tag', 'pk': 35, 'fields': {'tag': 'socioeconomics'}},\n",
       " {'model': 'ds.tag', 'pk': 36, 'fields': {'tag': 'exits'}},\n",
       " {'model': 'ds.tag', 'pk': 37, 'fields': {'tag': 'enrollment'}},\n",
       " {'model': 'ds.tag', 'pk': 38, 'fields': {'tag': 'school'}},\n",
       " {'model': 'ds.tag',\n",
       "  'pk': 39,\n",
       "  'fields': {'tag': 'neighborhood characteristics'}},\n",
       " {'model': 'ds.tag', 'pk': 40, 'fields': {'tag': 'facilities'}},\n",
       " {'model': 'ds.tag', 'pk': 41, 'fields': {'tag': 'Tracts'}},\n",
       " {'model': 'ds.tag', 'pk': 42, 'fields': {'tag': 'state'}},\n",
       " {'model': 'ds.tag', 'pk': 43, 'fields': {'tag': 'higher education'}},\n",
       " {'model': 'ds.tag', 'pk': 44, 'fields': {'tag': 'land use'}},\n",
       " {'model': 'ds.tag', 'pk': 45, 'fields': {'tag': 'shelter'}},\n",
       " {'model': 'ds.tag', 'pk': 46, 'fields': {'tag': 'health clinic'}},\n",
       " {'model': 'ds.tag', 'pk': 47, 'fields': {'tag': 'Census'}},\n",
       " {'model': 'ds.tag', 'pk': 48, 'fields': {'tag': 'microlenders'}},\n",
       " {'model': 'ds.tag', 'pk': 49, 'fields': {'tag': 'individuals'}},\n",
       " {'model': 'ds.tag', 'pk': 50, 'fields': {'tag': 'criminal justice system'}},\n",
       " {'model': 'ds.tag', 'pk': 51, 'fields': {'tag': 'organizations'}},\n",
       " {'model': 'ds.tag', 'pk': 52, 'fields': {'tag': 'recorder'}},\n",
       " {'model': 'ds.tag', 'pk': 53, 'fields': {'tag': 'community center'}},\n",
       " {'model': 'ds.tag', 'pk': 54, 'fields': {'tag': 'business loans'}},\n",
       " {'model': 'ds.tag', 'pk': 55, 'fields': {'tag': 'services'}},\n",
       " {'model': 'ds.tag', 'pk': 56, 'fields': {'tag': 'violence'}},\n",
       " {'model': 'ds.tag', 'pk': 57, 'fields': {'tag': 'job loss'}},\n",
       " {'model': 'ds.tag', 'pk': 58, 'fields': {'tag': 'crime'}},\n",
       " {'model': 'ds.tag', 'pk': 59, 'fields': {'tag': 'office locations'}},\n",
       " {'model': 'ds.tag', 'pk': 60, 'fields': {'tag': 'occupation'}},\n",
       " {'model': 'ds.tag', 'pk': 61, 'fields': {'tag': 'employers'}},\n",
       " {'model': 'ds.tag', 'pk': 62, 'fields': {'tag': 'health indicators'}},\n",
       " {'model': 'ds.tag', 'pk': 63, 'fields': {'tag': 'zip codes'}},\n",
       " {'model': 'ds.tag', 'pk': 64, 'fields': {'tag': 'crime data'}},\n",
       " {'model': 'ds.tag', 'pk': 65, 'fields': {'tag': 'poverty'}},\n",
       " {'model': 'ds.tag', 'pk': 66, 'fields': {'tag': 'jail'}},\n",
       " {'model': 'ds.tag', 'pk': 67, 'fields': {'tag': 'head start'}},\n",
       " {'model': 'ds.tag', 'pk': 68, 'fields': {'tag': 'census'}},\n",
       " {'model': 'ds.tag', 'pk': 69, 'fields': {'tag': 'report cards'}},\n",
       " {'model': 'ds.tag', 'pk': 70, 'fields': {'tag': 'special needs'}},\n",
       " {'model': 'ds.tag', 'pk': 71, 'fields': {'tag': 'human services'}},\n",
       " {'model': 'ds.tag', 'pk': 72, 'fields': {'tag': 'housing'}},\n",
       " {'model': 'ds.tag', 'pk': 73, 'fields': {'tag': 'inmates'}},\n",
       " {'model': 'ds.tag', 'pk': 74, 'fields': {'tag': 'zoning'}},\n",
       " {'model': 'ds.tag', 'pk': 75, 'fields': {'tag': 'loans'}},\n",
       " {'model': 'ds.tag', 'pk': 76, 'fields': {'tag': 'wages'}},\n",
       " {'model': 'ds.tag', 'pk': 77, 'fields': {'tag': 'correctional facilities'}},\n",
       " {'model': 'ds.tag',\n",
       "  'pk': 78,\n",
       "  'fields': {'tag': 'police use of deadly force'}},\n",
       " {'model': 'ds.tag', 'pk': 79, 'fields': {'tag': 'public service'}},\n",
       " {'model': 'ds.tag', 'pk': 80, 'fields': {'tag': 'program'}},\n",
       " {'model': 'ds.tag', 'pk': 81, 'fields': {'tag': 'library'}},\n",
       " {'model': 'ds.tag', 'pk': 82, 'fields': {'tag': 'lunch program'}},\n",
       " {'model': 'ds.tag', 'pk': 83, 'fields': {'tag': 'geospatial'}},\n",
       " {'model': 'ds.tag', 'pk': 84, 'fields': {'tag': 'mortgages'}},\n",
       " {'model': 'ds.tag', 'pk': 85, 'fields': {'tag': 'deeds'}},\n",
       " {'model': 'ds.tag', 'pk': 86, 'fields': {'tag': 'police data'}},\n",
       " {'model': 'ds.tag', 'pk': 87, 'fields': {'tag': 'workforce'}},\n",
       " {'model': 'ds.tag', 'pk': 88, 'fields': {'tag': 'foster care'}},\n",
       " {'model': 'ds.tag', 'pk': 89, 'fields': {'tag': 'city planning'}},\n",
       " {'model': 'ds.tag', 'pk': 90, 'fields': {'tag': 'offenses'}},\n",
       " {'model': 'ds.tag', 'pk': 91, 'fields': {'tag': 'welfare'}},\n",
       " {'model': 'ds.tag', 'pk': 92, 'fields': {'tag': 'closings'}},\n",
       " {'model': 'ds.tag',\n",
       "  'pk': 93,\n",
       "  'fields': {'tag': 'neighborhood tabulation area'}},\n",
       " {'model': 'ds.tag', 'pk': 94, 'fields': {'tag': 'affordable housing'}},\n",
       " {'model': 'ds.tag', 'pk': 95, 'fields': {'tag': 'property'}},\n",
       " {'model': 'ds.tag', 'pk': 96, 'fields': {'tag': 'homelessness'}},\n",
       " {'model': 'ds.tag', 'pk': 97, 'fields': {'tag': 'substance abuse'}},\n",
       " {'model': 'ds.tag', 'pk': 98, 'fields': {'tag': 'community'}},\n",
       " {'model': 'ds.tag', 'pk': 99, 'fields': {'tag': 'check casher'}},\n",
       " {'model': 'ds.tag', 'pk': 100, 'fields': {'tag': 'Troost'}},\n",
       " {'model': 'ds.tag',\n",
       "  'pk': 101,\n",
       "  'fields': {'tag': 'family and support services'}},\n",
       " {'model': 'ds.tag', 'pk': 102, 'fields': {'tag': 'cross-walk'}},\n",
       " {'model': 'ds.tag', 'pk': 103, 'fields': {'tag': 'drugs'}},\n",
       " {'model': 'ds.tag', 'pk': 104, 'fields': {'tag': 'price index'}},\n",
       " {'model': 'ds.tag', 'pk': 105, 'fields': {'tag': 'licenses'}},\n",
       " {'model': 'ds.tag', 'pk': 106, 'fields': {'tag': 'employment'}},\n",
       " {'model': 'ds.tag', 'pk': 107, 'fields': {'tag': 'income'}},\n",
       " {'model': 'ds.tag', 'pk': 108, 'fields': {'tag': 'standards'}},\n",
       " {'model': 'ds.tag', 'pk': 109, 'fields': {'tag': 'facility'}},\n",
       " {'model': 'ds.tag', 'pk': 110, 'fields': {'tag': 'sustainability'}},\n",
       " {'model': 'ds.tag', 'pk': 111, 'fields': {'tag': 'business statistics'}},\n",
       " {'model': 'ds.tag', 'pk': 112, 'fields': {'tag': 'society'}},\n",
       " {'model': 'ds.tag', 'pk': 113, 'fields': {'tag': 'capital access centers'}},\n",
       " {'model': 'ds.tag', 'pk': 114, 'fields': {'tag': 'degrees'}},\n",
       " {'model': 'ds.tag', 'pk': 115, 'fields': {'tag': 'alcohol'}},\n",
       " {'model': 'ds.tag', 'pk': 116, 'fields': {'tag': 'arrests'}},\n",
       " {'model': 'ds.tag', 'pk': 117, 'fields': {'tag': 'layoffs'}},\n",
       " {'model': 'ds.tag', 'pk': 118, 'fields': {'tag': 'metrics'}},\n",
       " {'model': 'ds.tag', 'pk': 119, 'fields': {'tag': 'government facility'}},\n",
       " {'model': 'ds.tag', 'pk': 120, 'fields': {'tag': 'social'}},\n",
       " {'model': 'ds.tag', 'pk': 121, 'fields': {'tag': 'police shootings'}},\n",
       " {'model': 'ds.tag', 'pk': 122, 'fields': {'tag': 'domestic violence'}},\n",
       " {'model': 'ds.tag', 'pk': 123, 'fields': {'tag': 'census tracts'}},\n",
       " {'model': 'ds.tag', 'pk': 124, 'fields': {'tag': 'projection'}},\n",
       " {'model': 'ds.tag', 'pk': 125, 'fields': {'tag': 'financial'}},\n",
       " {'model': 'ds.tag', 'pk': 126, 'fields': {'tag': 'insurance'}},\n",
       " {'model': 'ds.tag', 'pk': 127, 'fields': {'tag': 'banking'}},\n",
       " {'model': 'ds.tag', 'pk': 128, 'fields': {'tag': 'neighborhoods'}},\n",
       " {'model': 'ds.tag', 'pk': 129, 'fields': {'tag': 'residency'}},\n",
       " {'model': 'ds.tag', 'pk': 130, 'fields': {'tag': 'consumers'}},\n",
       " {'model': 'ds.tag', 'pk': 131, 'fields': {'tag': 'community facility'}},\n",
       " {'model': 'ds.tag', 'pk': 132, 'fields': {'tag': 'family'}},\n",
       " {'model': 'ds.tag', 'pk': 133, 'fields': {'tag': 'college enrollment'}},\n",
       " {'model': 'ds.tag', 'pk': 134, 'fields': {'tag': 'economic'}},\n",
       " {'model': 'ds.tag', 'pk': 135, 'fields': {'tag': 'geography'}},\n",
       " {'model': 'ds.tag', 'pk': 136, 'fields': {'tag': 'region of employer'}},\n",
       " {'model': 'ds.tag', 'pk': 137, 'fields': {'tag': 'industry naics'}},\n",
       " {'model': 'ds.tag', 'pk': 138, 'fields': {'tag': 'county of employer'}},\n",
       " {'model': 'ds.tag', 'pk': 139, 'fields': {'tag': 'goods and services'}},\n",
       " {'model': 'ds.tag', 'pk': 140, 'fields': {'tag': 'population'}},\n",
       " {'model': 'ds.tag', 'pk': 141, 'fields': {'tag': 'microloans'}},\n",
       " {'model': 'ds.tag', 'pk': 142, 'fields': {'tag': 'demographics'}},\n",
       " {'model': 'ds.tag', 'pk': 143, 'fields': {'tag': 'senior center'}},\n",
       " {'model': 'ds.tag', 'pk': 144, 'fields': {'tag': 'attendance'}},\n",
       " {'model': 'ds.tag', 'pk': 145, 'fields': {'tag': 're-entry'}},\n",
       " {'model': 'ds.tag', 'pk': 146, 'fields': {'tag': 'schools'}},\n",
       " {'model': 'ds.tag', 'pk': 147, 'fields': {'tag': 'day care'}}]"
      ]
     },
     "execution_count": 57,
     "metadata": {},
     "output_type": "execute_result"
    }
   ],
   "source": [
    "json_list[1]"
   ]
  },
  {
   "cell_type": "code",
   "execution_count": 51,
   "metadata": {},
   "outputs": [
    {
     "data": {
      "text/plain": [
       "'ds.dataset'"
      ]
     },
     "execution_count": 51,
     "metadata": {},
     "output_type": "execute_result"
    }
   ],
   "source": [
    "# {json_list[0][0]['model']:json_list[0][0]['fields'].keys()"
   ]
  },
  {
   "cell_type": "code",
   "execution_count": 55,
   "metadata": {},
   "outputs": [
    {
     "data": {
      "text/plain": [
       "[{'ds.dataset': ['temporal_coverage_end',\n",
       "   'files_total',\n",
       "   'data_classification',\n",
       "   'access_actions_required',\n",
       "   'geographical_coverage',\n",
       "   'keywords',\n",
       "   'dataset_id',\n",
       "   'category',\n",
       "   'dataset_version',\n",
       "   'title',\n",
       "   'data_usage_policy',\n",
       "   'data_steward_organization',\n",
       "   'data_steward',\n",
       "   'files',\n",
       "   'access_requirements',\n",
       "   'description',\n",
       "   'source_url',\n",
       "   'geographical_unit',\n",
       "   'data_provider',\n",
       "   'dataset_documentation',\n",
       "   'dataset_version_date',\n",
       "   'source_archive',\n",
       "   'dataset_citation',\n",
       "   'reference_url',\n",
       "   'temporal_coverage_start',\n",
       "   'file_names',\n",
       "   'created_at',\n",
       "   'updated_at']},\n",
       " {'ds.tag': ['tag']},\n",
       " {'ds.publication': ['methods',\n",
       "   'topics',\n",
       "   'results',\n",
       "   'outcomes',\n",
       "   'geographical_coverage',\n",
       "   'policy_instrument',\n",
       "   'keywords',\n",
       "   'intervention',\n",
       "   'metadata_version_date',\n",
       "   'title',\n",
       "   'abstract',\n",
       "   'files',\n",
       "   'source_url',\n",
       "   'article_id',\n",
       "   'doi',\n",
       "   'intervention_type',\n",
       "   'notes',\n",
       "   'temporal_coverage',\n",
       "   'reference_url',\n",
       "   'article_classification',\n",
       "   'related_datasets',\n",
       "   'authors',\n",
       "   'article_citation']}]"
      ]
     },
     "execution_count": 55,
     "metadata": {},
     "output_type": "execute_result"
    }
   ],
   "source": [
    "[{j[0]['model']:list(j[0]['fields'].keys())} for j in json_list]"
   ]
  },
  {
   "cell_type": "code",
   "execution_count": null,
   "metadata": {},
   "outputs": [],
   "source": []
  }
 ],
 "metadata": {
  "kernelspec": {
   "display_name": "rich_context (Python 3)",
   "language": "python",
   "name": "rich_context"
  },
  "language_info": {
   "codemirror_mode": {
    "name": "ipython",
    "version": 3
   },
   "file_extension": ".py",
   "mimetype": "text/x-python",
   "name": "python",
   "nbconvert_exporter": "python",
   "pygments_lexer": "ipython3",
   "version": "3.6.7"
  }
 },
 "nbformat": 4,
 "nbformat_minor": 2
}
