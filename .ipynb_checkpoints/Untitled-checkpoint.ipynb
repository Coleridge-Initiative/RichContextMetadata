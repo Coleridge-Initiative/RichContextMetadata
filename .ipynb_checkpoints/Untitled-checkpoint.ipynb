{
 "cells": [
  {
   "cell_type": "code",
   "execution_count": 1,
   "metadata": {},
   "outputs": [],
   "source": [
    "import os\n",
    "import json\n",
    "from os import listdir\n",
    "import pandas as pd\n",
    "import dateutil.parser\n",
    "import metadata_funs\n",
    "import xlrd\n",
    "# from datetime import date\n",
    "import datetime\n",
    "from os.path import isfile, join\n",
    "import ntpath\n",
    "import uuid"
   ]
  },
  {
   "cell_type": "markdown",
   "metadata": {},
   "source": [
    "Read in data dictionaries"
   ]
  },
  {
   "cell_type": "code",
   "execution_count": null,
   "metadata": {},
   "outputs": [],
   "source": [
    "ex_data_path = os.path.join(os.getcwd(),'dataset_metadata/ADRF Dataset Metadata.xlsx')\n",
    "xls = pd.ExcelFile(ex_data_path)\n",
    "sheet_to_df_map = pd.read_excel(ex_data_path, sheet_name=None)\n",
    "uniform_sheets = ['course1-datasets','course2-datasets' ,'kcmo-datasets', 'in_data_2019-datasets'\n",
    ", 'mo_data_2019-datasets', 'usda-datasets','bundesbank-rc']"
   ]
  },
  {
   "cell_type": "code",
   "execution_count": null,
   "metadata": {},
   "outputs": [],
   "source": [
    "lim_excel_df_sheets  = []\n",
    "for i,v in enumerate(sheet_to_df_map):\n",
    "    if v in uniform_sheets:\n",
    "        lim_excel_df_sheets.append(sheet_to_df_map[v])"
   ]
  },
  {
   "cell_type": "code",
   "execution_count": null,
   "metadata": {},
   "outputs": [],
   "source": [
    "def intersection(lst1, lst2): \n",
    "    return list(set(lst1) & set(lst2)) \n",
    "  \n",
    "\n",
    "\n"
   ]
  },
  {
   "cell_type": "code",
   "execution_count": null,
   "metadata": {},
   "outputs": [],
   "source": []
  },
  {
   "cell_type": "code",
   "execution_count": 2,
   "metadata": {},
   "outputs": [],
   "source": [
    "def read_data_dictionary():\n",
    "    ex_data_path = os.path.join(os.getcwd(),'dataset_metadata/ADRF Dataset Metadata.xlsx')\n",
    "    xls = pd.ExcelFile(ex_data_path)\n",
    "    sheet_to_df_map = pd.read_excel(ex_data_path, sheet_name=None)\n",
    "    uniform_sheets = ['course1-datasets','course2-datasets' ,'kcmo-datasets', 'in_data_2019-datasets'\n",
    "    , 'mo_data_2019-datasets', 'usda-datasets','bundesbank-rc']\n",
    "    lim_excel_df_sheets  = []\n",
    "    for i,v in enumerate(sheet_to_df_map):\n",
    "        if v in uniform_sheets:\n",
    "            lim_excel_df_sheets.append(sheet_to_df_map[v])\n",
    "    return lim_excel_df_sheets      \n",
    "    "
   ]
  },
  {
   "cell_type": "code",
   "execution_count": 3,
   "metadata": {},
   "outputs": [],
   "source": [
    "def gen_data_dictionary(lim_excel_df_sheets):\n",
    "    common_fields = list(set(lim_excel_df_sheets[6].columns.values) & set(lim_excel_df_sheets[5].columns.values))\n",
    "    new_df_list = []\n",
    "    for i in range(len(lim_excel_df_sheets)):\n",
    "        a = lim_excel_df_sheets[i][common_fields]\n",
    "        new_df_list.append(a)\n",
    "    df = pd.concat(new_df_list).drop_duplicates()\n",
    "    df['uuid'] = [str(uuid.uuid4()) for _ in range(len(df.index))]\n",
    "    return df"
   ]
  },
  {
   "cell_type": "code",
   "execution_count": 4,
   "metadata": {},
   "outputs": [],
   "source": [
    "lim_excel_df_sheets  = read_data_dictionary()\n",
    "dd_df = gen_data_dictionary(lim_excel_df_sheets)"
   ]
  },
  {
   "cell_type": "code",
   "execution_count": 12,
   "metadata": {},
   "outputs": [
    {
     "data": {
      "text/html": [
       "<div>\n",
       "<style scoped>\n",
       "    .dataframe tbody tr th:only-of-type {\n",
       "        vertical-align: middle;\n",
       "    }\n",
       "\n",
       "    .dataframe tbody tr th {\n",
       "        vertical-align: top;\n",
       "    }\n",
       "\n",
       "    .dataframe thead th {\n",
       "        text-align: right;\n",
       "    }\n",
       "</style>\n",
       "<table border=\"1\" class=\"dataframe\">\n",
       "  <thead>\n",
       "    <tr style=\"text-align: right;\">\n",
       "      <th></th>\n",
       "      <th>adrf_id</th>\n",
       "      <th>IN_ADRF</th>\n",
       "      <th>HAS_DATA_DESCRIPTION</th>\n",
       "      <th>DATA_DESC_MACHINE_READ</th>\n",
       "      <th>INGEST_NOTE</th>\n",
       "      <th>DEMO_DATASET</th>\n",
       "      <th>external_id</th>\n",
       "      <th>data_provider</th>\n",
       "      <th>source_url</th>\n",
       "      <th>source_archive</th>\n",
       "      <th>...</th>\n",
       "      <th>geographical_coverage</th>\n",
       "      <th>data_usage_policy</th>\n",
       "      <th>access_actions_required</th>\n",
       "      <th>access_requirements</th>\n",
       "      <th>temporal_coverage_start</th>\n",
       "      <th>temporal_coverage_end</th>\n",
       "      <th>keywords</th>\n",
       "      <th>data_classification</th>\n",
       "      <th>dataset_citation</th>\n",
       "      <th>related_articles</th>\n",
       "    </tr>\n",
       "  </thead>\n",
       "  <tbody>\n",
       "    <tr>\n",
       "      <th>0</th>\n",
       "      <td>adrf-000001</td>\n",
       "      <td>YES</td>\n",
       "      <td>YES</td>\n",
       "      <td>YES</td>\n",
       "      <td>NaN</td>\n",
       "      <td>course_1</td>\n",
       "      <td>NaN</td>\n",
       "      <td>Illinois Department of Corrections</td>\n",
       "      <td>NaN</td>\n",
       "      <td>NaN</td>\n",
       "      <td>...</td>\n",
       "      <td>Illinois</td>\n",
       "      <td>This dataset is restricted to ADRF course part...</td>\n",
       "      <td>This is ADRF course data. In order to access, ...</td>\n",
       "      <td>You must be enrolled in an ADRF class to acces...</td>\n",
       "      <td>1990</td>\n",
       "      <td>2015</td>\n",
       "      <td>criminal justice system,inmates,jail,correctio...</td>\n",
       "      <td>Restricted</td>\n",
       "      <td>Illinois Department of Corrections, 2016, \"Ill...</td>\n",
       "      <td>1,3,5,9,10</td>\n",
       "    </tr>\n",
       "    <tr>\n",
       "      <th>1</th>\n",
       "      <td>adrf-000002</td>\n",
       "      <td>YES</td>\n",
       "      <td>YES</td>\n",
       "      <td>YES</td>\n",
       "      <td>NaN</td>\n",
       "      <td>course_2</td>\n",
       "      <td>NaN</td>\n",
       "      <td>Illinois Department of Corrections</td>\n",
       "      <td>NaN</td>\n",
       "      <td>NaN</td>\n",
       "      <td>...</td>\n",
       "      <td>Illinois</td>\n",
       "      <td>This dataset is restricted to ADRF course part...</td>\n",
       "      <td>This is ADRF course data. In order to access, ...</td>\n",
       "      <td>You must be enrolled in an ADRF class to acces...</td>\n",
       "      <td>1990</td>\n",
       "      <td>2015</td>\n",
       "      <td>criminal justice system,inmates,jail,correctio...</td>\n",
       "      <td>Restricted</td>\n",
       "      <td>Illinois Department of Corrections, 2016, \"Ill...</td>\n",
       "      <td>1,3,5,9,10</td>\n",
       "    </tr>\n",
       "    <tr>\n",
       "      <th>2</th>\n",
       "      <td>adrf-000003</td>\n",
       "      <td>YES</td>\n",
       "      <td>YES</td>\n",
       "      <td>YES</td>\n",
       "      <td>NaN</td>\n",
       "      <td>course_3</td>\n",
       "      <td>NaN</td>\n",
       "      <td>Illinois Department of Employment Security, US...</td>\n",
       "      <td>NaN</td>\n",
       "      <td>NaN</td>\n",
       "      <td>...</td>\n",
       "      <td>Illinois</td>\n",
       "      <td>This dataset is restricted to ADRF course part...</td>\n",
       "      <td>This is ADRF course data. In order to access, ...</td>\n",
       "      <td>You must be enrolled in an ADRF class to acces...</td>\n",
       "      <td>2005</td>\n",
       "      <td>2015</td>\n",
       "      <td>income,welfare,socioeconomics</td>\n",
       "      <td>Restricted</td>\n",
       "      <td>Illinois Department of Economic Security, US C...</td>\n",
       "      <td>1,2,64,65,66,67,68</td>\n",
       "    </tr>\n",
       "    <tr>\n",
       "      <th>3</th>\n",
       "      <td>adrf-000004</td>\n",
       "      <td>YES</td>\n",
       "      <td>YES</td>\n",
       "      <td>YES</td>\n",
       "      <td>NaN</td>\n",
       "      <td>course_4</td>\n",
       "      <td>NaN</td>\n",
       "      <td>US Department of Housing and Urban Development</td>\n",
       "      <td>NaN</td>\n",
       "      <td>NaN</td>\n",
       "      <td>...</td>\n",
       "      <td>Illinois</td>\n",
       "      <td>This dataset is restricted to ADRF course part...</td>\n",
       "      <td>This is ADRF course data. In order to access, ...</td>\n",
       "      <td>You must be enrolled in an ADRF class to acces...</td>\n",
       "      <td>2004</td>\n",
       "      <td>2016</td>\n",
       "      <td>income,welfare,public housing,households,demog...</td>\n",
       "      <td>Restricted</td>\n",
       "      <td>US Department of Housing and Urban Development...</td>\n",
       "      <td>7,8</td>\n",
       "    </tr>\n",
       "    <tr>\n",
       "      <th>4</th>\n",
       "      <td>adrf-000034</td>\n",
       "      <td>YES</td>\n",
       "      <td>YES</td>\n",
       "      <td>YES</td>\n",
       "      <td>NaN</td>\n",
       "      <td>course_5</td>\n",
       "      <td>NaN</td>\n",
       "      <td>Illinois Department of Employment Security, US...</td>\n",
       "      <td>NaN</td>\n",
       "      <td>NaN</td>\n",
       "      <td>...</td>\n",
       "      <td>Illinois</td>\n",
       "      <td>This dataset is restricted to ADRF course part...</td>\n",
       "      <td>This is ADRF course data. In order to access, ...</td>\n",
       "      <td>You must be enrolled in an ADRF class to acces...</td>\n",
       "      <td>2005</td>\n",
       "      <td>2015</td>\n",
       "      <td>income,welfare,socioeconomics,employment</td>\n",
       "      <td>Restricted</td>\n",
       "      <td>Illinois Department of Economic Security, US C...</td>\n",
       "      <td>4,65,66</td>\n",
       "    </tr>\n",
       "  </tbody>\n",
       "</table>\n",
       "<p>5 rows × 31 columns</p>\n",
       "</div>"
      ],
      "text/plain": [
       "       adrf_id IN_ADRF HAS_DATA_DESCRIPTION DATA_DESC_MACHINE_READ  \\\n",
       "0  adrf-000001     YES                  YES                    YES   \n",
       "1  adrf-000002     YES                  YES                    YES   \n",
       "2  adrf-000003     YES                  YES                    YES   \n",
       "3  adrf-000004     YES                  YES                    YES   \n",
       "4  adrf-000034     YES                  YES                    YES   \n",
       "\n",
       "  INGEST_NOTE DEMO_DATASET  external_id  \\\n",
       "0         NaN     course_1          NaN   \n",
       "1         NaN     course_2          NaN   \n",
       "2         NaN     course_3          NaN   \n",
       "3         NaN     course_4          NaN   \n",
       "4         NaN     course_5          NaN   \n",
       "\n",
       "                                       data_provider  source_url  \\\n",
       "0                 Illinois Department of Corrections         NaN   \n",
       "1                 Illinois Department of Corrections         NaN   \n",
       "2  Illinois Department of Employment Security, US...         NaN   \n",
       "3     US Department of Housing and Urban Development         NaN   \n",
       "4  Illinois Department of Employment Security, US...         NaN   \n",
       "\n",
       "   source_archive  ... geographical_coverage  \\\n",
       "0             NaN  ...              Illinois   \n",
       "1             NaN  ...              Illinois   \n",
       "2             NaN  ...              Illinois   \n",
       "3             NaN  ...              Illinois   \n",
       "4             NaN  ...              Illinois   \n",
       "\n",
       "                                   data_usage_policy  \\\n",
       "0  This dataset is restricted to ADRF course part...   \n",
       "1  This dataset is restricted to ADRF course part...   \n",
       "2  This dataset is restricted to ADRF course part...   \n",
       "3  This dataset is restricted to ADRF course part...   \n",
       "4  This dataset is restricted to ADRF course part...   \n",
       "\n",
       "                             access_actions_required  \\\n",
       "0  This is ADRF course data. In order to access, ...   \n",
       "1  This is ADRF course data. In order to access, ...   \n",
       "2  This is ADRF course data. In order to access, ...   \n",
       "3  This is ADRF course data. In order to access, ...   \n",
       "4  This is ADRF course data. In order to access, ...   \n",
       "\n",
       "                                 access_requirements temporal_coverage_start  \\\n",
       "0  You must be enrolled in an ADRF class to acces...                    1990   \n",
       "1  You must be enrolled in an ADRF class to acces...                    1990   \n",
       "2  You must be enrolled in an ADRF class to acces...                    2005   \n",
       "3  You must be enrolled in an ADRF class to acces...                    2004   \n",
       "4  You must be enrolled in an ADRF class to acces...                    2005   \n",
       "\n",
       "  temporal_coverage_end                                           keywords  \\\n",
       "0                  2015  criminal justice system,inmates,jail,correctio...   \n",
       "1                  2015  criminal justice system,inmates,jail,correctio...   \n",
       "2                  2015                      income,welfare,socioeconomics   \n",
       "3                  2016  income,welfare,public housing,households,demog...   \n",
       "4                  2015           income,welfare,socioeconomics,employment   \n",
       "\n",
       "  data_classification                                   dataset_citation  \\\n",
       "0          Restricted  Illinois Department of Corrections, 2016, \"Ill...   \n",
       "1          Restricted  Illinois Department of Corrections, 2016, \"Ill...   \n",
       "2          Restricted  Illinois Department of Economic Security, US C...   \n",
       "3          Restricted  US Department of Housing and Urban Development...   \n",
       "4          Restricted  Illinois Department of Economic Security, US C...   \n",
       "\n",
       "     related_articles  \n",
       "0          1,3,5,9,10  \n",
       "1          1,3,5,9,10  \n",
       "2  1,2,64,65,66,67,68  \n",
       "3                 7,8  \n",
       "4             4,65,66  \n",
       "\n",
       "[5 rows x 31 columns]"
      ]
     },
     "execution_count": 12,
     "metadata": {},
     "output_type": "execute_result"
    }
   ],
   "source": [
    "lim_excel_df_sheets[0].head()"
   ]
  },
  {
   "cell_type": "code",
   "execution_count": 5,
   "metadata": {},
   "outputs": [],
   "source": [
    "dd_dict = dd_df.to_dict('records')"
   ]
  },
  {
   "cell_type": "code",
   "execution_count": null,
   "metadata": {},
   "outputs": [],
   "source": [
    "# dd_df.head()"
   ]
  },
  {
   "cell_type": "code",
   "execution_count": null,
   "metadata": {},
   "outputs": [],
   "source": [
    "# dd_dict"
   ]
  },
  {
   "cell_type": "code",
   "execution_count": null,
   "metadata": {},
   "outputs": [],
   "source": [
    "# dd_dict[0].keys()"
   ]
  },
  {
   "cell_type": "code",
   "execution_count": null,
   "metadata": {},
   "outputs": [],
   "source": [
    "# a = [[type(k[1]) for k in d.items()]  for d in dd_dict]"
   ]
  },
  {
   "cell_type": "code",
   "execution_count": 9,
   "metadata": {},
   "outputs": [],
   "source": [
    "for i in dd_dict:\n",
    "    if isinstance(i['temporal_coverage_end'], datetime.date):\n",
    "        i['temporal_coverage_end'] = str(dateutil.parser.parse(str(i['temporal_coverage_end'])).date())\n",
    "    if isinstance(i['temporal_coverage_start'], datetime.date):\n",
    "        i['temporal_coverage_start'] = str(dateutil.parser.parse(str(i['temporal_coverage_start'])).date())"
   ]
  },
  {
   "cell_type": "code",
   "execution_count": null,
   "metadata": {},
   "outputs": [],
   "source": [
    "x = dd_dict[14]['temporal_coverage_end']\n",
    "isinstance(x, datetime.date)"
   ]
  },
  {
   "cell_type": "code",
   "execution_count": null,
   "metadata": {},
   "outputs": [],
   "source": [
    "a[14]"
   ]
  },
  {
   "cell_type": "code",
   "execution_count": null,
   "metadata": {},
   "outputs": [],
   "source": [
    "[k for k in `]"
   ]
  },
  {
   "cell_type": "code",
   "execution_count": 10,
   "metadata": {},
   "outputs": [],
   "source": [
    "json.dump(dd_dict, open('./datasets.json', 'w'), indent=2)"
   ]
  },
  {
   "cell_type": "code",
   "execution_count": null,
   "metadata": {},
   "outputs": [],
   "source": []
  }
 ],
 "metadata": {
  "kernelspec": {
   "display_name": "Python 3",
   "language": "python",
   "name": "python3"
  },
  "language_info": {
   "codemirror_mode": {
    "name": "ipython",
    "version": 3
   },
   "file_extension": ".py",
   "mimetype": "text/x-python",
   "name": "python",
   "nbconvert_exporter": "python",
   "pygments_lexer": "ipython3",
   "version": "3.7.3"
  }
 },
 "nbformat": 4,
 "nbformat_minor": 2
}
