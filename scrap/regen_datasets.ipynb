{
 "cells": [
  {
   "cell_type": "code",
   "execution_count": 82,
   "metadata": {},
   "outputs": [
    {
     "name": "stdout",
     "output_type": "stream",
     "text": [
      "[NbConvertApp] Converting notebook Untitled.ipynb to script\n",
      "[NbConvertApp] Writing 1774 bytes to Untitled.py\n"
     ]
    }
   ],
   "source": [
    "!jupyter nbconvert --to script Untitled.ipynb"
   ]
  },
  {
   "cell_type": "code",
   "execution_count": 83,
   "metadata": {},
   "outputs": [],
   "source": [
    "import os\n",
    "import pandas as pd\n",
    "import unicodedata\n",
    "import datetime\n",
    "import metadata_funs\n",
    "import json"
   ]
  },
  {
   "cell_type": "code",
   "execution_count": 73,
   "metadata": {},
   "outputs": [],
   "source": [
    "def read_adrf_dataset_md():\n",
    "    linkage_path = os.path.join(os.getcwd(),'metadata/manually_curated_metadata/adrf_metadata.csv')\n",
    "    adrf_md_df = pd.read_csv(linkage_path)\n",
    "    return adrf_md_df\n",
    "\n",
    "\n",
    "def read_manual_ds_names():\n",
    "    manual_dataset_json_path =  os.path.join(os.getcwd(),'metadata/manually_curated_metadata/curated_dataset_names.json')\n",
    "    with open(manual_dataset_json_path) as json_file:\n",
    "        manual_dataset_json = json.load(json_file)\n",
    "    return manual_dataset_json\n",
    "\n",
    "def read_ds_names(adrf_md):\n",
    "    titles = adrf_md.title.unique().tolist()\n",
    "    alias =  adrf_md.alias.unique().tolist()\n",
    "    adrf_ds_names = list(set(titles+alias))\n",
    "    return adrf_ds_names\n",
    "\n"
   ]
  },
  {
   "cell_type": "code",
   "execution_count": 74,
   "metadata": {},
   "outputs": [],
   "source": [
    "adrf_ds_df = read_adrf_dataset_md()\n",
    "adrf_ds_names = read_ds_names(a)\n",
    "man_ds_names = read_manual_ds_names()"
   ]
  },
  {
   "cell_type": "code",
   "execution_count": 75,
   "metadata": {},
   "outputs": [],
   "source": [
    "addl_ds_names = [i for i in man_ds_names if i['title'] not in adrf_ds_names]\n",
    "adrf_dd_dict = adrf_ds_df.to_dict('records')\n"
   ]
  },
  {
   "cell_type": "code",
   "execution_count": 76,
   "metadata": {},
   "outputs": [],
   "source": [
    "final_ds_dict = adrf_dd_dict + addl_ds_names"
   ]
  },
  {
   "cell_type": "code",
   "execution_count": null,
   "metadata": {},
   "outputs": [],
   "source": []
  },
  {
   "cell_type": "code",
   "execution_count": 84,
   "metadata": {},
   "outputs": [],
   "source": [
    "# dd_dict = data_df_full.to_dict('records')\n",
    "dd_dict = final_ds_dict\n",
    "\n",
    "for i in dd_dict:\n",
    "    i['title'] = unicodedata.normalize('NFC',i['title'])\n",
    "    i['dataset_id'] = metadata_funs.get_hash(i['title'],prefix = 'dataset-')\n",
    "    try:\n",
    "        if isinstance(i['temporal_coverage_end'], datetime.date):\n",
    "            i['temporal_coverage_end'] = str(dateutil.parser.parse(str(i['temporal_coverage_end'])).date())\n",
    "        if isinstance(i['temporal_coverage_start'], datetime.date):\n",
    "            i['temporal_coverage_start'] = str(dateutil.parser.parse(str(i['temporal_coverage_start'])).date())\n",
    "    except:\n",
    "        pass"
   ]
  },
  {
   "cell_type": "code",
   "execution_count": 85,
   "metadata": {},
   "outputs": [],
   "source": [
    "json.dump(dd_dict, open('datasets.json', 'w'), indent=2)"
   ]
  },
  {
   "cell_type": "code",
   "execution_count": null,
   "metadata": {},
   "outputs": [],
   "source": [
    "data_df_full['dataset_id'] = data_df_full.title.apply(lambda x: metadata_funs.get_hash(x,prefix = 'dataset-'))\n"
   ]
  }
 ],
 "metadata": {
  "kernelspec": {
   "display_name": "Python 3",
   "language": "python",
   "name": "python3"
  },
  "language_info": {
   "codemirror_mode": {
    "name": "ipython",
    "version": 3
   },
   "file_extension": ".py",
   "mimetype": "text/x-python",
   "name": "python",
   "nbconvert_exporter": "python",
   "pygments_lexer": "ipython3",
   "version": "3.7.3"
  }
 },
 "nbformat": 4,
 "nbformat_minor": 2
}
