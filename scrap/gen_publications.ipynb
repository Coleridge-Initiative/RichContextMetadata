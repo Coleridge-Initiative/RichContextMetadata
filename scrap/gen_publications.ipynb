{
 "cells": [
  {
   "cell_type": "code",
   "execution_count": 1,
   "metadata": {},
   "outputs": [
    {
     "data": {
      "text/plain": [
       "<module 'metadata_funs' from '/Users/sophierand/RichContextMetadata/metadata_funs.py'>"
      ]
     },
     "execution_count": 1,
     "metadata": {},
     "output_type": "execute_result"
    }
   ],
   "source": [
    "import os\n",
    "import json\n",
    "from os import listdir\n",
    "import pandas as pd\n",
    "import dateutil.parser\n",
    "import metadata_funs\n",
    "import xlrd\n",
    "import datetime\n",
    "from os.path import isfile, join\n",
    "import ntpath\n",
    "import uuid\n",
    "import getpass\n",
    "import pandas as pd\n",
    "import dimensions_search_api_client as dscli\n",
    "import time\n",
    "import metadata_funs\n",
    "import importlib\n",
    "import metadata_funs\n",
    "importlib.reload(metadata_funs)"
   ]
  },
  {
   "cell_type": "markdown",
   "metadata": {},
   "source": [
    "Read"
   ]
  },
  {
   "cell_type": "code",
   "execution_count": null,
   "metadata": {},
   "outputs": [],
   "source": [
    "import json\n",
    "\n",
    "with open('data.txt') as json_file:\n",
    "    data = json.load(json_file)"
   ]
  },
  {
   "cell_type": "code",
   "execution_count": null,
   "metadata": {},
   "outputs": [],
   "source": []
  },
  {
   "cell_type": "markdown",
   "metadata": {},
   "source": [
    "Read in datasets"
   ]
  },
  {
   "cell_type": "code",
   "execution_count": 2,
   "metadata": {},
   "outputs": [],
   "source": [
    "dataset_json_path = os.path.join(os.getcwd(),'datasets.json')\n",
    "\n",
    "with open(dataset_json_path) as json_file:\n",
    "    dataset_json = json.load(json_file)\n",
    "dataset_names =[{'dataset_name':d['title'],'dataset_id':d['dataset_id']} for d in dataset_json]"
   ]
  },
  {
   "cell_type": "markdown",
   "metadata": {},
   "source": [
    "Read in manually curated linkages"
   ]
  },
  {
   "cell_type": "code",
   "execution_count": 6,
   "metadata": {},
   "outputs": [],
   "source": [
    "manual_linkages = os.path.join(os.getcwd(),'dataset_metadata/curated_linkages.csv')\n",
    "manual_df = pd.read_csv(manual_linkages)"
   ]
  },
  {
   "cell_type": "code",
   "execution_count": 8,
   "metadata": {},
   "outputs": [],
   "source": [
    "# manual_df_doi.head()"
   ]
  },
  {
   "cell_type": "markdown",
   "metadata": {},
   "source": [
    "Filter out publications without a doi from manually curated linkages. DEAL WITH others later**"
   ]
  },
  {
   "cell_type": "code",
   "execution_count": 44,
   "metadata": {},
   "outputs": [],
   "source": [
    "manual_df_doi = manual_df.loc[manual_df.doi.notnull()]\n",
    "manual_df_doi_dict = manual_df_doi.to_dict('records')"
   ]
  },
  {
   "cell_type": "markdown",
   "metadata": {},
   "source": [
    "Connect to dimensions api"
   ]
  },
  {
   "cell_type": "code",
   "execution_count": 10,
   "metadata": {},
   "outputs": [
    {
     "name": "stdout",
     "output_type": "stream",
     "text": [
      "sr2661@nyu.edu\n"
     ]
    }
   ],
   "source": [
    "user = input()"
   ]
  },
  {
   "cell_type": "code",
   "execution_count": 11,
   "metadata": {},
   "outputs": [
    {
     "name": "stdout",
     "output_type": "stream",
     "text": [
      "········\n"
     ]
    }
   ],
   "source": [
    "password = getpass.getpass()"
   ]
  },
  {
   "cell_type": "code",
   "execution_count": 22,
   "metadata": {},
   "outputs": [
    {
     "name": "stdout",
     "output_type": "stream",
     "text": [
      "API credentials have been set\n"
     ]
    }
   ],
   "source": [
    "api_client = metadata_funs.connect_ds_api(username = user,password = password)"
   ]
  },
  {
   "cell_type": "markdown",
   "metadata": {},
   "source": [
    "Link dois to dataset id and get publication metadata based on doi from dimensions api"
   ]
  },
  {
   "cell_type": "code",
   "execution_count": 34,
   "metadata": {},
   "outputs": [
    {
     "name": "stdout",
     "output_type": "stream",
     "text": [
      "10.2139/ssrn.2756191 \n",
      "10.1016/j.jimonfin.2018.08.012 \n",
      "10.1016/j.jimonfin.2018.08.012 \n",
      "10.1177/0042098017740285\n",
      "10.1016/j.ypmed.2016.08.018\n",
      "10.1371/journal.pone.0124351\n",
      "10.1080/10454446.2018.1428259\n",
      "10.1007/s10603-018-9396-x\n",
      "10.1080/15140326.2018.1526869\n",
      "10.3168/jds.2015-10410\n",
      "10.1016/j.jand.2017.01.011\n",
      "10.1093/erae/jbv032\n",
      "10.1093/erae/jby026\n",
      "10.1093/aepp/ppy018\n",
      "10.1093/ajae/aay002\n",
      "10.1177/0890117117740935\n",
      "10.1177/0890117118786871\n",
      "10.1111/agec.12222\n",
      "10.1111/agec.12143\n",
      "10.1002/hec.3883\n",
      "10.1002/agr.21606\n",
      "10.1080/00036846.2018.1486016\n",
      "10.1111/agec.12444\n",
      "10.1002/jsfa.8633\n",
      "10.3168/jds.2015-10410\n",
      "10.1016/j.aaspro.2016.02.014\n",
      "10.1016/j.wep.2015.12.001\n",
      "10.1162/rest_a_00447\n",
      "10.1162/rest_a_00171\n",
      "10.1515/1935-1682.3088\n",
      "10.1002/agr.20288\n",
      "10.1111/j.1477-9552.2011.00299.x\n",
      "10.2202/1542-0485.1085\n",
      "10.1002/agr.20058\n",
      "10.2202/1542-0485.1075\n",
      "10.1162/003465303765299792\n",
      "10.1111/1468-0262.00194\n",
      "10.1002/agr.21537\n",
      "10.1016/j.foodpol.2017.08.013\n",
      "10.1080/10454446.2018.1428259\n",
      "10.1111/j.1467-9353.2009.01449.x\n",
      "10.1093/erae/jbu033\n",
      "10.1080/00036846.2011.568397\n",
      "10.2202/1542-0485.1353\n",
      "10.2202/1542-0485.1296\n",
      "10.1111/j.1467-6451.2008.00330.x\n",
      "10.1016/j.ijindorg.2006.12.003\n",
      "10.1017/s1074070800022574\n",
      "10.1111/j.1467-9353.2006.00317.x\n",
      "10.1111/j.1574-0862.2006.00136.x\n",
      "10.1016/j.ijresmar.2004.08.002\n",
      "10.1007/s11745-004-1195-5\n",
      "10.1016/j.appet.2017.07.006\n",
      "10.1016/j.jand.2017.01.011\n",
      "10.1016/j.foodqual.2011.02.009\n",
      "10.1177/0890117117740935\n",
      "10.1016/j.econlet.2019.05.020\n",
      "10.1016/j.ijindorg.2018.12.001\n"
     ]
    }
   ],
   "source": [
    "def fetch_curated_metadata(manual_df_doi_dict,dataset_names):\n",
    "    manual_pub_dataset_list = []\n",
    "    for i in manual_df_doi_dict:\n",
    "        time.sleep( 6 )\n",
    "        doi_id = i['doi']\n",
    "        dataset_name = i['dataset_name']\n",
    "        try:\n",
    "            dataset_id = [d for d in dataset_names if d['dataset_name'] == dataset_name][0]['dataset_id']\n",
    "            pub_metadata = metadata_funs.run_doi_search(doi_id,api_client)\n",
    "            if pub_metadata:\n",
    "                pub_metadata.update({'related_dataset': dataset_id})\n",
    "                manual_pub_dataset_list.append(pub_metadata)\n",
    "            elif pub_metadata == None:\n",
    "                pass\n",
    "        except:\n",
    "            pass\n",
    "    return manual_pub_dataset_list"
   ]
  },
  {
   "cell_type": "code",
   "execution_count": null,
   "metadata": {},
   "outputs": [],
   "source": [
    "def main():                   \n",
    "    dataset_names_list = metadata_funs.read_datasets()\n",
    "#     a_dataset_names_listing = [d for d in dataset_names_list if d['dataset_id'] in ['dataset-f442e418ac191ac60f7f','dataset-01bf466ee1063265fc2c']]\n",
    "    user = input()\n",
    "    password = getpass.getpass()\n",
    "    my_api_client = metadata_funs.connect_ds_api(username=user,password=password)\n",
    "    stringsearch_pubs = gen_stringsearch_pub_metadata(api_client = my_api_client, dataset_names_listing=a_dataset_names_listing)\n",
    "    json.dump(stringsearch_pubs, open('./stringsearch_pubs.json', 'w'), indent=2)\n",
    "    return stringsearch_pubs\n",
    "\n",
    "if __name__ == \"__main__\":\n",
    "    main()\n"
   ]
  },
  {
   "cell_type": "code",
   "execution_count": null,
   "metadata": {},
   "outputs": [],
   "source": []
  },
  {
   "cell_type": "code",
   "execution_count": null,
   "metadata": {},
   "outputs": [],
   "source": [
    "def main():\n",
    "    dataset_names = metadata_funs.read_datasets()\n",
    "    user = input()\n",
    "    password = getpass.getpass()\n",
    "    api_client = metadata_funs.connect_ds_api(username=user,password=password)\n",
    "    manual_df_doi_dict =  read_curated_linkages()\n",
    "    manual_pub_dataset_list = fetch_curated_metadata(manual_df_doi_dict,dataset_names,api_client)\n",
    "    json.dump(stringsearch_pubs, open('./stringsearch_pubs.json', 'w'), indent=2)\n",
    "    return stringsearch_pubs\n",
    "\n",
    "\n",
    "def fetch_curated_metadata(manual_df_doi_dict,dataset_names,api_client):\n",
    "    manual_pub_dataset_list = []\n",
    "    for i in manual_df_doi_dict:\n",
    "        time.sleep( 6 )\n",
    "        doi_id = i['doi']\n",
    "        dataset_name = i['dataset_name']\n",
    "        try:\n",
    "            dataset_id = [d for d in dataset_names if d['dataset_name'] == dataset_name][0]['dataset_id']\n",
    "            pub_metadata = metadata_funs.run_doi_search(doi_id,api_client)\n",
    "            if pub_metadata:\n",
    "                pub_metadata.update({'related_dataset': dataset_id})\n",
    "                manual_pub_dataset_list.append(pub_metadata)\n",
    "            elif pub_metadata == None:\n",
    "                pass\n",
    "        except:\n",
    "            pass\n",
    "    return manual_pub_dataset_list"
   ]
  },
  {
   "cell_type": "code",
   "execution_count": 45,
   "metadata": {},
   "outputs": [],
   "source": [
    "# manual_pub_dataset_list[0]"
   ]
  },
  {
   "cell_type": "code",
   "execution_count": 40,
   "metadata": {},
   "outputs": [
    {
     "data": {
      "text/plain": [
       "58"
      ]
     },
     "execution_count": 40,
     "metadata": {},
     "output_type": "execute_result"
    }
   ],
   "source": [
    "len(manual_pub_dataset_list)\n",
    "len(manual_df_doi_dict)"
   ]
  },
  {
   "cell_type": "code",
   "execution_count": null,
   "metadata": {},
   "outputs": [],
   "source": [
    "i = manual_df_doi_dict[0]\n",
    "i"
   ]
  },
  {
   "cell_type": "code",
   "execution_count": 31,
   "metadata": {},
   "outputs": [],
   "source": [
    "# doi_id = i['doi']\n",
    "doi_id = '10.1080/10454446.2018.1428259'\n",
    "dataset_name = i['dataset_name']\n",
    "# dataset_id = [d for d in a_dataset_names_listing if d['dataset_name'] == dataset_name][0]['dataset_id']\n",
    "    "
   ]
  },
  {
   "cell_type": "code",
   "execution_count": 32,
   "metadata": {},
   "outputs": [],
   "source": [
    "pub_metadata = metadata_funs.run_doi_search(doi_id,api_client)"
   ]
  },
  {
   "cell_type": "code",
   "execution_count": 46,
   "metadata": {},
   "outputs": [],
   "source": [
    "# pub_metadata"
   ]
  },
  {
   "cell_type": "code",
   "execution_count": null,
   "metadata": {},
   "outputs": [],
   "source": [
    "manual_pub_dataset_list[0]"
   ]
  },
  {
   "cell_type": "markdown",
   "metadata": {},
   "source": [
    "String search for dataset names in dimensions api and return publication metadata"
   ]
  },
  {
   "cell_type": "code",
   "execution_count": null,
   "metadata": {},
   "outputs": [],
   "source": [
    "import stringsearch_publications\n",
    "import importlib\n",
    "importlib.reload(stringsearch_publications)\n",
    "a = stringsearch_publications.main()"
   ]
  },
  {
   "cell_type": "code",
   "execution_count": 49,
   "metadata": {},
   "outputs": [
    {
     "name": "stdout",
     "output_type": "stream",
     "text": [
      "sr2661@nyu.edu\n",
      "········\n",
      "API credentials have been set\n"
     ]
    }
   ],
   "source": [
    "import manually_curated_publications\n",
    "import importlib\n",
    "importlib.reload(manually_curated_publications)\n",
    "b = manually_curated_publications.main()"
   ]
  },
  {
   "cell_type": "code",
   "execution_count": null,
   "metadata": {},
   "outputs": [],
   "source": []
  }
 ],
 "metadata": {
  "kernelspec": {
   "display_name": "Python 3",
   "language": "python",
   "name": "python3"
  },
  "language_info": {
   "codemirror_mode": {
    "name": "ipython",
    "version": 3
   },
   "file_extension": ".py",
   "mimetype": "text/x-python",
   "name": "python",
   "nbconvert_exporter": "python",
   "pygments_lexer": "ipython3",
   "version": "3.7.3"
  }
 },
 "nbformat": 4,
 "nbformat_minor": 2
}
