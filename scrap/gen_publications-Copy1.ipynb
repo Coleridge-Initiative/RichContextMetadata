{
 "cells": [
  {
   "cell_type": "code",
   "execution_count": null,
   "metadata": {},
   "outputs": [],
   "source": [
    "import os\n",
    "import json\n",
    "from os import listdir\n",
    "import pandas as pd\n",
    "import dateutil.parser\n",
    "import metadata_funs\n",
    "import xlrd\n",
    "import datetime\n",
    "from os.path import isfile, join\n",
    "import ntpath\n",
    "import uuid\n",
    "import getpass\n",
    "import pandas as pd\n",
    "import dimensions_search_api_client as dscli\n",
    "import time\n",
    "import metadata_funs\n",
    "import importlib\n",
    "import metadata_funs\n",
    "importlib.reload(metadata_funs)"
   ]
  },
  {
   "cell_type": "markdown",
   "metadata": {},
   "source": [
    "Read in datasets"
   ]
  },
  {
   "cell_type": "code",
   "execution_count": null,
   "metadata": {},
   "outputs": [],
   "source": [
    "dataset_json_path = os.path.join(os.getcwd(),'datasets.json')\n",
    "\n",
    "with open(dataset_json_path) as json_file:\n",
    "    dataset_json = json.load(json_file)\n",
    "dataset_names =[{'dataset_name':d['title'],'dataset_id':d['dataset_id']} for d in dataset_json]"
   ]
  },
  {
   "cell_type": "markdown",
   "metadata": {},
   "source": [
    "Read in manually curated linkages"
   ]
  },
  {
   "cell_type": "code",
   "execution_count": null,
   "metadata": {},
   "outputs": [],
   "source": [
    "manual_linkages = os.path.join(os.getcwd(),'dataset_metadata/curated_linkages.csv')\n",
    "manual_df = pd.read_csv(manual_linkages)"
   ]
  },
  {
   "cell_type": "code",
   "execution_count": null,
   "metadata": {},
   "outputs": [],
   "source": [
    "manual_df_doi.head()"
   ]
  },
  {
   "cell_type": "markdown",
   "metadata": {},
   "source": [
    "Filter out publications without a doi from manually curated linkages. DEAL WITH others later**"
   ]
  },
  {
   "cell_type": "code",
   "execution_count": null,
   "metadata": {},
   "outputs": [],
   "source": [
    "manual_df_doi = manual_df.loc[manual_df.doi.notnull()]\n",
    "manual_df_doi_dict = manual_df_doi.to_dict('records')"
   ]
  },
  {
   "cell_type": "markdown",
   "metadata": {},
   "source": [
    "Connect to dimensions api"
   ]
  },
  {
   "cell_type": "code",
   "execution_count": null,
   "metadata": {},
   "outputs": [],
   "source": [
    "user = input()"
   ]
  },
  {
   "cell_type": "code",
   "execution_count": null,
   "metadata": {},
   "outputs": [],
   "source": [
    "password = getpass.getpass()"
   ]
  },
  {
   "cell_type": "markdown",
   "metadata": {},
   "source": [
    "Link dois to dataset id and get publication metadata based on doi from dimensions api"
   ]
  },
  {
   "cell_type": "code",
   "execution_count": null,
   "metadata": {},
   "outputs": [],
   "source": [
    "manual_pub_dataset_list = []\n",
    "for i in manual_df_doi_dict:\n",
    "    time.sleep( 6 )\n",
    "    doi_id = i['doi']\n",
    "    dataset_name = i['dataset_name']\n",
    "    dataset_id = [d for d in dataset_names if d['dataset_name'] == dataset_name][0]['dataset_id']\n",
    "    pub_metadata = metadata_funs.run_doi_search(doi_id,api_client)\n",
    "    if pub_metadata:\n",
    "        pub_metadata.update({'related_dataset': dataset_id})\n",
    "        manual_pub_dataset_list.append(pub_metadata)\n",
    "    elif pub_metadata == None:\n",
    "        pass"
   ]
  },
  {
   "cell_type": "code",
   "execution_count": null,
   "metadata": {},
   "outputs": [],
   "source": [
    "manual_pub_dataset_list[0]"
   ]
  },
  {
   "cell_type": "code",
   "execution_count": null,
   "metadata": {},
   "outputs": [],
   "source": [
    "pub_metadata.update({'related_dataset': dataset_id})"
   ]
  },
  {
   "cell_type": "code",
   "execution_count": null,
   "metadata": {},
   "outputs": [],
   "source": []
  },
  {
   "cell_type": "code",
   "execution_count": null,
   "metadata": {},
   "outputs": [],
   "source": [
    "a = [d for d in dataset_names if d['dataset_id'] in ['dataset-2ce66b95e41d9a3e6fea','dataset-1f9fd88dff048559b589','dataset-47eaf9ed1d2826c135dc']]\n",
    "\n",
    "a"
   ]
  },
  {
   "cell_type": "markdown",
   "metadata": {},
   "source": [
    "String search for dataset names in dimensions api and return publication metadata"
   ]
  },
  {
   "cell_type": "code",
   "execution_count": null,
   "metadata": {},
   "outputs": [],
   "source": [
    "pub_dataset_list = []\n",
    "# for d in dataset_names[0:20]:\n",
    "for d in a:\n",
    "    time.sleep( 6 )\n",
    "    dataset_name = d['dataset_name']\n",
    "    dataset_id = d['dataset_id']\n",
    "    pub_dataset_dyads  = metadata_funs.return_string_search_dyads(exact_match= True,dataset_string = dataset_name, api_client = api_client)\n",
    "    if pub_dataset_dyads:\n",
    "        pdd = pub_dataset_dyads\n",
    "        try:\n",
    "            pub_title = pdd['title']\n",
    "            journal = pdd['journal']['title']\n",
    "            doi = pdd['doi']\n",
    "            pub_id = \"pub-{}\".format(metadata_funs.get_hash(pub_title,journal,doi))\n",
    "            ds_id_dict = {'dataset_id':dataset_id,'pub_id':pub_id}\n",
    "            pub_dataset_dyads_id = [p.update(ds_id_dict) for p in pub_dataset_dyads]\n",
    "            pub_dataset_list.append(pub_dataset_dyads_id)\n",
    "        except:\n",
    "            pass"
   ]
  },
  {
   "cell_type": "code",
   "execution_count": null,
   "metadata": {},
   "outputs": [],
   "source": [
    "# pdd"
   ]
  },
  {
   "cell_type": "code",
   "execution_count": null,
   "metadata": {},
   "outputs": [],
   "source": [
    "pub_title"
   ]
  },
  {
   "cell_type": "code",
   "execution_count": null,
   "metadata": {},
   "outputs": [],
   "source": [
    "pdd"
   ]
  },
  {
   "cell_type": "code",
   "execution_count": null,
   "metadata": {},
   "outputs": [],
   "source": [
    "dataset_names\n",
    "# pub_dataset_list"
   ]
  },
  {
   "cell_type": "code",
   "execution_count": null,
   "metadata": {},
   "outputs": [],
   "source": [
    "metadata_funs.return_string_search_dyads(exact_match= True,dataset_string = 'Illinois Department of Human Services (IDHS) Point-In-Time Files: Time Invariant Characteristics', api_client = api_client)\n",
    "\n",
    "\n"
   ]
  },
  {
   "cell_type": "code",
   "execution_count": null,
   "metadata": {},
   "outputs": [],
   "source": [
    "title = 'Cyclical Investment Behavior across Financial Institutions'\n",
    "doi = '10.1016/j.jfineco.2018.04.012'\n",
    "journal = 'Journal of Financial Economics'\n",
    "gen_datasets.get_hash([doi, journal, title])"
   ]
  },
  {
   "cell_type": "code",
   "execution_count": null,
   "metadata": {},
   "outputs": [],
   "source": [
    "# 'pub_datasets.json'"
   ]
  },
  {
   "cell_type": "markdown",
   "metadata": {},
   "source": [
    "FOR STRING SEARCH PY"
   ]
  },
  {
   "cell_type": "code",
   "execution_count": null,
   "metadata": {},
   "outputs": [],
   "source": [
    "import getpass\n",
    "import pandas\n",
    "import metadata_funs\n",
    "\n",
    "\n",
    "def gen_stringsearch_pub_metadata(api_client,dataset_names):\n",
    "    pub_dataset_list = []\n",
    "    for d in dataset_names:\n",
    "        time.sleep( 6 )\n",
    "        dataset_name = d['dataset_name']\n",
    "        dataset_id = d['dataset_id']\n",
    "        pub_dataset_dyads  = metadata_funs.return_string_search_dyads(exact_match= True,dataset_string = dataset_name, api_client = api_client)\n",
    "        if pub_dataset_dyads:\n",
    "            pdd = pub_dataset_dyads\n",
    "            try:\n",
    "                pub_title = pdd['title']\n",
    "                journal = pdd['journal']['title']\n",
    "                doi = pdd['doi']\n",
    "                pub_id = \"pub-{}\".format(metadata_funs.get_hash(pub_title,journal,doi))\n",
    "                ds_id_dict = {'dataset_id':dataset_id,'pub_id':pub_id}\n",
    "                pub_dataset_dyads_id = [p.update(ds_id_dict) for p in pub_dataset_dyads]\n",
    "                pub_dataset_list.append(pub_dataset_dyads_id)\n",
    "            except:\n",
    "                pass\n",
    "        return(pub_dataset_list)\n",
    "\n",
    "# if __name__ == \"__main__\":\n",
    "#     user = input()\n",
    "#     password = getpass.getpass()\n",
    "#     dataset_names_list = metadata_funs.read_datasets()\n",
    "#     api_client = connect_ds_api(username,password)\n",
    "#     stringsearch_pub_dataset_list = gen_stringsearch_pub_metadata(api_client = api_client ,dataset_names = dataset_names_list)\n",
    "#     return stringsearch_pub_dataset_list\n"
   ]
  },
  {
   "cell_type": "code",
   "execution_count": null,
   "metadata": {},
   "outputs": [],
   "source": [
    "user = input()\n",
    "password = getpass.getpass()"
   ]
  },
  {
   "cell_type": "code",
   "execution_count": null,
   "metadata": {},
   "outputs": [],
   "source": [
    "import metadata_funs\n",
    "import importlib\n",
    "importlib.reload(metadata_funs)"
   ]
  },
  {
   "cell_type": "code",
   "execution_count": null,
   "metadata": {},
   "outputs": [],
   "source": [
    "dataset_names_list = metadata_funs.read_datasets()\n",
    "a_dataset_names_listing = [d for d in dataset_names_list if d['dataset_id'] in ['dataset-f442e418ac191ac60f7f','dataset-01bf466ee1063265fc2c']]\n",
    "# dataset_names_listing = [d for d in dataset_names_list if d['dataset_id'] in ['dataset-f442e418ac191ac60f7f','dataset-01bf466ee1063265fc2c','dataset-b86a78e33e05bceecbb4']]\n",
    "api_client = metadata_funs.connect_ds_api(username = user,password = password)"
   ]
  },
  {
   "cell_type": "code",
   "execution_count": null,
   "metadata": {},
   "outputs": [],
   "source": [
    "dataset_names_listing"
   ]
  },
  {
   "cell_type": "code",
   "execution_count": null,
   "metadata": {},
   "outputs": [],
   "source": [
    "stringsearch_pub_dataset_list = gen_stringsearch_pub_metadata(api_client = api_client ,dataset_names = dataset_names_listing)\n"
   ]
  },
  {
   "cell_type": "code",
   "execution_count": null,
   "metadata": {},
   "outputs": [],
   "source": [
    "stringsearch_pub_dataset_list"
   ]
  },
  {
   "cell_type": "code",
   "execution_count": null,
   "metadata": {},
   "outputs": [],
   "source": [
    "dataset_names_listing"
   ]
  },
  {
   "cell_type": "code",
   "execution_count": null,
   "metadata": {},
   "outputs": [],
   "source": [
    "pub_dataset_list = []\n",
    "for d in dataset_names_listing:\n",
    "    time.sleep( 6 )\n",
    "    dataset_name = d['dataset_name']\n",
    "    dataset_id = d['dataset_id']\n",
    "    pub_dataset_dyads  = metadata_funs.return_string_search_dyads(exact_match= True,dataset_string = dataset_name, api_client = api_client)\n",
    "    if pub_dataset_dyads:\n",
    "        for pdd in pub_dataset_dyads:\n",
    "            pd_dyad = []\n",
    "#         pdd = pub_dataset_dyads[0]\n",
    "            try:\n",
    "                pub_title = pdd['title']\n",
    "                journal = pdd['journal']['title']\n",
    "                doi = pdd['doi']\n",
    "                pub_id = \"pub-{}\".format((metadata_funs.get_hash(pub_title,journal,doi)))\n",
    "                ds_id_dict = {'dataset_id':dataset_id,'pub_id':pub_id}\n",
    "                pub_dataset_dyads_id = [p.update(ds_id_dict) for p in pub_dataset_dyads]\n",
    "                print(pub_dataset_dyads_id)\n",
    "                pd_dyad.append(pub_dataset_dyads_id)\n",
    "            except:\n",
    "                pass"
   ]
  },
  {
   "cell_type": "code",
   "execution_count": null,
   "metadata": {},
   "outputs": [],
   "source": [
    "d =  'IRI Consumer Network'\n",
    "pub_dataset_dyads  = metadata_funs.return_string_search_dyads(exact_match= True,dataset_string = d, api_client = api_client)\n",
    "        \n",
    "        \n",
    "        "
   ]
  },
  {
   "cell_type": "code",
   "execution_count": null,
   "metadata": {},
   "outputs": [],
   "source": [
    "def gen_stringsearch_pub_metadata(api_client,dataset_names_listing):\n",
    "    pub_dataset_list = []\n",
    "    for d in dataset_names_listing:\n",
    "        time.sleep( 6 )\n",
    "        dataset_name = d['dataset_name']\n",
    "        dataset_id = d['dataset_id']\n",
    "        pub_dataset_dyads  = metadata_funs.return_string_search_dyads(exact_match= True,dataset_string = dataset_name, api_client = api_client)\n",
    "        if pub_dataset_dyads:\n",
    "            pdd_list = []\n",
    "            for pdd in pub_dataset_dyads:\n",
    "                related_dataset_id = [a['dataset_id'] for a in dataset_names_listing if a['dataset_name'] == dataset_name][0]\n",
    "                pdd.update({'related_dataset':related_dataset_id})\n",
    "                pdd_list.append(pdd)\n",
    "            pub_dataset_list.append(pdd_list)\n",
    "        elif not pub_dataset_dyads:\n",
    "            pass\n",
    "    pub_dataset_list_final = metadata_funs.flatten(pub_dataset_list)\n",
    "    return pub_dataset_list_final\n",
    "                   \n",
    "            "
   ]
  },
  {
   "cell_type": "code",
   "execution_count": null,
   "metadata": {},
   "outputs": [],
   "source": [
    "my_api_client = metadata_funs.connect_ds_api(username=user,password=password)\n",
    "thing = gen_stringsearch_pub_metadata(api_client = my_api_client, dataset_names_listing=a_dataset_names_listing)"
   ]
  },
  {
   "cell_type": "code",
   "execution_count": null,
   "metadata": {},
   "outputs": [],
   "source": [
    "thing"
   ]
  },
  {
   "cell_type": "code",
   "execution_count": null,
   "metadata": {},
   "outputs": [],
   "source": [
    "gen_stringsearch_pub_metadata()"
   ]
  },
  {
   "cell_type": "code",
   "execution_count": null,
   "metadata": {},
   "outputs": [],
   "source": [
    "a = metadata_funs.flatten(pub_dataset_list)"
   ]
  },
  {
   "cell_type": "code",
   "execution_count": null,
   "metadata": {},
   "outputs": [],
   "source": [
    "# a[0]"
   ]
  },
  {
   "cell_type": "code",
   "execution_count": null,
   "metadata": {},
   "outputs": [],
   "source": [
    "pdd = pub_dataset_dyads[0]\n",
    "\n",
    "related_dataset_id = [a['dataset_id'] for a in dataset_names_listing if a['dataset_name'] == d][0]\n",
    "related_dataset_id\n",
    "pdd.update({'related_dataset':related_dataset_id})\n",
    "pdd"
   ]
  },
  {
   "cell_type": "code",
   "execution_count": null,
   "metadata": {},
   "outputs": [],
   "source": [
    "dataset_names_listing\n",
    "d"
   ]
  },
  {
   "cell_type": "code",
   "execution_count": null,
   "metadata": {},
   "outputs": [],
   "source": [
    "len(pub_dataset_dyads)\n",
    "for pdd in pub_dataset_dyads:\n",
    "    pd_dyad = []\n",
    "        try:\n",
    "            pub_title = pdd['title']\n",
    "            journal = pdd['journal']['title']\n",
    "            doi = pdd['doi']\n",
    "            pub_id = \"pub-{}\".format((metadata_funs.get_hash(pub_title,journal,doi)))\n",
    "            ds_id_dict = {'dataset_id':dataset_id,'pub_id':pub_id}\n",
    "            pub_dataset_dyads_id = [p.update(ds_id_dict) for p in pub_dataset_dyads]\n",
    "            print(pub_dataset_dyads_id)\n",
    "            pd_dyad.append(pub_dataset_dyads_id)\n",
    "        except:\n",
    "            pass"
   ]
  },
  {
   "cell_type": "code",
   "execution_count": null,
   "metadata": {},
   "outputs": [],
   "source": [
    "metadata_funs.get_hash((pub_title,journal,doi))"
   ]
  },
  {
   "cell_type": "markdown",
   "metadata": {},
   "source": [
    "FOR MANuaLLY CURATED LINKAGS"
   ]
  },
  {
   "cell_type": "code",
   "execution_count": null,
   "metadata": {},
   "outputs": [],
   "source": [
    "import getpass\n",
    "import pandas\n",
    "import datetime\n",
    "import time\n",
    "import os\n",
    "import pandas as pd\n",
    "import metadata_funs\n",
    "importlib.reload(metadata_funs)\n"
   ]
  },
  {
   "cell_type": "code",
   "execution_count": null,
   "metadata": {},
   "outputs": [],
   "source": [
    "# import getpass\n",
    "# import pandas\n",
    "# import metadata_funs\n",
    "\n",
    "\n",
    "def read_curated_linkages():\n",
    "    manual_linkages = os.path.join(os.getcwd(),'dataset_metadata/curated_linkages.csv')\n",
    "    manual_df = pd.read_csv(manual_linkages)\n",
    "    manual_df_doi = manual_df.loc[manual_df.doi.notnull()]\n",
    "    manual_df_doi_dict = manual_df_doi.to_dict('records')\n",
    "    return manual_df_doi_dict\n",
    "\n",
    "\n",
    "def fetch_curated_metadata(manual_df_doi_dict,api_client,dataset_names):\n",
    "    manual_pub_dataset_list = []\n",
    "    for i in manual_df_doi_dict:\n",
    "        time.sleep( 6 )\n",
    "        doi_id = i['doi']\n",
    "        dataset_name = i['dataset_name']\n",
    "        dataset_id = [d for d in dataset_names if d['dataset_name'] == dataset_name][0]['dataset_id']\n",
    "        pub_metadata = metadata_funs.run_doi_search(doi_id,api_client)\n",
    "        if pub_metadata:\n",
    "            pub_metadata.update({'related_dataset': dataset_id})\n",
    "            manual_pub_dataset_list.append(pub_metadata)\n",
    "        elif pub_metadata == None:\n",
    "            pass\n",
    "        return manual_pub_dataset_list\n",
    "\n",
    "\n",
    "if __name__ == \"__main__\":\n",
    "    user = input()\n",
    "    password = getpass.getpass()\n",
    "    dataset_names_list = metadata_funs.read_datasets()\n",
    "    api_client = connect_ds_api(username,password)\n",
    "    manual_df_doi_dict = read_curated_linkages()\n",
    "    curated_pub_dataset_list = fetch_curated_metadata(api_client = api_client ,manual_df_doi_dict = manual_df_doi_dict)\n",
    "    return \n"
   ]
  },
  {
   "cell_type": "code",
   "execution_count": null,
   "metadata": {},
   "outputs": [],
   "source": [
    "user = input()\n",
    "password = getpass.getpass()\n"
   ]
  },
  {
   "cell_type": "code",
   "execution_count": null,
   "metadata": {},
   "outputs": [],
   "source": [
    "dataset_names_listing = metadata_funs.read_datasets()\n",
    "api_client = metadata_funs.connect_ds_api(username = user,password = password)\n"
   ]
  },
  {
   "cell_type": "code",
   "execution_count": null,
   "metadata": {},
   "outputs": [],
   "source": [
    "manual_df_doi_dict = read_curated_linkages()\n",
    "# curated_pub_dataset_list = fetch_curated_metadata(api_client = api_client ,manual_df_doi_dict = manual_df_doi_dict,dataset_names = dataset_names_list)\n"
   ]
  },
  {
   "cell_type": "code",
   "execution_count": null,
   "metadata": {},
   "outputs": [],
   "source": [
    "manual_df_doi_dict"
   ]
  },
  {
   "cell_type": "code",
   "execution_count": null,
   "metadata": {},
   "outputs": [],
   "source": [
    "doi_id = '10.1371/journal.pone.0124351'\n",
    "doi_search_string = 'search publications where doi = \"{}\" return publications[all] limit 1'.format(doi_id)\n",
    "# doi_response = api_client.execute_query( query_string_IN=doi_search_string )\n",
    "# manual_df_doi_dict"
   ]
  },
  {
   "cell_type": "code",
   "execution_count": null,
   "metadata": {},
   "outputs": [],
   "source": [
    "doi_search_string"
   ]
  },
  {
   "cell_type": "code",
   "execution_count": null,
   "metadata": {},
   "outputs": [],
   "source": [
    "api_client.execute_query(doi_search_string)"
   ]
  },
  {
   "cell_type": "code",
   "execution_count": null,
   "metadata": {},
   "outputs": [],
   "source": [
    "manual_pub_dataset_list = []\n",
    "for i in manual_df_doi_dict:\n",
    "    time.sleep( 6 )\n",
    "    doi_id = i['doi']\n",
    "    dataset_name = i['dataset_name']\n",
    "    dataset_id = [d for d in dataset_names_listing if d['dataset_name'] == dataset_name][0]['dataset_id']\n",
    "    pub_metadata = metadata_funs.run_doi_search(doi_id,api_client)\n",
    "    if pub_metadata:\n",
    "        pub_metadata.update({'related_dataset': dataset_id})\n",
    "        manual_pub_dataset_list.append(pub_metadata)\n",
    "    elif pub_metadata == None:\n",
    "        pass"
   ]
  },
  {
   "cell_type": "code",
   "execution_count": null,
   "metadata": {},
   "outputs": [],
   "source": [
    "import stringsearch_publications\n",
    "import importlib\n",
    "importlib.reload(stringsearch_publications)"
   ]
  },
  {
   "cell_type": "code",
   "execution_count": null,
   "metadata": {},
   "outputs": [],
   "source": [
    "a = stringsearch_publications.main()"
   ]
  },
  {
   "cell_type": "code",
   "execution_count": null,
   "metadata": {},
   "outputs": [],
   "source": [
    "import metadata_funs\n",
    "import gen_datasets\n",
    "import pandas as pd\n",
    "import metadata_funs\n",
    "import getpass\n",
    "import pandas\n",
    "import json\n",
    "import datetime\n",
    "import time\n",
    "import os\n",
    "import pandas as pd\n",
    "import metadata_funs\n"
   ]
  },
  {
   "cell_type": "code",
   "execution_count": null,
   "metadata": {},
   "outputs": [],
   "source": [
    "dataset_names_list = metadata_funs.read_datasets()\n",
    "a_dataset_names_listing = [d for d in dataset_names_list if d['dataset_id'] in ['dataset-f442e418ac191ac60f7f','dataset-01bf466ee1063265fc2c']]\n",
    "user = input()\n",
    "password = getpass.getpass()\n"
   ]
  },
  {
   "cell_type": "code",
   "execution_count": null,
   "metadata": {},
   "outputs": [],
   "source": [
    "my_api_client = metadata_funs.connect_ds_api(username=user,password=password)\n",
    "stringsearch_pubs = stringsearch_publications.gen_stringsearch_pub_metadata(api_client = my_api_client, dataset_names_listing=a_dataset_names_listing)\n",
    "json.dump(stringsearch_pubs, open('./stringsearch_pubs.json', 'w'), indent=2)\n"
   ]
  },
  {
   "cell_type": "code",
   "execution_count": null,
   "metadata": {},
   "outputs": [],
   "source": [
    "stringsearch_pubs[0]"
   ]
  },
  {
   "cell_type": "code",
   "execution_count": null,
   "metadata": {},
   "outputs": [],
   "source": []
  },
  {
   "cell_type": "code",
   "execution_count": null,
   "metadata": {},
   "outputs": [],
   "source": [
    "json.dump(stringsearch_pubs, open('./stringsearch_pubs.json', 'w'), indent=2)"
   ]
  }
 ],
 "metadata": {
  "kernelspec": {
   "display_name": "Python 3",
   "language": "python",
   "name": "python3"
  },
  "language_info": {
   "codemirror_mode": {
    "name": "ipython",
    "version": 3
   },
   "file_extension": ".py",
   "mimetype": "text/x-python",
   "name": "python",
   "nbconvert_exporter": "python",
   "pygments_lexer": "ipython3",
   "version": "3.7.3"
  }
 },
 "nbformat": 4,
 "nbformat_minor": 2
}
