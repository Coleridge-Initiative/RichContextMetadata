{
 "cells": [
  {
   "cell_type": "code",
   "execution_count": 24,
   "metadata": {},
   "outputs": [
    {
     "data": {
      "text/plain": [
       "<module 'metadata_funs' from '/home/sophierand/RichContextMetadata/metadata_funs.py'>"
      ]
     },
     "execution_count": 24,
     "metadata": {},
     "output_type": "execute_result"
    }
   ],
   "source": [
    "import getpass\n",
    "import sys\n",
    "import pandas as pd\n",
    "import time\n",
    "import importlib\n",
    "import os\n",
    "sys.path.append('/home/sophierand/RichContextMetadata')\n",
    "import metadata_funs\n",
    "importlib.reload(metadata_funs)"
   ]
  },
  {
   "cell_type": "code",
   "execution_count": 25,
   "metadata": {},
   "outputs": [],
   "source": [
    "dataset_dict = {'IRI Consumer Network data':['IRI consumer network data','Proprietary household scanner data'\n",
    "                                            ,'IRI household scanner data','IRI consumer network panel'\n",
    "                                            ,'IRI consumer panel data']\n",
    "               ,'IRI Infoscan data':['IRI Infoscan data','IRI Infoscan panel','IRI retail scanner data'\n",
    "                                    ,'InfoScan database','retail scanner data']}\n"
   ]
  },
  {
   "cell_type": "code",
   "execution_count": 26,
   "metadata": {},
   "outputs": [],
   "source": [
    "dataset_strings = ['IRI Infoscan data','IRI Infoscan panel','IRI retail scanner data'\n",
    ",'IRI consumer network data','Proprietary household scanner data','IRI household scanner data'\n",
    ",'InfoScan database','IRI consumer network panel','IRI consumer panel data','retail scanner data']"
   ]
  },
  {
   "cell_type": "code",
   "execution_count": 27,
   "metadata": {},
   "outputs": [
    {
     "name": "stdout",
     "output_type": "stream",
     "text": [
      "sr2661@nyu.edu\n"
     ]
    }
   ],
   "source": [
    "user = input()"
   ]
  },
  {
   "cell_type": "code",
   "execution_count": 28,
   "metadata": {},
   "outputs": [
    {
     "name": "stdout",
     "output_type": "stream",
     "text": [
      "········\n"
     ]
    }
   ],
   "source": [
    "password = getpass.getpass()"
   ]
  },
  {
   "cell_type": "code",
   "execution_count": 29,
   "metadata": {},
   "outputs": [
    {
     "name": "stdout",
     "output_type": "stream",
     "text": [
      "API credentials have been set\n"
     ]
    }
   ],
   "source": [
    "api_client  = metadata_funs.connect_ds_api(username = user, password = password)"
   ]
  },
  {
   "cell_type": "code",
   "execution_count": 30,
   "metadata": {},
   "outputs": [],
   "source": [
    "dataset_dyads = []\n",
    "for d in dataset_strings:\n",
    "    pub_dataset_dyads  = metadata_funs.return_string_search_dyads(exact_match= True,dataset_string = d, api_client = api_client)\n",
    "    dataset_dyads.append(pub_dataset_dyads)"
   ]
  },
  {
   "cell_type": "code",
   "execution_count": 31,
   "metadata": {},
   "outputs": [],
   "source": [
    "dataset_dyads_full = metadata_funs.flatten(dataset_dyads)"
   ]
  },
  {
   "cell_type": "code",
   "execution_count": 32,
   "metadata": {},
   "outputs": [],
   "source": [
    "usda_dyad_list = []\n",
    "for d in dataset_dyads_full:\n",
    "    title = d['title']\n",
    "    doi = d['doi']\n",
    "    journal = d['journal']['title']\n",
    "    name = d['dataset_name']\n",
    "    standardized_name = [k for k, v in dataset_dict.items() if name in v][0]\n",
    "    dict_lim = {'title':title,'doi':doi,'journal':journal,'dataset_name':standardized_name}\n",
    "    usda_dyad_list.append(dict_lim)"
   ]
  },
  {
   "cell_type": "code",
   "execution_count": 18,
   "metadata": {},
   "outputs": [
    {
     "ename": "NameError",
     "evalue": "name 'usda_dyad_list' is not defined",
     "output_type": "error",
     "traceback": [
      "\u001b[0;31m---------------------------------------------------------------------------\u001b[0m",
      "\u001b[0;31mNameError\u001b[0m                                 Traceback (most recent call last)",
      "\u001b[0;32m<ipython-input-18-6b00c451ce61>\u001b[0m in \u001b[0;36m<module>\u001b[0;34m\u001b[0m\n\u001b[0;32m----> 1\u001b[0;31m \u001b[0musda_dyad_list\u001b[0m\u001b[0;34m\u001b[0m\u001b[0;34m\u001b[0m\u001b[0m\n\u001b[0m",
      "\u001b[0;31mNameError\u001b[0m: name 'usda_dyad_list' is not defined"
     ]
    }
   ],
   "source": [
    "usda_dyad_list"
   ]
  },
  {
   "cell_type": "code",
   "execution_count": null,
   "metadata": {},
   "outputs": [],
   "source": []
  },
  {
   "cell_type": "code",
   "execution_count": 105,
   "metadata": {},
   "outputs": [],
   "source": [
    "#usda_df =  pd.DataFrame(usda_dyad_list)"
   ]
  },
  {
   "cell_type": "code",
   "execution_count": null,
   "metadata": {},
   "outputs": [],
   "source": [
    "usda_df.to_csv('dyads_for_validation.csv',sep=',')"
   ]
  }
 ],
 "metadata": {
  "kernelspec": {
   "display_name": "rich_context (Python 3)",
   "language": "python",
   "name": "rich_context"
  },
  "language_info": {
   "codemirror_mode": {
    "name": "ipython",
    "version": 3
   },
   "file_extension": ".py",
   "mimetype": "text/x-python",
   "name": "python",
   "nbconvert_exporter": "python",
   "pygments_lexer": "ipython3",
   "version": "3.6.7"
  }
 },
 "nbformat": 4,
 "nbformat_minor": 2
}
