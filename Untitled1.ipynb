{
 "cells": [
  {
   "cell_type": "code",
   "execution_count": 9,
   "metadata": {},
   "outputs": [],
   "source": [
    "import metadata_funs\n",
    "import datetime\n",
    "import dateutil"
   ]
  },
  {
   "cell_type": "code",
   "execution_count": 2,
   "metadata": {},
   "outputs": [],
   "source": [
    "datasets = metadata_funs.read_datasets()"
   ]
  },
  {
   "cell_type": "code",
   "execution_count": 4,
   "metadata": {},
   "outputs": [],
   "source": [
    "i = datasets[0]"
   ]
  },
  {
   "cell_type": "code",
   "execution_count": 5,
   "metadata": {},
   "outputs": [],
   "source": [
    "def assign_id(dataset_entry,fields_to_hash):\n",
    "    hash_vals = [(v) for k,v in dataset_entry.items() if k in fields_to_hash]\n",
    "    dataset_entry['dataset_id'] = \"dataset-\" + metadata_funs.get_hash(hash_vals)\n",
    "    dataset_entry['dataset_id_metadata'] = {'dataset_id':dataset_entry['dataset_id']\n",
    "                                            ,'hashed_columns':fields_to_hash\n",
    "#                                             ,'date_created':datetime.datetime.now()}\n",
    "                                            ,'date_created':str(dateutil.parser.parse(str(datetime.datetime.now())).date())}\n",
    "    return dataset_entry"
   ]
  },
  {
   "cell_type": "code",
   "execution_count": 11,
   "metadata": {},
   "outputs": [],
   "source": [
    "a = assign_id(dataset_entry = i,fields_to_hash = ['title'])"
   ]
  },
  {
   "cell_type": "code",
   "execution_count": 16,
   "metadata": {},
   "outputs": [],
   "source": [
    "fields_to_hash = ['title']\n",
    "hash_vals = [(v) for k,v in i.items() if k in fields_to_hash]\n",
    "b = \"dataset-\" + metadata_funs.get_hash(hash_vals)"
   ]
  },
  {
   "cell_type": "code",
   "execution_count": 17,
   "metadata": {},
   "outputs": [
    {
     "data": {
      "text/plain": [
       "{'access_requirements': 'OnSite',\n",
       " 'source_url': nan,\n",
       " 'data_classification': 'Restricted',\n",
       " 'data_provider': 'Deutsche Bundesbank, Statistics Department (S), Monetary and financial statistics (S 1), External positions of banks (S 12)',\n",
       " 'data_steward': 'Deutsche Bundesbank',\n",
       " 'adrf_id': nan,\n",
       " 'geographical_coverage': 'Worldwide',\n",
       " 'geographical_unit': nan,\n",
       " 'category': 'BalanceSheet,BanksDepositoryInstitutions,InternationalBusiness',\n",
       " 'temporal_coverage_end': '2016-12',\n",
       " 'dataset_citation': 'Deutsche Bundesbank 2017. External Position of Banks. https://www.bundesbank.de/Redaktion/EN/Standardartikel/Bundesbank/Research_Centre/research_data_micro_data_external_position.html, 1 [Version].',\n",
       " 'external_id': 'inexda.4.1',\n",
       " 'data_usage_policy': nan,\n",
       " 'filenames': nan,\n",
       " 'access_actions_required': nan,\n",
       " 'reference_url': 'https://www.bundesbank.de/Redaktion/EN/Standardartikel/Bundesbank/Research_Centre/research_data_micro_data_external_position.html',\n",
       " 'data_steward_org': 'Deutsche Bundesbank, Statistics Department (S), Monetary and financial statistics (S 1), External positions of banks (S 12)',\n",
       " 'keywords': 'MFI,banks,loans,External position of banks',\n",
       " 'temporal_coverage_start': '2002-03',\n",
       " 'title': 'External Position of Banks',\n",
       " 'dataset_version': 1,\n",
       " 'alias': 'AUSTA',\n",
       " 'dataset_documentation': nan,\n",
       " 'dataset_header_desc': nan,\n",
       " 'description': 'The external position of banks shows the assets and liabilities of banks in Germany and their foreign branches and subsidiaries vis-à-vis non-residents. The microdatabase is based on the individual monthly reports of all German banks dating back to January 2003.',\n",
       " 'related_articles': nan,\n",
       " 'source_archive': 'Deutsche Bundesbank Research Data Centre',\n",
       " 'dataset_id': 'dataset-90a10f22212fad2801b2',\n",
       " 'dataset_id_metadata': {'dataset_id': 'dataset-90a10f22212fad2801b2',\n",
       "  'hashed_columns': ['title'],\n",
       "  'date_created': '2019-08-28'}}"
      ]
     },
     "execution_count": 17,
     "metadata": {},
     "output_type": "execute_result"
    }
   ],
   "source": [
    "a"
   ]
  },
  {
   "cell_type": "code",
   "execution_count": 19,
   "metadata": {},
   "outputs": [
    {
     "data": {
      "text/plain": [
       "True"
      ]
     },
     "execution_count": 19,
     "metadata": {},
     "output_type": "execute_result"
    }
   ],
   "source": [
    "b\n",
    "a['dataset_id'] == b"
   ]
  },
  {
   "cell_type": "code",
   "execution_count": null,
   "metadata": {},
   "outputs": [],
   "source": []
  }
 ],
 "metadata": {
  "kernelspec": {
   "display_name": "Python 3",
   "language": "python",
   "name": "python3"
  },
  "language_info": {
   "codemirror_mode": {
    "name": "ipython",
    "version": 3
   },
   "file_extension": ".py",
   "mimetype": "text/x-python",
   "name": "python",
   "nbconvert_exporter": "python",
   "pygments_lexer": "ipython3",
   "version": "3.7.3"
  }
 },
 "nbformat": 4,
 "nbformat_minor": 2
}
