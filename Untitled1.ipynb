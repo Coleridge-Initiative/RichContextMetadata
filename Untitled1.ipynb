{
 "cells": [
  {
   "cell_type": "code",
   "execution_count": 1,
   "metadata": {},
   "outputs": [],
   "source": [
    "import os\n",
    "import pandas as pd\n",
    "import unicodedata\n",
    "import datetime\n",
    "import metadata_funs\n",
    "import json"
   ]
  },
  {
   "cell_type": "code",
   "execution_count": 6,
   "metadata": {},
   "outputs": [],
   "source": [
    "def read_adrf_dataset_md():\n",
    "    linkage_path = os.path.join(os.getcwd(),'metadata/manually_curated_metadata/adrf_metadata.csv')\n",
    "    adrf_md_df = pd.read_csv(linkage_path)\n",
    "    return adrf_md_df\n",
    "\n",
    "\n",
    "def read_manual_ds_names():\n",
    "    manual_dataset_json_path =  os.path.join(os.getcwd(),'metadata/manually_curated_metadata/curated_dataset_names.json')\n",
    "    with open(manual_dataset_json_path) as json_file:\n",
    "        manual_dataset_json = json.load(json_file)\n",
    "    return manual_dataset_json\n",
    "\n",
    "def read_ds_names(adrf_md):\n",
    "    titles = adrf_md.title.unique().tolist()\n",
    "    alias =  adrf_md.alias.unique().tolist()\n",
    "    adrf_ds_names = list(set(titles+alias))\n",
    "    return adrf_ds_names\n",
    "\n",
    "\n",
    "def assign_id(dataset_entry,fields_to_hash):\n",
    "    hash_vals = [(v) for k,v in dataset_entry.items() if k in fields_to_hash]\n",
    "    dataset_entry['dataset_id'] = \"dataset_\" + metadata_funs.get_hash(hash_vals)\n",
    "    dataset_entry['dataset_id_metadata'] = {'dataset_id':dataset_entry['dataset_id']\n",
    "                                            ,'hashed_columns':fields_to_hash\n",
    "                                            ,'date_created':datetime.datetime.now()}\n",
    "    return dataset_entry"
   ]
  },
  {
   "cell_type": "code",
   "execution_count": 3,
   "metadata": {},
   "outputs": [],
   "source": [
    "\n",
    "\n",
    "adrf_ds_df = read_adrf_dataset_md()\n",
    "adrf_ds_names = read_ds_names(adrf_ds_df)\n",
    "man_ds_names = read_manual_ds_names()\n",
    "\n",
    "addl_ds_names = [i for i in man_ds_names if i['title'] not in adrf_ds_names]\n",
    "adrf_dd_dict = adrf_ds_df.to_dict('records')\n",
    "\n",
    "\n",
    "final_ds_dict = adrf_dd_dict + addl_ds_names\n",
    "\n",
    "dd_dict = final_ds_dict"
   ]
  },
  {
   "cell_type": "code",
   "execution_count": 7,
   "metadata": {},
   "outputs": [],
   "source": [
    "i = dd_dict[0]"
   ]
  },
  {
   "cell_type": "code",
   "execution_count": 8,
   "metadata": {},
   "outputs": [],
   "source": [
    "i['title'] = unicodedata.normalize('NFC',i['title'])\n",
    "i = assign_id(dataset_entry = i,fields_to_hash = ['title','data_steward'])\n",
    "# i['dataset_id'] = metadata_funs.get_hash(i['title'],prefix = 'dataset-')\n",
    "# try:\n",
    "#     if isinstance(i['temporal_coverage_end'], datetime.date):\n",
    "#         i['temporal_coverage_end'] = str(dateutil.parser.parse(str(i['temporal_coverage_end'])).date())\n",
    "#     if isinstance(i['temporal_coverage_start'], datetime.date):\n",
    "#         i['temporal_coverage_start'] = str(dateutil.parser.parse(str(i['temporal_coverage_start'])).date())\n"
   ]
  },
  {
   "cell_type": "code",
   "execution_count": 9,
   "metadata": {},
   "outputs": [
    {
     "data": {
      "text/plain": [
       "{'access_requirements': 'OnSite',\n",
       " 'source_url': nan,\n",
       " 'data_classification': 'Restricted',\n",
       " 'data_provider': 'Deutsche Bundesbank, Statistics Department (S), Monetary and financial statistics (S 1), External positions of banks (S 12)',\n",
       " 'data_steward': 'Deutsche Bundesbank',\n",
       " 'adrf_id': nan,\n",
       " 'geographical_coverage': 'Worldwide',\n",
       " 'geographical_unit': nan,\n",
       " 'category': 'BalanceSheet,BanksDepositoryInstitutions,InternationalBusiness',\n",
       " 'temporal_coverage_end': '2016-12',\n",
       " 'dataset_citation': 'Deutsche Bundesbank 2017. External Position of Banks. https://www.bundesbank.de/Redaktion/EN/Standardartikel/Bundesbank/Research_Centre/research_data_micro_data_external_position.html, 1 [Version].',\n",
       " 'external_id': 'inexda.4.1',\n",
       " 'data_usage_policy': nan,\n",
       " 'filenames': nan,\n",
       " 'access_actions_required': nan,\n",
       " 'reference_url': 'https://www.bundesbank.de/Redaktion/EN/Standardartikel/Bundesbank/Research_Centre/research_data_micro_data_external_position.html',\n",
       " 'data_steward_org': 'Deutsche Bundesbank, Statistics Department (S), Monetary and financial statistics (S 1), External positions of banks (S 12)',\n",
       " 'keywords': 'MFI,banks,loans,External position of banks',\n",
       " 'temporal_coverage_start': '2002-03',\n",
       " 'title': 'External Position of Banks',\n",
       " 'dataset_version': 1,\n",
       " 'alias': 'AUSTA',\n",
       " 'new_alias ': 'AUSTA',\n",
       " 'dataset_documentation': nan,\n",
       " 'dataset_header_desc': nan,\n",
       " 'description': 'The external position of banks shows the assets and liabilities of banks in Germany and their foreign branches and subsidiaries vis-à-vis non-residents. The microdatabase is based on the individual monthly reports of all German banks dating back to January 2003.',\n",
       " 'related_articles': nan,\n",
       " 'source_archive': 'Deutsche Bundesbank Research Data Centre',\n",
       " 'dataset_id': 'dataset_8f9a21ab1e7d2124dfef',\n",
       " 'dataset_id_metadata': {'dataset_id': 'dataset_8f9a21ab1e7d2124dfef',\n",
       "  'hashed_columns': ['title', 'data_steward'],\n",
       "  'date_created': datetime.datetime(2019, 8, 28, 14, 16, 9, 809903)}}"
      ]
     },
     "execution_count": 9,
     "metadata": {},
     "output_type": "execute_result"
    }
   ],
   "source": [
    "i"
   ]
  },
  {
   "cell_type": "code",
   "execution_count": null,
   "metadata": {},
   "outputs": [],
   "source": [
    "\n",
    "\n",
    "for i in dd_dict:\n",
    "    i['title'] = unicodedata.normalize('NFC',i['title'])\n",
    "    i = assign_id(dataset_entry = i,fields_to_hash = ['title',''])\n",
    "    i['dataset_id'] = metadata_funs.get_hash(i['title'],prefix = 'dataset-')\n",
    "    try:\n",
    "        if isinstance(i['temporal_coverage_end'], datetime.date):\n",
    "            i['temporal_coverage_end'] = str(dateutil.parser.parse(str(i['temporal_coverage_end'])).date())\n",
    "        if isinstance(i['temporal_coverage_start'], datetime.date):\n",
    "            i['temporal_coverage_start'] = str(dateutil.parser.parse(str(i['temporal_coverage_start'])).date())\n",
    "    except:\n",
    "        pass\n",
    "\n",
    "    \n",
    "dd_dict_lim = [{k: v for k, v in d.items() if k in ['title','dataset_id','alias']} for d in dd_dict]\n"
   ]
  }
 ],
 "metadata": {
  "kernelspec": {
   "display_name": "Python 3",
   "language": "python",
   "name": "python3"
  },
  "language_info": {
   "codemirror_mode": {
    "name": "ipython",
    "version": 3
   },
   "file_extension": ".py",
   "mimetype": "text/x-python",
   "name": "python",
   "nbconvert_exporter": "python",
   "pygments_lexer": "ipython3",
   "version": "3.7.3"
  }
 },
 "nbformat": 4,
 "nbformat_minor": 2
}
