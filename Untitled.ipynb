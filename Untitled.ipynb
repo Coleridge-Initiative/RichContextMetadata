{
 "cells": [
  {
   "cell_type": "code",
   "execution_count": 37,
   "metadata": {},
   "outputs": [],
   "source": [
    "import os\n",
    "import json\n",
    "from os import listdir\n",
    "import metadata_funs\n",
    "from os.path import isfile, join\n",
    "import ntpath\n",
    "# onlyfiles = [f for f in listdir(mypath) if isfile(join(mypath, f))]"
   ]
  },
  {
   "cell_type": "code",
   "execution_count": 15,
   "metadata": {},
   "outputs": [],
   "source": [
    "cwd = os.getcwd()\n",
    "ex_data_path = '/home/sophierand/RichContextMetadata/example_data'\n",
    "ds_json_files = [os.path.join(ex_data_path, f) for f in listdir(ex_data_path)]"
   ]
  },
  {
   "cell_type": "code",
   "execution_count": 16,
   "metadata": {},
   "outputs": [
    {
     "data": {
      "text/plain": [
       "['/home/sophierand/RichContextMetadata/example_data/datasets.json',\n",
       " '/home/sophierand/RichContextMetadata/example_data/tag.json',\n",
       " '/home/sophierand/RichContextMetadata/example_data/publication.json']"
      ]
     },
     "execution_count": 16,
     "metadata": {},
     "output_type": "execute_result"
    }
   ],
   "source": [
    "ds_json_files"
   ]
  },
  {
   "cell_type": "code",
   "execution_count": 59,
   "metadata": {},
   "outputs": [],
   "source": [
    "json_list = []\n",
    "for p in ds_json_files:\n",
    "    with open(p) as json_file:\n",
    "        data = json.load(json_file)\n",
    "        json_list.append(data)"
   ]
  },
  {
   "cell_type": "code",
   "execution_count": 61,
   "metadata": {},
   "outputs": [],
   "source": [
    "field_names_list = [{j[0]['model']:list(j[0]['fields'].keys())} for j in json_list]"
   ]
  },
  {
   "cell_type": "code",
   "execution_count": 62,
   "metadata": {},
   "outputs": [
    {
     "data": {
      "text/plain": [
       "[{'ds.dataset': ['temporal_coverage_end',\n",
       "   'files_total',\n",
       "   'data_classification',\n",
       "   'access_actions_required',\n",
       "   'geographical_coverage',\n",
       "   'keywords',\n",
       "   'dataset_id',\n",
       "   'category',\n",
       "   'dataset_version',\n",
       "   'title',\n",
       "   'data_usage_policy',\n",
       "   'data_steward_organization',\n",
       "   'data_steward',\n",
       "   'files',\n",
       "   'access_requirements',\n",
       "   'description',\n",
       "   'source_url',\n",
       "   'geographical_unit',\n",
       "   'data_provider',\n",
       "   'dataset_documentation',\n",
       "   'dataset_version_date',\n",
       "   'source_archive',\n",
       "   'dataset_citation',\n",
       "   'reference_url',\n",
       "   'temporal_coverage_start',\n",
       "   'file_names',\n",
       "   'created_at',\n",
       "   'updated_at']},\n",
       " {'ds.tag': ['tag']},\n",
       " {'ds.publication': ['methods',\n",
       "   'topics',\n",
       "   'results',\n",
       "   'outcomes',\n",
       "   'geographical_coverage',\n",
       "   'policy_instrument',\n",
       "   'keywords',\n",
       "   'intervention',\n",
       "   'metadata_version_date',\n",
       "   'title',\n",
       "   'abstract',\n",
       "   'files',\n",
       "   'source_url',\n",
       "   'article_id',\n",
       "   'doi',\n",
       "   'intervention_type',\n",
       "   'notes',\n",
       "   'temporal_coverage',\n",
       "   'reference_url',\n",
       "   'article_classification',\n",
       "   'related_datasets',\n",
       "   'authors',\n",
       "   'article_citation']}]"
      ]
     },
     "execution_count": 62,
     "metadata": {},
     "output_type": "execute_result"
    }
   ],
   "source": [
    "field_names_list"
   ]
  },
  {
   "cell_type": "code",
   "execution_count": null,
   "metadata": {},
   "outputs": [],
   "source": []
  }
 ],
 "metadata": {
  "kernelspec": {
   "display_name": "rich_context (Python 3)",
   "language": "python",
   "name": "rich_context"
  },
  "language_info": {
   "codemirror_mode": {
    "name": "ipython",
    "version": 3
   },
   "file_extension": ".py",
   "mimetype": "text/x-python",
   "name": "python",
   "nbconvert_exporter": "python",
   "pygments_lexer": "ipython3",
   "version": "3.6.7"
  }
 },
 "nbformat": 4,
 "nbformat_minor": 2
}
