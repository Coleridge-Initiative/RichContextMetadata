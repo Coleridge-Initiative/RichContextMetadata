{
 "cells": [
  {
   "cell_type": "code",
   "execution_count": 1,
   "metadata": {},
   "outputs": [],
   "source": [
    "import getpass\n",
    "import pandas\n",
    "import datetime\n",
    "import time\n",
    "import os\n",
    "import pandas as pd\n",
    "import metadata_funs\n",
    "import json\n",
    "import importlib\n",
    "importlib.reload(metadata_funs)\n",
    "import datetime\n"
   ]
  },
  {
   "cell_type": "code",
   "execution_count": 2,
   "metadata": {},
   "outputs": [],
   "source": [
    "def read_curated_linkages():\n",
    "    manual_linkages = os.path.join(os.getcwd(),'metadata/manually_curated_metadata/curated_linkages.csv')\n",
    "    manual_df = pd.read_csv(manual_linkages)\n",
    "    manual_df_doi = manual_df.loc[manual_df.doi.notnull()]\n",
    "    manual_df_doi_dict = manual_df_doi.to_dict('records')\n",
    "    return manual_df_doi_dict\n",
    "\n",
    "\n",
    "def fetch_curated_metadata(manual_df_doi_dict,dataset_names,api_client):\n",
    "    manual_pub_dataset_list = []\n",
    "    for i in manual_df_doi_dict:\n",
    "        time.sleep( 6 )\n",
    "        doi_id = i['doi']\n",
    "        dataset_name = i['dataset_name']\n",
    "        try:\n",
    "            dataset_id = [d for d in dataset_names if d['dataset_name'] == dataset_name][0]['dataset_id']\n",
    "            pub_metadata = metadata_funs.run_doi_search(doi_id,api_client)\n",
    "            if pub_metadata:\n",
    "                pub_metadata.update({'related_dataset': dataset_id})\n",
    "                manual_pub_dataset_list.append(pub_metadata)\n",
    "            elif pub_metadata == None:\n",
    "                pass\n",
    "        except:\n",
    "            pass\n",
    "    return manual_pub_dataset_list\n",
    "\n",
    "\n"
   ]
  },
  {
   "cell_type": "code",
   "execution_count": 31,
   "metadata": {},
   "outputs": [],
   "source": [
    "manual_df_doi_dict = read_curated_linkages()\n",
    "manual_df_doi_dict_lim = manual_df_doi_dict[68:70]"
   ]
  },
  {
   "cell_type": "code",
   "execution_count": 8,
   "metadata": {},
   "outputs": [
    {
     "name": "stdout",
     "output_type": "stream",
     "text": [
      "enter your dimensions api username\n",
      "sr2661@nyu.edu\n",
      "enter your dimensions api password\n",
      "········\n",
      "API credentials have been set\n"
     ]
    }
   ],
   "source": [
    "api_client = metadata_funs.create_api_client()"
   ]
  },
  {
   "cell_type": "code",
   "execution_count": 32,
   "metadata": {},
   "outputs": [],
   "source": [
    "dataset_names_list = metadata_funs.read_datasets()"
   ]
  },
  {
   "cell_type": "code",
   "execution_count": 41,
   "metadata": {},
   "outputs": [],
   "source": [
    "dataset_names =[{'dataset_name':d['title'],'dataset_id':d['dataset_id']} for d in dataset_names_list]\n",
    "manual_df_doi_dict =  read_curated_linkages()\n",
    "manual_pub_dataset_list = fetch_curated_metadata(manual_df_doi_dict,dataset_names,api_client)\n",
    "manual_pubs_path = os.path.join(os.getcwd(),'metadata/{}manually_curated_pubs.json'.format(metadata_funs.get_hash(str(datetime.datetime.now()))))\n",
    "    \n",
    "    "
   ]
  },
  {
   "cell_type": "code",
   "execution_count": 49,
   "metadata": {},
   "outputs": [
    {
     "data": {
      "text/plain": [
       "'/Users/sophierand/RichContextMetadata/metadata/20190808manually_curated_pubs.json'"
      ]
     },
     "execution_count": 49,
     "metadata": {},
     "output_type": "execute_result"
    }
   ],
   "source": [
    "# manual_pubs_path = os.path.join(os.getcwd(),'metadata/{}manually_curated_pubs.json'.format(metadata_funs.get_hash(str(datetime.datetime.now()))))\n",
    "\n",
    "manual_pubs_path = os.path.join(os.getcwd(),'metadata/{}manually_curated_pubs.json'.format(str(datetime.datetime.now().strftime('%Y%m%d'))))\n",
    "manual_pubs_path\n",
    "    "
   ]
  },
  {
   "cell_type": "code",
   "execution_count": 43,
   "metadata": {},
   "outputs": [
    {
     "data": {
      "text/plain": [
       "67"
      ]
     },
     "execution_count": 43,
     "metadata": {},
     "output_type": "execute_result"
    }
   ],
   "source": [
    "len(manual_pub_dataset_list)"
   ]
  },
  {
   "cell_type": "code",
   "execution_count": 50,
   "metadata": {},
   "outputs": [],
   "source": [
    "    json.dump(manual_pub_dataset_list, open(manual_pubs_path, 'w'), indent=2)"
   ]
  },
  {
   "cell_type": "code",
   "execution_count": null,
   "metadata": {},
   "outputs": [],
   "source": [
    "def main():\n",
    "    print('enter your dimensions api username')\n",
    "    user = input()\n",
    "    print('enter your dimensions api password')\n",
    "    pw = getpass.getpass()\n",
    "    api_client = metadata_funs.connect_ds_api(username = user, password = pw)\n",
    "#     now = datetime.datetime.now()\n",
    "    dataset_names_list = metadata_funs.read_datasets()\n",
    "    dataset_names =[{'dataset_name':d['title'],'dataset_id':d['dataset_id']} for d in dataset_names_list]\n",
    "    manual_df_doi_dict =  read_curated_linkages()\n",
    "    manual_pub_dataset_list = fetch_curated_metadata(manual_df_doi_dict,dataset_names,api_client)\n",
    "    manual_pubs_path = os.path.join(os.getcwd(),'metadata/{}manually_curated_pubs.json'.format(metadata_funs.get_hash(str(datetime.datetime.now()))))\n",
    "    json.dump(manual_pub_dataset_list, open(manual_pubs_path, 'w'), indent=2)\n",
    "#         json.dump(manual_pub_dataset_list, open('./metadata/manually_curated_pubs.json', 'w'), indent=2)\n",
    "    return manual_pub_dataset_list\n"
   ]
  },
  {
   "cell_type": "code",
   "execution_count": null,
   "metadata": {},
   "outputs": [],
   "source": []
  },
  {
   "cell_type": "code",
   "execution_count": 4,
   "metadata": {},
   "outputs": [
    {
     "data": {
      "text/plain": [
       "'/Users/sophierand/RichContextMetadata/metadata/manually_curated_data/curated_dataset_names.json'"
      ]
     },
     "execution_count": 4,
     "metadata": {},
     "output_type": "execute_result"
    }
   ],
   "source": [
    "publication_json_path"
   ]
  },
  {
   "cell_type": "code",
   "execution_count": 2,
   "metadata": {},
   "outputs": [],
   "source": [
    "import os"
   ]
  },
  {
   "cell_type": "code",
   "execution_count": 3,
   "metadata": {},
   "outputs": [
    {
     "ename": "FileNotFoundError",
     "evalue": "[Errno 2] No such file or directory: '/Users/sophierand/RichContextMetadata/metadata/manually_curated_data/curated_dataset_names.json'",
     "output_type": "error",
     "traceback": [
      "\u001b[0;31m---------------------------------------------------------------------------\u001b[0m",
      "\u001b[0;31mFileNotFoundError\u001b[0m                         Traceback (most recent call last)",
      "\u001b[0;32m<ipython-input-3-1b959bad3293>\u001b[0m in \u001b[0;36m<module>\u001b[0;34m\u001b[0m\n\u001b[1;32m      2\u001b[0m \u001b[0mpublication_json_path\u001b[0m \u001b[0;34m=\u001b[0m \u001b[0mos\u001b[0m\u001b[0;34m.\u001b[0m\u001b[0mpath\u001b[0m\u001b[0;34m.\u001b[0m\u001b[0mjoin\u001b[0m\u001b[0;34m(\u001b[0m\u001b[0mos\u001b[0m\u001b[0;34m.\u001b[0m\u001b[0mgetcwd\u001b[0m\u001b[0;34m(\u001b[0m\u001b[0;34m)\u001b[0m\u001b[0;34m,\u001b[0m\u001b[0;34m'metadata/manually_curated_data/curated_dataset_names.json'\u001b[0m\u001b[0;34m)\u001b[0m\u001b[0;34m\u001b[0m\u001b[0;34m\u001b[0m\u001b[0m\n\u001b[1;32m      3\u001b[0m \u001b[0;34m\u001b[0m\u001b[0m\n\u001b[0;32m----> 4\u001b[0;31m \u001b[0;32mwith\u001b[0m \u001b[0mopen\u001b[0m\u001b[0;34m(\u001b[0m\u001b[0mpublication_json_path\u001b[0m\u001b[0;34m)\u001b[0m \u001b[0;32mas\u001b[0m \u001b[0mjson_file\u001b[0m\u001b[0;34m:\u001b[0m\u001b[0;34m\u001b[0m\u001b[0;34m\u001b[0m\u001b[0m\n\u001b[0m\u001b[1;32m      5\u001b[0m     \u001b[0mpublications_json\u001b[0m \u001b[0;34m=\u001b[0m \u001b[0mjson\u001b[0m\u001b[0;34m.\u001b[0m\u001b[0mload\u001b[0m\u001b[0;34m(\u001b[0m\u001b[0mjson_file\u001b[0m\u001b[0;34m)\u001b[0m\u001b[0;34m\u001b[0m\u001b[0;34m\u001b[0m\u001b[0m\n",
      "\u001b[0;31mFileNotFoundError\u001b[0m: [Errno 2] No such file or directory: '/Users/sophierand/RichContextMetadata/metadata/manually_curated_data/curated_dataset_names.json'"
     ]
    }
   ],
   "source": [
    "\n",
    "publication_json_path = os.path.join(os.getcwd(),'metadata/manually_curated_data/curated_dataset_names.json')\n",
    "\n",
    "with open(publication_json_path) as json_file:\n",
    "    publications_json = json.load(json_file)\n"
   ]
  },
  {
   "cell_type": "code",
   "execution_count": null,
   "metadata": {},
   "outputs": [],
   "source": []
  }
 ],
 "metadata": {
  "kernelspec": {
   "display_name": "Python 3",
   "language": "python",
   "name": "python3"
  },
  "language_info": {
   "codemirror_mode": {
    "name": "ipython",
    "version": 3
   },
   "file_extension": ".py",
   "mimetype": "text/x-python",
   "name": "python",
   "nbconvert_exporter": "python",
   "pygments_lexer": "ipython3",
   "version": "3.7.3"
  }
 },
 "nbformat": 4,
 "nbformat_minor": 2
}
