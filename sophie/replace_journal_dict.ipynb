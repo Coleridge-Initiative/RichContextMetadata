{
 "cells": [
  {
   "cell_type": "code",
   "execution_count": 37,
   "metadata": {},
   "outputs": [],
   "source": [
    "import os\n",
    "import json\n",
    "partitions = [\"/Users/sophierand/RCPublications/partitions/\" + d for d in os.listdir(\"/Users/sophierand/RCPublications/partitions\") if d.endswith('.json')]"
   ]
  },
  {
   "cell_type": "code",
   "execution_count": 38,
   "metadata": {},
   "outputs": [],
   "source": [
    "# partitions"
   ]
  },
  {
   "cell_type": "code",
   "execution_count": 39,
   "metadata": {},
   "outputs": [],
   "source": [
    "def update_journal(data):\n",
    "    for d in data:\n",
    "        try:\n",
    "            d['original']['journal']\n",
    "            if \"{\" in d['original']['journal']:\n",
    "                d['original']['journal'] = d['original']['journal'][33:-2]\n",
    "        except:\n",
    "            pass\n",
    "    return data"
   ]
  },
  {
   "cell_type": "code",
   "execution_count": 41,
   "metadata": {},
   "outputs": [],
   "source": [
    "for p in partitions:\n",
    "    with open(p) as json_file:\n",
    "        data = json.load(json_file)\n",
    "        new_data = update_journal(data)\n",
    "        with open(p, 'w') as outfile:\n",
    "            json.dump(new_data, outfile,indent = 2)\n"
   ]
  },
  {
   "cell_type": "code",
   "execution_count": 36,
   "metadata": {},
   "outputs": [
    {
     "data": {
      "text/plain": [
       "'/Users/sophierand/RCPublications/partitions/.DS_Store'"
      ]
     },
     "execution_count": 36,
     "metadata": {},
     "output_type": "execute_result"
    }
   ],
   "source": []
  },
  {
   "cell_type": "code",
   "execution_count": null,
   "metadata": {},
   "outputs": [],
   "source": [
    "# Unify all the journal names\n",
    "def Unified_Journal(df):\n",
    "    i = 0 \n",
    "    while i < len(df):\n",
    "        if type(df['journal'].iloc[i]) == float:\n",
    "            i = i + 1\n",
    "            continue\n",
    "        if '{' in df['journal'].iloc[i]:\n",
    "            df['journal'].iloc[i] = df['journal'].iloc[i][33:-2]\n",
    "        i = i + 1\n",
    "    return df\n",
    "# Maybe further I should update my algorithm instead of using brutal force, but it seems to work for now."
   ]
  },
  {
   "cell_type": "code",
   "execution_count": 28,
   "metadata": {},
   "outputs": [],
   "source": [
    "for d in data:\n",
    "    try:\n",
    "        d['original']['journal']\n",
    "        if \"{\" in d['original']['journal']:\n",
    "            d['original']['journal'] = d['original']['journal'][33:-2]\n",
    "#         print(type(d['original']['journal']))\n",
    "#         d['original']['journal']\n",
    "#         if type(d['original']['journal']) == float:\n",
    "#             print(d)\n",
    "    except:\n",
    "#         print(d['original'])\n",
    "        pass"
   ]
  },
  {
   "cell_type": "code",
   "execution_count": 29,
   "metadata": {},
   "outputs": [
    {
     "data": {
      "text/plain": [
       "'Labour & Law Issues'"
      ]
     },
     "execution_count": 29,
     "metadata": {},
     "output_type": "execute_result"
    }
   ],
   "source": [
    "data[1]['original']['journal']"
   ]
  },
  {
   "cell_type": "code",
   "execution_count": 33,
   "metadata": {},
   "outputs": [
    {
     "name": "stdout",
     "output_type": "stream",
     "text": [
      "Labour & Law Issues\n",
      "Law & Ethics of Human Rights\n",
      "Korea Social Policy Review\n",
      "Challenge\n",
      "SSRN Electronic Journal\n",
      "SSRN Electronic Journal\n",
      "Pittsburgh Journal of Technology Law and Policy\n",
      "Journal of Research on Educational Effectiveness\n",
      "SSRN Electronic Journal\n",
      "SSRN Electronic Journal\n",
      "SSRN Electronic Journal\n",
      "Studies in American Political Development\n",
      "Studies in American Political Development\n",
      "Cornell Hospitality Quarterly\n",
      "Labor History\n",
      "Labor History\n"
     ]
    }
   ],
   "source": [
    "for d in data:\n",
    "    try:\n",
    "        print(d['original']['journal'])\n",
    "    except:\n",
    "        pass"
   ]
  },
  {
   "cell_type": "code",
   "execution_count": null,
   "metadata": {},
   "outputs": [],
   "source": []
  }
 ],
 "metadata": {
  "kernelspec": {
   "display_name": "Python 3",
   "language": "python",
   "name": "python3"
  },
  "language_info": {
   "codemirror_mode": {
    "name": "ipython",
    "version": 3
   },
   "file_extension": ".py",
   "mimetype": "text/x-python",
   "name": "python",
   "nbconvert_exporter": "python",
   "pygments_lexer": "ipython3",
   "version": "3.7.3"
  }
 },
 "nbformat": 4,
 "nbformat_minor": 2
}
