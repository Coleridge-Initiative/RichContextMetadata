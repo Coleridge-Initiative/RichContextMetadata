{
 "cells": [
  {
   "cell_type": "code",
   "execution_count": 18,
   "metadata": {},
   "outputs": [],
   "source": [
    "import json"
   ]
  },
  {
   "cell_type": "code",
   "execution_count": 85,
   "metadata": {},
   "outputs": [],
   "source": [
    "projects_path = \"/Users/sophierand/RCProjects/projects.json\""
   ]
  },
  {
   "cell_type": "code",
   "execution_count": 86,
   "metadata": {},
   "outputs": [],
   "source": [
    "with open(projects_path) as json_file:\n",
    "    projects = json.load(json_file)"
   ]
  },
  {
   "cell_type": "code",
   "execution_count": null,
   "metadata": {},
   "outputs": [],
   "source": []
  },
  {
   "cell_type": "code",
   "execution_count": 50,
   "metadata": {},
   "outputs": [],
   "source": [
    "projects_list_new = []\n",
    "for d in projects:\n",
    "    nd = OrderedDict()\n",
    "    nd[\"id\"] = d[\"id\"] \n",
    "    nd[\"title\"] = d[\"title\"]\n",
    "    try:\n",
    "        nd[\"datasets\"] = d[\"datasets\"]\n",
    "    except:\n",
    "        pass\n",
    "    projects_list_new.append(nd)\n"
   ]
  },
  {
   "cell_type": "code",
   "execution_count": 52,
   "metadata": {},
   "outputs": [
    {
     "data": {
      "text/plain": [
       "OrderedDict([('id', '1 - Justice'), ('title', 'Criminal Justice')])"
      ]
     },
     "execution_count": 52,
     "metadata": {},
     "output_type": "execute_result"
    }
   ],
   "source": [
    "# projects_list_new[0]\n"
   ]
  },
  {
   "cell_type": "code",
   "execution_count": 49,
   "metadata": {},
   "outputs": [],
   "source": [
    "# projects"
   ]
  },
  {
   "cell_type": "code",
   "execution_count": 22,
   "metadata": {},
   "outputs": [],
   "source": [
    "# keys_list = []\n",
    "# for p in projects:\n",
    "#     keys_list.append(list(p.keys()))\n",
    "# #     print(p.keys())"
   ]
  },
  {
   "cell_type": "code",
   "execution_count": 23,
   "metadata": {},
   "outputs": [],
   "source": [
    "def flatten(l):\n",
    "    sl = [item for sublist in l for item in sublist]\n",
    "    return sl"
   ]
  },
  {
   "cell_type": "code",
   "execution_count": 24,
   "metadata": {},
   "outputs": [
    {
     "data": {
      "text/plain": [
       "['class_id',\n",
       " 'project_participants',\n",
       " 'methodology',\n",
       " 'end_date',\n",
       " 'funding_sources',\n",
       " 'project_id',\n",
       " 'num_participants',\n",
       " 'num_projects',\n",
       " 'outcomes',\n",
       " 'start_date',\n",
       " 'class_title',\n",
       " 'datasets',\n",
       " 'project_summary',\n",
       " 'question',\n",
       " 'project_name']"
      ]
     },
     "execution_count": 24,
     "metadata": {},
     "output_type": "execute_result"
    }
   ],
   "source": [
    "list(set(flatten(keys_list)))"
   ]
  },
  {
   "cell_type": "code",
   "execution_count": 25,
   "metadata": {},
   "outputs": [],
   "source": [
    "# for p in projects:\n",
    "#     print(p['project_id'],p['class_id'])"
   ]
  },
  {
   "cell_type": "code",
   "execution_count": 30,
   "metadata": {},
   "outputs": [],
   "source": [
    "from collections import OrderedDict "
   ]
  },
  {
   "cell_type": "code",
   "execution_count": 26,
   "metadata": {},
   "outputs": [],
   "source": [
    "projects_new = projects"
   ]
  },
  {
   "cell_type": "code",
   "execution_count": 34,
   "metadata": {},
   "outputs": [],
   "source": [
    "projects_list = []\n",
    "for p in projects_new:\n",
    "    pr = {}\n",
    "    pr['project_id'] = p['project_id']\n",
    "    pr['project_title'] = p['project_title']\n",
    "    try:\n",
    "        pr['datasets'] = p['datasets']\n",
    "    except:\n",
    "        pass\n",
    "    projects_list.append(pr)"
   ]
  },
  {
   "cell_type": "code",
   "execution_count": 45,
   "metadata": {},
   "outputs": [
    {
     "ename": "KeyError",
     "evalue": "'project_id'",
     "output_type": "error",
     "traceback": [
      "\u001b[0;31m---------------------------------------------------------------------------\u001b[0m",
      "\u001b[0;31mKeyError\u001b[0m                                  Traceback (most recent call last)",
      "\u001b[0;32m<ipython-input-45-533794710739>\u001b[0m in \u001b[0;36m<module>\u001b[0;34m\u001b[0m\n\u001b[1;32m      1\u001b[0m \u001b[0mprojects_list_new\u001b[0m \u001b[0;34m=\u001b[0m \u001b[0;34m[\u001b[0m\u001b[0;34m]\u001b[0m\u001b[0;34m\u001b[0m\u001b[0;34m\u001b[0m\u001b[0m\n\u001b[1;32m      2\u001b[0m \u001b[0;32mfor\u001b[0m \u001b[0md\u001b[0m \u001b[0;32min\u001b[0m \u001b[0mprojects_list\u001b[0m\u001b[0;34m:\u001b[0m\u001b[0;34m\u001b[0m\u001b[0;34m\u001b[0m\u001b[0m\n\u001b[0;32m----> 3\u001b[0;31m     \u001b[0md\u001b[0m\u001b[0;34m[\u001b[0m\u001b[0;34m\"id\"\u001b[0m\u001b[0;34m]\u001b[0m \u001b[0;34m=\u001b[0m \u001b[0md\u001b[0m\u001b[0;34m.\u001b[0m\u001b[0mpop\u001b[0m\u001b[0;34m(\u001b[0m\u001b[0;34m\"project_id\"\u001b[0m\u001b[0;34m)\u001b[0m\u001b[0;34m\u001b[0m\u001b[0;34m\u001b[0m\u001b[0m\n\u001b[0m\u001b[1;32m      4\u001b[0m     \u001b[0md\u001b[0m\u001b[0;34m[\u001b[0m\u001b[0;34m\"title\"\u001b[0m\u001b[0;34m]\u001b[0m \u001b[0;34m=\u001b[0m \u001b[0md\u001b[0m\u001b[0;34m.\u001b[0m\u001b[0mpop\u001b[0m\u001b[0;34m(\u001b[0m\u001b[0;34m\"project_title\"\u001b[0m\u001b[0;34m)\u001b[0m\u001b[0;34m\u001b[0m\u001b[0;34m\u001b[0m\u001b[0m\n\u001b[1;32m      5\u001b[0m     \u001b[0mnd\u001b[0m \u001b[0;34m=\u001b[0m \u001b[0mOrderedDict\u001b[0m\u001b[0;34m(\u001b[0m\u001b[0;34m)\u001b[0m\u001b[0;34m\u001b[0m\u001b[0;34m\u001b[0m\u001b[0m\n",
      "\u001b[0;31mKeyError\u001b[0m: 'project_id'"
     ]
    }
   ],
   "source": [
    "projects_list_new = []\n",
    "for d in projects_list:\n",
    "    d[\"id\"] = d.pop(\"project_id\")\n",
    "    d[\"title\"] = d.pop(\"project_title\") \n",
    "    nd = OrderedDict()\n",
    "    nd[\"id\"] = d[\"id\"] \n",
    "    nd[\"title\"] = d[\"title\"]\n",
    "    try:\n",
    "        nd[\"datasets\"] = d[\"datasets\"]\n",
    "    except:\n",
    "        pass\n",
    "    projects_list_new.append(nd)\n"
   ]
  },
  {
   "cell_type": "code",
   "execution_count": 66,
   "metadata": {},
   "outputs": [],
   "source": [
    "# projects"
   ]
  },
  {
   "cell_type": "code",
   "execution_count": 83,
   "metadata": {},
   "outputs": [
    {
     "data": {
      "text/plain": [
       "\"The following titles are ects with titles {'Economic Development & Job Creation', 'High Need Populations', 'Welfare Benefits'}\""
      ]
     },
     "execution_count": 83,
     "metadata": {},
     "output_type": "execute_result"
    }
   ],
   "source": [
    "from collections import Counter\n",
    "\n",
    "a = dict(Counter(tok['title'] for tok in projects))\n",
    "b = {k for (k,v) in a.items() if v > 1}\n",
    "\"The following titles are ects with titles {} have duplicate entries\".format(b)\n",
    "# .# \", \".join(b)\n",
    "# list(b)"
   ]
  },
  {
   "cell_type": "code",
   "execution_count": 84,
   "metadata": {},
   "outputs": [
    {
     "data": {
      "text/plain": [
       "3"
      ]
     },
     "execution_count": 84,
     "metadata": {},
     "output_type": "execute_result"
    }
   ],
   "source": [
    "len(b)"
   ]
  },
  {
   "cell_type": "code",
   "execution_count": 59,
   "metadata": {},
   "outputs": [
    {
     "data": {
      "text/plain": [
       "{'Criminal Justice': Counter({'id': '1 - Justice'}),\n",
       " 'Welfare Benefits': Counter({'datasets': ['dataset-429',\n",
       "           'dataset-435',\n",
       "           'dataset-436',\n",
       "           'dataset-429',\n",
       "           'dataset-328',\n",
       "           'dataset-425',\n",
       "           'dataset-182',\n",
       "           'dataset-276',\n",
       "           'dataset-244',\n",
       "           'dataset-424',\n",
       "           'dataset-328',\n",
       "           'dataset-181',\n",
       "           'dataset-220',\n",
       "           'dataset-275',\n",
       "           'dataset-182',\n",
       "           'dataset-328',\n",
       "           'dataset-275',\n",
       "           'dataset-181',\n",
       "           'dataset-182'],\n",
       "          'id': '2 - Welfare2 - Welfare2 - Welfare2 - Welfare2 - Welfare2 - Welfare2 - Welfare2 - Welfare'}),\n",
       " 'High Need Populations': Counter({'datasets': ['dataset-046',\n",
       "           'dataset-364',\n",
       "           'dataset-365',\n",
       "           'dataset-364',\n",
       "           'dataset-365',\n",
       "           'dataset-430',\n",
       "           'dataset-437',\n",
       "           'dataset-438',\n",
       "           'dataset-046',\n",
       "           'dataset-352',\n",
       "           'dataset-046',\n",
       "           'dataset-430',\n",
       "           'dataset-430',\n",
       "           'dataset-364',\n",
       "           'dataset-365',\n",
       "           'dataset-430',\n",
       "           'dataset-364',\n",
       "           'dataset-365',\n",
       "           'dataset-430',\n",
       "           'dataset-364',\n",
       "           'dataset-365',\n",
       "           'dataset-430',\n",
       "           'dataset-324',\n",
       "           'dataset-181',\n",
       "           'dataset-046',\n",
       "           'dataset-394',\n",
       "           'dataset-430',\n",
       "           'dataset-324',\n",
       "           'dataset-182',\n",
       "           'dataset-182',\n",
       "           'dataset-328'],\n",
       "          'id': '3 - High Need3 - High Need3 - High Need3 - High Need3 - High Need3 - High Need3 - High Need3 - High Need3 - High Need3 - High Need3 - High Need3 - High Need3 - High Need3 - High Need3 - High Need3 - High Need3 - High Need3 - High Need'}),\n",
       " 'Economic Development & Job Creation': Counter({'datasets': ['dataset-328',\n",
       "           'dataset-328',\n",
       "           'dataset-170',\n",
       "           'dataset-410',\n",
       "           'dataset-170',\n",
       "           'dataset-170',\n",
       "           'dataset-170',\n",
       "           'dataset-440',\n",
       "           'dataset-170',\n",
       "           'dataset-364',\n",
       "           'dataset-365',\n",
       "           'dataset-430',\n",
       "           'dataset-439',\n",
       "           'dataset-170',\n",
       "           'dataset-410',\n",
       "           'dataset-365',\n",
       "           'dataset-430',\n",
       "           'dataset-139',\n",
       "           'dataset-364',\n",
       "           'dataset-170',\n",
       "           'dataset-170',\n",
       "           'dataset-170',\n",
       "           'dataset-170',\n",
       "           'dataset-170'],\n",
       "          'id': '5 - UChicago20185 - UChicago20185 - UChicago20185 - UChicago20185 - UChicago20185 - UChicago20184 - KCMO4 - KCMO4 - KCMO4 - KCMO4 - KCMO4 - KCMO4 - KCMO4 - KCMO4 - KCMO4 - KCMO4 - KCMO'})}"
      ]
     },
     "execution_count": 59,
     "metadata": {},
     "output_type": "execute_result"
    }
   ],
   "source": [
    "d"
   ]
  },
  {
   "cell_type": "code",
   "execution_count": 42,
   "metadata": {},
   "outputs": [
    {
     "data": {
      "text/plain": [
       "[{'id': '1 - Justice', 'title': 'Criminal Justice'},\n",
       " {'datasets': ['dataset-328', 'dataset-275', 'dataset-181', 'dataset-182'],\n",
       "  'id': '2 - Welfare',\n",
       "  'title': 'Welfare Benefits'},\n",
       " {'datasets': ['dataset-275', 'dataset-182'],\n",
       "  'id': '2 - Welfare',\n",
       "  'title': 'Welfare Benefits'},\n",
       " {'datasets': ['dataset-328', 'dataset-181', 'dataset-220'],\n",
       "  'id': '2 - Welfare',\n",
       "  'title': 'Welfare Benefits'},\n",
       " {'datasets': ['dataset-244', 'dataset-424'],\n",
       "  'id': '2 - Welfare',\n",
       "  'title': 'Welfare Benefits'},\n",
       " {'datasets': ['dataset-425', 'dataset-182', 'dataset-276'],\n",
       "  'id': '2 - Welfare',\n",
       "  'title': 'Welfare Benefits'},\n",
       " {'datasets': ['dataset-328'],\n",
       "  'id': '2 - Welfare',\n",
       "  'title': 'Welfare Benefits'},\n",
       " {'datasets': ['dataset-429'],\n",
       "  'id': '2 - Welfare',\n",
       "  'title': 'Welfare Benefits'},\n",
       " {'datasets': ['dataset-429', 'dataset-435', 'dataset-436'],\n",
       "  'id': '2 - Welfare',\n",
       "  'title': 'Welfare Benefits'},\n",
       " {'datasets': ['dataset-182', 'dataset-328'],\n",
       "  'id': '3 - High Need',\n",
       "  'title': 'High Need Populations'},\n",
       " {'datasets': ['dataset-182'],\n",
       "  'id': '3 - High Need',\n",
       "  'title': 'High Need Populations'},\n",
       " {'datasets': ['dataset-430', 'dataset-324'],\n",
       "  'id': '3 - High Need',\n",
       "  'title': 'High Need Populations'},\n",
       " {'datasets': ['dataset-046', 'dataset-394'],\n",
       "  'id': '3 - High Need',\n",
       "  'title': 'High Need Populations'},\n",
       " {'datasets': ['dataset-324', 'dataset-181'],\n",
       "  'id': '3 - High Need',\n",
       "  'title': 'High Need Populations'},\n",
       " {'datasets': ['dataset-364', 'dataset-365', 'dataset-430'],\n",
       "  'id': '3 - High Need',\n",
       "  'title': 'High Need Populations'},\n",
       " {'datasets': ['dataset-364', 'dataset-365', 'dataset-430'],\n",
       "  'id': '3 - High Need',\n",
       "  'title': 'High Need Populations'},\n",
       " {'datasets': [], 'id': '3 - High Need', 'title': 'High Need Populations'},\n",
       " {'datasets': ['dataset-364', 'dataset-365', 'dataset-430'],\n",
       "  'id': '3 - High Need',\n",
       "  'title': 'High Need Populations'},\n",
       " {'datasets': ['dataset-430'],\n",
       "  'id': '3 - High Need',\n",
       "  'title': 'High Need Populations'},\n",
       " {'datasets': ['dataset-430'],\n",
       "  'id': '3 - High Need',\n",
       "  'title': 'High Need Populations'},\n",
       " {'datasets': ['dataset-046'],\n",
       "  'id': '3 - High Need',\n",
       "  'title': 'High Need Populations'},\n",
       " {'datasets': ['dataset-046', 'dataset-352'],\n",
       "  'id': '3 - High Need',\n",
       "  'title': 'High Need Populations'},\n",
       " {'datasets': ['dataset-364',\n",
       "   'dataset-365',\n",
       "   'dataset-430',\n",
       "   'dataset-437',\n",
       "   'dataset-438'],\n",
       "  'id': '3 - High Need',\n",
       "  'title': 'High Need Populations'},\n",
       " {'datasets': ['dataset-364', 'dataset-365'],\n",
       "  'id': '3 - High Need',\n",
       "  'title': 'High Need Populations'},\n",
       " {'datasets': [], 'id': '3 - High Need', 'title': 'High Need Populations'},\n",
       " {'datasets': ['dataset-046'],\n",
       "  'id': '3 - High Need',\n",
       "  'title': 'High Need Populations'},\n",
       " {'datasets': [], 'id': '3 - High Need', 'title': 'High Need Populations'},\n",
       " {'datasets': ['dataset-170'],\n",
       "  'id': '4 - KCMO',\n",
       "  'title': 'Economic Development & Job Creation'},\n",
       " {'datasets': ['dataset-170'],\n",
       "  'id': '4 - KCMO',\n",
       "  'title': 'Economic Development & Job Creation'},\n",
       " {'datasets': ['dataset-170'],\n",
       "  'id': '4 - KCMO',\n",
       "  'title': 'Economic Development & Job Creation'},\n",
       " {'datasets': ['dataset-170'],\n",
       "  'id': '4 - KCMO',\n",
       "  'title': 'Economic Development & Job Creation'},\n",
       " {'datasets': ['dataset-170'],\n",
       "  'id': '4 - KCMO',\n",
       "  'title': 'Economic Development & Job Creation'},\n",
       " {'datasets': ['dataset-365', 'dataset-430', 'dataset-139', 'dataset-364'],\n",
       "  'id': '4 - KCMO',\n",
       "  'title': 'Economic Development & Job Creation'},\n",
       " {'datasets': ['dataset-410'],\n",
       "  'id': '4 - KCMO',\n",
       "  'title': 'Economic Development & Job Creation'},\n",
       " {'datasets': ['dataset-170'],\n",
       "  'id': '4 - KCMO',\n",
       "  'title': 'Economic Development & Job Creation'},\n",
       " {'datasets': ['dataset-439'],\n",
       "  'id': '4 - KCMO',\n",
       "  'title': 'Economic Development & Job Creation'},\n",
       " {'datasets': ['dataset-364', 'dataset-365', 'dataset-430'],\n",
       "  'id': '4 - KCMO',\n",
       "  'title': 'Economic Development & Job Creation'},\n",
       " {'datasets': ['dataset-170'],\n",
       "  'id': '4 - KCMO',\n",
       "  'title': 'Economic Development & Job Creation'},\n",
       " {'datasets': ['dataset-170', 'dataset-440'],\n",
       "  'id': '5 - UChicago2018',\n",
       "  'title': 'Economic Development & Job Creation'},\n",
       " {'datasets': ['dataset-170'],\n",
       "  'id': '5 - UChicago2018',\n",
       "  'title': 'Economic Development & Job Creation'},\n",
       " {'datasets': ['dataset-170'],\n",
       "  'id': '5 - UChicago2018',\n",
       "  'title': 'Economic Development & Job Creation'},\n",
       " {'datasets': ['dataset-170', 'dataset-410'],\n",
       "  'id': '5 - UChicago2018',\n",
       "  'title': 'Economic Development & Job Creation'},\n",
       " {'datasets': ['dataset-328'],\n",
       "  'id': '5 - UChicago2018',\n",
       "  'title': 'Economic Development & Job Creation'},\n",
       " {'datasets': ['dataset-328'],\n",
       "  'id': '5 - UChicago2018',\n",
       "  'title': 'Economic Development & Job Creation'}]"
      ]
     },
     "execution_count": 42,
     "metadata": {},
     "output_type": "execute_result"
    }
   ],
   "source": [
    "projects_list"
   ]
  },
  {
   "cell_type": "code",
   "execution_count": 53,
   "metadata": {},
   "outputs": [],
   "source": [
    "with open('/Users/sophierand/RCProjects/projects.json', 'w') as outfile:\n",
    "    json.dump(projects_list_new, outfile,indent = 2)"
   ]
  },
  {
   "cell_type": "code",
   "execution_count": 28,
   "metadata": {},
   "outputs": [
    {
     "data": {
      "text/plain": [
       "{'subproject_id': 'C2',\n",
       " 'project_name': \"Lil' Sebastians - Team C2: Reducing Recidivism: Intervening to Reduce Technical and Non-Violent Parole Violations and Improve Outcomes Among Ex-Offenders\",\n",
       " 'project_summary': 'Identify individuals and develop a prioritization tool for those individuals most likely to recidivate within 2 years for technical or nonviolent/economically motivated offenses. Identify opportunities to improve outcomes among individuals in this population.',\n",
       " 'question': 'Which individuals return to prison within 2 years for technical violations, nonviolent or economically motivated crimes? How do different income levels affect parole compliance?',\n",
       " 'outcomes': 'This will provide information on who to target with limited resources/interventions as well as suggesting the types of interventions that are most crucial to this population.',\n",
       " 'methodology': 'Using Illinois DOC admit and exit data, combined with Illinois wage records data, we will use machine learning on historical data to predict risk of recidivism of future parolees. We will explore the features in the model, including wage, employment, demographic, and offense-related features, to identify the most impactful features for recidivism, in order to determine not only who is most at risk but what factors have the greatest impact on our outcomes. Our analysis is particularly focused on nonviolent/economically motivated parole violators and therefore the analysis will proceed in two stages. First, we will build a model and examine risk and features for all individuals who recidivate in two years versus those who do not. We will then focus on the subset that does violate parole and look at differences between those who recidivate due to violent or serious offenses as compared to those recidivating for parole or technical violations, or for what might be understood as economically-motivated crimes.',\n",
       " 'project_id': '1 - Justice',\n",
       " 'project_title': 'Criminal Justice',\n",
       " 'start_date': '2-8-2017',\n",
       " 'end_date': '6-30-2017',\n",
       " 'funding_sources': ['Arnold', 'U.S. Census Bureau'],\n",
       " 'num_participants': 57,\n",
       " 'num_projects': 12,\n",
       " 'project_participants': [{'first_name': 'Evan',\n",
       "   'last_name': 'Absher',\n",
       "   'organization': 'Kauffman Foundation',\n",
       "   'email': 'eabsher@kauffman.org'},\n",
       "  {'first_name': 'Danielle',\n",
       "   'last_name': 'Fulmer',\n",
       "   'organization': 'City of South Bend, IN',\n",
       "   'email': 'dfulmer@southbendin.gov'},\n",
       "  {'first_name': 'Kate',\n",
       "   'last_name': 'Pawasarat',\n",
       "   'organization': 'City of Milwaukee, WI',\n",
       "   'email': 'kpawas@milwaukee.gov'},\n",
       "  {'first_name': 'Eric',\n",
       "   'last_name': 'Roche',\n",
       "   'organization': 'City of Kansas City, MO',\n",
       "   'email': 'Eric.Roche@kcmo.org'},\n",
       "  {'first_name': 'Nolan',\n",
       "   'last_name': 'Zaroff',\n",
       "   'organization': 'City of Milwaukee, WI - Dept. of City Development',\n",
       "   'email': 'nolanz@gmail.com'}]}"
      ]
     },
     "execution_count": 28,
     "metadata": {},
     "output_type": "execute_result"
    }
   ],
   "source": [
    "a = projects_new[0]\n",
    "a"
   ]
  },
  {
   "cell_type": "code",
   "execution_count": null,
   "metadata": {},
   "outputs": [],
   "source": []
  }
 ],
 "metadata": {
  "kernelspec": {
   "display_name": "Python 3",
   "language": "python",
   "name": "python3"
  },
  "language_info": {
   "codemirror_mode": {
    "name": "ipython",
    "version": 3
   },
   "file_extension": ".py",
   "mimetype": "text/x-python",
   "name": "python",
   "nbconvert_exporter": "python",
   "pygments_lexer": "ipython3",
   "version": "3.7.3"
  }
 },
 "nbformat": 4,
 "nbformat_minor": 2
}
