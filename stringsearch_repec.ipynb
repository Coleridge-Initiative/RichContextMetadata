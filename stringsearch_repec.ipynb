{
 "cells": [
  {
   "cell_type": "code",
   "execution_count": 56,
   "metadata": {},
   "outputs": [],
   "source": [
    "import json\n",
    "import metadata_funs\n",
    "import time\n",
    "import os\n",
    "import datetime"
   ]
  },
  {
   "cell_type": "code",
   "execution_count": 45,
   "metadata": {},
   "outputs": [],
   "source": [
    "def read_datasets():\n",
    "    datasets_json_path = '/Users/sophierand/RichContextMetadata/datasets.json'\n",
    "    with open(datasets_json_path) as json_file:\n",
    "        datasets_json = json.load(json_file)\n",
    "    return datasets_json\n",
    "\n",
    "def return_string_search_dyads(dataset_string, api_client):\n",
    "    \"\"\"\n",
    "    intake a dataset name\n",
    "    , identify papers with that term in the full text\n",
    "    , and return publication metadata\n",
    "    \"\"\"\n",
    "    api_return = metadata_funs.run_exact_string_search(string = dataset_string, api_client = api_client)\n",
    "    pub_metadata = []\n",
    "    for i in api_return['publications']:\n",
    "        time.sleep( 6 )\n",
    "        pub_id = i['id']\n",
    "        id_metadata = metadata_funs.run_pub_id_search(dimensions_id = pub_id, api_client = api_client)\n",
    "        id_metadata.update({'dimensions_id':pub_id,'related_dataset_name':dataset_string})\n",
    "        pub_metadata.append(id_metadata)\n",
    "    return pub_metadata\n",
    "\n",
    "\n",
    "def gen_ss_dyad(dataset_name_dict,api_client):\n",
    "    \"\"\"\n",
    "    intake a dataset dictionary that has a dataset_id and a list of names (name+alias)\n",
    "    , and each is run through the string_search_dyads function to return publication metadata\n",
    "    \"\"\"\n",
    "\n",
    "    dataset_names_list = dataset_name_dict['title']\n",
    "    dataset_id = dataset_name_dict['dataset_id']\n",
    "    store_dyads = []\n",
    "#     for ds in dataset_names_list:\n",
    "    pub_dataset_dyads  = return_string_search_dyads(dataset_string = dataset_names_list, api_client = api_client)\n",
    "    store_dyads.append(pub_dataset_dyads)\n",
    "    store_dyads_flat = metadata_funs.flatten(store_dyads)\n",
    "    for s in store_dyads_flat:\n",
    "        s.update({'related_dataset':dataset_id,'linkage_source':'dataset_stringsearch'})\n",
    "    return store_dyads_flat\n",
    "\n",
    "\n",
    "def gen_dyad_list(ds_names,api_client):\n",
    "    \"\"\"\n",
    "    intake a list of dataset dictionaries\n",
    "    , where each dict has a dataset_id and a list of names (name+alias)\n",
    "    , and run through gen_ss_dyad\n",
    "    \"\"\"\n",
    "    big_list = []\n",
    "    try:\n",
    "        for d in ds_names:\n",
    "            print('looking for ',d, ' now')\n",
    "            # a = 'i would do a string search with {}'.format(d)\n",
    "            a = gen_ss_dyad(dataset_name_dict = d,api_client = api_client)\n",
    "            big_list.append(a)\n",
    "            time.sleep(1)\n",
    "        return big_list\n",
    "    except KeyboardInterrupt:\n",
    "        return big_list\n"
   ]
  },
  {
   "cell_type": "code",
   "execution_count": 20,
   "metadata": {},
   "outputs": [],
   "source": [
    "datasets = read_datasets()\n",
    "owner_list = ['Deutsche Bundesbank',\"United States Department of Agriculture (USDA)\"]\n",
    "bb_usda_datasets = []\n",
    "for d in datasets:\n",
    "    try:\n",
    "        owner = d['data_steward']\n",
    "        if owner in owner_list:\n",
    "            bb_usda_datasets.append(d)\n",
    "    except:\n",
    "        try:\n",
    "            owner = d['data_provider']\n",
    "            if owner in owner_list:\n",
    "                bb_usda_datasets.append(d)\n",
    "        except:\n",
    "            pass"
   ]
  },
  {
   "cell_type": "code",
   "execution_count": 21,
   "metadata": {},
   "outputs": [
    {
     "name": "stdout",
     "output_type": "stream",
     "text": [
      "enter your dimensions api username\n",
      "sr2661@nyu.edu\n",
      "enter your dimensions api password\n",
      "········\n",
      "API credentials have been set\n"
     ]
    }
   ],
   "source": [
    "api_client = metadata_funs.create_api_client()"
   ]
  },
  {
   "cell_type": "code",
   "execution_count": 49,
   "metadata": {},
   "outputs": [],
   "source": [
    "usda_bb_pubs = gen_ss_dyad(bb_usda_datasets[0],api_client)"
   ]
  },
  {
   "cell_type": "code",
   "execution_count": 54,
   "metadata": {},
   "outputs": [],
   "source": [
    "# usda_bb_pubs"
   ]
  },
  {
   "cell_type": "code",
   "execution_count": 48,
   "metadata": {},
   "outputs": [
    {
     "name": "stdout",
     "output_type": "stream",
     "text": [
      "looking for  access_requirements  now\n"
     ]
    },
    {
     "ename": "TypeError",
     "evalue": "string indices must be integers",
     "output_type": "error",
     "traceback": [
      "\u001b[0;31m---------------------------------------------------------------------------\u001b[0m",
      "\u001b[0;31mTypeError\u001b[0m                                 Traceback (most recent call last)",
      "\u001b[0;32m<ipython-input-48-d4191f61488d>\u001b[0m in \u001b[0;36m<module>\u001b[0;34m\u001b[0m\n\u001b[0;32m----> 1\u001b[0;31m \u001b[0musda_bb_pubs\u001b[0m \u001b[0;34m=\u001b[0m \u001b[0mgen_dyad_list\u001b[0m\u001b[0;34m(\u001b[0m\u001b[0mbb_usda_datasets\u001b[0m\u001b[0;34m[\u001b[0m\u001b[0;36m0\u001b[0m\u001b[0;34m]\u001b[0m\u001b[0;34m,\u001b[0m\u001b[0mapi_client\u001b[0m\u001b[0;34m)\u001b[0m\u001b[0;34m\u001b[0m\u001b[0;34m\u001b[0m\u001b[0m\n\u001b[0m",
      "\u001b[0;32m<ipython-input-45-7a833ad452df>\u001b[0m in \u001b[0;36mgen_dyad_list\u001b[0;34m(ds_names, api_client)\u001b[0m\n\u001b[1;32m     51\u001b[0m             \u001b[0mprint\u001b[0m\u001b[0;34m(\u001b[0m\u001b[0;34m'looking for '\u001b[0m\u001b[0;34m,\u001b[0m\u001b[0md\u001b[0m\u001b[0;34m,\u001b[0m \u001b[0;34m' now'\u001b[0m\u001b[0;34m)\u001b[0m\u001b[0;34m\u001b[0m\u001b[0;34m\u001b[0m\u001b[0m\n\u001b[1;32m     52\u001b[0m             \u001b[0;31m# a = 'i would do a string search with {}'.format(d)\u001b[0m\u001b[0;34m\u001b[0m\u001b[0;34m\u001b[0m\u001b[0;34m\u001b[0m\u001b[0m\n\u001b[0;32m---> 53\u001b[0;31m             \u001b[0ma\u001b[0m \u001b[0;34m=\u001b[0m \u001b[0mgen_ss_dyad\u001b[0m\u001b[0;34m(\u001b[0m\u001b[0mdataset_name_dict\u001b[0m \u001b[0;34m=\u001b[0m \u001b[0md\u001b[0m\u001b[0;34m,\u001b[0m\u001b[0mapi_client\u001b[0m \u001b[0;34m=\u001b[0m \u001b[0mapi_client\u001b[0m\u001b[0;34m)\u001b[0m\u001b[0;34m\u001b[0m\u001b[0;34m\u001b[0m\u001b[0m\n\u001b[0m\u001b[1;32m     54\u001b[0m             \u001b[0mbig_list\u001b[0m\u001b[0;34m.\u001b[0m\u001b[0mappend\u001b[0m\u001b[0;34m(\u001b[0m\u001b[0ma\u001b[0m\u001b[0;34m)\u001b[0m\u001b[0;34m\u001b[0m\u001b[0;34m\u001b[0m\u001b[0m\n\u001b[1;32m     55\u001b[0m             \u001b[0mtime\u001b[0m\u001b[0;34m.\u001b[0m\u001b[0msleep\u001b[0m\u001b[0;34m(\u001b[0m\u001b[0;36m1\u001b[0m\u001b[0;34m)\u001b[0m\u001b[0;34m\u001b[0m\u001b[0;34m\u001b[0m\u001b[0m\n",
      "\u001b[0;32m<ipython-input-45-7a833ad452df>\u001b[0m in \u001b[0;36mgen_ss_dyad\u001b[0;34m(dataset_name_dict, api_client)\u001b[0m\n\u001b[1;32m     28\u001b[0m     \"\"\"\n\u001b[1;32m     29\u001b[0m \u001b[0;34m\u001b[0m\u001b[0m\n\u001b[0;32m---> 30\u001b[0;31m     \u001b[0mdataset_names_list\u001b[0m \u001b[0;34m=\u001b[0m \u001b[0mdataset_name_dict\u001b[0m\u001b[0;34m[\u001b[0m\u001b[0;34m'title'\u001b[0m\u001b[0;34m]\u001b[0m\u001b[0;34m\u001b[0m\u001b[0;34m\u001b[0m\u001b[0m\n\u001b[0m\u001b[1;32m     31\u001b[0m     \u001b[0mdataset_id\u001b[0m \u001b[0;34m=\u001b[0m \u001b[0mdataset_name_dict\u001b[0m\u001b[0;34m[\u001b[0m\u001b[0;34m'dataset_id'\u001b[0m\u001b[0;34m]\u001b[0m\u001b[0;34m\u001b[0m\u001b[0;34m\u001b[0m\u001b[0m\n\u001b[1;32m     32\u001b[0m     \u001b[0mstore_dyads\u001b[0m \u001b[0;34m=\u001b[0m \u001b[0;34m[\u001b[0m\u001b[0;34m]\u001b[0m\u001b[0;34m\u001b[0m\u001b[0;34m\u001b[0m\u001b[0m\n",
      "\u001b[0;31mTypeError\u001b[0m: string indices must be integers"
     ]
    }
   ],
   "source": [
    "# usda_bb_pubs = gen_dyad_list(bb_usda_datasets[0],api_client)"
   ]
  },
  {
   "cell_type": "code",
   "execution_count": 47,
   "metadata": {},
   "outputs": [
    {
     "data": {
      "text/plain": [
       "[]"
      ]
     },
     "execution_count": 47,
     "metadata": {},
     "output_type": "execute_result"
    }
   ],
   "source": [
    "usda_bb_pubs"
   ]
  },
  {
   "cell_type": "code",
   "execution_count": 58,
   "metadata": {},
   "outputs": [],
   "source": [
    "\n",
    "final_list = metadata_funs.flatten(usda_bb_pubs)\n",
    "stringsearch_pubs_path = os.path.join(os.getcwd(),'repec/{}stringsearch_pubs.json'.format(metadata_funs.get_hash(str(datetime.datetime.now()))))\n",
    "\n",
    "json.dump(final_list, open(stringsearch_pubs_path, 'w'), indent=2)\n"
   ]
  },
  {
   "cell_type": "code",
   "execution_count": null,
   "metadata": {},
   "outputs": [],
   "source": []
  }
 ],
 "metadata": {
  "kernelspec": {
   "display_name": "Python 3",
   "language": "python",
   "name": "python3"
  },
  "language_info": {
   "codemirror_mode": {
    "name": "ipython",
    "version": 3
   },
   "file_extension": ".py",
   "mimetype": "text/x-python",
   "name": "python",
   "nbconvert_exporter": "python",
   "pygments_lexer": "ipython3",
   "version": "3.7.3"
  }
 },
 "nbformat": 4,
 "nbformat_minor": 2
}
