{
 "cells": [
  {
   "cell_type": "code",
   "execution_count": 59,
   "metadata": {},
   "outputs": [],
   "source": [
    "import json\n",
    "import metadata_funs\n",
    "import time\n",
    "import os\n",
    "import datetime"
   ]
  },
  {
   "cell_type": "code",
   "execution_count": 100,
   "metadata": {},
   "outputs": [],
   "source": [
    "search_path = '/Users/sophierand/RichContextMetadata/repec/string_searches/'\n",
    "# pub_paths = os.listdir(datasets_json_path)\n",
    "pub_paths = [search_path+f for f in os.listdir(search_path) if f.endswith(\"pubs.json\")]\n",
    "# pub_paths\n",
    "# _pubs.json"
   ]
  },
  {
   "cell_type": "code",
   "execution_count": 101,
   "metadata": {},
   "outputs": [],
   "source": [
    "pub_list = []\n",
    "for p in pub_paths:\n",
    "    with open(p) as json_file:\n",
    "        pubs_json = json.load(json_file)\n",
    "        if len(pubs_json) == 0:\n",
    "            pass\n",
    "        elif len(pubs_json) > 0:\n",
    "            pub_list.append(pubs_json)\n"
   ]
  },
  {
   "cell_type": "code",
   "execution_count": 102,
   "metadata": {},
   "outputs": [],
   "source": [
    "pub_list_flat = metadata_funs.flatten(pub_list)"
   ]
  },
  {
   "cell_type": "code",
   "execution_count": 104,
   "metadata": {},
   "outputs": [
    {
     "data": {
      "text/plain": [
       "704"
      ]
     },
     "execution_count": 104,
     "metadata": {},
     "output_type": "execute_result"
    }
   ],
   "source": [
    "len(pub_list_flat)"
   ]
  },
  {
   "cell_type": "code",
   "execution_count": 105,
   "metadata": {},
   "outputs": [
    {
     "ename": "SyntaxError",
     "evalue": "invalid syntax (<ipython-input-105-661e2e7fcac2>, line 1)",
     "output_type": "error",
     "traceback": [
      "\u001b[0;36m  File \u001b[0;32m\"<ipython-input-105-661e2e7fcac2>\"\u001b[0;36m, line \u001b[0;32m1\u001b[0m\n\u001b[0;31m    manual_pubs_path = '/Users/sophierand/RichContextMetadata/repec/{}_usda_bb_pubs.json'.format(metadata_funs.get_hash(str(datetime.datetime.now()))))\u001b[0m\n\u001b[0m                                                                                                                                                      ^\u001b[0m\n\u001b[0;31mSyntaxError\u001b[0m\u001b[0;31m:\u001b[0m invalid syntax\n"
     ]
    }
   ],
   "source": [
    "manual_pubs_path = '/Users/sophierand/RichContextMetadata/repec/{}_usda_bb_pubs.json'.format(metadata_funs.get_hash(str(datetime.datetime.now()))))\n",
    "manual_pubs_path\n",
    "\n",
    "# json.dump(manual_pub_dataset_list, open(manual_pubs_path, 'w'), indent=2)\n"
   ]
  },
  {
   "cell_type": "code",
   "execution_count": null,
   "metadata": {},
   "outputs": [],
   "source": []
  },
  {
   "cell_type": "code",
   "execution_count": null,
   "metadata": {},
   "outputs": [],
   "source": []
  },
  {
   "cell_type": "code",
   "execution_count": null,
   "metadata": {},
   "outputs": [],
   "source": []
  }
 ],
 "metadata": {
  "kernelspec": {
   "display_name": "Python 3",
   "language": "python",
   "name": "python3"
  },
  "language_info": {
   "codemirror_mode": {
    "name": "ipython",
    "version": 3
   },
   "file_extension": ".py",
   "mimetype": "text/x-python",
   "name": "python",
   "nbconvert_exporter": "python",
   "pygments_lexer": "ipython3",
   "version": "3.7.3"
  }
 },
 "nbformat": 4,
 "nbformat_minor": 2
}
