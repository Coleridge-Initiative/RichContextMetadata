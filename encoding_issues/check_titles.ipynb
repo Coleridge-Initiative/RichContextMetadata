{
 "cells": [
  {
   "cell_type": "code",
   "execution_count": 2,
   "metadata": {},
   "outputs": [],
   "source": [
    "import json\n",
    "import unicodedata"
   ]
  },
  {
   "cell_type": "code",
   "execution_count": null,
   "metadata": {},
   "outputs": [],
   "source": [
    "with open('data.txt') as json_file:\n",
    "    data = json.load(json_file)"
   ]
  },
  {
   "cell_type": "code",
   "execution_count": 16,
   "metadata": {},
   "outputs": [
    {
     "ename": "UnicodeDecodeError",
     "evalue": "'ascii' codec can't decode byte 0xc3 in position 0: ordinal not in range(128)",
     "output_type": "error",
     "traceback": [
      "\u001b[0;31m---------------------------------------------------------------------------\u001b[0m",
      "\u001b[0;31mUnicodeDecodeError\u001b[0m                        Traceback (most recent call last)",
      "\u001b[0;32m<ipython-input-16-60a71fbe48eb>\u001b[0m in \u001b[0;36m<module>\u001b[0;34m\u001b[0m\n\u001b[1;32m      3\u001b[0m \u001b[0;31m# string.encode(\"ascii\")\u001b[0m\u001b[0;34m\u001b[0m\u001b[0;34m\u001b[0m\u001b[0;34m\u001b[0m\u001b[0m\n\u001b[1;32m      4\u001b[0m \u001b[0ma\u001b[0m \u001b[0;34m=\u001b[0m \u001b[0mstring\u001b[0m\u001b[0;34m.\u001b[0m\u001b[0mencode\u001b[0m\u001b[0;34m(\u001b[0m\u001b[0;34m\"utf-8\"\u001b[0m\u001b[0;34m)\u001b[0m\u001b[0;34m\u001b[0m\u001b[0;34m\u001b[0m\u001b[0m\n\u001b[0;32m----> 5\u001b[0;31m \u001b[0ma\u001b[0m\u001b[0;34m.\u001b[0m\u001b[0mdecode\u001b[0m\u001b[0;34m(\u001b[0m\u001b[0;34m'ascii'\u001b[0m\u001b[0;34m)\u001b[0m\u001b[0;34m\u001b[0m\u001b[0;34m\u001b[0m\u001b[0m\n\u001b[0m",
      "\u001b[0;31mUnicodeDecodeError\u001b[0m: 'ascii' codec can't decode byte 0xc3 in position 0: ordinal not in range(128)"
     ]
    }
   ],
   "source": [
    "string = 'Äì'\n",
    "# string = \"hello\"\n",
    "# string.encode(\"ascii\")\n",
    "a = string.encode(\"utf-8\")\n",
    "a.decode('ascii')"
   ]
  },
  {
   "cell_type": "code",
   "execution_count": 5,
   "metadata": {},
   "outputs": [
    {
     "data": {
      "text/plain": [
       "b'\\xe2\\x80\\x9aA\\xcc\\x88o\\xcc\\x82'"
      ]
     },
     "execution_count": 5,
     "metadata": {},
     "output_type": "execute_result"
    }
   ],
   "source": [
    "bytes('‚Äô',\"utf-8\")"
   ]
  },
  {
   "cell_type": "code",
   "execution_count": 8,
   "metadata": {},
   "outputs": [
    {
     "ename": "SyntaxError",
     "evalue": "invalid syntax (<ipython-input-8-1de3d09a023f>, line 1)",
     "output_type": "error",
     "traceback": [
      "\u001b[0;36m  File \u001b[0;32m\"<ipython-input-8-1de3d09a023f>\"\u001b[0;36m, line \u001b[0;32m1\u001b[0m\n\u001b[0;31m    bytes('hello, h'ow are you',\"utf-8\")\u001b[0m\n\u001b[0m                     ^\u001b[0m\n\u001b[0;31mSyntaxError\u001b[0m\u001b[0;31m:\u001b[0m invalid syntax\n"
     ]
    }
   ],
   "source": [
    "bytes(\"hello, how are you\",\"utf-8\")"
   ]
  },
  {
   "cell_type": "code",
   "execution_count": 12,
   "metadata": {},
   "outputs": [
    {
     "ename": "AttributeError",
     "evalue": "'str' object has no attribute 'decode'",
     "output_type": "error",
     "traceback": [
      "\u001b[0;31m---------------------------------------------------------------------------\u001b[0m",
      "\u001b[0;31mAttributeError\u001b[0m                            Traceback (most recent call last)",
      "\u001b[0;32m<ipython-input-12-7bc70ccb44c2>\u001b[0m in \u001b[0;36m<module>\u001b[0;34m\u001b[0m\n\u001b[1;32m      1\u001b[0m \u001b[0mtype\u001b[0m\u001b[0;34m(\u001b[0m\u001b[0;34m\"hello\"\u001b[0m\u001b[0;34m)\u001b[0m\u001b[0;34m\u001b[0m\u001b[0;34m\u001b[0m\u001b[0m\n\u001b[1;32m      2\u001b[0m \u001b[0mtype\u001b[0m\u001b[0;34m(\u001b[0m\u001b[0;34m'Äì'\u001b[0m\u001b[0;34m)\u001b[0m\u001b[0;34m\u001b[0m\u001b[0;34m\u001b[0m\u001b[0m\n\u001b[0;32m----> 3\u001b[0;31m \u001b[0;34m'Äì'\u001b[0m\u001b[0;34m.\u001b[0m\u001b[0mdecode\u001b[0m\u001b[0;34m(\u001b[0m\u001b[0;34m'ascii'\u001b[0m\u001b[0;34m)\u001b[0m\u001b[0;34m\u001b[0m\u001b[0;34m\u001b[0m\u001b[0m\n\u001b[0m",
      "\u001b[0;31mAttributeError\u001b[0m: 'str' object has no attribute 'decode'"
     ]
    }
   ],
   "source": [
    "type(\"hello\")\n",
    "type('Äì')\n",
    "'Äì'.decode('ascii')"
   ]
  },
  {
   "cell_type": "code",
   "execution_count": 4,
   "metadata": {},
   "outputs": [
    {
     "ename": "TypeError",
     "evalue": "category() argument must be a unicode character, not str",
     "output_type": "error",
     "traceback": [
      "\u001b[0;31m---------------------------------------------------------------------------\u001b[0m",
      "\u001b[0;31mTypeError\u001b[0m                                 Traceback (most recent call last)",
      "\u001b[0;32m<ipython-input-4-b5363f77cab7>\u001b[0m in \u001b[0;36m<module>\u001b[0;34m\u001b[0m\n\u001b[0;32m----> 1\u001b[0;31m \u001b[0municodedata\u001b[0m\u001b[0;34m.\u001b[0m\u001b[0mcategory\u001b[0m\u001b[0;34m(\u001b[0m\u001b[0mstring\u001b[0m\u001b[0;34m)\u001b[0m\u001b[0;34m\u001b[0m\u001b[0;34m\u001b[0m\u001b[0m\n\u001b[0m",
      "\u001b[0;31mTypeError\u001b[0m: category() argument must be a unicode character, not str"
     ]
    }
   ],
   "source": [
    "unicodedata.category(string)\n",
    "unicodedata.normalize('NFC',string)"
   ]
  },
  {
   "cell_type": "code",
   "execution_count": 24,
   "metadata": {},
   "outputs": [],
   "source": [
    "import os\n",
    "PARTITIONS = os.listdir(\"/Users/sophierand/RCPublications/partitions\")"
   ]
  },
  {
   "cell_type": "code",
   "execution_count": 26,
   "metadata": {},
   "outputs": [],
   "source": [
    "publications = []\n",
    "for p in PARTITIONS:\n",
    "    path = \"/Users/sophierand/RCPublications/partitions/\" + p\n",
    "    with open(path) as json_file:\n",
    "        data = json.load(json_file)\n",
    "        publications.extend(data)"
   ]
  },
  {
   "cell_type": "code",
   "execution_count": 29,
   "metadata": {},
   "outputs": [],
   "source": [
    "for pub in publications:\n",
    "    try:\n",
    "        pub['title'].encode('ascii')\n",
    "    except:\n",
    "        print(pub['title'])"
   ]
  },
  {
   "cell_type": "code",
   "execution_count": 20,
   "metadata": {},
   "outputs": [],
   "source": [
    "# titles = ['Intercompany Loans and Profit Shifting ‚Äì Evidence from Company-Level Data'\n",
    "#           ,\"hello\"\n",
    "#           ,'An analysis of the consistency of banks‚Äô internal ratings'\n",
    "#           ,'Visible Reserves in Banks ‚Äö√Ñ√¨ Determinants of Initial Creation, Usage and Contribution to Bank Stability'\n",
    "#           ,'You‚Äö√Ñ√¥re banned! The effect of sanctions on German cross-border financial flows'\n",
    "#     ,'You‚Äôre banned! The effect of sanctions on German cross-border financial flows']"
   ]
  },
  {
   "cell_type": "code",
   "execution_count": 22,
   "metadata": {},
   "outputs": [
    {
     "name": "stdout",
     "output_type": "stream",
     "text": [
      "Intercompany Loans and Profit Shifting ‚Äì Evidence from Company-Level Data\n",
      "b'hello'\n",
      "An analysis of the consistency of banks‚Äô internal ratings\n",
      "Visible Reserves in Banks ‚Äö√Ñ√¨ Determinants of Initial Creation, Usage and Contribution to Bank Stability\n",
      "You‚Äö√Ñ√¥re banned! The effect of sanctions on German cross-border financial flows\n",
      "You‚Äôre banned! The effect of sanctions on German cross-border financial flows\n"
     ]
    }
   ],
   "source": [
    "for string in titles:\n",
    "    try:\n",
    "        print(string.encode(\"ascii\"))\n",
    "    except:\n",
    "        print(string)\n"
   ]
  },
  {
   "cell_type": "code",
   "execution_count": null,
   "metadata": {},
   "outputs": [],
   "source": [
    "import unicodedata\n",
    "def strip_accents(s):\n",
    "    new_string = ''.join(c for c in unicodedata.normalize('NFD', s)\n",
    "                  if unicodedata.category(c) != 'Mn')\n",
    "    return(new_string)"
   ]
  },
  {
   "cell_type": "code",
   "execution_count": null,
   "metadata": {},
   "outputs": [],
   "source": [
    "# s = \"Hello!\"\n",
    "s = '‚Äô'\n",
    "# str(b'Hi', \"utf-8\")\n",
    "# str(b'‚Äô', \"utf-8\")\n",
    "# a = bytes('‚Äô',\"utf-8\")\n",
    "\n",
    "# str(a)\n",
    "\n",
    "# a = '\\\\xe2\\\\x80\\\\x9aA\\\\xcc\\\\x88o\\\\xcc\\\\x82'\n",
    "# b = unicodedata.normalize('NFD', a)\n",
    "# unicode.category(b,\"utf-8\")\n",
    "a = bytes(s, encoding='utf-8')\n",
    "print(a)\n",
    "# unicodedata.normalize('NFKD', a).decode('utf8')\n",
    "# print(a.decode('latin_1'))\n",
    "# a.decode('cp1252')\n",
    "# print(a)\n",
    "\n",
    "# unicodedata.category(a)\n",
    "# a\n",
    "# a.decode('unicode_escape')\n",
    "# a\n",
    "import unidecode\n",
    "unidecode.unidecode(a)"
   ]
  },
  {
   "cell_type": "code",
   "execution_count": null,
   "metadata": {},
   "outputs": [],
   "source": [
    "string = 'You‚Äôre banned! The effect of sanctions on German cross-border financial flows'\n",
    "unicodedata.normalize('NFC',string)\n",
    "# unicodedata.category('Äô')\n",
    "# [(c,unicodedata.category(c)) for c in unicodedata.normalize('NFKD', string)]\n",
    "for c in unicodedata.normalize('NFKD', string):\n",
    "    \n",
    "[(c,unicodedata.category(c)) for c in unicodedata.normalize('NFKD', string)]\n",
    "# unicodedata.normalize('NFKD', string)"
   ]
  },
  {
   "cell_type": "code",
   "execution_count": null,
   "metadata": {},
   "outputs": [],
   "source": []
  }
 ],
 "metadata": {
  "kernelspec": {
   "display_name": "Python 3",
   "language": "python",
   "name": "python3"
  },
  "language_info": {
   "codemirror_mode": {
    "name": "ipython",
    "version": 3
   },
   "file_extension": ".py",
   "mimetype": "text/x-python",
   "name": "python",
   "nbconvert_exporter": "python",
   "pygments_lexer": "ipython3",
   "version": "3.7.3"
  }
 },
 "nbformat": 4,
 "nbformat_minor": 2
}
