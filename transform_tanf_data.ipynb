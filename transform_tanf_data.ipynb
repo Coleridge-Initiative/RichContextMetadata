{
 "cells": [
  {
   "cell_type": "code",
   "execution_count": 56,
   "metadata": {},
   "outputs": [],
   "source": [
    "import pandas as pd\n",
    "import os\n",
    "import time\n",
    "import metadata_funs"
   ]
  },
  {
   "cell_type": "code",
   "execution_count": 45,
   "metadata": {},
   "outputs": [],
   "source": [
    "tanf_df = pd.read_csv('metadata/raw_data/tanf.csv')\n",
    "tanf_df = tanf_df[['Title','DOI','adrf_id']]"
   ]
  },
  {
   "cell_type": "code",
   "execution_count": 46,
   "metadata": {},
   "outputs": [
    {
     "data": {
      "text/html": [
       "<div>\n",
       "<style scoped>\n",
       "    .dataframe tbody tr th:only-of-type {\n",
       "        vertical-align: middle;\n",
       "    }\n",
       "\n",
       "    .dataframe tbody tr th {\n",
       "        vertical-align: top;\n",
       "    }\n",
       "\n",
       "    .dataframe thead th {\n",
       "        text-align: right;\n",
       "    }\n",
       "</style>\n",
       "<table border=\"1\" class=\"dataframe\">\n",
       "  <thead>\n",
       "    <tr style=\"text-align: right;\">\n",
       "      <th></th>\n",
       "      <th>Title</th>\n",
       "      <th>DOI</th>\n",
       "      <th>adrf_id</th>\n",
       "    </tr>\n",
       "  </thead>\n",
       "  <tbody>\n",
       "    <tr>\n",
       "      <th>0</th>\n",
       "      <td>Incarceration Length, Employment, and Earnings</td>\n",
       "      <td>10.3386/w12003</td>\n",
       "      <td>adrf-000001</td>\n",
       "    </tr>\n",
       "    <tr>\n",
       "      <th>1</th>\n",
       "      <td>Incarceration Length, Employment, and Earnings</td>\n",
       "      <td>10.3386/w12003</td>\n",
       "      <td>adrf-000002</td>\n",
       "    </tr>\n",
       "    <tr>\n",
       "      <th>2</th>\n",
       "      <td>Incarceration Length, Employment, and Earnings</td>\n",
       "      <td>10.3386/w12003</td>\n",
       "      <td>adrf-000003</td>\n",
       "    </tr>\n",
       "    <tr>\n",
       "      <th>3</th>\n",
       "      <td>Incarceration Length, Employment, and Earnings</td>\n",
       "      <td>10.3386/w12003</td>\n",
       "      <td>adrf-000036</td>\n",
       "    </tr>\n",
       "    <tr>\n",
       "      <th>4</th>\n",
       "      <td>Incarceration Length, Employment, and Earnings</td>\n",
       "      <td>10.3386/w12003</td>\n",
       "      <td>adrf-000055</td>\n",
       "    </tr>\n",
       "  </tbody>\n",
       "</table>\n",
       "</div>"
      ],
      "text/plain": [
       "                                            Title             DOI      adrf_id\n",
       "0  Incarceration Length, Employment, and Earnings  10.3386/w12003  adrf-000001\n",
       "1  Incarceration Length, Employment, and Earnings  10.3386/w12003  adrf-000002\n",
       "2  Incarceration Length, Employment, and Earnings  10.3386/w12003  adrf-000003\n",
       "3  Incarceration Length, Employment, and Earnings  10.3386/w12003  adrf-000036\n",
       "4  Incarceration Length, Employment, and Earnings  10.3386/w12003  adrf-000055"
      ]
     },
     "execution_count": 46,
     "metadata": {},
     "output_type": "execute_result"
    }
   ],
   "source": [
    "tanf_df.head()"
   ]
  },
  {
   "cell_type": "code",
   "execution_count": 6,
   "metadata": {},
   "outputs": [
    {
     "name": "stdout",
     "output_type": "stream",
     "text": [
      "enter your dimensions api username\n",
      "sr2661@nyu.edu\n",
      "enter your dimensions api password\n",
      "········\n",
      "API credentials have been set\n"
     ]
    }
   ],
   "source": [
    "api_client = metadata_funs.create_api_client()"
   ]
  },
  {
   "cell_type": "code",
   "execution_count": 50,
   "metadata": {},
   "outputs": [],
   "source": [
    "tanf_df_dict = tanf_df.to_dict('records')"
   ]
  },
  {
   "cell_type": "code",
   "execution_count": 52,
   "metadata": {},
   "outputs": [
    {
     "data": {
      "text/plain": [
       "{'Title': 'Incarceration Length, Employment, and Earnings',\n",
       " 'DOI': '10.3386/w12003',\n",
       " 'adrf_id': 'adrf-000001'}"
      ]
     },
     "execution_count": 52,
     "metadata": {},
     "output_type": "execute_result"
    }
   ],
   "source": [
    "# tanf_df_dict[0]"
   ]
  },
  {
   "cell_type": "code",
   "execution_count": 59,
   "metadata": {},
   "outputs": [
    {
     "data": {
      "text/plain": [
       "array(['adrf-000001', 'adrf-000002', 'adrf-000003', 'adrf-000036',\n",
       "       'adrf-000055', 'adrf-000034', 'adrf-000005', 'adrf-000006',\n",
       "       'adrf-000004', 'adrf-000037', 'adrf-000008', 'adrf-000009',\n",
       "       'adrf-000010', 'adrf-000011'], dtype=object)"
      ]
     },
     "execution_count": 59,
     "metadata": {},
     "output_type": "execute_result"
    }
   ],
   "source": [
    "# tanf_df.adrf_id.unique()"
   ]
  },
  {
   "cell_type": "code",
   "execution_count": 34,
   "metadata": {},
   "outputs": [
    {
     "data": {
      "text/plain": [
       "'10.3386/w12003'"
      ]
     },
     "execution_count": 34,
     "metadata": {},
     "output_type": "execute_result"
    }
   ],
   "source": [
    "dois = tanf_df.DOI.unique().tolist()\n",
    "# doi_id = dois[0]\n",
    "# doi_id\n",
    "# dois"
   ]
  },
  {
   "cell_type": "code",
   "execution_count": 60,
   "metadata": {},
   "outputs": [],
   "source": [
    "datasets_json = metadata_funs.read_datasets()"
   ]
  },
  {
   "cell_type": "code",
   "execution_count": 61,
   "metadata": {},
   "outputs": [
    {
     "data": {
      "text/plain": [
       "{'index': 0,\n",
       " 'adrf_id': 'adrf-000001',\n",
       " 'external_id': nan,\n",
       " 'temporal_coverage_start': 1990,\n",
       " 'dataset_header_desc': 'adrf-000001-ildoc_admit.csv:adrf-000001-ildoc_admit_dd.csv',\n",
       " 'description': 'Detailed transactional data of each time a person was admitted to an Illinois Department of Corrections (DOC) facility from 1990 to 2015. Variables include demographic, charges, sentencing, conduct, security level, health and mental health status, gang affiliation. Data are collected using correctional facility data and court records. See data dictionary documentation for detailed description of all fields.\\n\\n\\nPlease access the full dataset in course database table: ildoc.ildoc_admit',\n",
       " 'data_classification': 'Restricted',\n",
       " 'keywords': 'criminal justice system,inmates,jail,correctional facilities,health,employment,demographics,offenses',\n",
       " 'access_actions_required': 'This is ADRF course data. In order to access, you must have signed the appropriate NDA and agreed to the ADRF terms of usage. These data are located in the course database. Field specific metadata are a sample only.',\n",
       " 'related_articles': '1,3,5,9,10',\n",
       " 'data_steward': 'Julia Lane',\n",
       " 'title': 'Illinois Department of Corrections DOC Inmate Admissions',\n",
       " 'source_url': nan,\n",
       " 'category': 'Inmate Populations',\n",
       " 'geographical_coverage': 'Illinois',\n",
       " 'dataset_version': 1,\n",
       " 'data_steward_org': 'Center for Urban Science and Progress (CUSP), NYU',\n",
       " 'filenames': 'adrf-000001-ildoc_admit.csv',\n",
       " 'dataset_citation': 'Illinois Department of Corrections, 2016, \"Illinois Department of Corrections (DOC) Inmate Admissions 1990-2015\", Applied Data Analytics Course [Distributor], 1 [Version]',\n",
       " 'access_requirements': 'You must be enrolled in an ADRF class to access these data.',\n",
       " 'data_provider': 'Illinois Department of Corrections',\n",
       " 'source_archive': nan,\n",
       " 'geographical_unit': 'State, Zip Code',\n",
       " 'temporal_coverage_end': 2015,\n",
       " 'data_usage_policy': 'This dataset is restricted to ADRF course participants who have approval and have agreed to the terms of use provided by the Illinois Department of Corrections (IDOC). The user shall not attempt to re-identify individuals represented in the data and agree to not disclose any data contained here to any unauthorized parties. Any analyses and data products derived from the data must be reviewed by IDOC before export from this system.',\n",
       " 'reference_url': 'https://www.illinois.gov/idoc/Pages/default.aspx',\n",
       " 'dataset_documentation': 'idoc_admissions_data_dictionary.pdf,Notes_on_HCLASS_and_EDUCLVL.pdf,Offenses_and_SPSS_codes.csv,Offenses_and_SPSS_codes_dd.csv,birthpl_state_country_codes.csv',\n",
       " 'dataset_id': 'dataset-f5705a632a30d970e9df'}"
      ]
     },
     "execution_count": 61,
     "metadata": {},
     "output_type": "execute_result"
    }
   ],
   "source": [
    "datasets_json[0]"
   ]
  },
  {
   "cell_type": "code",
   "execution_count": 66,
   "metadata": {},
   "outputs": [],
   "source": [
    "tanf_dict_list = []\n",
    "for t in tanf_df_dict:\n",
    "    time.sleep( 6 )\n",
    "    doi_id = t['DOI']\n",
    "    try:\n",
    "        dataset_dict = [{'dataset_id':d['dataset_id'],'dataset_name':d['title']} for d in datasets_json if d['adrf_id'] == t['adrf_id']][0]\n",
    "        a = metadata_funs.run_doi_search(doi_id,api_client)\n",
    "        if a:\n",
    "            pub_d = {'title':a['title'],'journal':a['journal']['title'],'doi':doi_id,'adrf_id':t['adrf_id']}\n",
    "            pub_d.update(dataset_dict)\n",
    "            tanf_dict_list.append(pub_d)\n",
    "    except:\n",
    "        pass"
   ]
  },
  {
   "cell_type": "code",
   "execution_count": 81,
   "metadata": {},
   "outputs": [],
   "source": [
    "tanf_dict_list_lim = [{k: v for k, v in t.items() if k in ('title','journal','doi','dataset_name')} for t in tanf_dict_list]"
   ]
  },
  {
   "cell_type": "code",
   "execution_count": 86,
   "metadata": {},
   "outputs": [],
   "source": [
    "# tanf_dict_list_lim\n",
    "tanf_data_export = pd.DataFrame.from_dict(tanf_dict_list_lim)\n",
    "tanf_data_export = tanf_data_export[['doi','journal','title','dataset_name']]"
   ]
  },
  {
   "cell_type": "code",
   "execution_count": 88,
   "metadata": {},
   "outputs": [],
   "source": [
    "tanf_data_export.to_csv('metadata/manually_curated_metadata/tanf_data_transformed.csv')\n",
    "\n"
   ]
  },
  {
   "cell_type": "code",
   "execution_count": null,
   "metadata": {},
   "outputs": [],
   "source": []
  }
 ],
 "metadata": {
  "kernelspec": {
   "display_name": "Python 3",
   "language": "python",
   "name": "python3"
  },
  "language_info": {
   "codemirror_mode": {
    "name": "ipython",
    "version": 3
   },
   "file_extension": ".py",
   "mimetype": "text/x-python",
   "name": "python",
   "nbconvert_exporter": "python",
   "pygments_lexer": "ipython3",
   "version": "3.7.3"
  }
 },
 "nbformat": 4,
 "nbformat_minor": 2
}
