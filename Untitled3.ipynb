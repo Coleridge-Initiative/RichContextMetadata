{
 "cells": [
  {
   "cell_type": "code",
   "execution_count": 2,
   "metadata": {},
   "outputs": [],
   "source": [
    "import os\n",
    "import pandas as pd\n",
    "import unicodedata\n",
    "import datetime\n",
    "import metadata_funs\n",
    "import dateutil\n",
    "import json\n"
   ]
  },
  {
   "cell_type": "code",
   "execution_count": 38,
   "metadata": {},
   "outputs": [],
   "source": [
    "def assign_id(dataset_entry,fields_to_hash):\n",
    "    hash_vals = [(v) for k,v in dataset_entry.items() if k in fields_to_hash]\n",
    "    dataset_entry['dataset_id'] = \"dataset-\" + metadata_funs.get_hash(hash_vals)\n",
    "    dataset_entry['dataset_id_metadata'] = {'dataset_id':dataset_entry['dataset_id']\n",
    "                                            ,'hashed_columns':fields_to_hash\n",
    "                                            ,'date_created':convert_date(datetime.datetime.now())}\n",
    "    return dataset_entry\n",
    "\n",
    "def convert_date(a_date):\n",
    "    new_date = str(dateutil.parser.parse(str(a_date)).date())\n",
    "    return new_date\n",
    "\n",
    "\n",
    "def get_last_id(dataset_entry):\n",
    "    most_recent_date = max([convert_date(t['date_archived']) for t in dataset_entry['dataset_id_history']])\n",
    "    most_recent_id = [t['dataset_id'] for t in dataset_entry['dataset_id_history'] if t['date_archived'] == most_recent_date][0]\n",
    "    return most_recent_id\n",
    "\n",
    "def read_adrf_dataset_md():\n",
    "    linkage_path = os.path.join(os.getcwd(),'metadata/manually_curated_metadata/adrf_metadata.csv')\n",
    "    adrf_md_df = pd.read_csv(linkage_path)\n",
    "    return adrf_md_df\n",
    "\n",
    "\n",
    "def read_manual_ds_names():\n",
    "    manual_dataset_json_path =  os.path.join(os.getcwd(),'metadata/manually_curated_metadata/curated_dataset_names_alias.json')\n",
    "    with open(manual_dataset_json_path) as json_file:\n",
    "        manual_dataset_json = json.load(json_file)\n",
    "    return manual_dataset_json\n",
    "\n",
    "def read_ds_names(adrf_md):\n",
    "    titles = adrf_md.title.unique().tolist()\n",
    "    alias =  adrf_md.alias.unique().tolist()\n",
    "    adrf_ds_names = list(set(titles+alias))\n",
    "    return adrf_ds_names\n",
    "\n",
    "def update_archive_dict(dataset_entry):\n",
    "    \n",
    "    hist_dict = {'dataset_id':dataset_entry['dataset_id'],'date_archived':convert_date(datetime.datetime.now())}\n",
    "\n",
    "    hist_dict.update(dataset_entry['dataset_id_metadata'])\n",
    "    return hist_dict\n",
    "\n",
    "\n"
   ]
  },
  {
   "cell_type": "code",
   "execution_count": 39,
   "metadata": {},
   "outputs": [],
   "source": [
    "adrf_ds_df = read_adrf_dataset_md()\n",
    "adrf_ds_names = read_ds_names(adrf_ds_df)\n",
    "man_ds_names = read_manual_ds_names()\n",
    "\n",
    "addl_ds_names = [i for i in man_ds_names if i['title'] not in adrf_ds_names]\n",
    "adrf_dd_dict = adrf_ds_df.to_dict('records')\n",
    "\n",
    "\n",
    "final_ds_dict = adrf_dd_dict + addl_ds_names\n",
    "\n",
    "dd_dict = final_ds_dict\n"
   ]
  },
  {
   "cell_type": "code",
   "execution_count": 41,
   "metadata": {},
   "outputs": [],
   "source": [
    "i['title'] = unicodedata.normalize('NFC',i['title'])\n",
    "fields_to_hash = ['title']\n",
    "i = assign_id(dataset_entry = i,fields_to_hash = fields_to_hash)\n",
    "# i"
   ]
  },
  {
   "cell_type": "code",
   "execution_count": 42,
   "metadata": {},
   "outputs": [
    {
     "data": {
      "text/plain": [
       "{'dataset_id': 'dataset-90a10f22212fad2801b2',\n",
       " 'date_archived': '2019-08-28',\n",
       " 'hashed_columns': ['title'],\n",
       " 'date_created': '2019-08-28'}"
      ]
     },
     "execution_count": 42,
     "metadata": {},
     "output_type": "execute_result"
    }
   ],
   "source": [
    "\n",
    "hist_dict = update_archive_dict(i)\n",
    "#         hist_list.append(hist_dict)\n",
    "#         dataset_entry['dataset_id_history'] = hist_list\n",
    "hist_dict  "
   ]
  },
  {
   "cell_type": "code",
   "execution_count": 43,
   "metadata": {},
   "outputs": [],
   "source": [
    "# mos"
   ]
  },
  {
   "cell_type": "code",
   "execution_count": 47,
   "metadata": {},
   "outputs": [
    {
     "name": "stdout",
     "output_type": "stream",
     "text": [
      "hgere\n"
     ]
    },
    {
     "data": {
      "text/plain": [
       "{'dataset_id': 'dataset-90a10f22212fad2801b2',\n",
       " 'date_archived': '2019-08-28',\n",
       " 'hashed_columns': ['title'],\n",
       " 'date_created': '2019-08-28',\n",
       " 'in_use': True}"
      ]
     },
     "execution_count": 47,
     "metadata": {},
     "output_type": "execute_result"
    }
   ],
   "source": [
    "\n",
    "try:\n",
    "    i['dataset_id_history']\n",
    "    i['dataset_id_history'].append(hist_dict)\n",
    "except:\n",
    "    hist_dict_list = []\n",
    "    hist_dict_list.append(hist_dict)\n",
    "    i['dataset_id_history'] = hist_dict_list\n",
    "last_id = get_last_id(i)\n",
    "if last_id == i['dataset_id']:\n",
    "    in_use = True\n",
    "elif last_id != i['dataset_id']:\n",
    "    in_use = False\n",
    "this_hist_dict = [h for h in hist_dict_list if h['dataset_id'] == i['dataset_id']][0]\n",
    "this_hist_dict.update({'in_use':in_use})\n",
    "this_hist_dict"
   ]
  },
  {
   "cell_type": "code",
   "execution_count": 26,
   "metadata": {},
   "outputs": [
    {
     "data": {
      "text/plain": [
       "[{'dataset_id': 'dataset-90a10f22212fad2801b2',\n",
       "  'date_archived': datetime.datetime(2019, 8, 28, 16, 44, 43, 588058),\n",
       "  'hashed_columns': ['title'],\n",
       "  'date_created': '2019-08-28'}]"
      ]
     },
     "execution_count": 26,
     "metadata": {},
     "output_type": "execute_result"
    }
   ],
   "source": [
    "for i in dd_dict:\n",
    "    i['title'] = unicodedata.normalize('NFC',i['title'])\n",
    "    fields_to_hash = ['title']\n",
    "    i = assign_id(dataset_entry = i,fields_to_hash = fields_to_hash)\n",
    "    hist_dict = update_archive_dict(i)\n",
    "    try:\n",
    "        i['dataset_id_history']\n",
    "        i['dataset_id_history'].append(hist_dict)\n",
    "    except:\n",
    "        hist_dict_list = []\n",
    "        hist_dict_list.append(hist_dict)\n",
    "        i['dataset_id_history'] = hist_dict_list\n",
    "    last_id = get_last_id(i)\n",
    "    if last_id == i['dataset_id']:\n",
    "        in_use = True\n",
    "    elif last_id != i['dataset_id']:\n",
    "        in_use = False\n",
    "    this_hist_dict = [h for h in hist_dict_list if h['dataset_id'] == i['dataset_id']][0]\n",
    "    this_hist_dict.update({'in_use':in_use})\n",
    "    try:\n",
    "        if isinstance(i['temporal_coverage_end'], datetime.date):\n",
    "            i['temporal_coverage_end'] = convert_date(i['temporal_coverage_end'])\n",
    "#             i['temporal_coverage_end'] = str(dateutil.parser.parse(str(i['temporal_coverage_end'])).date())\n",
    "        if isinstance(i['temporal_coverage_start'], datetime.date):\n",
    "            i['temporal_coverage_end'] = convert_date(i['temporal_coverage_start'])\n",
    "#             i['temporal_coverage_start'] = str(dateutil.parser.parse(str(i['temporal_coverage_start'])).date())\n",
    "    except:\n",
    "        pass\n",
    "\n",
    "    return dd_dict"
   ]
  },
  {
   "cell_type": "code",
   "execution_count": 13,
   "metadata": {},
   "outputs": [
    {
     "data": {
      "text/plain": [
       "True"
      ]
     },
     "execution_count": 13,
     "metadata": {},
     "output_type": "execute_result"
    }
   ],
   "source": []
  },
  {
   "cell_type": "code",
   "execution_count": null,
   "metadata": {},
   "outputs": [],
   "source": [
    "dd_dict = main()    \n",
    "dd_dict_lim = [{k: v for k, v in d.items() if k in ['title','dataset_id','alias','dataset_id_metadata']} for d in dd_dict]\n",
    "\n",
    "json.dump(dd_dict, open('datasets_newer.json', 'w'), indent=2)\n",
    "json.dump(dd_dict_lim, open('datasets_lim_newer.json', 'w'), indent=2)\n"
   ]
  }
 ],
 "metadata": {
  "kernelspec": {
   "display_name": "Python 3",
   "language": "python",
   "name": "python3"
  },
  "language_info": {
   "codemirror_mode": {
    "name": "ipython",
    "version": 3
   },
   "file_extension": ".py",
   "mimetype": "text/x-python",
   "name": "python",
   "nbconvert_exporter": "python",
   "pygments_lexer": "ipython3",
   "version": "3.7.3"
  }
 },
 "nbformat": 4,
 "nbformat_minor": 2
}
