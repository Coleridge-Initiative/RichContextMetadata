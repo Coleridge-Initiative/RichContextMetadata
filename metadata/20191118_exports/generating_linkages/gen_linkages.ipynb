{
 "cells": [
  {
   "cell_type": "code",
   "execution_count": 31,
   "metadata": {},
   "outputs": [
    {
     "data": {
      "text/plain": [
       "<module 'RichContextApi_new' from '/Users/sophierand/RichContextMetadata/metadata/20191118_exports/generating_linkages/RichContextApi_new.py'>"
      ]
     },
     "execution_count": 31,
     "metadata": {},
     "output_type": "execute_result"
    }
   ],
   "source": [
    "import RichContextApi_new\n",
    "import importlib\n",
    "import json\n",
    "import re\n",
    "importlib.reload(RichContextApi_new)"
   ]
  },
  {
   "cell_type": "code",
   "execution_count": 32,
   "metadata": {},
   "outputs": [],
   "source": [
    "def gen_file_name(num,search_term,api_name):\n",
    "    export_location = '/Users/sophierand/RichContextMetadata/metadata/20191118_exports/exports/'\n",
    "    export_file_name = re.sub(' ','',search_term+'_'+api_name+'_'+'_linkages_'+str(num)+'.json')\n",
    "    file_name = export_location+export_file_name\n",
    "    return file_name"
   ]
  },
  {
   "cell_type": "code",
   "execution_count": 36,
   "metadata": {},
   "outputs": [],
   "source": [
    "api_names = ['openaire','researchgate','dimensions']"
   ]
  },
  {
   "cell_type": "code",
   "execution_count": 37,
   "metadata": {},
   "outputs": [],
   "source": [
    "def run_search(search_term,api_names):\n",
    "    this_num = 0\n",
    "    for i in api_names:\n",
    "        ft_search = RichContextApi_new.fulltext_search(search_term = search_term, api_name = i)\n",
    "        [f.update({'search_term':search_term}) for f in ft_search]\n",
    "        file_name = gen_file_name(num = this_num,search_term = search_term,api_name = i)\n",
    "        with open(file_name, 'w') as outfile:\n",
    "            json.dump(ft_search, outfile,indent = 2)\n",
    "        this_num +=1"
   ]
  },
  {
   "cell_type": "code",
   "execution_count": 38,
   "metadata": {},
   "outputs": [],
   "source": [
    "dataset_search_terms = ['Federal RePORTER','FedREPORTER','UMETRICS','Universities: Measuring the Impacts of Research on Innovation, Competitiveness, and Science'\n",
    " 'Survey of Doctorate Recipients','Survey of Earned Doctorates','Higher Education Research and Development Survey']\n",
    "# search_term = 'survey of earned doctorates'\n",
    "for s in dataset_search_terms:\n",
    "    run_search(search_term = s,api_names = api_names)"
   ]
  },
  {
   "cell_type": "code",
   "execution_count": null,
   "metadata": {},
   "outputs": [],
   "source": []
  },
  {
   "cell_type": "markdown",
   "metadata": {},
   "source": [
    "Read in all linkages json files and export to csv"
   ]
  },
  {
   "cell_type": "code",
   "execution_count": 46,
   "metadata": {},
   "outputs": [],
   "source": [
    "def flatten(l):\n",
    "    sl = [item for sublist in l for item in sublist]\n",
    "    return sl"
   ]
  },
  {
   "cell_type": "code",
   "execution_count": 44,
   "metadata": {},
   "outputs": [],
   "source": [
    "import os\n",
    "export_location = '/Users/sophierand/RichContextMetadata/metadata/20191118_exports/exports/'\n",
    "export_list = []\n",
    "for d in os.listdir(export_location):\n",
    "    filename = export_location+d\n",
    "    with open(filename) as json_file:\n",
    "        export = json.load(json_file)\n",
    "        export_list.append(export)"
   ]
  },
  {
   "cell_type": "code",
   "execution_count": 52,
   "metadata": {},
   "outputs": [],
   "source": [
    "import pandas as pd\n",
    "export = flatten(export_list)\n",
    "\n",
    "export_df = pd.DataFrame(export)"
   ]
  },
  {
   "cell_type": "code",
   "execution_count": 54,
   "metadata": {},
   "outputs": [],
   "source": [
    "# export_df"
   ]
  },
  {
   "cell_type": "code",
   "execution_count": 55,
   "metadata": {},
   "outputs": [],
   "source": [
    "export_df.to_csv('/Users/sophierand/RichContextMetadata/metadata/20191118_exports/exports.csv',index = False)"
   ]
  },
  {
   "cell_type": "code",
   "execution_count": 57,
   "metadata": {},
   "outputs": [],
   "source": [
    "# export"
   ]
  },
  {
   "cell_type": "code",
   "execution_count": null,
   "metadata": {},
   "outputs": [],
   "source": []
  }
 ],
 "metadata": {
  "kernelspec": {
   "display_name": "Python 3",
   "language": "python",
   "name": "python3"
  },
  "language_info": {
   "codemirror_mode": {
    "name": "ipython",
    "version": 3
   },
   "file_extension": ".py",
   "mimetype": "text/x-python",
   "name": "python",
   "nbconvert_exporter": "python",
   "pygments_lexer": "ipython3",
   "version": "3.7.3"
  }
 },
 "nbformat": 4,
 "nbformat_minor": 2
}
