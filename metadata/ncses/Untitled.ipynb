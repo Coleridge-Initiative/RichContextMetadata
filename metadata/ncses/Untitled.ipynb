{
 "cells": [
  {
   "cell_type": "code",
   "execution_count": 121,
   "metadata": {},
   "outputs": [],
   "source": [
    "import json\n",
    "import pandas as pd\n",
    "import re"
   ]
  },
  {
   "cell_type": "code",
   "execution_count": 103,
   "metadata": {},
   "outputs": [],
   "source": [
    "cust_path = \"/Users/sophierand/RCCustomers/customers.json\""
   ]
  },
  {
   "cell_type": "code",
   "execution_count": 104,
   "metadata": {},
   "outputs": [],
   "source": [
    "with open(cust_path) as json_file:\n",
    "    customers = json.load(json_file)"
   ]
  },
  {
   "cell_type": "code",
   "execution_count": 105,
   "metadata": {},
   "outputs": [],
   "source": [
    "ncses_dataset_ids = [c['datasets'] for c in customers if c['alias'] == 'NCSES'][0]\n",
    "# ncses_dataset_ids"
   ]
  },
  {
   "cell_type": "code",
   "execution_count": 106,
   "metadata": {},
   "outputs": [
    {
     "data": {
      "text/plain": [
       "<module 'RichContextAPI' from '/Users/sophierand/RichContextMetadata/metadata/ncses/RichContextAPI.py'>"
      ]
     },
     "execution_count": 106,
     "metadata": {},
     "output_type": "execute_result"
    }
   ],
   "source": [
    "import RichContextAPI\n",
    "import importlib\n",
    "importlib.reload(RichContextAPI)"
   ]
  },
  {
   "cell_type": "code",
   "execution_count": 107,
   "metadata": {},
   "outputs": [],
   "source": [
    "dataset_path = \"/Users/sophierand/RCDatasets/datasets.json\"\n",
    "with open(dataset_path) as json_file:\n",
    "    datasets = json.load(json_file)"
   ]
  },
  {
   "cell_type": "code",
   "execution_count": 108,
   "metadata": {},
   "outputs": [],
   "source": [
    "ncses_datasets = [d for d in datasets if d['id'] in ncses_dataset_ids]\n",
    "string_search_terms = []\n",
    "for d in ncses_datasets:\n",
    "    ds_dict = {}\n",
    "    ds_alts = []\n",
    "    ds_alts = d['alt_title']\n",
    "    ds_alts.append(d['title'])\n",
    "    ds_dict = {'strings':ds_alts,'id':d['id'],'title':d['title']}\n",
    "    string_search_terms.append(ds_dict)\n",
    "    \n",
    "# ncses_strings = list(set(RichContextAPI.flatten(string_search_terms)))\n",
    "# ncses_strings"
   ]
  },
  {
   "cell_type": "code",
   "execution_count": 110,
   "metadata": {},
   "outputs": [],
   "source": [
    "import time"
   ]
  },
  {
   "cell_type": "code",
   "execution_count": 112,
   "metadata": {},
   "outputs": [
    {
     "data": {
      "text/plain": [
       "{'strings': ['SED', 'SESTAT', 'Survey of Earned Doctorates'],\n",
       " 'id': 'dataset-370',\n",
       " 'title': 'Survey of Earned Doctorates'}"
      ]
     },
     "execution_count": 112,
     "metadata": {},
     "output_type": "execute_result"
    }
   ],
   "source": [
    "i = string_search_terms[0]\n",
    "i"
   ]
  },
  {
   "cell_type": "code",
   "execution_count": 137,
   "metadata": {},
   "outputs": [],
   "source": [
    "def gen_md(i):\n",
    "    md_dict_list = []\n",
    "    md_dict = {'dataset_id':i['id'],'dataset_title':i['title']}\n",
    "    for s in i['strings']:\n",
    "        print(s)\n",
    "        time.sleep(6)\n",
    "        dim_return = RichContextAPI.full_text_search(api_name = 'dimensions',search_term=s)\n",
    "        for d in dim_return:\n",
    "            try:\n",
    "                dm = {'journal':d['journal']['title'],'doi':d['doi'],'title':d['title'],'dataset_string':s}\n",
    "                dm.update(md_dict)\n",
    "                md_dict_list.append(dm)\n",
    "            except:\n",
    "                pass\n",
    "    md_df = pd.DataFrame(md_dict_list)\n",
    "    md_df = md_df.drop_duplicates(subset = 'title')\n",
    "    md_df.to_csv('{}_linkages.csv'.format(re.sub(' ','_',md_dict['dataset_title'])),index = False)\n"
   ]
  },
  {
   "cell_type": "code",
   "execution_count": 138,
   "metadata": {},
   "outputs": [
    {
     "name": "stdout",
     "output_type": "stream",
     "text": [
      "SED\n",
      "SESTAT\n",
      "Survey of Earned Doctorates\n",
      "SDR\n",
      "Survey of Doctorate Recipients\n",
      "UMETRICS\n",
      "Universities: Measuring the Impacts of Research on Innovation, Competitiveness, and Science\n",
      "USPTO\n",
      "USPTO PatentsView\n",
      "Grants data\n",
      "Federal RePORTER\n",
      "FedREPORTER\n",
      "HERD\n",
      "Federal RePORTER\n",
      "Higher Education Research and Development Survey\n"
     ]
    }
   ],
   "source": [
    "for i in string_search_terms:\n",
    "    gen_md(i)"
   ]
  },
  {
   "cell_type": "code",
   "execution_count": null,
   "metadata": {},
   "outputs": [],
   "source": []
  },
  {
   "cell_type": "code",
   "execution_count": 135,
   "metadata": {},
   "outputs": [],
   "source": [
    "md_df = pd.DataFrame(md_dict_list)\n",
    "md_df = md_df.drop_duplicates(subset = 'title')\n",
    "md_df.to_csv('{}_linkages.csv'.format(re.sub(' ','_',md_dict['dataset_title'])),index = False)\n"
   ]
  },
  {
   "cell_type": "code",
   "execution_count": 111,
   "metadata": {},
   "outputs": [
    {
     "name": "stdout",
     "output_type": "stream",
     "text": [
      "Non-JSON response:\n",
      "<!DOCTYPE html>\n",
      "<html lang=\"en\">\n",
      "\n",
      "<head>\n",
      "    <meta http-equiv=\"Content-Type\" content=\"text/html; charset=UTF-8\">\n",
      "\n",
      "    <meta http-equiv=\"X-UA-Compatible\" content=\"IE=EDGE\">\n",
      "    <meta name=\"viewport\" content=\"width=device-width, initial-scale=1\">\n",
      "    <title>Dimensions</title>\n",
      "    <link rel=\"icon\" type=\"image/png\" href=\"/files/favicon-16x16.png\"\n",
      "        sizes=\"16x16\">\n",
      "\n",
      "    <style>\n",
      "        /* latin */\n",
      "        @font-face {\n",
      "            font-family: 'Roboto';\n",
      "            font-style: normal;\n",
      "            font-weight: 400;\n",
      "            src: local('Roboto'), local('Roboto-Regular'), url(https://fonts.gstatic.com/s/roboto/v18/KFOmCnqEu92Fr1Mu4mxKKTU1Kg.woff2) format('woff2');\n",
      "                unicode-range: U+0000-00FF, U+0131, U+0152-0153, U+02BB-02BC, U+02C6, U+02DA, U+02DC, U+2000-206F, U+2074, U+20AC, U+2122, U+2191, U+2193, U+2212, U+2215, U+FEFF, U+FFFD;\n",
      "        }\n",
      "\n",
      "        /* latin */\n",
      "        @font-face {\n",
      "            font-family: 'Roboto';\n",
      "            font-style: normal;\n",
      "            font-weight: 700;\n",
      "            src: local('Roboto Bold'), local('Roboto-Bold'), url(https://fonts.gstatic.com/s/roboto/v18/KFOlCnqEu92Fr1MmWUlfBBc4AMP6lQ.woff2) format('woff2');\n",
      "                unicode-range: U+0000-00FF, U+0131, U+0152-0153, U+02BB-02BC, U+02C6, U+02DA, U+02DC, U+2000-206F, U+2074, U+20AC, U+2122, U+2191, U+2193, U+2212, U+2215, U+FEFF, U+FFFD;\n",
      "        }\n",
      "\n",
      "        html,\n",
      "        body {\n",
      "            height: 100vh;\n",
      "        }\n",
      "\n",
      "        body {\n",
      "            background-color: #01091C;\n",
      "            font-family: Roboto, Arial, sans-serif;\n",
      "            text-align: center;\n",
      "            font-size: 13px;\n",
      "            line-height: 19px;\n",
      "        }\n",
      "\n",
      "        a,\n",
      "        a:visited {\n",
      "            color: #0b78c4;\n",
      "            text-decoration: none;\n",
      "        }\n",
      "\n",
      "        a:hover {\n",
      "            text-decoration: underline;\n",
      "        }\n",
      "\n",
      "        h1 {\n",
      "            width: 100%;\n",
      "            height: 140px;\n",
      "            margin-bottom: 35px;\n",
      "            background: #0d4667 url(/files/logo-centered.png) no-repeat center center;\n",
      "            background-size: 190px;\n",
      "\n",
      "            font-size: 0;\n",
      "            text-indent: -9999;\n",
      "        }\n",
      "\n",
      "        main {\n",
      "            width: 400px;\n",
      "            background-color: white;\n",
      "            padding-bottom: 56px;\n",
      "            margin: 0 auto;\n",
      "\n",
      "            position: absolute;\n",
      "            top: 50%;\n",
      "            left: 50%;\n",
      "            -webkit-transform: translateX(-50%) translateY(-50%);\n",
      "            transform: translateX(-50%) translateY(-50%);\n",
      "        }\n",
      "\n",
      "        main p {\n",
      "            margin: 0 22px 22px;\n",
      "        }\n",
      "\n",
      "        p strong {\n",
      "            font-size: 15px;\n",
      "        }\n",
      "    </style>\n",
      "</head>\n",
      "\n",
      "<body>\n",
      "    <main role=\"main\">\n",
      "\n",
      "        <h1>Dimensions</h1>\n",
      "\n",
      "        <p><strong>Well, this is unexpected ...</strong></p>\n",
      "\n",
      "        <p>An error has occured and we are working to fix the problem! We will be up and running shortly.</p>\n",
      "\n",
      "        <p>In the meantime, feel free to check out<br>\n",
      "            <a href=\"http://www.dimensions.ai\">www.dimensions.ai</a><br>\n",
      "            for background information on Dimensions.</p>\n",
      "\n",
      "        <p>Thanks for your patience!</p>\n",
      "\n",
      "    </main>\n",
      "</body>\n",
      "\n",
      "</html>\n"
     ]
    },
    {
     "ename": "TypeError",
     "evalue": "string indices must be integers",
     "output_type": "error",
     "traceback": [
      "\u001b[0;31m---------------------------------------------------------------------------\u001b[0m",
      "\u001b[0;31mTypeError\u001b[0m                                 Traceback (most recent call last)",
      "\u001b[0;32m<ipython-input-111-fe7563471d68>\u001b[0m in \u001b[0;36m<module>\u001b[0;34m\u001b[0m\n\u001b[1;32m      4\u001b[0m     \u001b[0;32mfor\u001b[0m \u001b[0ms\u001b[0m \u001b[0;32min\u001b[0m \u001b[0mi\u001b[0m\u001b[0;34m[\u001b[0m\u001b[0;34m'strings'\u001b[0m\u001b[0;34m]\u001b[0m\u001b[0;34m:\u001b[0m\u001b[0;34m\u001b[0m\u001b[0;34m\u001b[0m\u001b[0m\n\u001b[1;32m      5\u001b[0m         \u001b[0mtime\u001b[0m\u001b[0;34m.\u001b[0m\u001b[0msleep\u001b[0m\u001b[0;34m(\u001b[0m\u001b[0;36m6\u001b[0m\u001b[0;34m)\u001b[0m\u001b[0;34m\u001b[0m\u001b[0;34m\u001b[0m\u001b[0m\n\u001b[0;32m----> 6\u001b[0;31m         \u001b[0mdim_return\u001b[0m \u001b[0;34m=\u001b[0m \u001b[0mRichContextAPI\u001b[0m\u001b[0;34m.\u001b[0m\u001b[0mfull_text_search\u001b[0m\u001b[0;34m(\u001b[0m\u001b[0mapi_name\u001b[0m \u001b[0;34m=\u001b[0m \u001b[0;34m'dimensions'\u001b[0m\u001b[0;34m,\u001b[0m\u001b[0msearch_term\u001b[0m\u001b[0;34m=\u001b[0m\u001b[0ms\u001b[0m\u001b[0;34m)\u001b[0m\u001b[0;34m\u001b[0m\u001b[0;34m\u001b[0m\u001b[0m\n\u001b[0m\u001b[1;32m      7\u001b[0m         \u001b[0;34m[\u001b[0m\u001b[0md\u001b[0m\u001b[0;34m.\u001b[0m\u001b[0mupdate\u001b[0m\u001b[0;34m(\u001b[0m\u001b[0mmd_dict\u001b[0m\u001b[0;34m)\u001b[0m \u001b[0;32mfor\u001b[0m \u001b[0md\u001b[0m \u001b[0;32min\u001b[0m \u001b[0mdim_return\u001b[0m\u001b[0;34m]\u001b[0m\u001b[0;34m\u001b[0m\u001b[0;34m\u001b[0m\u001b[0m\n\u001b[1;32m      8\u001b[0m         \u001b[0mmd_dict_list\u001b[0m\u001b[0;34m.\u001b[0m\u001b[0mappend\u001b[0m\u001b[0;34m(\u001b[0m\u001b[0mdim_return\u001b[0m\u001b[0;34m)\u001b[0m\u001b[0;34m\u001b[0m\u001b[0;34m\u001b[0m\u001b[0m\n",
      "\u001b[0;32m~/RichContextMetadata/metadata/ncses/RichContextAPI.py\u001b[0m in \u001b[0;36mfull_text_search\u001b[0;34m(search_term, api_name)\u001b[0m\n\u001b[1;32m    370\u001b[0m         \u001b[0mstringsearch_result\u001b[0m \u001b[0;34m=\u001b[0m  \u001b[0mdimensions_run_exact_string_search\u001b[0m\u001b[0;34m(\u001b[0m\u001b[0mstring\u001b[0m\u001b[0;34m=\u001b[0m \u001b[0msearch_term\u001b[0m\u001b[0;34m,\u001b[0m\u001b[0mapi_client\u001b[0m \u001b[0;34m=\u001b[0m\u001b[0mapi_client\u001b[0m\u001b[0;34m)\u001b[0m\u001b[0;34m\u001b[0m\u001b[0;34m\u001b[0m\u001b[0m\n\u001b[1;32m    371\u001b[0m         \u001b[0;32mif\u001b[0m \u001b[0mstringsearch_result\u001b[0m\u001b[0;34m:\u001b[0m\u001b[0;34m\u001b[0m\u001b[0;34m\u001b[0m\u001b[0m\n\u001b[0;32m--> 372\u001b[0;31m             \u001b[0mss_result\u001b[0m \u001b[0;34m=\u001b[0m \u001b[0mstringsearch_result\u001b[0m\u001b[0;34m[\u001b[0m\u001b[0;34m'publications'\u001b[0m\u001b[0;34m]\u001b[0m\u001b[0;34m\u001b[0m\u001b[0;34m\u001b[0m\u001b[0m\n\u001b[0m\u001b[1;32m    373\u001b[0m     \u001b[0;32mreturn\u001b[0m \u001b[0mss_result\u001b[0m\u001b[0;34m\u001b[0m\u001b[0;34m\u001b[0m\u001b[0m\n\u001b[1;32m    374\u001b[0m \u001b[0;34m\u001b[0m\u001b[0m\n",
      "\u001b[0;31mTypeError\u001b[0m: string indices must be integers"
     ]
    }
   ],
   "source": [
    "md_dict_list = []\n",
    "for i in string_search_terms[0:1]:\n",
    "    md_dict = {'dataset_id':i['id'],'dataset_title':i['title']}\n",
    "    for s in i['strings']:\n",
    "        time.sleep(6)\n",
    "        dim_return = RichContextAPI.full_text_search(api_name = 'dimensions',search_term=s)\n",
    "        for d in dim_return:\n",
    "            dm = {'journal':d['journal']['title'],'doi':d['doi'],'title':d['title'],'dataset_id':d['dataset_id'],'dataset_title':d['dataset_title']}\n",
    "            dm.update(md_dict)\n",
    "            md_dict_list.append(dm)\n",
    "            \n",
    "    "
   ]
  },
  {
   "cell_type": "code",
   "execution_count": 96,
   "metadata": {},
   "outputs": [],
   "source": [
    "md_dict_list_final = RichContextAPI.flatten(md_dict_list)"
   ]
  },
  {
   "cell_type": "code",
   "execution_count": 98,
   "metadata": {},
   "outputs": [],
   "source": [
    "dim_final = []\n",
    "for d in md_dict_list_final:\n",
    "    dm = {'journal':d['journal']['title'],'doi':d['doi'],'title':d['title'],'dataset_id':d['dataset_id'],'dataset_title':d['dataset_title']}\n",
    "    dim_final.append(dm)\n",
    "    "
   ]
  },
  {
   "cell_type": "code",
   "execution_count": 100,
   "metadata": {},
   "outputs": [
    {
     "data": {
      "text/plain": [
       "15"
      ]
     },
     "execution_count": 100,
     "metadata": {},
     "output_type": "execute_result"
    }
   ],
   "source": [
    "len(dim_final)"
   ]
  },
  {
   "cell_type": "code",
   "execution_count": 59,
   "metadata": {},
   "outputs": [
    {
     "data": {
      "text/plain": [
       "{'journal': {'id': 'jour.1128045',\n",
       "  'title': 'Expert Systems with Applications'},\n",
       " 'doi': '10.1016/j.eswa.2019.112944',\n",
       " 'author_affiliations': [[{'first_name': 'S.',\n",
       "    'last_name': 'Moral-García',\n",
       "    'corresponding': '',\n",
       "    'orcid': '',\n",
       "    'current_organization_id': '',\n",
       "    'researcher_id': '',\n",
       "    'affiliations': [{'id': 'grid.4489.1',\n",
       "      'name': 'University of Granada',\n",
       "      'city': 'Granada',\n",
       "      'city_id': 2517117,\n",
       "      'country': 'Spain',\n",
       "      'country_code': 'ES',\n",
       "      'state': None,\n",
       "      'state_code': None}]},\n",
       "   {'first_name': 'Carlos J.',\n",
       "    'last_name': 'Mantas',\n",
       "    'corresponding': '',\n",
       "    'orcid': '',\n",
       "    'current_organization_id': '',\n",
       "    'researcher_id': '',\n",
       "    'affiliations': [{'id': 'grid.4489.1',\n",
       "      'name': 'University of Granada',\n",
       "      'city': 'Granada',\n",
       "      'city_id': 2517117,\n",
       "      'country': 'Spain',\n",
       "      'country_code': 'ES',\n",
       "      'state': None,\n",
       "      'state_code': None}]},\n",
       "   {'first_name': 'Javier G.',\n",
       "    'last_name': 'Castellano',\n",
       "    'corresponding': '',\n",
       "    'orcid': '',\n",
       "    'current_organization_id': '',\n",
       "    'researcher_id': '',\n",
       "    'affiliations': [{'id': 'grid.4489.1',\n",
       "      'name': 'University of Granada',\n",
       "      'city': 'Granada',\n",
       "      'city_id': 2517117,\n",
       "      'country': 'Spain',\n",
       "      'country_code': 'ES',\n",
       "      'state': None,\n",
       "      'state_code': None}]},\n",
       "   {'first_name': 'María D.',\n",
       "    'last_name': 'Benítez',\n",
       "    'corresponding': '',\n",
       "    'orcid': '',\n",
       "    'current_organization_id': '',\n",
       "    'researcher_id': '',\n",
       "    'affiliations': [{'name': 'BANKIA Central Office, Granada, Spain'}]},\n",
       "   {'first_name': 'Joaquín',\n",
       "    'last_name': 'Abellán',\n",
       "    'corresponding': True,\n",
       "    'orcid': '',\n",
       "    'current_organization_id': '',\n",
       "    'researcher_id': '',\n",
       "    'affiliations': [{'id': 'grid.4489.1',\n",
       "      'name': 'University of Granada',\n",
       "      'city': 'Granada',\n",
       "      'city_id': 2517117,\n",
       "      'country': 'Spain',\n",
       "      'country_code': 'ES',\n",
       "      'state': None,\n",
       "      'state_code': None}]}]],\n",
       " 'title': 'Bagging of Credal Decision Trees for Imprecise Classification',\n",
       " 'dataset_id': 'dataset-370'}"
      ]
     },
     "execution_count": 59,
     "metadata": {},
     "output_type": "execute_result"
    }
   ],
   "source": [
    "dim_return[3]"
   ]
  },
  {
   "cell_type": "code",
   "execution_count": null,
   "metadata": {},
   "outputs": [],
   "source": [
    "md_dict_list = []\n",
    "for p in a:\n",
    "    md_dict = {'journal':p['journal']['title'],'title':p['title'],'doi':p['doi']}"
   ]
  },
  {
   "cell_type": "code",
   "execution_count": null,
   "metadata": {},
   "outputs": [],
   "source": [
    "def export_dimensions_csv(md_list,file_name):\n",
    "    keys = ['title','doi','journal','search_string','datasets']\n",
    "    md_list_csv = [{k:m[k] for k in keys} for m in md_list]\n",
    "    md_df_csv = pd.DataFrame.from_dict(md_list_csv)\n",
    "    md_df_csv = md_df_csv.drop_duplicates()\n",
    "    md_df_csv.to_csv(file_name,index = False)"
   ]
  }
 ],
 "metadata": {
  "kernelspec": {
   "display_name": "Python 3",
   "language": "python",
   "name": "python3"
  },
  "language_info": {
   "codemirror_mode": {
    "name": "ipython",
    "version": 3
   },
   "file_extension": ".py",
   "mimetype": "text/x-python",
   "name": "python",
   "nbconvert_exporter": "python",
   "pygments_lexer": "ipython3",
   "version": "3.7.3"
  }
 },
 "nbformat": 4,
 "nbformat_minor": 2
}
