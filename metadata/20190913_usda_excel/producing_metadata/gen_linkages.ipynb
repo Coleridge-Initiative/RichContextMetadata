{
 "cells": [
  {
   "cell_type": "markdown",
   "metadata": {},
   "source": [
    "## Export manually curated linkages from USDA excel spreadsheet sent on Sept "
   ]
  },
  {
   "cell_type": "markdown",
   "metadata": {},
   "source": [
    "#### Read in manually curated linkages and map to dataset id"
   ]
  },
  {
   "cell_type": "markdown",
   "metadata": {},
   "source": [
    "Import curated linkages with dataset_ids"
   ]
  },
  {
   "cell_type": "code",
   "execution_count": 1,
   "metadata": {},
   "outputs": [],
   "source": [
    "import pandas as pd"
   ]
  },
  {
   "cell_type": "code",
   "execution_count": 2,
   "metadata": {},
   "outputs": [],
   "source": [
    "ers_linkages_path =  '/Users/sophierand/RichContextMetadata/metadata/20190913_usda_excel/producing_metadata/usda_linkages.csv'\n",
    "usda_linkages = pd.read_csv(ers_linkages_path)"
   ]
  },
  {
   "cell_type": "markdown",
   "metadata": {},
   "source": [
    "Limit to titles with dataset linkages"
   ]
  },
  {
   "cell_type": "code",
   "execution_count": 3,
   "metadata": {},
   "outputs": [],
   "source": [
    "import numpy as np"
   ]
  },
  {
   "cell_type": "code",
   "execution_count": 4,
   "metadata": {},
   "outputs": [],
   "source": [
    "usda_linkages = usda_linkages[['title','pub_url','dataset_id']].drop_duplicates()\n",
    "usda_linkages_lim = usda_linkages.loc[np.logical_and(pd.notnull(usda_linkages.dataset_id), usda_linkages.dataset_id != \"0\")]"
   ]
  },
  {
   "cell_type": "markdown",
   "metadata": {},
   "source": [
    "Import `datasets.json`"
   ]
  },
  {
   "cell_type": "code",
   "execution_count": 5,
   "metadata": {},
   "outputs": [],
   "source": [
    "import json"
   ]
  },
  {
   "cell_type": "code",
   "execution_count": 6,
   "metadata": {},
   "outputs": [],
   "source": [
    "datasets_path = '/Users/sophierand/RCDatasets/datasets.json'\n",
    "\n",
    "with open(datasets_path) as json_file:\n",
    "    datasets = json.load(json_file)"
   ]
  },
  {
   "cell_type": "markdown",
   "metadata": {},
   "source": [
    "Map dataset_ids in linkage file to `datasets.json`"
   ]
  },
  {
   "cell_type": "code",
   "execution_count": 7,
   "metadata": {},
   "outputs": [],
   "source": [
    "import unicodedata"
   ]
  },
  {
   "cell_type": "code",
   "execution_count": 8,
   "metadata": {},
   "outputs": [],
   "source": [
    "def scrub_unicode (text):\n",
    "    \"\"\"\n",
    "    try to handle the unicode edge cases encountered in source text,\n",
    "    as best as possible\n",
    "    \"\"\"\n",
    "    x = \" \".join(map(lambda s: s.strip(), text.split(\"\\n\"))).strip()\n",
    "\n",
    "    x = x.replace('“', '\"').replace('”', '\"')\n",
    "    x = x.replace(\"‘\", \"'\").replace(\"’\", \"'\").replace(\"`\", \"'\")\n",
    "    x = x.replace(\"`` \", '\"').replace(\"''\", '\"')\n",
    "    x = x.replace('…', '...').replace(\"\\\\u2026\", \"...\")\n",
    "    x = x.replace(\"\\\\u00ae\", \"\").replace(\"\\\\u2122\", \"\")\n",
    "    x = x.replace(\"\\\\u00a0\", \" \").replace(\"\\\\u2022\", \"*\").replace(\"\\\\u00b7\", \"*\")\n",
    "    x = x.replace(\"\\\\u2018\", \"'\").replace(\"\\\\u2019\", \"'\").replace(\"\\\\u201a\", \"'\")\n",
    "    x = x.replace(\"\\\\u201c\", '\"').replace(\"\\\\u201d\", '\"')\n",
    "\n",
    "    x = x.replace(\"\\\\u20ac\", \"€\")\n",
    "    x = x.replace(\"\\\\u2212\", \" - \") # minus sign\n",
    "\n",
    "    x = x.replace(\"\\\\u00e9\", \"é\")\n",
    "    x = x.replace(\"\\\\u017c\", \"ż\").replace(\"\\\\u015b\", \"ś\").replace(\"\\\\u0142\", \"ł\")    \n",
    "    x = x.replace(\"\\\\u0105\", \"ą\").replace(\"\\\\u0119\", \"ę\").replace(\"\\\\u017a\", \"ź\").replace(\"\\\\u00f3\", \"ó\")\n",
    "\n",
    "    x = x.replace(\"\\\\u2014\", \" - \").replace('–', '-').replace('—', ' - ')\n",
    "    x = x.replace(\"\\\\u2013\", \" - \").replace(\"\\\\u00ad\", \" - \")\n",
    "\n",
    "    x = str(unicodedata.normalize(\"NFKD\", x).encode(\"ascii\", \"ignore\").decode(\"utf-8\"))\n",
    "\n",
    "    # some content returns text in bytes rather than as a str ?\n",
    "    try:\n",
    "        assert type(x).__name__ == \"str\"\n",
    "    except AssertionError:\n",
    "        print(\"not a string?\", type(x), x)\n",
    "\n",
    "    return x"
   ]
  },
  {
   "cell_type": "code",
   "execution_count": 9,
   "metadata": {},
   "outputs": [],
   "source": [
    "usda_linkage_list = []\n",
    "for i,r in usda_linkages_lim.iterrows():\n",
    "    dataset_id = r['dataset_id']\n",
    "    pub_dict = {'title':scrub_unicode(r['title']),'url':r['pub_url']}\n",
    "    if \",\" in dataset_id:\n",
    "        dataset_id_list= dataset_id.split(\",\")\n",
    "        dataset_id_list = [d.strip() for d in dataset_id_list]\n",
    "        ds_list = []\n",
    "        for d in dataset_id_list:\n",
    "            ds_metadata = [{'dataset_id':b['id'],'dataset_name':b['title']} for b in datasets if b['id'] == d][0]\n",
    "            ds_list.append(ds_metadata)\n",
    "    if not \",\" in dataset_id:\n",
    "        ds_list = [{'dataset_id':b['id'],'dataset_name':b['title']} for b in datasets if b['id'] == dataset_id][0]\n",
    "    pub_dict.update({'related_dataset':ds_list})\n",
    "    usda_linkage_list.append(pub_dict)\n",
    "    "
   ]
  },
  {
   "cell_type": "markdown",
   "metadata": {},
   "source": [
    "### Fetch publication information from Dimensions, where available"
   ]
  },
  {
   "cell_type": "markdown",
   "metadata": {},
   "source": [
    "Import dimensions helpers"
   ]
  },
  {
   "cell_type": "code",
   "execution_count": 10,
   "metadata": {},
   "outputs": [],
   "source": [
    "import dimensions_search_api_client as dscli"
   ]
  },
  {
   "cell_type": "markdown",
   "metadata": {},
   "source": [
    "Connect to API"
   ]
  },
  {
   "cell_type": "code",
   "execution_count": 11,
   "metadata": {},
   "outputs": [],
   "source": [
    "def connect_ds_api(username,password):\n",
    "    api_client = dscli.DimensionsSearchAPIClient()\n",
    "    api_client.set_max_in_items( 100 )\n",
    "    api_client.set_max_return( 1000 )\n",
    "    api_client.set_max_overall_returns( 50000 )\n",
    "    api_client.set_username( username )\n",
    "    api_client.set_password( password )\n",
    "    return api_client"
   ]
  },
  {
   "cell_type": "code",
   "execution_count": 12,
   "metadata": {},
   "outputs": [
    {
     "data": {
      "text/plain": [
       "['dimensions.cfg']"
      ]
     },
     "execution_count": 12,
     "metadata": {},
     "output_type": "execute_result"
    }
   ],
   "source": [
    "import configparser\n",
    "CONFIG = configparser.ConfigParser()\n",
    "CONFIG.read(\"dimensions.cfg\")"
   ]
  },
  {
   "cell_type": "code",
   "execution_count": 13,
   "metadata": {},
   "outputs": [
    {
     "name": "stdout",
     "output_type": "stream",
     "text": [
      "API credentials have been set\n"
     ]
    }
   ],
   "source": [
    "api_client = connect_ds_api(username= CONFIG.get('DEFAULT','username'),password = CONFIG.get('DEFAULT','password'))"
   ]
  },
  {
   "cell_type": "markdown",
   "metadata": {},
   "source": [
    "Define dimensions searches"
   ]
  },
  {
   "cell_type": "code",
   "execution_count": 14,
   "metadata": {},
   "outputs": [],
   "source": [
    "def run_exact_string_search(string,api_client):\n",
    "    search_string = 'search publications in title_only for \"\\\\\"{}\\\\\"\" return publications'.format(string)\n",
    "    api_response = api_client.execute_query(query_string_IN = search_string )\n",
    "    return api_response\n",
    "\n",
    "def search_title(title):\n",
    "    title =  title.replace('\"','\\\\\"')\n",
    "    dimensions_return = run_exact_string_search(string = title,api_client = api_client)\n",
    "    try:\n",
    "        title_return = dimensions_return['publications']\n",
    "        if len(title_return) > 0:\n",
    "            return title_return\n",
    "        else:\n",
    "            print('nothing was returned')\n",
    "            return None\n",
    "    except:\n",
    "        print('error with title {}'.format(title))\n",
    "        \n",
    "def run_pub_id_search(dimensions_id,api_client):\n",
    "    id_search_string = 'search publications where id = \"{}\" return publications[all] limit 1'.format(dimensions_id)\n",
    "    id_response = api_client.execute_query( query_string_IN=id_search_string )\n",
    "    publication_metadata = id_response['publications'][0]\n",
    "    return publication_metadata"
   ]
  },
  {
   "cell_type": "markdown",
   "metadata": {},
   "source": [
    "Search for all titles"
   ]
  },
  {
   "cell_type": "code",
   "execution_count": 15,
   "metadata": {},
   "outputs": [],
   "source": [
    "import time"
   ]
  },
  {
   "cell_type": "code",
   "execution_count": 27,
   "metadata": {},
   "outputs": [
    {
     "name": "stdout",
     "output_type": "stream",
     "text": [
      "nothing was returned\n",
      "nothing was returned\n",
      "nothing was returned\n",
      "nothing was returned\n",
      "nothing was returned\n",
      "nothing was returned\n",
      "nothing was returned\n",
      "nothing was returned\n",
      "nothing was returned\n",
      "nothing was returned\n",
      "nothing was returned\n",
      "nothing was returned\n",
      "nothing was returned\n",
      "nothing was returned\n",
      "nothing was returned\n",
      "nothing was returned\n",
      "nothing was returned\n",
      "nothing was returned\n",
      "nothing was returned\n",
      "nothing was returned\n",
      "nothing was returned\n",
      "nothing was returned\n",
      "nothing was returned\n",
      "nothing was returned\n",
      "nothing was returned\n",
      "nothing was returned\n",
      "nothing was returned\n",
      "nothing was returned\n",
      "nothing was returned\n",
      "nothing was returned\n",
      "nothing was returned\n",
      "nothing was returned\n",
      "nothing was returned\n",
      "nothing was returned\n",
      "nothing was returned\n",
      "nothing was returned\n",
      "nothing was returned\n",
      "nothing was returned\n",
      "nothing was returned\n",
      "nothing was returned\n",
      "nothing was returned\n",
      "nothing was returned\n",
      "nothing was returned\n",
      "nothing was returned\n",
      "nothing was returned\n",
      "nothing was returned\n",
      "nothing was returned\n",
      "nothing was returned\n",
      "nothing was returned\n",
      "nothing was returned\n",
      "nothing was returned\n",
      "nothing was returned\n",
      "nothing was returned\n",
      "nothing was returned\n",
      "nothing was returned\n",
      "nothing was returned\n",
      "nothing was returned\n",
      "nothing was returned\n",
      "nothing was returned\n",
      "nothing was returned\n",
      "nothing was returned\n",
      "nothing was returned\n",
      "nothing was returned\n",
      "nothing was returned\n",
      "nothing was returned\n"
     ]
    }
   ],
   "source": [
    "dimensions_results = []\n",
    "for u in usda_linkage_list:\n",
    "    time.sleep( 6 )\n",
    "    dim_result = search_title(u['title'])\n",
    "    if dim_result:\n",
    "        dimensions_id = dim_result[0]['id']\n",
    "        pub_search = run_pub_id_search(dimensions_id = dimensions_id,api_client = api_client)\n",
    "#         pub_doi = pub_search['doi']\n",
    "#         u.update({'doi':pub_doi})\n",
    "        u.update(pub_search)\n",
    "        dimensions_results.append(u)"
   ]
  },
  {
   "cell_type": "code",
   "execution_count": 30,
   "metadata": {},
   "outputs": [],
   "source": [
    "# \n",
    "# dimensions_results\n"
   ]
  },
  {
   "cell_type": "code",
   "execution_count": null,
   "metadata": {},
   "outputs": [],
   "source": []
  },
  {
   "cell_type": "code",
   "execution_count": 33,
   "metadata": {},
   "outputs": [],
   "source": [
    "# [u for u in usda_linkage_list if '2013' in u['title']]\n",
    "# title = 'Household Food Security in the United States in 2013'\n",
    "# [u for u in usda_linkage_list if   u['title'] == title]\n",
    "# a = search_title(title)"
   ]
  },
  {
   "cell_type": "code",
   "execution_count": null,
   "metadata": {},
   "outputs": [],
   "source": [
    "# this_title = scrub_unicode('Improving the Assessment of SNAP Targeting Using Administrative Records')\n",
    "# test = run_exact_string_search(string = this_title,api_client = api_client)"
   ]
  },
  {
   "cell_type": "code",
   "execution_count": 42,
   "metadata": {},
   "outputs": [],
   "source": [
    "import os\n",
    "import hashlib\n",
    "import datetime"
   ]
  },
  {
   "cell_type": "code",
   "execution_count": 43,
   "metadata": {},
   "outputs": [],
   "source": [
    "def get_hash (strings, prefix=None, digest_size=10):\n",
    "    \"\"\"\n",
    "    construct a unique identifier from a collection of strings\n",
    "    \"\"\"\n",
    "    m = hashlib.blake2b(digest_size=digest_size)\n",
    "    \n",
    "    for elem in sorted(map(lambda x: x.encode(\"utf-8\").lower().strip(), strings)):\n",
    "        m.update(elem)\n",
    "\n",
    "    if prefix:\n",
    "        id = prefix + m.hexdigest()\n",
    "    else:\n",
    "        id = m.hexdigest()\n",
    "\n",
    "    return id"
   ]
  },
  {
   "cell_type": "code",
   "execution_count": 46,
   "metadata": {},
   "outputs": [
    {
     "data": {
      "text/plain": [
       "'/Users/sophierand/RichContextMetadata/metadata/20190913_usda_excel/results/95b25a3ed292789b8353_usda20190913_publications.json'"
      ]
     },
     "execution_count": 46,
     "metadata": {},
     "output_type": "execute_result"
    }
   ],
   "source": [
    "pubs_path = os.path.join('/Users/sophierand/RichContextMetadata/metadata/20190913_usda_excel/results/{}_'.format(get_hash(str(datetime.datetime.now())))+'usda20190913_publications.json')\n",
    "pubs_path\n"
   ]
  },
  {
   "cell_type": "code",
   "execution_count": 47,
   "metadata": {},
   "outputs": [],
   "source": [
    "with open(pubs_path, 'w') as outfile:\n",
    "    json.dump(usda_linkage_list, outfile,indent=2)\n"
   ]
  }
 ],
 "metadata": {
  "kernelspec": {
   "display_name": "Python 3",
   "language": "python",
   "name": "python3"
  },
  "language_info": {
   "codemirror_mode": {
    "name": "ipython",
    "version": 3
   },
   "file_extension": ".py",
   "mimetype": "text/x-python",
   "name": "python",
   "nbconvert_exporter": "python",
   "pygments_lexer": "ipython3",
   "version": "3.7.3"
  }
 },
 "nbformat": 4,
 "nbformat_minor": 2
}
