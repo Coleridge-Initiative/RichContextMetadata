{
 "cells": [
  {
   "cell_type": "code",
   "execution_count": 30,
   "metadata": {},
   "outputs": [],
   "source": [
    "import json\n",
    "import pandas as pd\n",
    "import hashlib\n",
    "import os\n",
    "import datetime\n",
    "import numpy as np"
   ]
  },
  {
   "cell_type": "code",
   "execution_count": 2,
   "metadata": {},
   "outputs": [],
   "source": [
    "ers_linkages_path =  '/Users/sophierand/RichContextMetadata/metadata/20190913_usda_excel/results/usda_linkages.csv'\n",
    "usda_linkages = pd.read_csv(ers_linkages_path)"
   ]
  },
  {
   "cell_type": "code",
   "execution_count": 3,
   "metadata": {},
   "outputs": [],
   "source": [
    "datasets_path = '/Users/sophierand/RCDatasets/datasets.json'\n",
    "\n",
    "with open(datasets_path) as json_file:\n",
    "    datasets = json.load(json_file)"
   ]
  },
  {
   "cell_type": "code",
   "execution_count": null,
   "metadata": {},
   "outputs": [],
   "source": [
    "usda_linkages_lim = usda_linkages.loc[np.logical_and(pd.notnull(usda_linkages.dataset_id), usda_linkages.dataset_id != \"0\")]"
   ]
  },
  {
   "cell_type": "code",
   "execution_count": 25,
   "metadata": {},
   "outputs": [],
   "source": [
    "def gen_linkage_dict(dataset_id):\n",
    "    dataset_dict = [{'related_dataset':d['id'],'related_dataset_name':d['title']} for d in datasets if d['id'] == dataset_id][0]\n",
    "    return dataset_dict\n",
    "def get_hash (strings, prefix=None, digest_size=10):\n",
    "    \"\"\"\n",
    "    construct a unique identifier from a collection of strings\n",
    "    \"\"\"\n",
    "    m = hashlib.blake2b(digest_size=digest_size)\n",
    "    \n",
    "    for elem in sorted(map(lambda x: x.encode(\"utf-8\").lower().strip(), strings)):\n",
    "        m.update(elem)\n",
    "\n",
    "    if prefix:\n",
    "        id = prefix + m.hexdigest()\n",
    "    else:\n",
    "        id = m.hexdigest()\n",
    "\n",
    "    return id"
   ]
  },
  {
   "cell_type": "code",
   "execution_count": 8,
   "metadata": {},
   "outputs": [],
   "source": [
    "usda_linkage_list = []\n",
    "for i,r in usda_linkages_lim.iterrows():\n",
    "    dataset_id = r['dataset_id']\n",
    "#     print(dataset_id)\n",
    "    pub_dict = {'title':r['title'],'url':r['pub_url']}\n",
    "    if \",\" in dataset_id:\n",
    "        dataset_id = dataset_id.split(\",\")\n",
    "    if isinstance(dataset_id, list):\n",
    "        pass\n",
    "    if not isinstance(dataset_id, list):\n",
    "        dd_dict = gen_linkage_dict(dataset_id = dataset_id)\n",
    "\n",
    "        pub_dict.update(dd_dict)\n",
    "        usda_linkage_list.append(pub_dict)\n",
    "# "
   ]
  },
  {
   "cell_type": "code",
   "execution_count": 10,
   "metadata": {},
   "outputs": [],
   "source": [
    "# usda_linkage_list"
   ]
  },
  {
   "cell_type": "code",
   "execution_count": null,
   "metadata": {},
   "outputs": [],
   "source": [
    "usda_linkages"
   ]
  },
  {
   "cell_type": "code",
   "execution_count": null,
   "metadata": {},
   "outputs": [],
   "source": []
  },
  {
   "cell_type": "code",
   "execution_count": null,
   "metadata": {},
   "outputs": [],
   "source": []
  },
  {
   "cell_type": "code",
   "execution_count": 32,
   "metadata": {},
   "outputs": [
    {
     "data": {
      "text/plain": [
       "'/Users/sophierand/RichContextMetadata/publications/usda20190913/d54d920cfa5bebb20606_usda20190913_publications.json'"
      ]
     },
     "execution_count": 32,
     "metadata": {},
     "output_type": "execute_result"
    }
   ],
   "source": [
    "pubs_path = os.path.join('/Users/sophierand/RichContextMetadata/publications/usda20190913/{}_'.format(get_hash(str(datetime.datetime.now())))+'usda20190913_publications.json')\n",
    "pubs_path\n"
   ]
  },
  {
   "cell_type": "code",
   "execution_count": 35,
   "metadata": {},
   "outputs": [],
   "source": [
    "with open(pubs_path, 'w') as outfile:\n",
    "    json.dump(usda_linkage_list, outfile,indent=2)\n"
   ]
  },
  {
   "cell_type": "code",
   "execution_count": null,
   "metadata": {},
   "outputs": [],
   "source": []
  }
 ],
 "metadata": {
  "kernelspec": {
   "display_name": "Python 3",
   "language": "python",
   "name": "python3"
  },
  "language_info": {
   "codemirror_mode": {
    "name": "ipython",
    "version": 3
   },
   "file_extension": ".py",
   "mimetype": "text/x-python",
   "name": "python",
   "nbconvert_exporter": "python",
   "pygments_lexer": "ipython3",
   "version": "3.7.3"
  }
 },
 "nbformat": 4,
 "nbformat_minor": 2
}
