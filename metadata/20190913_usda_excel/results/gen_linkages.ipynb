{
 "cells": [
  {
   "cell_type": "code",
   "execution_count": 62,
   "metadata": {},
   "outputs": [],
   "source": [
    "import json\n",
    "import pandas as pd\n",
    "import hashlib\n",
    "import os\n",
    "import datetime\n",
    "import numpy as np"
   ]
  },
  {
   "cell_type": "code",
   "execution_count": 63,
   "metadata": {},
   "outputs": [
    {
     "data": {
      "text/plain": [
       "(120, 5)"
      ]
     },
     "execution_count": 63,
     "metadata": {},
     "output_type": "execute_result"
    }
   ],
   "source": [
    "ers_linkages_path =  '/Users/sophierand/RichContextMetadata/metadata/20190913_usda_excel/results/usda_linkages.csv'\n",
    "usda_linkages = pd.read_csv(ers_linkages_path)\n",
    "# usda_linkages = usda_linkages[['title','pub_url','dataset_id']].drop_duplicates()\n",
    "usda_linkages.shape"
   ]
  },
  {
   "cell_type": "code",
   "execution_count": 64,
   "metadata": {},
   "outputs": [],
   "source": [
    "usda_linkages = usda_linkages[['title','pub_url','dataset_id']].drop_duplicates()\n",
    "usda_linkages\n",
    "a = usda_linkages.sort_values(by=['title'])\n",
    "a.to_csv('test.csv')"
   ]
  },
  {
   "cell_type": "code",
   "execution_count": 42,
   "metadata": {},
   "outputs": [],
   "source": [
    "datasets_path = '/Users/sophierand/RCDatasets/datasets.json'\n",
    "\n",
    "with open(datasets_path) as json_file:\n",
    "    datasets = json.load(json_file)"
   ]
  },
  {
   "cell_type": "code",
   "execution_count": 43,
   "metadata": {},
   "outputs": [],
   "source": [
    "usda_linkages_lim = usda_linkages.loc[np.logical_and(pd.notnull(usda_linkages.dataset_id), usda_linkages.dataset_id != \"0\")]"
   ]
  },
  {
   "cell_type": "code",
   "execution_count": 44,
   "metadata": {},
   "outputs": [],
   "source": [
    "def gen_linkage_dict(dataset_id):\n",
    "    dataset_dict = [{'related_dataset':d['id'],'related_dataset_name':d['title']} for d in datasets if d['id'] == dataset_id][0]\n",
    "    return dataset_dict\n",
    "def get_hash (strings, prefix=None, digest_size=10):\n",
    "    \"\"\"\n",
    "    construct a unique identifier from a collection of strings\n",
    "    \"\"\"\n",
    "    m = hashlib.blake2b(digest_size=digest_size)\n",
    "    \n",
    "    for elem in sorted(map(lambda x: x.encode(\"utf-8\").lower().strip(), strings)):\n",
    "        m.update(elem)\n",
    "\n",
    "    if prefix:\n",
    "        id = prefix + m.hexdigest()\n",
    "    else:\n",
    "        id = m.hexdigest()\n",
    "\n",
    "    return id"
   ]
  },
  {
   "cell_type": "code",
   "execution_count": 53,
   "metadata": {},
   "outputs": [],
   "source": [
    "usda_linkage_list = []\n",
    "for i,r in usda_linkages_lim.iterrows():\n",
    "    dataset_id = r['dataset_id']\n",
    "#     print(dataset_id)\n",
    "    pub_dict = {'title':r['title'],'url':r['pub_url']}\n",
    "    if \",\" in dataset_id:\n",
    "        dataset_id = dataset_id.split(\",\")\n",
    "    if isinstance(dataset_id, list):\n",
    "        pass\n",
    "    if not isinstance(dataset_id, list):\n",
    "        dd_dict = gen_linkage_dict(dataset_id = dataset_id)\n",
    "\n",
    "        pub_dict.update(dd_dict)\n",
    "        usda_linkage_list.append(pub_dict)\n",
    "# "
   ]
  },
  {
   "cell_type": "code",
   "execution_count": 10,
   "metadata": {},
   "outputs": [],
   "source": [
    "# usda_linkage_list"
   ]
  },
  {
   "cell_type": "code",
   "execution_count": null,
   "metadata": {},
   "outputs": [],
   "source": [
    "usda_linkages"
   ]
  },
  {
   "cell_type": "code",
   "execution_count": null,
   "metadata": {},
   "outputs": [],
   "source": []
  },
  {
   "cell_type": "code",
   "execution_count": null,
   "metadata": {},
   "outputs": [],
   "source": []
  },
  {
   "cell_type": "code",
   "execution_count": 32,
   "metadata": {},
   "outputs": [
    {
     "data": {
      "text/plain": [
       "'/Users/sophierand/RichContextMetadata/publications/usda20190913/d54d920cfa5bebb20606_usda20190913_publications.json'"
      ]
     },
     "execution_count": 32,
     "metadata": {},
     "output_type": "execute_result"
    }
   ],
   "source": [
    "pubs_path = os.path.join('/Users/sophierand/RichContextMetadata/publications/usda20190913/{}_'.format(get_hash(str(datetime.datetime.now())))+'usda20190913_publications.json')\n",
    "pubs_path\n"
   ]
  },
  {
   "cell_type": "code",
   "execution_count": 49,
   "metadata": {},
   "outputs": [],
   "source": [
    "with open(pubs_path, 'w') as outfile:\n",
    "    json.dump(usda_linkage_list, outfile,indent=2)\n"
   ]
  },
  {
   "cell_type": "code",
   "execution_count": 54,
   "metadata": {},
   "outputs": [
    {
     "data": {
      "text/plain": [
       "98"
      ]
     },
     "execution_count": 54,
     "metadata": {},
     "output_type": "execute_result"
    }
   ],
   "source": [
    "b = [a['title'] for a in usda_linkage_list]\n",
    "len(b)"
   ]
  },
  {
   "cell_type": "code",
   "execution_count": 55,
   "metadata": {},
   "outputs": [
    {
     "data": {
      "text/plain": [
       "65"
      ]
     },
     "execution_count": 55,
     "metadata": {},
     "output_type": "execute_result"
    }
   ],
   "source": [
    "len(set(b))"
   ]
  },
  {
   "cell_type": "code",
   "execution_count": 40,
   "metadata": {},
   "outputs": [
    {
     "data": {
      "text/plain": [
       "['The Association Between Nutrition Information Use and the Healthfulness of Food Acquisitions',\n",
       " 'Frequency and Time of Day That Americans Eat: A Comparison of Data From the American Time Use Survey and the National Health and Nutrition Examination Survey',\n",
       " 'Participation in SNAP and Unemployment Insurance: How Tight Are the Strands of the Recessionary Safety Net?',\n",
       " 'Measuring Access to Healthful, Affordable Food in American Indian and Alaska Native Tribal Areas',\n",
       " 'Annual and Monthly SNAP Participation Rates',\n",
       " 'Food Choices and Store Proximity',\n",
       " 'Improving the Assessment of SNAP Targeting Using Administrative Records',\n",
       " 'Comparing National Food Acquisition and Purchase Survey (FoodAPS) Data With Other National Food Surveys’ Data',\n",
       " 'Economies of Scale, the Lunch-Breakfast Ratio, and the Cost of USDA School Breakfasts and Lunches',\n",
       " 'Low-Income and Low-Supermarket-Access Census Tracts, 2010-2015',\n",
       " 'America’s Eating Habits: Food Away From Home',\n",
       " 'The Impacts of Supplemental Nutrition Assistance Program Redemptions on County-Level Employment',\n",
       " 'U.S. Households’ Demand for Convenience Foods',\n",
       " 'The Stimulus Act of 2009 and Its Effect on Food-At-Home Spending by SNAP Participants',\n",
       " 'Food-at-Home Expenditures: Comparing Commercial Household Scanner Data From IRI and Government Survey Data',\n",
       " 'America’s Eating Habits: Food Away From Home',\n",
       " 'Participation in SNAP and Unemployment Insurance: How Tight Are the Strands of the Recessionary Safety Net?',\n",
       " 'Prevalence of U.S. Food Insecurity Is Related to Changes in Unemployment, Inflation, and the Price of Food',\n",
       " 'Household Food Security in the United States in 2013',\n",
       " 'Household Food Security in the United States in 2014',\n",
       " 'Food Security Among Hispanic Adults in the United States, 2011-2014',\n",
       " 'Comparing National Food Acquisition and Purchase Survey (FoodAPS) Data With Other National Food Surveys’ Data',\n",
       " 'Examining an \"Experimental\" Food Security Status Classification Method for Households with Children',\n",
       " 'Household Food Security in the United States in 2016',\n",
       " 'Statistical Supplement to Household Food Security in the United States in 2016',\n",
       " 'The Effects of Energy Price Shocks on Household Food Security in Low-Income Households',\n",
       " 'Children’s Food Security and USDA Child Nutrition Programs',\n",
       " 'Statistical Supplement to Household Food Security in the United States in 2017',\n",
       " 'Economic Burden of Major Foodborne Illnesses Acquired in the United States',\n",
       " 'How Transportation Costs Affect Fresh Fruit and Vegetable Prices',\n",
       " 'FDA Refusals of Imported Food Products by Country and Category, 2005-2013',\n",
       " 'Public Disclosure of Tests for Salmonella: The Effects on Food Safety Performance in Chicken Slaughter Establishments',\n",
       " 'The Estimated Amount, Value, and Calories of Postharvest Food Losses at the Retail and Consumer Levels in the United States',\n",
       " 'U.S. Food Commodity Consumption Broken Down by Demographics',\n",
       " 'U.S. Trends in Food Availability and a Dietary Assessment of Loss-Adjusted Food Availability, 1970-2014',\n",
       " 'U.S. Food Commodity Availability by Food Source, 1994-2008',\n",
       " 'Measuring Access to Healthful, Affordable Food in American Indian and Alaska Native Tribal Areas',\n",
       " 'Food Choices and Store Proximity',\n",
       " 'U.S. Food Commodity Consumption Broken Down by Demographics',\n",
       " 'U.S. Food Commodity Availability by Food Source, 1994-2008',\n",
       " 'Trends in Infant Formula Rebate Contracts: Implications for the WIC Program',\n",
       " 'The Food Assistance Landscape: FY 2013 Annual Report',\n",
       " 'Measuring Access to Healthful, Affordable Food in American Indian and Alaska Native Tribal Areas',\n",
       " 'The Food Assistance Landscape: FY 2014 Annual Report',\n",
       " 'Manufacturers’ Bids for WIC Infant Formula Rebate Contracts, 2003-2013',\n",
       " 'Economies of Scale, the Lunch-Breakfast Ratio, and the Cost of USDA School Breakfasts and Lunches',\n",
       " 'Daily Access to Local Foods for School Meals: Key Drivers',\n",
       " 'The Food Assistance Landscape: FY 2016 Annual Report',\n",
       " 'The Food Assistance Landscape: FY 2017 Annual Report',\n",
       " 'Characteristics of School Districts Offering Free School Meals to All Students Through the Community Eligibility Provision of the National School Lunch Program',\n",
       " 'The Economic Impacts of Breastfeeding: A Focus on USDA’s Special Supplemental Nutrition Program for Women, Infants, and Children (WIC)',\n",
       " 'The Food Assistance Landscape: FY 2018 Annual Report',\n",
       " 'The Impacts of Supplemental Nutrition Assistance Program Redemptions on County-Level Employment',\n",
       " 'Where Do Americans Usually Shop for Food and How Do They Travel To Get There? Initial Findings from the National Household Food Acquisition and Purchase Survey',\n",
       " 'Where Households Get Food in a Typical Week: Findings from USDA’s FoodAPS',\n",
       " 'Comparing National Food Acquisition and Purchase Survey (FoodAPS) Data With Other National Food Surveys’ Data',\n",
       " \"WIC Households' Food Purchases Using WIC Benefits and Paying Out of Pocket: A Case Study of Cold Cereal Purchases\",\n",
       " 'Food-at-Home Expenditures: Comparing Commercial Household Scanner Data From IRI and Government Survey Data',\n",
       " 'The Differences in Characteristics Among Households With and Without Obese Children: Findings From USDA’s FoodAPS',\n",
       " \"The Food-Spending Patterns of Households Participating in the Supplemental Nutrition Assistance Program: Findings From USDA's FoodAPS\",\n",
       " 'The Influence of Food Store Access on Grocery Shopping and Food Spending',\n",
       " \"USDA's National Household Food Acquisition and Purchase Survey: Methodology for Imputing Missing Quantities To Calculate Healthy Eating Index-2010 Scores and Sort Foods Into ERS Food Groups\",\n",
       " 'Nutritional Quality of Foods Acquired by Americans: Findings From USDA’s National Household Food Acquisition and Purchase Survey',\n",
       " 'The Relationship Between Patronizing Direct-to-Consumer Outlets and a Household’s Demand for Fruits and Vegetables',\n",
       " 'The Association Between Nutrition Information Use and the Healthfulness of Food Acquisitions',\n",
       " 'America’s Eating Habits: Food Away From Home',\n",
       " 'Consumers Balance Time and Money in Purchasing Convenience Foods',\n",
       " 'USDA Special Supplemental Nutrition Program for Women, Infants, and Children (WIC): A New Look at Key Questions 10 Years After USDA Added Whole-Grain Bread to WIC Food Packages in 2009',\n",
       " 'Food Security and Food Purchase Quality Among Low-Income Households: Findings From the National Household Food Acquisition and Purchase Survey (FoodAPS)',\n",
       " 'Comparing National Food Acquisition and Purchase Survey (FoodAPS) Data With Other National Food Surveys’ Data',\n",
       " \"WIC Households' Food Purchases Using WIC Benefits and Paying Out of Pocket: A Case Study of Cold Cereal Purchases\",\n",
       " 'Food-at-Home Expenditures: Comparing Commercial Household Scanner Data From IRI and Government Survey Data',\n",
       " 'America’s Eating Habits: Food Away From Home',\n",
       " 'Examining Food Store Scanner Data: A Comparison of the IRI InfoScan Data with Other Data Sets, 2008–2012',\n",
       " 'USDA Special Supplemental Nutrition Program for Women, Infants, and Children (WIC): A New Look at Key Questions 10 Years After USDA Added Whole-Grain Bread to WIC Food Packages in 2009',\n",
       " \"Consumers' Use of Nutrition Information When Eating Out\",\n",
       " 'Changes in Eating Patterns and Diet Quality Among Working-Age Adults, 2005-2010',\n",
       " 'U.S. Food Commodity Consumption Broken Down by Demographics',\n",
       " 'Examining an \"Experimental\" Food Security Status Classification Method for Households with Children',\n",
       " 'America’s Eating Habits: Food Away From Home',\n",
       " 'The Association Between Restaurant Menu Label Use and Caloric Intake',\n",
       " 'Frequency and Time of Day That Americans Eat: A Comparison of Data From the American Time Use Survey and the National Health and Nutrition Examination Survey',\n",
       " 'Trends in Infant Formula Rebate Contracts: Implications for the WIC Program',\n",
       " 'Food Choices and Store Proximity',\n",
       " 'Changes in Retail Organic Price Premiums from 2004 to 2010',\n",
       " 'Economies of Scale, the Lunch-Breakfast Ratio, and the Cost of USDA School Breakfasts and Lunches',\n",
       " 'U.S. Households’ Demand for Convenience Foods',\n",
       " 'Improving the Assessment of SNAP Targeting Using Administrative Records',\n",
       " 'Annual and Monthly SNAP Participation Rates',\n",
       " \"Design Issues in USDA's Supplemental Nutrition Assistance Program: Looking Ahead by Looking Back\",\n",
       " \"Using a Policy Index To Capture Trends and Differences in State Administration of USDA's Supplemental Nutrition Assistance Program\",\n",
       " 'Participation in USDA’s Supplemental Nutrition Assistance Program (SNAP): Effect of Local Labor Market Conditions in Oregon',\n",
       " 'Food Choices and Store Proximity',\n",
       " 'Low-Income and Low-Supermarket-Access Census Tracts, 2010-2015',\n",
       " 'Independent Grocery Stores in the Changing Landscape of the U.S. Food Retail Industry',\n",
       " 'Examining Food Store Scanner Data: A Comparison of the IRI InfoScan Data with Other Data Sets, 2008–2012',\n",
       " 'Capturing the Complete Food Environment With Commercial Data: A Comparison of TDLinx, ReCount, and NETS Databases',\n",
       " 'Economies of Scale, the Lunch-Breakfast Ratio, and the Cost of USDA School Breakfasts and Lunches']"
      ]
     },
     "execution_count": 40,
     "metadata": {},
     "output_type": "execute_result"
    }
   ],
   "source": [
    "b"
   ]
  },
  {
   "cell_type": "code",
   "execution_count": null,
   "metadata": {},
   "outputs": [],
   "source": []
  }
 ],
 "metadata": {
  "kernelspec": {
   "display_name": "Python 3",
   "language": "python",
   "name": "python3"
  },
  "language_info": {
   "codemirror_mode": {
    "name": "ipython",
    "version": 3
   },
   "file_extension": ".py",
   "mimetype": "text/x-python",
   "name": "python",
   "nbconvert_exporter": "python",
   "pygments_lexer": "ipython3",
   "version": "3.7.3"
  }
 },
 "nbformat": 4,
 "nbformat_minor": 2
}
