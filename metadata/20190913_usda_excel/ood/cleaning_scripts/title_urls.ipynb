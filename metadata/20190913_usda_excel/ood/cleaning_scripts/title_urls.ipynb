{
 "cells": [
  {
   "cell_type": "code",
   "execution_count": 24,
   "metadata": {},
   "outputs": [],
   "source": [
    "import pandas as pd\n",
    "import re\n",
    "import json\n",
    "import openpyxl"
   ]
  },
  {
   "cell_type": "code",
   "execution_count": 29,
   "metadata": {},
   "outputs": [],
   "source": [
    "ers_path =  '/Users/sophierand/RichContextMetadata/metadata/raw_data/FY2014-19 Datasets for ERS Publications.xlsx'\n",
    "sheet_names = ['ATUS','Census Surveys', 'CES', 'CPS-FSS', 'Cost Est. Foodborne Illnesses'\n",
    "                   , 'FDA-FSIS-AMS', 'FADS-LAFA', 'FARA', 'FICRCD-CSFII', 'FNS', 'FoodAPS'\n",
    "                   ,'IRI', 'NHANES', 'Nielsen', 'Qtrly FAFH', 'SNAP Admin', 'TD Linx', 'SCH MEALS DATA']\n",
    "wb = openpyxl.load_workbook(ers_path)"
   ]
  },
  {
   "cell_type": "code",
   "execution_count": 30,
   "metadata": {},
   "outputs": [],
   "source": [
    "excel_df_list = []\n",
    "for n in sheet_names:\n",
    "    ws = wb[n]\n",
    "    df_list = []\n",
    "    for i in range(2, ws.max_row + 1):  \n",
    "        title = ws.cell(row = i,column = 4).value\n",
    "        datasets = ws.cell(row = i,column = 5).value\n",
    "        try:\n",
    "            link = ws.cell(row=i, column=4).hyperlink.target\n",
    "        except:\n",
    "            link = None\n",
    "        ers_df = pd.DataFrame({'title':title,'pub_url':link,'dataset':datasets},index = [i])\n",
    "        df_list.append(ers_df)\n",
    "    sheet_df = pd.concat(df_list)\n",
    "    sheet_df['sheet_name'] = n\n",
    "    excel_df_list.append(sheet_df)"
   ]
  },
  {
   "cell_type": "code",
   "execution_count": 31,
   "metadata": {},
   "outputs": [],
   "source": [
    "ers_linkages = pd.concat(excel_df_list).dropna(subset = ['title'])"
   ]
  },
  {
   "cell_type": "code",
   "execution_count": 32,
   "metadata": {},
   "outputs": [],
   "source": [
    "write_path  =  '/Users/sophierand/RichContextMetadata/metadata/results/usda_linkages.csv'\n",
    "ers_linkages.to_csv(write_path,index = False)"
   ]
  },
  {
   "cell_type": "code",
   "execution_count": null,
   "metadata": {},
   "outputs": [],
   "source": []
  }
 ],
 "metadata": {
  "kernelspec": {
   "display_name": "Python 3",
   "language": "python",
   "name": "python3"
  },
  "language_info": {
   "codemirror_mode": {
    "name": "ipython",
    "version": 3
   },
   "file_extension": ".py",
   "mimetype": "text/x-python",
   "name": "python",
   "nbconvert_exporter": "python",
   "pygments_lexer": "ipython3",
   "version": "3.7.3"
  }
 },
 "nbformat": 4,
 "nbformat_minor": 2
}
