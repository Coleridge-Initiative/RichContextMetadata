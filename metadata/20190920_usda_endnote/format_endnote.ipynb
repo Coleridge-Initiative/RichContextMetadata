{
 "cells": [
  {
   "cell_type": "markdown",
   "metadata": {},
   "source": [
    "start"
   ]
  },
  {
   "cell_type": "code",
   "execution_count": 11,
   "metadata": {},
   "outputs": [],
   "source": [
    "import xml.etree.ElementTree as ET\n",
    "tree = ET.parse('all_outputs_test.xml')\n",
    "root = tree.getroot()"
   ]
  },
  {
   "cell_type": "code",
   "execution_count": 12,
   "metadata": {},
   "outputs": [],
   "source": [
    "records = root.findall('.//record')"
   ]
  },
  {
   "cell_type": "code",
   "execution_count": 47,
   "metadata": {},
   "outputs": [],
   "source": [
    "def get_url(record):\n",
    "    url = record.findall('.//related-urls')[0].find('url').find('style').text\n",
    "    return url\n",
    "def get_title(record):\n",
    "    title = record.findall('.//title')[0].find('style').text\n",
    "    return title\n",
    "def get_journal(record):\n",
    "    journal = record.findall('.//alt-title')[0].find('style').text\n",
    "    return journal\n",
    "def get_doi(record):\n",
    "    doi = record.findall('.//electronic-resource-num')[0].find('style').text\n",
    "    return doi\n",
    "def get_keywords(record):\n",
    "    kw_list = record.findall('.//keyword')\n",
    "    keyword_list = []\n",
    "    for k in kw_list:\n",
    "        keyword_list.append(k.find('style').text)\n",
    "    keywords = \",\".join(keyword_list )\n",
    "    return keywords"
   ]
  },
  {
   "cell_type": "code",
   "execution_count": 48,
   "metadata": {},
   "outputs": [],
   "source": [
    "def gen_linkages(record):\n",
    "    try:\n",
    "        title = get_title(record)\n",
    "        pub_dict = {'title':title}\n",
    "        try:\n",
    "            url = get_url(record)\n",
    "#             pub_dict.update({'url':url})\n",
    "        except:\n",
    "            url = ''\n",
    "        try:\n",
    "            journal = get_journal(record)\n",
    "#             pub_dict.update({'journal':journal})\n",
    "        except:\n",
    "            journal = ''\n",
    "        try:\n",
    "            keywords = get_keywords(record)\n",
    "#             pub_dict.update({'keywords':keywords})\n",
    "        except:\n",
    "            keywords = ''\n",
    "        try:\n",
    "            doi = get_doi(record)\n",
    "#             pub_dict.update({'doi':doi})\n",
    "        except:\n",
    "            doi = ''\n",
    "        pub_dict.update({'url':url,'keywords':keywords,'doi':doi,'journal':journal})\n",
    "        return pub_dict\n",
    "    except:\n",
    "        pass"
   ]
  },
  {
   "cell_type": "code",
   "execution_count": 72,
   "metadata": {},
   "outputs": [],
   "source": [
    "record_list = []\n",
    "for i,r in enumerate(records):\n",
    "    pub_dict = gen_linkages(r)\n",
    "    if pub_dict != None:\n",
    "        record_list.append(pub_dict)"
   ]
  },
  {
   "cell_type": "code",
   "execution_count": 76,
   "metadata": {},
   "outputs": [],
   "source": [
    "a =  pd.DataFrame.from_records(record_list)"
   ]
  },
  {
   "cell_type": "code",
   "execution_count": 77,
   "metadata": {},
   "outputs": [],
   "source": [
    "a.to_csv('test.csv',index = False)"
   ]
  },
  {
   "cell_type": "code",
   "execution_count": null,
   "metadata": {},
   "outputs": [],
   "source": []
  }
 ],
 "metadata": {
  "kernelspec": {
   "display_name": "Python 3",
   "language": "python",
   "name": "python3"
  },
  "language_info": {
   "codemirror_mode": {
    "name": "ipython",
    "version": 3
   },
   "file_extension": ".py",
   "mimetype": "text/x-python",
   "name": "python",
   "nbconvert_exporter": "python",
   "pygments_lexer": "ipython3",
   "version": "3.7.3"
  }
 },
 "nbformat": 4,
 "nbformat_minor": 2
}
