{
 "cells": [
  {
   "cell_type": "markdown",
   "metadata": {},
   "source": [
    "Read in raw data"
   ]
  },
  {
   "cell_type": "code",
   "execution_count": 2,
   "metadata": {},
   "outputs": [],
   "source": [
    "import pandas as pd"
   ]
  },
  {
   "cell_type": "code",
   "execution_count": 27,
   "metadata": {},
   "outputs": [],
   "source": [
    "iri_path =  '/Users/sophierand/RichContextMetadata/metadata/20190726_usda_iri/generate_metadata/IRI Sample.xlsx'\n",
    "iri_linkages = pd.read_excel(iri_path)\n",
    "iri_linkages = iri_linkages.drop_duplicates()"
   ]
  },
  {
   "cell_type": "markdown",
   "metadata": {},
   "source": [
    "Import datasets list"
   ]
  },
  {
   "cell_type": "code",
   "execution_count": 6,
   "metadata": {},
   "outputs": [],
   "source": [
    "import json"
   ]
  },
  {
   "cell_type": "code",
   "execution_count": 7,
   "metadata": {},
   "outputs": [],
   "source": [
    "datasets_path = '/Users/sophierand/RCDatasets/datasets.json'\n",
    "\n",
    "with open(datasets_path) as json_file:\n",
    "    datasets = json.load(json_file)"
   ]
  },
  {
   "cell_type": "markdown",
   "metadata": {},
   "source": [
    "Dimensions url"
   ]
  },
  {
   "cell_type": "code",
   "execution_count": 34,
   "metadata": {},
   "outputs": [],
   "source": [
    "import dimensions_search_api_client as dscli"
   ]
  },
  {
   "cell_type": "code",
   "execution_count": 35,
   "metadata": {},
   "outputs": [],
   "source": [
    "def connect_ds_api(username,password):\n",
    "    api_client = dscli.DimensionsSearchAPIClient()\n",
    "    api_client.set_max_in_items( 100 )\n",
    "    api_client.set_max_return( 1000 )\n",
    "    api_client.set_max_overall_returns( 50000 )\n",
    "    api_client.set_username( username )\n",
    "    api_client.set_password( password )\n",
    "    return api_client"
   ]
  },
  {
   "cell_type": "code",
   "execution_count": 36,
   "metadata": {},
   "outputs": [
    {
     "data": {
      "text/plain": [
       "['dimensions.cfg']"
      ]
     },
     "execution_count": 36,
     "metadata": {},
     "output_type": "execute_result"
    }
   ],
   "source": [
    "import configparser\n",
    "CONFIG = configparser.ConfigParser()\n",
    "CONFIG.read(\"dimensions.cfg\")"
   ]
  },
  {
   "cell_type": "code",
   "execution_count": 37,
   "metadata": {},
   "outputs": [
    {
     "name": "stdout",
     "output_type": "stream",
     "text": [
      "API credentials have been set\n"
     ]
    }
   ],
   "source": [
    "api_client = connect_ds_api(username= CONFIG.get('DEFAULT','username'),password = CONFIG.get('DEFAULT','password'))"
   ]
  },
  {
   "cell_type": "code",
   "execution_count": 38,
   "metadata": {},
   "outputs": [],
   "source": [
    "def run_doi_search(doi_id,api_client):\n",
    "    doi_search_string = 'search publications where doi = \"{}\" return publications[all] limit 1'.format(doi_id)\n",
    "    doi_response = api_client.execute_query( query_string_IN=doi_search_string )\n",
    "    publication_metadata_full = doi_response['publications']\n",
    "    if publication_metadata_full:\n",
    "        publication_metadata = publication_metadata_full[0]\n",
    "        return publication_metadata\n"
   ]
  },
  {
   "cell_type": "code",
   "execution_count": 39,
   "metadata": {},
   "outputs": [],
   "source": [
    "doi = '10.1177/0042098017740285'\n",
    "a = run_doi_search(doi,api_client)"
   ]
  },
  {
   "cell_type": "code",
   "execution_count": 41,
   "metadata": {},
   "outputs": [
    {
     "data": {
      "text/plain": [
       "'https://www.economics.uci.edu/research/wp/1718/17-18-04.pdf'"
      ]
     },
     "execution_count": 41,
     "metadata": {},
     "output_type": "execute_result"
    }
   ],
   "source": [
    "a['linkout']"
   ]
  },
  {
   "cell_type": "code",
   "execution_count": 45,
   "metadata": {},
   "outputs": [],
   "source": [
    "pub_list = []\n",
    "for i, r in iri_linkages.iterrows():\n",
    "    dataset_id = [d['id'] for d in datasets if d['title'].lower() == r['dataset_name'].lower()]\n",
    "    dimensions_return = run_doi_search(r['doi'],api_client)\n",
    "    pub_dict = {'title':r['title'],'journal':r['journal'],'related_dataset':dataset_id,'doi':r['doi']}\n",
    "    try:\n",
    "        link = dimensions_return['linkout']\n",
    "        pub_dict.update({'url':link})\n",
    "    except:\n",
    "        pass\n",
    "    pub_list.append(pub_dict)"
   ]
  },
  {
   "cell_type": "code",
   "execution_count": 55,
   "metadata": {},
   "outputs": [],
   "source": [
    "import os\n",
    "json_pubs_name = '20190626_iri_usda_publications.json'\n",
    "pubs_paths =[os.path.join(os.getcwd(), '..','results/',json_pubs_name)\n",
    ",os.path.join('/Users/sophierand/RichContextMetadata/publications/',json_pubs_name)]\n"
   ]
  },
  {
   "cell_type": "code",
   "execution_count": 56,
   "metadata": {},
   "outputs": [],
   "source": [
    "for p in pubs_paths:\n",
    "    with open(p, 'w') as outfile:\n",
    "        json.dump(pub_list, outfile,indent=2)\n"
   ]
  },
  {
   "cell_type": "code",
   "execution_count": null,
   "metadata": {},
   "outputs": [],
   "source": []
  }
 ],
 "metadata": {
  "kernelspec": {
   "display_name": "Python 3",
   "language": "python",
   "name": "python3"
  },
  "language_info": {
   "codemirror_mode": {
    "name": "ipython",
    "version": 3
   },
   "file_extension": ".py",
   "mimetype": "text/x-python",
   "name": "python",
   "nbconvert_exporter": "python",
   "pygments_lexer": "ipython3",
   "version": "3.7.3"
  }
 },
 "nbformat": 4,
 "nbformat_minor": 2
}
