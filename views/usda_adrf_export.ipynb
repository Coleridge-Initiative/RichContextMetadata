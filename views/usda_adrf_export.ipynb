{
 "cells": [
  {
   "cell_type": "markdown",
   "metadata": {},
   "source": [
    "Import publications"
   ]
  },
  {
   "cell_type": "code",
   "execution_count": 10,
   "metadata": {},
   "outputs": [],
   "source": [
    "pub_files = '/Users/sophierand/RichContextMetadata/apis/all_pubs.json'"
   ]
  },
  {
   "cell_type": "code",
   "execution_count": 6,
   "metadata": {},
   "outputs": [],
   "source": [
    "import json"
   ]
  },
  {
   "cell_type": "code",
   "execution_count": 9,
   "metadata": {},
   "outputs": [],
   "source": [
    "with open(pub_files) as json_file:\n",
    "    pubs = json.load(json_file)"
   ]
  },
  {
   "cell_type": "markdown",
   "metadata": {},
   "source": [
    "Import datasets"
   ]
  },
  {
   "cell_type": "code",
   "execution_count": 11,
   "metadata": {},
   "outputs": [],
   "source": [
    "dataset_path = '/Users/sophierand/RCDatasets/datasets.json'"
   ]
  },
  {
   "cell_type": "code",
   "execution_count": 14,
   "metadata": {},
   "outputs": [],
   "source": [
    "with open(dataset_path) as json_file:\n",
    "    datasets = json.load(json_file)"
   ]
  },
  {
   "cell_type": "markdown",
   "metadata": {},
   "source": [
    "Link datasets with pubs"
   ]
  },
  {
   "cell_type": "code",
   "execution_count": 44,
   "metadata": {},
   "outputs": [],
   "source": [
    "usda_datasets = ['FoodAPS National Household Food Acquisition and Purchase Survey'\n",
    "                 ,'IRI Infoscan','IRI Consumer Network','Supplemental Nutrition Assistance Program']\n",
    "usda_dataset_list = [ds['id'] for ds in datasets if ds['title'] in usda_datasets]\n",
    "\n",
    "usda_provider_ingest  = list(set([ds['provider'] for ds in datasets if ds['title'] in usda_datasets]))\n",
    "\n",
    "                             \n",
    "\n",
    "\n"
   ]
  },
  {
   "cell_type": "code",
   "execution_count": 31,
   "metadata": {},
   "outputs": [],
   "source": [
    "usda_pubs_ingest = [p for p in pubs if p['related_dataset'][0] in usda_dataset_list]"
   ]
  },
  {
   "cell_type": "code",
   "execution_count": 36,
   "metadata": {},
   "outputs": [],
   "source": [
    "usda_provider_ingest = [p for p in pubs if p['related_dataset'][0] in usda_dataset_list]"
   ]
  },
  {
   "cell_type": "code",
   "execution_count": 34,
   "metadata": {},
   "outputs": [],
   "source": [
    "# usda_pubs_ingest"
   ]
  },
  {
   "cell_type": "code",
   "execution_count": 38,
   "metadata": {},
   "outputs": [],
   "source": [
    "usda_datasets_export = [ds for ds in datasets if ds['title'] in usda_datasets]\n",
    "\n",
    "# usda_pubs_ingest\n",
    "\n",
    "# usda_pubs_ingest"
   ]
  },
  {
   "cell_type": "code",
   "execution_count": 40,
   "metadata": {},
   "outputs": [],
   "source": [
    "with open('usda_datasets.json', 'w') as outfile:\n",
    "    json.dump(usda_datasets_export, outfile,indent = 2)"
   ]
  },
  {
   "cell_type": "code",
   "execution_count": 41,
   "metadata": {},
   "outputs": [],
   "source": [
    "with open('usda_publications.json', 'w') as outfile:\n",
    "    json.dump(usda_pubs_ingest, outfile,indent = 2)"
   ]
  },
  {
   "cell_type": "code",
   "execution_count": 45,
   "metadata": {},
   "outputs": [],
   "source": [
    "with open('usda_providers.json', 'w') as outfile:\n",
    "    json.dump(usda_provider_ingest, outfile,indent = 2)"
   ]
  },
  {
   "cell_type": "code",
   "execution_count": null,
   "metadata": {},
   "outputs": [],
   "source": []
  }
 ],
 "metadata": {
  "kernelspec": {
   "display_name": "Python 3",
   "language": "python",
   "name": "python3"
  },
  "language_info": {
   "codemirror_mode": {
    "name": "ipython",
    "version": 3
   },
   "file_extension": ".py",
   "mimetype": "text/x-python",
   "name": "python",
   "nbconvert_exporter": "python",
   "pygments_lexer": "ipython3",
   "version": "3.7.3"
  }
 },
 "nbformat": 4,
 "nbformat_minor": 2
}
