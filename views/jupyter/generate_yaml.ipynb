{
 "cells": [
  {
   "cell_type": "code",
   "execution_count": 1,
   "metadata": {},
   "outputs": [],
   "source": [
    "import json\n",
    "import os\n",
    "import sys\n",
    "import ruamel.yaml\n",
    "from ruamel.yaml.comments import CommentedMap, CommentedKeySeq\n",
    "from ruamel.yaml import YAML\n",
    "import ruamel\n",
    "from pathlib import Path\n"
   ]
  },
  {
   "cell_type": "code",
   "execution_count": 2,
   "metadata": {},
   "outputs": [],
   "source": [
    "datasets_path = \"/Users/sophierand/RCDatasets/datasets.json\"\n",
    "with open(datasets_path) as json_file:\n",
    "    datasets = json.load(json_file)"
   ]
  },
  {
   "cell_type": "code",
   "execution_count": 3,
   "metadata": {},
   "outputs": [],
   "source": [
    "usda_datasets = ['dataset-059',\n",
    " 'dataset-314',\n",
    " 'dataset-017',\n",
    " 'dataset-312',\n",
    " 'dataset-036',\n",
    " 'dataset-300',\n",
    " 'dataset-039',\n",
    " 'dataset-046',\n",
    " 'dataset-049',\n",
    " 'dataset-055']"
   ]
  },
  {
   "cell_type": "code",
   "execution_count": 4,
   "metadata": {},
   "outputs": [],
   "source": [
    "def gen_yaml(dataset_list):\n",
    "    dataset_prefix = 'https://github.com/Coleridge-Initiative/adrf-onto/wiki/Vocabulary'\n",
    "\n",
    "    child_list = {'url':dataset_prefix+ '#Dataset','label':'Datasets',\n",
    "                  'children':[dataset_prefix+\"#\"+d for d in dataset_list]}\n",
    "    children_description = [{'url':u,'label':u.rsplit('#',1)[1]} for u in child_list['children']]\n",
    "    data = {'children':[dataset_prefix + '#Dataset'],\n",
    "           'datasets':[child_list]+children_description}\n",
    "\n",
    "    data['datasets'][0]['children'] = [ruamel.yaml.scalarstring.DoubleQuotedScalarString(b) for b in data['datasets'][0]['children']]\n",
    "    data['datasets'][0]['url'] = ruamel.yaml.scalarstring.DoubleQuotedScalarString(data['datasets'][0]['url'])\n",
    "    #data['datasets'][0]['label'] = ruamel.yaml.scalarstring.DoubleQuotedScalarString(data['datasets'][0]['label'])\n",
    "    data['datasets'][0]['label'] = ruamel.yaml.scalarstring.DoubleQuotedScalarString(data['datasets'][0]['label'])\n",
    "    data['datasets'][1:len(data['datasets'])] = [{'url':ruamel.yaml.scalarstring.DoubleQuotedScalarString(d['url']),'label':ruamel.yaml.scalarstring.DoubleQuotedScalarString(d['label'])} for d in data['datasets'][1:len(data['datasets'])]]\n",
    "    for l in range(len(data['datasets'])):\n",
    "        for t in range(len(datasets)):\n",
    "            if data['datasets'][l]['label'] == datasets[t]['id']:\n",
    "                #print(data['datasets'][l]['label'],datasets[t]['title'])\n",
    "                data['datasets'][l]['label'] = ruamel.yaml.scalarstring.DoubleQuotedScalarString(datasets[t]['title'])\n",
    "    with open('datasets.yml', 'w') as outfile:\n",
    "        ruamel.yaml.round_trip_dump(data, outfile)\n"
   ]
  },
  {
   "cell_type": "code",
   "execution_count": 5,
   "metadata": {},
   "outputs": [],
   "source": [
    "gen_yaml(usda_datasets)"
   ]
  },
  {
   "cell_type": "code",
   "execution_count": null,
   "metadata": {},
   "outputs": [],
   "source": []
  }
 ],
 "metadata": {
  "kernelspec": {
   "display_name": "Python 3",
   "language": "python",
   "name": "python3"
  },
  "language_info": {
   "codemirror_mode": {
    "name": "ipython",
    "version": 3
   },
   "file_extension": ".py",
   "mimetype": "text/x-python",
   "name": "python",
   "nbconvert_exporter": "python",
   "pygments_lexer": "ipython3",
   "version": "3.7.3"
  }
 },
 "nbformat": 4,
 "nbformat_minor": 4
}
