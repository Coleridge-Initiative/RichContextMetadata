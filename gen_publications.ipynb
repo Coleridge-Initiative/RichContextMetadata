{
 "cells": [
  {
   "cell_type": "code",
   "execution_count": 99,
   "metadata": {},
   "outputs": [
    {
     "data": {
      "text/plain": [
       "<module 'metadata_funs' from '/Users/sophierand/RichContextMetadata/metadata_funs.py'>"
      ]
     },
     "execution_count": 99,
     "metadata": {},
     "output_type": "execute_result"
    }
   ],
   "source": [
    "import os\n",
    "import json\n",
    "from os import listdir\n",
    "import pandas as pd\n",
    "import dateutil.parser\n",
    "import metadata_funs\n",
    "import xlrd\n",
    "import datetime\n",
    "from os.path import isfile, join\n",
    "import ntpath\n",
    "import uuid\n",
    "import getpass\n",
    "import pandas as pd\n",
    "import dimensions_search_api_client as dscli\n",
    "import time\n",
    "import metadata_funs\n",
    "import importlib\n",
    "importlib.reload(metadata_funs)"
   ]
  },
  {
   "cell_type": "code",
   "execution_count": 100,
   "metadata": {},
   "outputs": [],
   "source": [
    "dataset_json_path = os.path.join(os.getcwd(),'datasets.json')\n",
    "\n",
    "with open(dataset_json_path) as json_file:\n",
    "    dataset_json = json.load(json_file)"
   ]
  },
  {
   "cell_type": "code",
   "execution_count": 101,
   "metadata": {},
   "outputs": [],
   "source": [
    "# dataset_names =list(set([d['title'] for d in dataset_json]))\n",
    "dataset_names =[{'dataset_name':d['title'],'dataset_id':d['uuid']} for d in dataset_json]"
   ]
  },
  {
   "cell_type": "code",
   "execution_count": 102,
   "metadata": {},
   "outputs": [
    {
     "name": "stdout",
     "output_type": "stream",
     "text": [
      "sr2661@nyu.edu\n"
     ]
    }
   ],
   "source": [
    "user = input()"
   ]
  },
  {
   "cell_type": "code",
   "execution_count": 103,
   "metadata": {},
   "outputs": [
    {
     "name": "stdout",
     "output_type": "stream",
     "text": [
      "········\n"
     ]
    }
   ],
   "source": [
    "password = getpass.getpass()"
   ]
  },
  {
   "cell_type": "code",
   "execution_count": 104,
   "metadata": {},
   "outputs": [
    {
     "name": "stdout",
     "output_type": "stream",
     "text": [
      "API credentials have been set\n"
     ]
    }
   ],
   "source": [
    "api_client  = metadata_funs.connect_ds_api(username = user, password = password)"
   ]
  },
  {
   "cell_type": "code",
   "execution_count": 106,
   "metadata": {},
   "outputs": [],
   "source": [
    "d = 'Securities Holdings Statistics - Base'"
   ]
  },
  {
   "cell_type": "code",
   "execution_count": 110,
   "metadata": {},
   "outputs": [],
   "source": [
    "a = metadata_funs.return_string_search_dyads(exact_match= True,dataset_string = d, api_client = api_client)"
   ]
  },
  {
   "cell_type": "code",
   "execution_count": 114,
   "metadata": {},
   "outputs": [
    {
     "data": {
      "text/plain": [
       "{'id': 'jour.1041730', 'title': 'Journal of Financial Economics'}"
      ]
     },
     "execution_count": 114,
     "metadata": {},
     "output_type": "execute_result"
    }
   ],
   "source": [
    "a[0]['journal']"
   ]
  },
  {
   "cell_type": "code",
   "execution_count": null,
   "metadata": {},
   "outputs": [],
   "source": []
  },
  {
   "cell_type": "code",
   "execution_count": 97,
   "metadata": {},
   "outputs": [
    {
     "name": "stdout",
     "output_type": "stream",
     "text": [
      "Illinois Department of Corrections (DOC) Inmate Admissions 1990-2015\n",
      "Illinois Department of Corrections (DOC) Inmate Exits - 1990-2015\n",
      "Illinois Department of Employment Security (IDES) Unemployment Insurance (UI) wage records - 2005-2015\n",
      "US Department of Housing and Urban Development Program Microdata 2004-2016 - Individuals: Illinois\n",
      "Illinois Department of Employment Security (IDES) Employer records - 2005-2015\n",
      "Illinois Department of Employment Security (IDES) establishment data addendum to employer records - 2012-2015\n",
      "Illinois Department of Corrections (DOC) Parolee address data - 2009-2015\n",
      "US Department of Housing and Urban Development Program Microdata 2004-2016 - Households: Illinois\n",
      "IL Corrections Industries Training 2011-2016 dataset\n",
      "Illinois Department of Corrections (IDOC) SPSS Holding Codes (HCLASS) and Education Level (EDUCLVL)\n",
      "Illinois Department of Corrections Person Relation Table\n",
      "Illinois Department of Human Services (IDHS) Point-In-Time Files: Time Invariant Characteristics\n",
      "Illinois Department of Human Services (IDHS) Head of Household Files\n",
      "Illinois Department of Human Services (IDHS) Spell Files: Time-Varying Characteristics\n",
      "Understanding the Transition from Cash Assistance Receipt to Employment\n",
      "US Department of Housing and Urban Development Program Microdata 2004-2016 - Individuals: New York\n",
      "US Department of Housing and Urban Development Program Microdata 2004-2016 - Households: New York\n",
      "Illinois Department of Human Services (IDHS) Cases Cancelled Due to Earnings and Newly Employed \n",
      "Non-JSON response:\n",
      "<html>\n",
      "<head><title>429 Too Many Requests</title></head>\n",
      "<body>\n",
      "<center><h1>429 Too Many Requests</h1></center>\n",
      "<hr><center>nginx</center>\n",
      "</body>\n",
      "</html>\n",
      "\n"
     ]
    },
    {
     "ename": "TypeError",
     "evalue": "string indices must be integers",
     "output_type": "error",
     "traceback": [
      "\u001b[0;31m---------------------------------------------------------------------------\u001b[0m",
      "\u001b[0;31mTypeError\u001b[0m                                 Traceback (most recent call last)",
      "\u001b[0;32m<ipython-input-97-6c875bc12022>\u001b[0m in \u001b[0;36m<module>\u001b[0;34m\u001b[0m\n\u001b[1;32m      5\u001b[0m     \u001b[0mds_id_dict\u001b[0m \u001b[0;34m=\u001b[0m \u001b[0;34m{\u001b[0m\u001b[0;34m'dataset_id'\u001b[0m\u001b[0;34m:\u001b[0m\u001b[0mdataset_id\u001b[0m\u001b[0;34m}\u001b[0m\u001b[0;34m\u001b[0m\u001b[0;34m\u001b[0m\u001b[0m\n\u001b[1;32m      6\u001b[0m     \u001b[0mprint\u001b[0m\u001b[0;34m(\u001b[0m\u001b[0mdataset_name\u001b[0m\u001b[0;34m)\u001b[0m\u001b[0;34m\u001b[0m\u001b[0;34m\u001b[0m\u001b[0m\n\u001b[0;32m----> 7\u001b[0;31m     \u001b[0mpub_dataset_dyads\u001b[0m  \u001b[0;34m=\u001b[0m \u001b[0mmetadata_funs\u001b[0m\u001b[0;34m.\u001b[0m\u001b[0mreturn_string_search_dyads\u001b[0m\u001b[0;34m(\u001b[0m\u001b[0mexact_match\u001b[0m\u001b[0;34m=\u001b[0m \u001b[0;32mTrue\u001b[0m\u001b[0;34m,\u001b[0m\u001b[0mdataset_string\u001b[0m \u001b[0;34m=\u001b[0m \u001b[0mdataset_name\u001b[0m\u001b[0;34m,\u001b[0m \u001b[0mapi_client\u001b[0m \u001b[0;34m=\u001b[0m \u001b[0mapi_client\u001b[0m\u001b[0;34m)\u001b[0m\u001b[0;34m\u001b[0m\u001b[0;34m\u001b[0m\u001b[0m\n\u001b[0m\u001b[1;32m      8\u001b[0m     \u001b[0mpub_dataset_dyads_id\u001b[0m \u001b[0;34m=\u001b[0m \u001b[0;34m[\u001b[0m\u001b[0mp\u001b[0m\u001b[0;34m.\u001b[0m\u001b[0mupdate\u001b[0m\u001b[0;34m(\u001b[0m\u001b[0mds_id_dict\u001b[0m\u001b[0;34m)\u001b[0m \u001b[0;32mfor\u001b[0m \u001b[0mp\u001b[0m \u001b[0;32min\u001b[0m \u001b[0mpub_dataset_dyads\u001b[0m\u001b[0;34m]\u001b[0m\u001b[0;34m\u001b[0m\u001b[0;34m\u001b[0m\u001b[0m\n\u001b[1;32m      9\u001b[0m \u001b[0;31m#     print(dataset_name)\u001b[0m\u001b[0;34m\u001b[0m\u001b[0;34m\u001b[0m\u001b[0;34m\u001b[0m\u001b[0m\n",
      "\u001b[0;32m~/RichContextMetadata/metadata_funs.py\u001b[0m in \u001b[0;36mreturn_string_search_dyads\u001b[0;34m(exact_match, dataset_string, api_client)\u001b[0m\n\u001b[1;32m     41\u001b[0m         \u001b[0mapi_return\u001b[0m \u001b[0;34m=\u001b[0m \u001b[0mrun_string_search\u001b[0m\u001b[0;34m(\u001b[0m\u001b[0mstring\u001b[0m \u001b[0;34m=\u001b[0m \u001b[0mdataset_string\u001b[0m\u001b[0;34m,\u001b[0m \u001b[0mapi_client\u001b[0m \u001b[0;34m=\u001b[0m \u001b[0mapi_client\u001b[0m\u001b[0;34m)\u001b[0m\u001b[0;34m\u001b[0m\u001b[0;34m\u001b[0m\u001b[0m\n\u001b[1;32m     42\u001b[0m     \u001b[0mpub_metadata\u001b[0m \u001b[0;34m=\u001b[0m \u001b[0;34m[\u001b[0m\u001b[0;34m]\u001b[0m\u001b[0;34m\u001b[0m\u001b[0;34m\u001b[0m\u001b[0m\n\u001b[0;32m---> 43\u001b[0;31m     \u001b[0;32mfor\u001b[0m \u001b[0mi\u001b[0m \u001b[0;32min\u001b[0m \u001b[0mapi_return\u001b[0m\u001b[0;34m[\u001b[0m\u001b[0;34m'publications'\u001b[0m\u001b[0;34m]\u001b[0m\u001b[0;34m:\u001b[0m\u001b[0;34m\u001b[0m\u001b[0;34m\u001b[0m\u001b[0m\n\u001b[0m\u001b[1;32m     44\u001b[0m         \u001b[0mtime\u001b[0m\u001b[0;34m.\u001b[0m\u001b[0msleep\u001b[0m\u001b[0;34m(\u001b[0m \u001b[0;36m6\u001b[0m \u001b[0;34m)\u001b[0m\u001b[0;34m\u001b[0m\u001b[0;34m\u001b[0m\u001b[0m\n\u001b[1;32m     45\u001b[0m         \u001b[0;32mtry\u001b[0m\u001b[0;34m:\u001b[0m\u001b[0;34m\u001b[0m\u001b[0;34m\u001b[0m\u001b[0m\n",
      "\u001b[0;31mTypeError\u001b[0m: string indices must be integers"
     ]
    }
   ],
   "source": [
    "pub_dataset_list = []\n",
    "for d in dataset_names[0:20]:\n",
    "    dataset_name = d['dataset_name']\n",
    "    dataset_id = d['dataset_id']\n",
    "    ds_id_dict = {'dataset_id':dataset_id}\n",
    "    pub_dataset_dyads  = metadata_funs.return_string_search_dyads(exact_match= True,dataset_string = dataset_name, api_client = api_client)\n",
    "    pub_dataset_dyads_id = [p.update(ds_id_dict) for p in pub_dataset_dyads]\n",
    "    if pub_dataset_dyads_id:\n",
    "        pub_dataset_list.append(pub_dataset_dyads_id)"
   ]
  },
  {
   "cell_type": "code",
   "execution_count": 96,
   "metadata": {},
   "outputs": [
    {
     "data": {
      "text/plain": [
       "[{'dataset_name': 'Illinois Department of Corrections (DOC) Inmate Admissions 1990-2015',\n",
       "  'dataset_id': 'c01c3a4d-5b8d-45ed-a1c3-6330420cffa9'},\n",
       " {'dataset_name': 'Illinois Department of Corrections (DOC) Inmate Exits - 1990-2015',\n",
       "  'dataset_id': 'a6018c9c-1ed8-4fa3-9f2a-e1ffacb714aa'},\n",
       " {'dataset_name': 'Illinois Department of Employment Security (IDES) Unemployment Insurance (UI) wage records - 2005-2015',\n",
       "  'dataset_id': '68bd9770-e070-4d3b-9ace-a9e41bc1265e'},\n",
       " {'dataset_name': 'US Department of Housing and Urban Development Program Microdata 2004-2016 - Individuals: Illinois',\n",
       "  'dataset_id': '6e540860-eb7f-49e5-ba27-21e0a701b3c2'},\n",
       " {'dataset_name': 'Illinois Department of Employment Security (IDES) Employer records - 2005-2015',\n",
       "  'dataset_id': '42c229d8-12a4-4d58-8ca8-a6b458f90046'},\n",
       " {'dataset_name': 'Illinois Department of Employment Security (IDES) establishment data addendum to employer records - 2012-2015',\n",
       "  'dataset_id': '6ecd35c0-5c7d-45ab-b7a7-80439d61d41b'},\n",
       " {'dataset_name': 'Illinois Department of Corrections (DOC) Parolee address data - 2009-2015',\n",
       "  'dataset_id': '21d6daa9-eaab-4ebb-beb2-0ac7cba8e69e'},\n",
       " {'dataset_name': 'US Department of Housing and Urban Development Program Microdata 2004-2016 - Households: Illinois',\n",
       "  'dataset_id': '90a66323-aa16-4a81-a8bb-6113d6f696fc'},\n",
       " {'dataset_name': 'IL Corrections Industries Training 2011-2016 dataset',\n",
       "  'dataset_id': '9ed030ea-64ea-47c5-afa4-e09959202928'},\n",
       " {'dataset_name': 'Illinois Department of Corrections (IDOC) SPSS Holding Codes (HCLASS) and Education Level (EDUCLVL)',\n",
       "  'dataset_id': '101bc4c8-4a74-43a3-be5e-9efee03203f0'},\n",
       " {'dataset_name': 'Illinois Department of Corrections Person Relation Table',\n",
       "  'dataset_id': '88da0ff3-17fc-4972-81e1-6263d6ac7d7b'},\n",
       " {'dataset_name': 'Illinois Department of Human Services (IDHS) Point-In-Time Files: Time Invariant Characteristics',\n",
       "  'dataset_id': '63de9f39-958d-4f27-904d-0f5272bf15f5'},\n",
       " {'dataset_name': 'Illinois Department of Human Services (IDHS) Head of Household Files',\n",
       "  'dataset_id': 'b86cb6ac-e42a-442f-9739-271f4aa61bce'},\n",
       " {'dataset_name': 'Illinois Department of Human Services (IDHS) Spell Files: Time-Varying Characteristics',\n",
       "  'dataset_id': '1532de03-ffdf-4d7b-b182-6e085c5c1b3f'},\n",
       " {'dataset_name': 'Understanding the Transition from Cash Assistance Receipt to Employment',\n",
       "  'dataset_id': 'a739e3fe-1f65-47fa-9431-3fda44ad4010'},\n",
       " {'dataset_name': 'US Department of Housing and Urban Development Program Microdata 2004-2016 - Individuals: New York',\n",
       "  'dataset_id': '26210fc7-a49b-4caa-a0f2-11232dedd6aa'},\n",
       " {'dataset_name': 'US Department of Housing and Urban Development Program Microdata 2004-2016 - Households: New York',\n",
       "  'dataset_id': 'e6ae31d6-e321-4533-b1eb-df2c39aefeb0'},\n",
       " {'dataset_name': 'Illinois Department of Human Services (IDHS) Cases Cancelled Due to Earnings and Newly Employed ',\n",
       "  'dataset_id': '6352d036-1551-440e-af2e-5f4771dc0912'},\n",
       " {'dataset_name': 'Missouri Unemployment Insurance (UI) wage 2006-2016',\n",
       "  'dataset_id': 'c922ac2c-58a4-490c-89f6-3a6c38c445e2'},\n",
       " {'dataset_name': 'Missouri Census LEHD Employer records - 2006-2016',\n",
       "  'dataset_id': 'ea6087fc-9641-46c6-b07e-171944d8acea'},\n",
       " {'dataset_name': 'Kansas City, Missouri Water Customer Data',\n",
       "  'dataset_id': '80fd71af-e2b8-48c5-ab75-c3ea048c84f5'},\n",
       " {'dataset_name': 'The Kansas City Star Full Text Business Section Articles - May 2016 - April 2018',\n",
       "  'dataset_id': 'f9d268be-53f9-4928-93f2-bb4e0b7f6973'},\n",
       " {'dataset_name': 'Kansas City Missouri census tracts with flag for East or West of Troost Street',\n",
       "  'dataset_id': '945209a0-c0c3-41d6-aaa1-2daab8e2d184'},\n",
       " {'dataset_name': 'Kansas City Police Department Crime Data 2009-2018',\n",
       "  'dataset_id': '5e7cfebf-7a2a-4f04-8e8b-429da3d3248e'},\n",
       " {'dataset_name': 'Indiana wage records by quarter 2005-2018',\n",
       "  'dataset_id': 'aa4b446b-3079-42e4-b236-225fc8610a6c'},\n",
       " {'dataset_name': 'Indiana wage records by employer 2005-2018',\n",
       "  'dataset_id': 'fa14e91a-e45d-4b41-8fec-aae7547ef8ed'},\n",
       " {'dataset_name': 'Indiana Public Higher Education Enrollments, 2005-2006 Through 2017-2018',\n",
       "  'dataset_id': '4bdb168b-ce70-424e-887f-64bfadcc5f8c'},\n",
       " {'dataset_name': 'Indiana Public Higher Education Degree Completions 2005-2006 Through 2017-2018',\n",
       "  'dataset_id': 'eecca0ec-23b4-49d2-864f-dd5b8df05430'},\n",
       " {'dataset_name': 'Missouri Unemployment Insurance (UI) wage 2006-2017',\n",
       "  'dataset_id': '6155cb60-866b-4206-89d2-5de1b05e99c9'},\n",
       " {'dataset_name': 'Missouri Census LEHD Employer records - 2006-2017',\n",
       "  'dataset_id': 'd272d065-faf5-4220-be0e-7bed55a64d66'},\n",
       " {'dataset_name': 'Missouri Department of Higher Education (DHE) - Term Registrations, 2006-2017',\n",
       "  'dataset_id': '03d94724-93c6-4224-8262-4e6b1d46ec73'},\n",
       " {'dataset_name': 'Missouri Department of Higher Education (DHE) - Enrollments, 2006-2016',\n",
       "  'dataset_id': 'e44c48e6-4e10-4681-bc58-f82b9b0b8f49'},\n",
       " {'dataset_name': 'Missouri Department of Higher Education (DHE) - Completions, 2006-2017',\n",
       "  'dataset_id': '6ecbd1e5-04f9-4497-b788-e0f99eacdb8f'},\n",
       " {'dataset_name': 'Missouri Department of Corrections (DOC) - Classes',\n",
       "  'dataset_id': 'c0286c0a-ad54-4fd8-b546-e2f61b7c917d'},\n",
       " {'dataset_name': 'Missouri Department of Corrections (DOC) - Releases',\n",
       "  'dataset_id': '4e66bf61-9a11-419b-a912-ef4b6cd903a9'},\n",
       " {'dataset_name': 'Missouri Department of Corrections (DOC) - Hashed SSN to Hashed MO DOC ID Crosswalk',\n",
       "  'dataset_id': '76458eb9-15ec-4b52-a1a2-740be3e4cf20'},\n",
       " {'dataset_name': 'Missouri Department of Labor and Industrial Relations (DOLIR) Unemployment Insurance Claims',\n",
       "  'dataset_id': 'd66c4e45-0c77-4a27-9cd3-80f12793e0be'},\n",
       " {'dataset_name': 'Missouri Department of Labor and Industrial Relations (DOLIR) Unemployment Insurance Payments',\n",
       "  'dataset_id': 'db144215-7b13-475b-a161-ae35b2772bd2'},\n",
       " {'dataset_name': 'Information Resources, Inc. (IRI) Consumer Network household-based scanner data',\n",
       "  'dataset_id': 'b1efb31e-a70d-4ecb-848e-def91fb7a42c'},\n",
       " {'dataset_name': 'Information Resources, Inc. (IRI) InfoScan retail-based scanner data',\n",
       "  'dataset_id': '8e717fa6-6f5f-4ebd-b631-3fed0d4fc274'},\n",
       " {'dataset_name': 'FoodAPS National Household Food Acquisition and Purchase Survey',\n",
       "  'dataset_id': '5027b1bd-c724-4731-a26f-5e4a3d3ef13a'},\n",
       " {'dataset_name': 'Special Supplemental Nutrition Program for Women, Infants, and Children (WIC) Administrative Data',\n",
       "  'dataset_id': 'db0a6cce-6b81-4bcc-b4d9-d43d537fa9e3'},\n",
       " {'dataset_name': 'Supplemental Nutrition Assistance Program (SNAP) Administrative Data',\n",
       "  'dataset_id': '1cf0b963-c12e-47e6-a828-31cb9cea3b1e'},\n",
       " {'dataset_name': 'External Position of Banks',\n",
       "  'dataset_id': 'a2a407bb-e514-418d-be1c-ced9c59202a3'},\n",
       " {'dataset_name': 'Quarterly borrower statistics',\n",
       "  'dataset_id': '232bca9a-3a24-4a7a-9f96-f510226e12da'},\n",
       " {'dataset_name': 'Corporate balance sheets (USTAN)',\n",
       "  'dataset_id': '569d6481-8edc-49eb-8a1b-7f0755b2a9a3'},\n",
       " {'dataset_name': 'Securities Holdings Statistics - Base',\n",
       "  'dataset_id': '7b89e207-6c57-4783-aa79-d4d4eaf3e489'},\n",
       " {'dataset_name': 'Panel on Household Finances',\n",
       "  'dataset_id': 'bdbf1d51-52de-454c-a41c-e2b40e9381a5'},\n",
       " {'dataset_name': 'Investment Funds Statistics - Base',\n",
       "  'dataset_id': '41153d1f-a690-4d50-9a5f-6fb5a85e07ea'},\n",
       " {'dataset_name': 'MFI Interest Rate Statistics',\n",
       "  'dataset_id': '7bbeca87-20a6-433f-9a3e-6ab1f3bc41ca'},\n",
       " {'dataset_name': 'OECD Survey on Adult Financial Literacy in Germany',\n",
       "  'dataset_id': '375463c5-8b1d-408d-9c79-136f21169b64'},\n",
       " {'dataset_name': 'BAKIS-M',\n",
       "  'dataset_id': '267a3424-a0b4-4845-9167-845c4544d84e'},\n",
       " {'dataset_name': 'Monthly balance sheet statistics (BISTA)',\n",
       "  'dataset_id': '2d729899-4152-43b5-85ab-21557361764e'},\n",
       " {'dataset_name': 'Statistics of the banks’ profit and loss accounts',\n",
       "  'dataset_id': '6ce8aaba-9e23-4843-bb99-4c61a27106b5'},\n",
       " {'dataset_name': 'Microdatabase Direct Investment',\n",
       "  'dataset_id': 'cb0b0330-0b68-4ea1-9cb5-1c280a216b55'},\n",
       " {'dataset_name': 'Statistics on International Trade in Services',\n",
       "  'dataset_id': '1705ac16-f936-4dfa-ba30-f64de4da667b'},\n",
       " {'dataset_name': 'Zentralkartei Banken (ZentK)',\n",
       "  'dataset_id': '467bfb5f-92b9-45d6-9661-4c9ea84bbd99'},\n",
       " {'dataset_name': 'Bank Lending Survey',\n",
       "  'dataset_id': '38af570f-c771-47ce-a2f5-ffbaf33cf926'},\n",
       " {'dataset_name': 'MiMiK',\n",
       "  'dataset_id': '32b44486-6854-4eba-befe-49ac7f30241c'},\n",
       " {'dataset_name': 'Payment behaviour in Germany',\n",
       "  'dataset_id': '34b109a8-1889-4c6c-9e07-3059cb60b9cd'},\n",
       " {'dataset_name': 'Centralised Securities Database (CSDB)',\n",
       "  'dataset_id': '0a33ba15-2fcd-495b-bc79-7a34470278ac'},\n",
       " {'dataset_name': 'TARGET2',\n",
       "  'dataset_id': '45809458-d701-4687-96b2-0310ce413ab6'},\n",
       " {'dataset_name': 'Annual Distress Database of the Deutsche Bundesbank',\n",
       "  'dataset_id': '644113dc-ce99-48b2-9132-8966b90304c1'}]"
      ]
     },
     "execution_count": 96,
     "metadata": {},
     "output_type": "execute_result"
    }
   ],
   "source": [
    "dataset_names\n",
    "# pub_dataset_list"
   ]
  },
  {
   "cell_type": "code",
   "execution_count": 64,
   "metadata": {},
   "outputs": [
    {
     "data": {
      "text/plain": [
       "[]"
      ]
     },
     "execution_count": 64,
     "metadata": {},
     "output_type": "execute_result"
    }
   ],
   "source": [
    "metadata_funs.return_string_search_dyads(exact_match= True,dataset_string = 'Illinois Department of Human Services (IDHS) Point-In-Time Files: Time Invariant Characteristics', api_client = api_client)\n",
    "\n",
    "\n"
   ]
  },
  {
   "cell_type": "code",
   "execution_count": null,
   "metadata": {},
   "outputs": [],
   "source": [
    "title = 'Cyclical Investment Behavior across Financial Institutions'\n",
    "doi = '10.1016/j.jfineco.2018.04.012'\n",
    "journal = 'Journal of Financial Economics'\n",
    "gen_datasets.get_hash([doi, journal, title])"
   ]
  },
  {
   "cell_type": "code",
   "execution_count": null,
   "metadata": {},
   "outputs": [],
   "source": [
    "# 'pub_datasets.json'"
   ]
  }
 ],
 "metadata": {
  "kernelspec": {
   "display_name": "Python 3",
   "language": "python",
   "name": "python3"
  },
  "language_info": {
   "codemirror_mode": {
    "name": "ipython",
    "version": 3
   },
   "file_extension": ".py",
   "mimetype": "text/x-python",
   "name": "python",
   "nbconvert_exporter": "python",
   "pygments_lexer": "ipython3",
   "version": "3.7.3"
  }
 },
 "nbformat": 4,
 "nbformat_minor": 2
}
