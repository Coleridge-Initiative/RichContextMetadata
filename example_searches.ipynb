{
 "cells": [
  {
   "cell_type": "code",
   "execution_count": 76,
   "metadata": {},
   "outputs": [
    {
     "data": {
      "text/plain": [
       "<module 'metadata_funs' from '/home/sophierand/RichContextMetadata/metadata_funs.py'>"
      ]
     },
     "execution_count": 76,
     "metadata": {},
     "output_type": "execute_result"
    }
   ],
   "source": [
    "import getpass\n",
    "import pandas as pd\n",
    "import dimensions_search_api_client as dscli\n",
    "import time\n",
    "import metadata_funs\n",
    "import importlib\n",
    "importlib.reload(metadata_funs)"
   ]
  },
  {
   "cell_type": "code",
   "execution_count": 2,
   "metadata": {},
   "outputs": [
    {
     "name": "stdout",
     "output_type": "stream",
     "text": [
      "sr2661@nyu.edu\n"
     ]
    }
   ],
   "source": [
    "user = input()"
   ]
  },
  {
   "cell_type": "code",
   "execution_count": 3,
   "metadata": {},
   "outputs": [
    {
     "name": "stdout",
     "output_type": "stream",
     "text": [
      "········\n"
     ]
    }
   ],
   "source": [
    "password = getpass.getpass()"
   ]
  },
  {
   "cell_type": "code",
   "execution_count": 4,
   "metadata": {},
   "outputs": [
    {
     "name": "stdout",
     "output_type": "stream",
     "text": [
      "API credentials have been set\n"
     ]
    }
   ],
   "source": [
    "api_client  = metadata_funs.connect_ds_api(username = user, password = password)"
   ]
  },
  {
   "cell_type": "markdown",
   "metadata": {},
   "source": [
    "### String searches with dataset name to get back pub-dataset dyads"
   ]
  },
  {
   "cell_type": "code",
   "execution_count": 5,
   "metadata": {},
   "outputs": [],
   "source": [
    "dataset_string = \"IRI infoscan data\""
   ]
  },
  {
   "cell_type": "code",
   "execution_count": 24,
   "metadata": {},
   "outputs": [],
   "source": [
    "pub_dataset_dyads  = metadata_funs.return_string_search_dyads(exact_match= True,dataset_string = dataset_string, api_client = api_client)\n"
   ]
  },
  {
   "cell_type": "code",
   "execution_count": 26,
   "metadata": {},
   "outputs": [],
   "source": [
    "# pub_dataset_dyads"
   ]
  },
  {
   "cell_type": "markdown",
   "metadata": {},
   "source": [
    "### Doi searches to get back publication metadata"
   ]
  },
  {
   "cell_type": "code",
   "execution_count": 61,
   "metadata": {},
   "outputs": [],
   "source": [
    "# doi = '10.1002/hec.3883'\n",
    "doi = '10.1093/cid/cix668'\n",
    "doi_metadata = metadata_funs.run_doi_search(doi_id = doi , api_client = api_client)"
   ]
  },
  {
   "cell_type": "markdown",
   "metadata": {},
   "source": [
    "### Person metadata"
   ]
  },
  {
   "cell_type": "code",
   "execution_count": 77,
   "metadata": {},
   "outputs": [],
   "source": [
    "author_dimensions_id = 'ur.01356101567.65'\n",
    "author_metadata = metadata_funs.run_author_search(author_dimensions_id,api_client)"
   ]
  },
  {
   "cell_type": "code",
   "execution_count": 78,
   "metadata": {},
   "outputs": [
    {
     "data": {
      "text/plain": [
       "[{'first_publication_year': 2005,\n",
       "  'research_orgs': [{'id': 'grid.59734.3c',\n",
       "    'acronym': 'MSSM',\n",
       "    'name': 'Icahn School of Medicine at Mount Sinai',\n",
       "    'country_name': 'United States'},\n",
       "   {'id': 'grid.238477.d',\n",
       "    'acronym': 'DOHMH',\n",
       "    'name': 'New York City Department of Health and Mental Hygiene',\n",
       "    'country_name': 'United States'},\n",
       "   {'id': 'grid.238491.5',\n",
       "    'acronym': 'NYSDOH',\n",
       "    'name': 'New York State Department of Health',\n",
       "    'country_name': 'United States'},\n",
       "   {'id': 'grid.32224.35',\n",
       "    'acronym': 'MGH',\n",
       "    'name': 'Massachusetts General Hospital',\n",
       "    'country_name': 'United States'},\n",
       "   {'id': 'grid.137628.9',\n",
       "    'acronym': 'NYU',\n",
       "    'name': 'New York University',\n",
       "    'country_name': 'United States'},\n",
       "   {'id': 'grid.416738.f',\n",
       "    'acronym': 'CDC',\n",
       "    'name': 'Centers for Disease Control and Prevention',\n",
       "    'country_name': 'United States'},\n",
       "   {'id': 'grid.240324.3',\n",
       "    'name': 'New York University Langone Medical Center',\n",
       "    'country_name': 'United States'},\n",
       "   {'id': 'grid.28803.31',\n",
       "    'name': 'University of Wisconsin System',\n",
       "    'country_name': 'United States'},\n",
       "   {'id': 'grid.414409.c',\n",
       "    'name': 'Bellevue Hospital Center',\n",
       "    'country_name': 'United States'}],\n",
       "  'id': 'ur.01356101567.65',\n",
       "  'total_publications': 47,\n",
       "  'last_grant_year': 2016,\n",
       "  'last_name': 'Daskalakis',\n",
       "  'first_name': 'Demetre C',\n",
       "  'last_publication_year': 2019,\n",
       "  'total_grants': 1,\n",
       "  'obsolete': 0,\n",
       "  'current_research_org': {'id': 'grid.238477.d',\n",
       "   'acronym': 'DOHMH',\n",
       "   'name': 'New York City Department of Health and Mental Hygiene',\n",
       "   'country_name': 'United States'},\n",
       "  'first_grant_year': 2012}]"
      ]
     },
     "execution_count": 78,
     "metadata": {},
     "output_type": "execute_result"
    }
   ],
   "source": [
    "author_metadata"
   ]
  },
  {
   "cell_type": "code",
   "execution_count": null,
   "metadata": {},
   "outputs": [],
   "source": []
  }
 ],
 "metadata": {
  "kernelspec": {
   "display_name": "rich_context (Python 3)",
   "language": "python",
   "name": "rich_context"
  },
  "language_info": {
   "codemirror_mode": {
    "name": "ipython",
    "version": 3
   },
   "file_extension": ".py",
   "mimetype": "text/x-python",
   "name": "python",
   "nbconvert_exporter": "python",
   "pygments_lexer": "ipython3",
   "version": "3.6.7"
  }
 },
 "nbformat": 4,
 "nbformat_minor": 2
}
