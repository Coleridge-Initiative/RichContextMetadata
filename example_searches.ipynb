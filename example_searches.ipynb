{
 "cells": [
  {
   "cell_type": "code",
   "execution_count": 84,
   "metadata": {},
   "outputs": [
    {
     "data": {
      "text/plain": [
       "<module 'metadata_funs' from '/home/sophierand/RichContextMetadata/metadata_funs.py'>"
      ]
     },
     "execution_count": 84,
     "metadata": {},
     "output_type": "execute_result"
    }
   ],
   "source": [
    "import getpass\n",
    "import pandas as pd\n",
    "import dimensions_search_api_client as dscli\n",
    "import time\n",
    "import metadata_funs\n",
    "import importlib\n",
    "importlib.reload(metadata_funs)"
   ]
  },
  {
   "cell_type": "code",
   "execution_count": 85,
   "metadata": {},
   "outputs": [
    {
     "name": "stdout",
     "output_type": "stream",
     "text": [
      "sr2661@nyu.edu\n"
     ]
    }
   ],
   "source": [
    "user = input()"
   ]
  },
  {
   "cell_type": "code",
   "execution_count": 86,
   "metadata": {},
   "outputs": [
    {
     "name": "stdout",
     "output_type": "stream",
     "text": [
      "········\n"
     ]
    }
   ],
   "source": [
    "password = getpass.getpass()"
   ]
  },
  {
   "cell_type": "code",
   "execution_count": 87,
   "metadata": {},
   "outputs": [
    {
     "name": "stdout",
     "output_type": "stream",
     "text": [
      "API credentials have been set\n"
     ]
    }
   ],
   "source": [
    "api_client  = metadata_funs.connect_ds_api(username = user, password = password)\n",
    "\n"
   ]
  },
  {
   "cell_type": "markdown",
   "metadata": {},
   "source": [
    "### String searches with dataset name to get back pub-dataset dyads"
   ]
  },
  {
   "cell_type": "code",
   "execution_count": 88,
   "metadata": {},
   "outputs": [],
   "source": [
    "dataset_string = \"IRI infoscan data\""
   ]
  },
  {
   "cell_type": "code",
   "execution_count": 89,
   "metadata": {},
   "outputs": [],
   "source": [
    "pub_dataset_dyads  = metadata_funs.return_string_search_dyads(exact_match= True,dataset_string = dataset_string, api_client = api_client)"
   ]
  },
  {
   "cell_type": "code",
   "execution_count": 96,
   "metadata": {},
   "outputs": [
    {
     "data": {
      "text/plain": [
       "{'pages': '782-800',\n",
       " 'research_org_state_names': ['District of Columbia',\n",
       "  'North Carolina',\n",
       "  'Georgia'],\n",
       " 'recent_citations': 0,\n",
       " 'research_orgs': [{'id': 'grid.213876.9',\n",
       "   'acronym': 'UGA',\n",
       "   'name': 'University of Georgia',\n",
       "   'country_name': 'United States'},\n",
       "  {'id': 'grid.62562.35',\n",
       "   'name': 'RTI International',\n",
       "   'country_name': 'United States'},\n",
       "  {'id': 'grid.463419.d',\n",
       "   'acronym': 'ARS',\n",
       "   'name': 'Agricultural Research Service',\n",
       "   'country_name': 'United States'}],\n",
       " 'year': 2019,\n",
       " 'research_org_state_codes': [{'id': 'US-NC', 'name': 'North Carolina'},\n",
       "  {'id': 'US-DC', 'name': 'District of Columbia'},\n",
       "  {'id': 'US-GA', 'name': 'Georgia'}],\n",
       " 'open_access_categories': [{'id': 'closed',\n",
       "   'name': 'Closed',\n",
       "   'description': 'No freely available copy has been identified'}],\n",
       " 'date': '2019-06-26',\n",
       " 'id': 'pub.1115024809',\n",
       " 'volume': '28',\n",
       " 'research_org_countries': [{'id': 'US', 'name': 'United States'}],\n",
       " 'altmetric_id': 60904543,\n",
       " 'FOR': [{'id': '3292', 'name': '1402 Applied Economics'},\n",
       "  {'id': '3313', 'name': '1403 Econometrics'}],\n",
       " 'terms': ['systematic differences',\n",
       "  'policy',\n",
       "  'higher income households',\n",
       "  'health policy research',\n",
       "  'research',\n",
       "  'beverage tax',\n",
       "  'consumer demand systems',\n",
       "  'outcomes',\n",
       "  'level playing field',\n",
       "  'income households',\n",
       "  'population',\n",
       "  'Consumer Expenditure Survey',\n",
       "  'more price',\n",
       "  'household scanner data',\n",
       "  'budget shares',\n",
       "  'survey',\n",
       "  'explanatory variables',\n",
       "  'positive association',\n",
       "  'Expenditure Survey',\n",
       "  'effect',\n",
       "  'panel',\n",
       "  'demand system',\n",
       "  'policy research',\n",
       "  'price elasticity',\n",
       "  'degree',\n",
       "  'households',\n",
       "  'levels',\n",
       "  'simulation outcomes',\n",
       "  'model',\n",
       "  'food groups',\n",
       "  'numéraire',\n",
       "  'elasticity',\n",
       "  'playing field',\n",
       "  'policy simulations',\n",
       "  'important differences',\n",
       "  'share',\n",
       "  'consumer networks',\n",
       "  'expenditure',\n",
       "  'variables',\n",
       "  'demand model',\n",
       "  'network expenditures',\n",
       "  'demand elasticity',\n",
       "  'tax',\n",
       "  'findings',\n",
       "  'article',\n",
       "  'dataset',\n",
       "  'food budget share',\n",
       "  'health policy',\n",
       "  'underreporting',\n",
       "  'data',\n",
       "  'price',\n",
       "  'scanner panel',\n",
       "  'income elasticity',\n",
       "  'scanner data',\n",
       "  'income'],\n",
       " 'concepts': ['systematic differences',\n",
       "  'policy',\n",
       "  'higher income households',\n",
       "  'health policy research',\n",
       "  'research',\n",
       "  'beverage tax',\n",
       "  'consumer demand systems',\n",
       "  'outcomes',\n",
       "  'level playing field',\n",
       "  'income households',\n",
       "  'population',\n",
       "  'Consumer Expenditure Survey',\n",
       "  'more price',\n",
       "  'household scanner data',\n",
       "  'budget shares',\n",
       "  'survey',\n",
       "  'explanatory variables',\n",
       "  'positive association',\n",
       "  'Expenditure Survey',\n",
       "  'effect',\n",
       "  'panel',\n",
       "  'demand system',\n",
       "  'policy research',\n",
       "  'price elasticity',\n",
       "  'degree',\n",
       "  'households',\n",
       "  'levels',\n",
       "  'simulation outcomes',\n",
       "  'model',\n",
       "  'food groups',\n",
       "  'numéraire',\n",
       "  'elasticity',\n",
       "  'playing field',\n",
       "  'policy simulations',\n",
       "  'important differences',\n",
       "  'share',\n",
       "  'consumer networks',\n",
       "  'expenditure',\n",
       "  'variables',\n",
       "  'demand model',\n",
       "  'network expenditures',\n",
       "  'demand elasticity',\n",
       "  'tax',\n",
       "  'findings',\n",
       "  'article',\n",
       "  'dataset',\n",
       "  'food budget share',\n",
       "  'health policy',\n",
       "  'underreporting',\n",
       "  'data',\n",
       "  'price',\n",
       "  'scanner panel',\n",
       "  'income elasticity',\n",
       "  'scanner data',\n",
       "  'income'],\n",
       " 'author_affiliations': [[{'first_name': 'Chen',\n",
       "    'last_name': 'Zhen',\n",
       "    'orcid': '',\n",
       "    'current_organization_id': '',\n",
       "    'researcher_id': '',\n",
       "    'affiliations': [{'id': 'grid.213876.9',\n",
       "      'name': 'University of Georgia',\n",
       "      'city': 'Athens',\n",
       "      'city_id': 4180386,\n",
       "      'country': 'United States',\n",
       "      'country_code': 'US',\n",
       "      'state': 'Georgia',\n",
       "      'state_code': 'US-GA'}]},\n",
       "   {'first_name': 'Mary',\n",
       "    'last_name': 'Muth',\n",
       "    'orcid': '',\n",
       "    'current_organization_id': '',\n",
       "    'researcher_id': '',\n",
       "    'affiliations': [{'id': 'grid.62562.35',\n",
       "      'name': 'RTI International',\n",
       "      'city': 'Durham',\n",
       "      'city_id': 4464368,\n",
       "      'country': 'United States',\n",
       "      'country_code': 'US',\n",
       "      'state': 'North Carolina',\n",
       "      'state_code': 'US-NC'}]},\n",
       "   {'first_name': 'Abigail',\n",
       "    'last_name': 'Okrent',\n",
       "    'orcid': '',\n",
       "    'current_organization_id': '',\n",
       "    'researcher_id': '',\n",
       "    'affiliations': [{'id': 'grid.463419.d',\n",
       "      'name': 'Agricultural Research Service',\n",
       "      'city': 'Washington D.C.',\n",
       "      'city_id': 4140963,\n",
       "      'country': 'United States',\n",
       "      'country_code': 'US',\n",
       "      'state': 'District of Columbia',\n",
       "      'state_code': 'US-DC'}]},\n",
       "   {'first_name': 'Shawn',\n",
       "    'last_name': 'Karns',\n",
       "    'orcid': '',\n",
       "    'current_organization_id': '',\n",
       "    'researcher_id': '',\n",
       "    'affiliations': [{'id': 'grid.62562.35',\n",
       "      'name': 'RTI International',\n",
       "      'city': 'Durham',\n",
       "      'city_id': 4464368,\n",
       "      'country': 'United States',\n",
       "      'country_code': 'US',\n",
       "      'state': 'North Carolina',\n",
       "      'state_code': 'US-NC'}]},\n",
       "   {'first_name': 'Derick',\n",
       "    'last_name': 'Brown',\n",
       "    'orcid': '',\n",
       "    'current_organization_id': '',\n",
       "    'researcher_id': '',\n",
       "    'affiliations': [{'id': 'grid.62562.35',\n",
       "      'name': 'RTI International',\n",
       "      'city': 'Durham',\n",
       "      'city_id': 4464368,\n",
       "      'country': 'United States',\n",
       "      'country_code': 'US',\n",
       "      'state': 'North Carolina',\n",
       "      'state_code': 'US-NC'}]},\n",
       "   {'first_name': 'Peter',\n",
       "    'last_name': 'Siegel',\n",
       "    'orcid': '',\n",
       "    'current_organization_id': '',\n",
       "    'researcher_id': '',\n",
       "    'affiliations': [{'id': 'grid.62562.35',\n",
       "      'name': 'RTI International',\n",
       "      'city': 'Durham',\n",
       "      'city_id': 4464368,\n",
       "      'country': 'United States',\n",
       "      'country_code': 'US',\n",
       "      'state': 'North Carolina',\n",
       "      'state_code': 'US-NC'}]}]],\n",
       " 'doi': '10.1002/hec.3883',\n",
       " 'title': 'Do differences in reported expenditures between household scanner data and expenditure surveys matter in health policy research?',\n",
       " 'FOR_first': [{'id': '2214', 'name': '14 Economics'},\n",
       "  {'id': '2214', 'name': '14 Economics'}],\n",
       " 'reference_ids': ['pub.1006131469',\n",
       "  'pub.1069869134',\n",
       "  'pub.1007062148',\n",
       "  'pub.1005477919',\n",
       "  'pub.1061933576',\n",
       "  'pub.1009314263',\n",
       "  'pub.1049813254',\n",
       "  'pub.1032218834',\n",
       "  'pub.1001047543',\n",
       "  'pub.1016706697',\n",
       "  'pub.1032735004',\n",
       "  'pub.1043851490',\n",
       "  'pub.1064530166',\n",
       "  'pub.1000696039',\n",
       "  'pub.1064528029',\n",
       "  'pub.1026858214',\n",
       "  'pub.1069649988',\n",
       "  'pub.1071225215',\n",
       "  'pub.1007367038',\n",
       "  'pub.1064526217',\n",
       "  'pub.1059379715',\n",
       "  'pub.1061832889',\n",
       "  'pub.1071753795',\n",
       "  'pub.1064532160',\n",
       "  'pub.1100382261',\n",
       "  'pub.1069868881',\n",
       "  'pub.1022637569',\n",
       "  'pub.1064532091',\n",
       "  'pub.1069640157'],\n",
       " 'references': ['pub.1006131469',\n",
       "  'pub.1069869134',\n",
       "  'pub.1007062148',\n",
       "  'pub.1005477919',\n",
       "  'pub.1061933576',\n",
       "  'pub.1009314263',\n",
       "  'pub.1049813254',\n",
       "  'pub.1032218834',\n",
       "  'pub.1001047543',\n",
       "  'pub.1016706697',\n",
       "  'pub.1032735004',\n",
       "  'pub.1043851490',\n",
       "  'pub.1064530166',\n",
       "  'pub.1000696039',\n",
       "  'pub.1064528029',\n",
       "  'pub.1026858214',\n",
       "  'pub.1069649988',\n",
       "  'pub.1071225215',\n",
       "  'pub.1007367038',\n",
       "  'pub.1064526217',\n",
       "  'pub.1059379715',\n",
       "  'pub.1061832889',\n",
       "  'pub.1071753795',\n",
       "  'pub.1064532160',\n",
       "  'pub.1100382261',\n",
       "  'pub.1069868881',\n",
       "  'pub.1022637569',\n",
       "  'pub.1064532091',\n",
       "  'pub.1069640157'],\n",
       " 'research_org_cities': [{'id': 4464368, 'name': 'Durham'},\n",
       "  {'id': 4180386, 'name': 'Athens'},\n",
       "  {'id': 4140963, 'name': 'Washington, D.C.'}],\n",
       " 'times_cited': 0,\n",
       " 'issue': '6',\n",
       " 'journal_lists': ['Norwegian register level 2',\n",
       "  'ERA 2015',\n",
       "  'VABB-SHW',\n",
       "  'PubMed'],\n",
       " 'date_inserted': '2019-05-23',\n",
       " 'altmetric': 2,\n",
       " 'journal': {'id': 'jour.1103841', 'title': 'Health Economics'},\n",
       " 'funders': [{'id': 'grid.417548.b',\n",
       "   'acronym': 'USDA',\n",
       "   'name': 'United States Department of Agriculture',\n",
       "   'country_name': 'United States'}],\n",
       " 'publisher': 'Wiley',\n",
       " 'issn': ['1057-9230', '1099-1050'],\n",
       " 'research_org_country_names': ['United States'],\n",
       " 'pmid': '31116502',\n",
       " 'type': 'article',\n",
       " 'funder_countries': [{'id': 'US', 'name': 'United States'}],\n",
       " 'dataset_name': 'IRI infoscan data'}"
      ]
     },
     "execution_count": 96,
     "metadata": {},
     "output_type": "execute_result"
    }
   ],
   "source": [
    "pub_dataset_dyads[0]"
   ]
  },
  {
   "cell_type": "code",
   "execution_count": 99,
   "metadata": {},
   "outputs": [
    {
     "name": "stdout",
     "output_type": "stream",
     "text": [
      "[{'id': '3292', 'name': '1402 Applied Economics'}, {'id': '3313', 'name': '1403 Econometrics'}]\n"
     ]
    },
    {
     "data": {
      "text/plain": [
       "['pages',\n",
       " 'research_org_state_names',\n",
       " 'recent_citations',\n",
       " 'research_orgs',\n",
       " 'year',\n",
       " 'research_org_state_codes',\n",
       " 'open_access_categories',\n",
       " 'date',\n",
       " 'id',\n",
       " 'volume',\n",
       " 'research_org_countries',\n",
       " 'altmetric_id',\n",
       " 'FOR',\n",
       " 'terms',\n",
       " 'concepts',\n",
       " 'author_affiliations',\n",
       " 'doi',\n",
       " 'title',\n",
       " 'FOR_first',\n",
       " 'reference_ids',\n",
       " 'references',\n",
       " 'research_org_cities',\n",
       " 'times_cited',\n",
       " 'issue',\n",
       " 'journal_lists',\n",
       " 'date_inserted',\n",
       " 'altmetric',\n",
       " 'journal',\n",
       " 'funders',\n",
       " 'publisher',\n",
       " 'issn',\n",
       " 'research_org_country_names',\n",
       " 'pmid',\n",
       " 'type',\n",
       " 'funder_countries',\n",
       " 'dataset_name']"
      ]
     },
     "execution_count": 99,
     "metadata": {},
     "output_type": "execute_result"
    }
   ],
   "source": [
    "# list(pub_dataset_dyads[0].keys())\n",
    "print(pub_dataset_dyads[0]['FOR'])\n",
    "pub_dataset_dyads[0]['title']\n",
    "list(pub_dataset_dyads[0].keys())"
   ]
  },
  {
   "cell_type": "markdown",
   "metadata": {},
   "source": [
    "### Doi searches to get back publication metadata"
   ]
  },
  {
   "cell_type": "code",
   "execution_count": 61,
   "metadata": {},
   "outputs": [],
   "source": [
    "# doi = '10.1002/hec.3883'\n",
    "doi = '10.1093/cid/cix668'\n",
    "doi_metadata = metadata_funs.run_doi_search(doi_id = doi , api_client = api_client)"
   ]
  },
  {
   "cell_type": "markdown",
   "metadata": {},
   "source": [
    "### Person metadata"
   ]
  },
  {
   "cell_type": "code",
   "execution_count": 77,
   "metadata": {},
   "outputs": [],
   "source": [
    "author_dimensions_id = 'ur.01356101567.65'\n",
    "author_metadata = metadata_funs.run_author_search(author_dimensions_id,api_client)"
   ]
  },
  {
   "cell_type": "code",
   "execution_count": null,
   "metadata": {},
   "outputs": [],
   "source": [
    "# author_metadata"
   ]
  },
  {
   "cell_type": "code",
   "execution_count": null,
   "metadata": {},
   "outputs": [],
   "source": []
  }
 ],
 "metadata": {
  "kernelspec": {
   "display_name": "rich_context (Python 3)",
   "language": "python",
   "name": "rich_context"
  },
  "language_info": {
   "codemirror_mode": {
    "name": "ipython",
    "version": 3
   },
   "file_extension": ".py",
   "mimetype": "text/x-python",
   "name": "python",
   "nbconvert_exporter": "python",
   "pygments_lexer": "ipython3",
   "version": "3.6.7"
  }
 },
 "nbformat": 4,
 "nbformat_minor": 2
}
